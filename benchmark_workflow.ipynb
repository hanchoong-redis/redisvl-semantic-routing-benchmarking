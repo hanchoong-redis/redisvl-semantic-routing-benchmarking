{
 "cells": [
  {
   "cell_type": "code",
   "execution_count": 8,
   "id": "6a6ba1a9",
   "metadata": {},
   "outputs": [],
   "source": [
    "!pip install --upgrade -q sentence-transformers ranx redisvl \"redis-retrieval-optimizer>=0.2.0\" datasets pandas openai scikit-learn h5py"
   ]
  },
  {
   "cell_type": "markdown",
   "id": "e3ecff2b",
   "metadata": {},
   "source": [
    "# Setup"
   ]
  },
  {
   "cell_type": "markdown",
   "id": "23f7b92b",
   "metadata": {},
   "source": [
    "## Run a Redis instance\n",
    "\n",
    "#### Mac\n",
    "\n",
    "Remember to point at 6380, not 6379\n",
    "```bash\n",
    "docker run -d --name redis-stack \\\n",
    "  -p 6380:6379 -p 8001:8001 \\\n",
    "  -v redis-data:/data \\\n",
    "  redis/redis-stack:latest\n",
    "\n",
    "```\n",
    "#### For Colab\n",
    "Use the shell script below to download, extract, and install [Redis Stack](https://redis.io/docs/getting-started/install-stack/) directly from the Redis package archive."
   ]
  },
  {
   "cell_type": "code",
   "execution_count": null,
   "id": "3cca621e",
   "metadata": {},
   "outputs": [],
   "source": [
    "# NBVAL_SKIP\n",
    "%%sh\n",
    "curl -fsSL https://packages.redis.io/gpg | sudo gpg --dearmor -o /usr/share/keyrings/redis-archive-keyring.gpg\n",
    "echo \"deb [signed-by=/usr/share/keyrings/redis-archive-keyring.gpg] https://packages.redis.io/deb $(lsb_release -cs) main\" | sudo tee /etc/apt/sources.list.d/redis.list\n",
    "sudo apt-get update  > /dev/null 2>&1\n",
    "sudo apt-get install redis-stack-server  > /dev/null 2>&1\n",
    "redis-stack-server --daemonize yes"
   ]
  },
  {
   "cell_type": "markdown",
   "id": "ce384584",
   "metadata": {},
   "source": [
    "### Define the Redis Connection URL\n",
    "\n",
    "By default this notebook connects to the local instance of Redis Stack. **If you have your own Redis Enterprise instance** - replace REDIS_PASSWORD, REDIS_HOST and REDIS_PORT values with your own."
   ]
  },
  {
   "cell_type": "code",
   "execution_count": 1,
   "id": "414b8c20",
   "metadata": {},
   "outputs": [],
   "source": [
    "import os, sys, io\n",
    "import warnings\n",
    "\n",
    "warnings.filterwarnings(\"ignore\")\n",
    "\n",
    "# Replace values below with your own if using Redis Cloud instance\n",
    "REDIS_HOST = os.getenv(\"REDIS_HOST\", \"localhost\") # ex: \"redis-18374.c253.us-central1-1.gce.cloud.redislabs.com\"\n",
    "REDIS_PORT = os.getenv(\"REDIS_PORT\", \"6380\")      # ex: 18374\n",
    "REDIS_PASSWORD = os.getenv(\"REDIS_PASSWORD\", \"\")  \n",
    "REDIS_DB = os.getenv(\"REDIS_DB\", 0)\n",
    "\n",
    "# If SSL is enabled on the endpoint, use rediss:// as the URL prefix\n",
    "REDIS_URL = f\"redis://:{REDIS_PASSWORD}@{REDIS_HOST}:{REDIS_PORT}\""
   ]
  },
  {
   "cell_type": "markdown",
   "id": "a7fe5691",
   "metadata": {},
   "source": [
    "# Set Credentials for OpenAI"
   ]
  },
  {
   "cell_type": "code",
   "execution_count": null,
   "id": "8a3fa9d6",
   "metadata": {},
   "outputs": [
    {
     "data": {
      "text/plain": [
       "True"
      ]
     },
     "execution_count": 2,
     "metadata": {},
     "output_type": "execute_result"
    }
   ],
   "source": [
    "import os\n",
    "from dotenv import load_dotenv\n",
    "import openai\n",
    "load_dotenv()\n",
    "\n"
   ]
  },
  {
   "cell_type": "markdown",
   "id": "71c083da",
   "metadata": {},
   "source": [
    "# Helpers"
   ]
  },
  {
   "cell_type": "markdown",
   "id": "20433a8f",
   "metadata": {},
   "source": [
    "## Metrics Collection"
   ]
  },
  {
   "cell_type": "code",
   "execution_count": 43,
   "id": "c41b05a1",
   "metadata": {},
   "outputs": [],
   "source": [
    "from sklearn.metrics import (\n",
    "    accuracy_score,\n",
    "    precision_score,\n",
    "    recall_score,\n",
    "    f1_score,\n",
    "    classification_report,\n",
    "    confusion_matrix\n",
    ")\n",
    "import os\n",
    "import time\n",
    "from datetime import datetime\n",
    "\n",
    "def format_timestamp(ts=None):\n",
    "    if ts is None:\n",
    "        ts = datetime.now()\n",
    "    elif isinstance(ts, (int, float)):\n",
    "        ts = datetime.fromtimestamp(ts)\n",
    "    return ts.strftime(\"%Y_%m_%d_%H%M%S\")\n",
    "\n",
    "class Timer:\n",
    "    def __init__(self):\n",
    "        self.timings = {}\n",
    "\n",
    "    def timeit(self, name):\n",
    "        class _T:\n",
    "            def __enter__(_self):\n",
    "                _self.start = time.perf_counter()\n",
    "            def __exit__(_self, *a):\n",
    "                end=round(time.perf_counter() - _self.start, 3)\n",
    "                self.timings[name] = end\n",
    "        return _T()\n",
    "\n",
    "def classification_metrics(preds: list[str], labels: list[str]) -> dict:\n",
    "    metrics = {\n",
    "        \"accuracy\": accuracy_score(labels, preds),\n",
    "        \"precision_macro\": precision_score(labels, preds, average=\"macro\", zero_division=0),\n",
    "        \"recall_macro\": recall_score(labels, preds, average=\"macro\", zero_division=0),\n",
    "        \"f1_macro\": f1_score(labels, preds, average=\"macro\", zero_division=0),\n",
    "        \"confusion_matrix\": confusion_matrix(labels, preds).tolist(),\n",
    "        \"classification_report\": classification_report(labels, preds, zero_division=0, output_dict=True)\n",
    "    }\n",
    "    return metrics\n",
    "\n",
    "def print_experiment_summary(eval_metrics, \n",
    "                             router_config, timings, redis_schema=None, redis_index_info=None,\n",
    "                             experiment_notes=\"NA\", experiment_name=\"experiment\", \n",
    "                             print_output=True, save_output=True):\n",
    "    lines = []\n",
    "    lines.append(\"=== Experiment Summary: Semantic Routing Classification ===\\n\")\n",
    "\n",
    "    lines.append(f\"Timestamp         : {format_timestamp()}\")\n",
    "    lines.append(\"\")\n",
    "\n",
    "    lines.append(f\"Experiment Notes  : {experiment_notes}\")\n",
    "    lines.append(\"\")\n",
    "\n",
    "    # Data Config\n",
    "    lines.append(\"DATA CONFIGURATION\")\n",
    "    lines.append(f\"Router Name       : {router_config.get('name')}\")\n",
    "    lines.append(f\"Batch Size        : {router_config.get('batch_size')}\")\n",
    "    lines.append(f\"Dataset Repo ID    : {router_config.get('dataset_repo_id')}\")\n",
    "    lines.append(f\"Dataset Domain    : {router_config.get('dataset_domain')}\")\n",
    "    lines.append(f\"Dataset Name      : {router_config.get('dataset_name')}\")\n",
    "    lines.append(f\"Train Limit       : {router_config.get('train_limit')}\")\n",
    "    lines.append(f\"Test Limit        : {router_config.get('test_limit')}\")\n",
    "    vec_cfg = router_config.get('vectorizer_config', {})\n",
    "    lines.append(f\"Vector Dimensions : {vec_cfg.get('dimensions')}\")\n",
    "    lines.append(f\"Embedding Model   : {vec_cfg.get('OPENAI_MODEL')}\\n\")\n",
    "\n",
    "    # Redis Schema\n",
    "    if redis_schema:\n",
    "        idx = redis_schema.get('index', {})\n",
    "        lines.append(\"REDIS SCHEMA\")\n",
    "        lines.append(f\"Index Name        : {idx.get('name')}\")\n",
    "        lines.append(f\"Prefix            : {idx.get('prefix')}\")\n",
    "        lines.append(f\"Storage Type      : {idx.get('storage_type')}\")\n",
    "        lines.append(\"Fields:\")\n",
    "        for f in redis_schema.get('fields', []):\n",
    "            if f['type'] == 'vector':\n",
    "                attrs = f.get('attrs', {})\n",
    "                lines.append(f\"  - {f['name']} ({f['type']})  dims={attrs.get('dims')}, metric={attrs.get('distance_metric')}, algo={attrs.get('algorithm')}\")\n",
    "            else:\n",
    "                lines.append(f\"  - {f['name']} ({f['type']})\")\n",
    "    lines.append(\"\")\n",
    "\n",
    "    # Redis Index Info\n",
    "    if redis_index_info:\n",
    "        lines.append(\"REDIS INDEX INFO\")\n",
    "        lines.append(f\"Documents         : {redis_index_info['num_docs']}\")\n",
    "        lines.append(f\"Max Doc ID        : {redis_index_info['max_doc_id']}\")\n",
    "        lines.append(f\"Num Terms         : {redis_index_info['num_terms']}\")\n",
    "        lines.append(f\"Num Records       : {redis_index_info['num_records']}\")\n",
    "        lines.append(f\"Inverted Size (MB): {float(redis_index_info['inverted_sz_mb']):.6f}\")\n",
    "        lines.append(f\"Vector Index (MB) : {float(redis_index_info['vector_index_sz_mb']):.6f}\\n\")\n",
    "    else:\n",
    "        lines.append(\"No index info available\")\n",
    "\n",
    "    # Evaluation Metrics\n",
    "    lines.append(\"EVALUATION METRICS\")\n",
    "    lines.append(f\"Accuracy          : {eval_metrics['accuracy']:.4f}\")\n",
    "    lines.append(f\"Precision (macro) : {eval_metrics['precision_macro']:.4f}\")\n",
    "    lines.append(f\"Recall (macro)    : {eval_metrics['recall_macro']:.4f}\")\n",
    "    lines.append(f\"F1 (macro)        : {eval_metrics['f1_macro']:.4f}\\n\")\n",
    "\n",
    "    cm = eval_metrics['confusion_matrix']\n",
    "    lines.append(\"CONFUSION MATRIX [ [TP_0, FP_0], [FN_1, TP_1] ]\")\n",
    "    lines.append(f\"  {cm[0]}\")\n",
    "    lines.append(f\"  {cm[1]}\\n\")\n",
    "\n",
    "    lines.append(\"CLASSIFICATION REPORT\")\n",
    "    report = eval_metrics['classification_report']\n",
    "    for label, metrics in report.items():\n",
    "        if label in ['accuracy', 'macro avg', 'weighted avg']:\n",
    "            continue\n",
    "        lines.append(f\"Class {label}: \"\n",
    "                     f\"Precision={metrics['precision']:.3f}, \"\n",
    "                     f\"Recall={metrics['recall']:.3f}, \"\n",
    "                     f\"F1={metrics['f1-score']:.3f}, \"\n",
    "                     f\"Support={int(metrics['support'])}\")\n",
    "    lines.append(\"\")\n",
    "\n",
    "    macro = report.get('macro avg', {})\n",
    "    lines.append(\"Macro Avg:\")\n",
    "    lines.append(f\"  Precision={macro.get('precision', 0):.3f}, \"\n",
    "                 f\"Recall={macro.get('recall', 0):.3f}, \"\n",
    "                 f\"F1={macro.get('f1-score', 0):.3f}\\n\")\n",
    "\n",
    "    # Timings\n",
    "    lines.append(\"TIMINGS (seconds)\")\n",
    "    total=sum(timings.values())\n",
    "    for k, v in timings.items():\n",
    "        lines.append(f\"{k:<45}: {v:.3f}\")\n",
    "    lines.append(f\"Total: {total:.3f}\")\n",
    "    lines.append(\"\\n=============================================================\\n\")\n",
    "\n",
    "    output_str = \"\\n\".join(lines)\n",
    "\n",
    "    if print_output:\n",
    "        print(output_str)\n",
    "\n",
    "    if save_output:\n",
    "        os.makedirs(\"experiments\", exist_ok=True)\n",
    "        path = os.path.join(\"experiments\", f\"{format_timestamp()}_{experiment_name}.txt\")\n",
    "        with open(path, \"w\", encoding=\"utf-8\") as f:\n",
    "            f.write(output_str)\n",
    "\n",
    "    return output_str"
   ]
  },
  {
   "cell_type": "markdown",
   "id": "1a2c6e83",
   "metadata": {},
   "source": [
    "## OpenAI Embedding and Data Management"
   ]
  },
  {
   "cell_type": "code",
   "execution_count": 4,
   "id": "469ab400",
   "metadata": {},
   "outputs": [],
   "source": [
    "\n",
    "import os\n",
    "from tqdm.auto import tqdm\n",
    "from openai import OpenAI\n",
    "from typing import List, Optional, Dict, Any, Tuple\n",
    "import h5py, numpy as np\n",
    "\n",
    "def save_embeddings_h5(\n",
    "    path: str,\n",
    "    labels: List[Any],\n",
    "    embeds: List[List[float]],\n",
    "    meta: Optional[Dict] = None\n",
    ") -> None:\n",
    "    E = np.asarray(embeds, dtype=\"float32\")\n",
    "    n, d = E.shape\n",
    "    L = np.asarray([str(l) for l in labels], dtype=h5py.string_dtype(\"utf-8\"))\n",
    "    if len(L) != n:\n",
    "        raise ValueError(\"labels length must match number of embeddings\")\n",
    "\n",
    "    with h5py.File(path, \"a\") as f:\n",
    "        if \"embeddings\" not in f:\n",
    "            f.create_dataset(\"embeddings\", data=E, maxshape=(None, d),\n",
    "                             chunks=True, compression=\"gzip\", compression_opts=4)\n",
    "            f.create_dataset(\"labels\", data=L, maxshape=(None,),\n",
    "                             chunks=True, compression=\"gzip\", compression_opts=4)\n",
    "            if meta:\n",
    "                for k, v in meta.items():\n",
    "                    f.attrs[k] = v\n",
    "        else:\n",
    "            de, dl = f[\"embeddings\"], f[\"labels\"]\n",
    "            if de.shape[1] != d:\n",
    "                raise ValueError(f\"dim mismatch: file {de.shape[1]} vs new {d}\")\n",
    "            start = de.shape[0]\n",
    "            de.resize(start + n, axis=0)\n",
    "            dl.resize(start + n, axis=0)\n",
    "            de[start:start+n] = E\n",
    "            dl[start:start+n] = L\n",
    "\n",
    "def load_embeddings_h5(path: str, n: Optional[int] = None) -> tuple[list[list[float]], list[str]]:\n",
    "    with h5py.File(path, \"r\") as f:\n",
    "        for name in (\"embeddings\", \"labels\"):\n",
    "            if name not in f:\n",
    "                raise ValueError(f\"File missing '{name}' dataset\")\n",
    "        de, dl = f[\"embeddings\"], f[\"labels\"]\n",
    "        total = de.shape[0]\n",
    "        end = total if n is None else min(total, n)\n",
    "        vectors = de[:end]\n",
    "        labels = dl.asstr()[:end]\n",
    "    return vectors.tolist(), labels.tolist()\n",
    "\n",
    "def get_batch_embeddings(\n",
    "    text_list: list[str], \n",
    "    batch_size: int = 512,\n",
    "    dimensions: int = 128,\n",
    "    model: str = \"text-embedding-3-small\",\n",
    "    show_bar: bool = True\n",
    ") -> list[list[float]]:\n",
    "    client = OpenAI()\n",
    "    embeddings: List[List[float]] = []\n",
    "    texts = text_list\n",
    "    iterator = range(0, len(texts), batch_size)\n",
    "    pbar = tqdm(total=len(texts), unit=\"emb\", desc=\"Embedding\", disable=not show_bar)\n",
    "    try:\n",
    "        for i in iterator:\n",
    "            batch = texts[i:i + batch_size]\n",
    "            resp = client.embeddings.create(input=batch, model=model, dimensions=dimensions)\n",
    "            embeddings.extend([d.embedding for d in resp.data])\n",
    "            pbar.update(len(batch))\n",
    "    finally:\n",
    "        pbar.close()\n",
    "    return embeddings\n",
    "\n",
    "\n",
    "def get_batch_embeddings_to_h5(\n",
    "    out_path: str,\n",
    "    text_list: list[str],\n",
    "    labels_list: list[str],\n",
    "    batch_size: int = 512,\n",
    "    dimensions: int = 128,\n",
    "    model: str = \"text-embedding-3-small\",\n",
    "    show_bar: bool = True,\n",
    "    meta: Optional[Dict] = None,\n",
    "    return_data: bool = False,\n",
    "    append_existing: bool = False,\n",
    ") -> Optional[Tuple[list[list[float]], list[str]]]:\n",
    "    if len(text_list) != len(labels_list):\n",
    "        raise ValueError(\"text_list and labels_list must be same length\")\n",
    "\n",
    "    if os.path.exists(out_path) and not append_existing:\n",
    "        print(f\"File '{out_path}' already exists. Skipping embedding generation.\")\n",
    "        return None\n",
    "\n",
    "    client = OpenAI()\n",
    "    ret_E: List[List[float]] = []\n",
    "    ret_L: List[str] = []\n",
    "\n",
    "    iterator = range(0, len(text_list), batch_size)\n",
    "    pbar = tqdm(total=len(text_list), unit=\"emb\", desc=\"Embedding\", disable=not show_bar)\n",
    "\n",
    "    try:\n",
    "        for i in iterator:\n",
    "            batch_t = text_list[i:i + batch_size]\n",
    "            batch_l = labels_list[i:i + batch_size]\n",
    "            resp = client.embeddings.create(input=batch_t, model=model, dimensions=dimensions)\n",
    "            batch_e = [d.embedding for d in resp.data]\n",
    "\n",
    "            save_embeddings_h5(out_path, batch_l, batch_e, meta=meta)\n",
    "\n",
    "            if return_data:\n",
    "                ret_E.extend(batch_e)\n",
    "                ret_L.extend([str(x) for x in batch_l])\n",
    "\n",
    "            pbar.update(len(batch_t))\n",
    "    finally:\n",
    "        pbar.close()\n",
    "\n",
    "    return (ret_E, ret_L) if return_data else None"
   ]
  },
  {
   "cell_type": "markdown",
   "id": "cae20a4b",
   "metadata": {},
   "source": [
    "# Experiments"
   ]
  },
  {
   "cell_type": "markdown",
   "id": "8df99bf8",
   "metadata": {},
   "source": [
    "## Option 1: Custom Semantic Router - Direct Redis access - Allows for trying out techniques with Numpy Arrs"
   ]
  },
  {
   "cell_type": "markdown",
   "id": "0e302b7d",
   "metadata": {},
   "source": [
    "### Select and Download Datasets"
   ]
  },
  {
   "cell_type": "code",
   "execution_count": null,
   "id": "999ef6f4",
   "metadata": {},
   "outputs": [],
   "source": [
    "import os \n",
    "from datasets import load_dataset\n",
    "\n",
    "# See dataset page @ https://huggingface.co/datasets/ + repo_id\n",
    "eval_datasets={\n",
    "                \"Topic\": {\n",
    "                    \"DBLP\":{\n",
    "                        \"repo_id\": \"waashk/dblp\",\n",
    "                        \"train_lbl\": \"train\",\n",
    "                        \"test_lbl\": \"test\",\n",
    "                        \"text_col\": \"text\",\n",
    "                        \"label_col\": \"label\"\n",
    "                      }\n",
    "                    },\n",
    "                \"Sentiment\": {\n",
    "                    \"MPQA\":{\n",
    "                        \"repo_id\": \"jxm/mpqa\",\n",
    "                        \"train_lbl\": \"train\",\n",
    "                        \"test_lbl\": \"test\",\n",
    "                        \"text_col\": \"sentence\",\n",
    "                        \"label_col\": \"label\"\n",
    "                    }\n",
    "                }\n",
    "              }\n",
    "\n",
    "router_config = {\n",
    "    \"name\": \"test\",\n",
    "    \"batch_size\": 1024,\n",
    "    \"vectorizer_config\":{\n",
    "        \"dimensions\":128,\n",
    "        \"OPENAI_API_KEY\": os.getenv(\"OPENAI_API_KEY\"),\n",
    "        \"OPENAI_MODEL\": \"text-embedding-3-small\"\n",
    "    },\n",
    "    \"dataset_domain\": \"Sentiment\",\n",
    "    \"dataset_name\": \"MPQA\",\n",
    "}\n",
    "\n",
    "redis_schema = {\n",
    "    \"index\": {\n",
    "        \"name\": \"MPQA\",\n",
    "        \"prefix\": \"test1\",\n",
    "        \"storage_type\": \"hash\",\n",
    "    },\n",
    "    \"fields\": [\n",
    "        {\"name\": \"label\", \"type\": \"tag\"},\n",
    "        {\n",
    "            \"name\": \"vector\",\n",
    "            \"type\": \"vector\",\n",
    "            \"attrs\": {\n",
    "                \"dims\": router_config[\"vectorizer_config\"][\"dimensions\"],\n",
    "                \"distance_metric\": \"cosine\",\n",
    "                \"algorithm\": \"hnsw\",\n",
    "                \"datatype\": \"float32\"\n",
    "            }\n",
    "\n",
    "        }\n",
    "    ],\n",
    "}\n",
    "\n",
    "experiment_notes = \"\"\n",
    "\n",
    "timer=Timer()\n",
    "\n",
    "with timer.timeit(\"load_dataset\"):\n",
    "    dataset_repo_id = eval_datasets[router_config[\"dataset_domain\"]][router_config[\"dataset_name\"]][\"repo_id\"]\n",
    "    dataset_train_lbl = eval_datasets[router_config[\"dataset_domain\"]][router_config[\"dataset_name\"]][\"train_lbl\"]\n",
    "    dataset_test_lbl = eval_datasets[router_config[\"dataset_domain\"]][router_config[\"dataset_name\"]][\"test_lbl\"]\n",
    "    dataset_text_col = eval_datasets[router_config[\"dataset_domain\"]][router_config[\"dataset_name\"]][\"text_col\"]\n",
    "    dataset_label_col = eval_datasets[router_config[\"dataset_domain\"]][router_config[\"dataset_name\"]][\"label_col\"]\n",
    "\n",
    "    dataset = load_dataset(dataset_repo_id)\n",
    "    train_data = dataset[dataset_train_lbl]\n",
    "    test_data = dataset[dataset_test_lbl]\n",
    "\n",
    "    router_config.update({\"dataset_repo_id\":dataset_repo_id})\n",
    "    router_config.update({\"train_limit\":train_data.num_rows})\n",
    "    router_config.update({\"test_limit\":test_data.num_rows})\n",
    "\n",
    "# Define Experiment Names\n",
    "safe_repo = dataset_repo_id.replace(\"/\", \"-\")\n",
    "experiment_name = f'{router_config[\"name\"]}_{safe_repo}_{router_config[\"vectorizer_config\"][\"OPENAI_MODEL\"]}_{router_config[\"vectorizer_config\"][\"dimensions\"]}'\n",
    "train_filepath = f'embeddings/{experiment_name}_{dataset_train_lbl}_{str(train_data.num_rows)}.h5'\n",
    "test_filepath  = f'embeddings/{experiment_name}_{dataset_test_lbl}_{str(test_data.num_rows)}.h5'"
   ]
  },
  {
   "cell_type": "markdown",
   "id": "0c49e598",
   "metadata": {},
   "source": [
    "### Pre-Generate Embeddings for Train and Test Data, Save to Embeddings Folder"
   ]
  },
  {
   "cell_type": "code",
   "execution_count": null,
   "id": "5a212b61",
   "metadata": {},
   "outputs": [
    {
     "name": "stdout",
     "output_type": "stream",
     "text": [
      "File 'embeddings/test_jxm-mpqa_text-embedding-3-small_128_train_8603.h5' already exists. Skipping embedding generation.\n",
      "File 'embeddings/test_jxm-mpqa_text-embedding-3-small_128_test_2000.h5' already exists. Skipping embedding generation.\n"
     ]
    }
   ],
   "source": [
    "os.makedirs(\"embeddings\", exist_ok=True)\n",
    "\n",
    "with timer.timeit(\"Embed and Save Train Data\"):\n",
    "    train_embeddings = get_batch_embeddings_to_h5(out_path=train_filepath,\n",
    "                                                text_list=train_data[dataset_text_col],\n",
    "                                                labels_list=train_data[dataset_label_col],\n",
    "                                                batch_size=router_config[\"batch_size\"],\n",
    "                                                dimensions=router_config[\"vectorizer_config\"][\"dimensions\"],\n",
    "                                                model=router_config[\"vectorizer_config\"][\"OPENAI_MODEL\"])\n",
    "\n",
    "with timer.timeit(\"Embed and Save Test Data\"):\n",
    "    test_embeddings = get_batch_embeddings_to_h5(out_path=test_filepath,\n",
    "                                                text_list=test_data[dataset_text_col],\n",
    "                                                labels_list=test_data[dataset_label_col],\n",
    "                                                batch_size=router_config[\"batch_size\"],\n",
    "                                                dimensions=router_config[\"vectorizer_config\"][\"dimensions\"],\n",
    "                                                model=router_config[\"vectorizer_config\"][\"OPENAI_MODEL\"])"
   ]
  },
  {
   "cell_type": "markdown",
   "id": "19502e9b",
   "metadata": {},
   "source": [
    "### Load and Query Functions"
   ]
  },
  {
   "cell_type": "code",
   "execution_count": 45,
   "id": "b1ff508a",
   "metadata": {},
   "outputs": [],
   "source": [
    "import numpy as np\n",
    "import redis\n",
    "from redisvl.query import VectorQuery\n",
    "from redisvl.index import SearchIndex\n",
    "\n",
    "def _kmeans(x, k, iters=20, seed=0):\n",
    "    rng = np.random.default_rng(seed)\n",
    "    k = min(k, len(x))\n",
    "    idx = rng.choice(len(x), size=k, replace=False)\n",
    "    c = x[idx].copy()\n",
    "    for _ in range(iters):\n",
    "        d = ((x[:, None, :] - c[None, :, :])**2).sum(-1)\n",
    "        a = d.argmin(1)\n",
    "        new_c = []\n",
    "        for j in range(k):\n",
    "            sj = (a == j)\n",
    "            if sj.any():\n",
    "                new_c.append(x[sj].mean(0))\n",
    "            else:\n",
    "                new_c.append(c[rng.integers(0, k)])\n",
    "        new_c = np.stack(new_c, 0)\n",
    "        if np.allclose(new_c, c):\n",
    "            break\n",
    "        c = new_c\n",
    "    return c, a\n",
    "\n",
    "def build_multi_prototypes(vectors, labels, mask=None, k_per_class=1, \n",
    "                           max_points_per_proto=None, normalize=True, seed=0):\n",
    "    \"\"\"\n",
    "    If max_points_per_proto is set, k for class c becomes ceil(n_c / max_points_per_proto).\n",
    "    Otherwise use fixed k_per_class.\n",
    "    \"\"\"\n",
    "    labels = np.asarray(labels)\n",
    "    V = np.asarray(vectors, dtype=np.float32)\n",
    "    if mask is None:\n",
    "        mask = np.linalg.norm(V, axis=1) > 0\n",
    "    V, L = V[mask], labels[mask]\n",
    "\n",
    "    out = []\n",
    "    for cls in np.unique(L):\n",
    "        sel = (L == cls)\n",
    "        X = V[sel]\n",
    "        if len(X) == 0:\n",
    "            continue\n",
    "\n",
    "        if max_points_per_proto is not None and max_points_per_proto > 0:\n",
    "            k = int(np.ceil(len(X) / max_points_per_proto))\n",
    "        else:\n",
    "            k = int(k_per_class)\n",
    "        k = max(1, min(k, len(X)))\n",
    "\n",
    "        centers, assign = _kmeans(X, k=k, seed=seed)\n",
    "        for j in range(len(centers)):\n",
    "            sj = (assign == j)\n",
    "            if not sj.any():\n",
    "                continue\n",
    "            mu = centers[j]\n",
    "            if normalize:\n",
    "                n = np.linalg.norm(mu)\n",
    "                if n > 0:\n",
    "                    mu = mu / (n + 1e-12)\n",
    "            weight = float(sj.mean())  # fraction of class points in this prototype\n",
    "            out.append({\"vector\": mu.astype(np.float32).tobytes(), \"label\": cls, \"weight\": weight})\n",
    "    return out\n",
    "\n",
    "def route_label(vec, labels, index, k=5):\n",
    "    means = {}\n",
    "    for lab in labels:\n",
    "        q = VectorQuery(\n",
    "            vector=list(map(float, vec)),\n",
    "            vector_field_name=\"vector\",\n",
    "            num_results=k,\n",
    "            return_fields=[\"label\", \"vector_distance\"],\n",
    "            filter_expression=f\"@label:{{{lab}}}\",\n",
    "        )\n",
    "        hits = index.query(q)\n",
    "        if hits:\n",
    "            dists = [float(h[\"vector_distance\"]) for h in hits]\n",
    "            means[lab] = sum(dists) / len(dists)\n",
    "    if not means:\n",
    "        return None, {}\n",
    "    best = min(means, key=means.get)\n",
    "    return best, means\n",
    "\n",
    "def route_batch(vectors, labels, index, k=5):\n",
    "    out = []\n",
    "    for v in tqdm(vectors):\n",
    "        best, _ = route_label(v, labels, index, k)\n",
    "        out.append(best)\n",
    "    return out"
   ]
  },
  {
   "cell_type": "markdown",
   "id": "1bfcfcd7",
   "metadata": {},
   "source": [
    "### Pre-Generated Experiment"
   ]
  },
  {
   "cell_type": "code",
   "execution_count": 64,
   "id": "0b10c815",
   "metadata": {},
   "outputs": [
    {
     "data": {
      "text/plain": [
       "10"
      ]
     },
     "execution_count": 64,
     "metadata": {},
     "output_type": "execute_result"
    }
   ],
   "source": [
    "\n",
    "\n",
    "with timer.timeit(\"Load and process train data, create Redis Index\"):\n",
    "    r = redis.Redis(host=REDIS_HOST, port=REDIS_PORT, db=REDIS_DB)\n",
    "    try:\n",
    "        r.flushdb()\n",
    "        r.ft(redis_schema[\"index\"][\"name\"]).dropindex() \n",
    "    except:\n",
    "        pass\n",
    "\n",
    "    index = SearchIndex.from_dict(redis_schema, redis_url=REDIS_URL)\n",
    "    index.create(overwrite=True)\n",
    "    vectors,labels=load_embeddings_h5(train_filepath)\n",
    "    unique_labels=list(set(labels))\n",
    "    vectors = np.array(vectors)\n",
    "    data = build_multi_prototypes(vectors, labels, mask=None, k_per_class=5, max_points_per_proto=None, normalize=True, seed=0)\n",
    "\n",
    "    keys = index.load(data)\n",
    "index.info()['num_docs']"
   ]
  },
  {
   "cell_type": "code",
   "execution_count": 47,
   "id": "ce3e5d7d",
   "metadata": {},
   "outputs": [
    {
     "name": "stderr",
     "output_type": "stream",
     "text": [
      "100%|██████████| 2000/2000 [00:00<00:00, 2039.42it/s]\n"
     ]
    }
   ],
   "source": [
    "with timer.timeit(\"Load and process test data\"):\n",
    "    test_vectors,test_labels=load_embeddings_h5(test_filepath, n=test_data.num_rows)\n",
    "    test_vectors = np.array(test_vectors)\n",
    "    test_vectors /= np.linalg.norm(test_vectors, axis=1, keepdims=True) + 1e-12\n",
    "with timer.timeit(\"Route test data\"):\n",
    "    preds=route_batch(test_vectors, unique_labels, index, k=5)\n",
    "\n",
    "eval_metrics = classification_metrics(\n",
    "    preds=preds,\n",
    "    labels=test_labels\n",
    ")"
   ]
  },
  {
   "cell_type": "code",
   "execution_count": null,
   "id": "11190f7c",
   "metadata": {},
   "outputs": [
    {
     "name": "stdout",
     "output_type": "stream",
     "text": [
      "=== Experiment Summary: Semantic Routing Classification ===\n",
      "\n",
      "Timestamp         : 2025_10_15_164430\n",
      "\n",
      "DATA CONFIGURATION\n",
      "Router Name       : test\n",
      "Batch Size        : 1024\n",
      "Dataset Domain    : Sentiment\n",
      "Dataset Name      : MPQA\n",
      "Train Limit       : 8603\n",
      "Test Limit        : 2000\n",
      "Vector Dimensions : 128\n",
      "Embedding Model   : text-embedding-3-small\n",
      "\n",
      "REDIS SCHEMA\n",
      "Index Name        : MPQA\n",
      "Prefix            : test1\n",
      "Storage Type      : hash\n",
      "Fields:\n",
      "  - label (tag)\n",
      "  - vector (vector)  dims=128, metric=cosine, algo=hnsw\n",
      "\n",
      "REDIS INDEX INFO\n",
      "Documents         : 10\n",
      "Max Doc ID        : 10\n",
      "Num Terms         : 0\n",
      "Num Records       : 20\n",
      "Inverted Size (MB): 0.000164\n",
      "Vector Index (MB) : 0.724480\n",
      "\n",
      "EVALUATION METRICS\n",
      "Accuracy          : 0.8360\n",
      "Precision (macro) : 0.8361\n",
      "Recall (macro)    : 0.8360\n",
      "F1 (macro)        : 0.8360\n",
      "\n",
      "CONFUSION MATRIX [ [TP_0, FP_0], [FN_1, TP_1] ]\n",
      "  [827, 173]\n",
      "  [155, 845]\n",
      "\n",
      "CLASSIFICATION REPORT\n",
      "Class 0: Precision=0.842, Recall=0.827, F1=0.835, Support=1000\n",
      "Class 1: Precision=0.830, Recall=0.845, F1=0.837, Support=1000\n",
      "\n",
      "Macro Avg:\n",
      "  Precision=0.836, Recall=0.836, F1=0.836\n",
      "\n",
      "TIMINGS (seconds)\n",
      "load_dataset                                 : 2.126\n",
      "Embed and Save Train Data                    : 0.001\n",
      "Embed and Save Test Data                     : 0.000\n",
      "Load and process train data, create Redis Index: 0.334\n",
      "Load and process test data                   : 0.019\n",
      "Route test data                              : 0.982\n",
      "\n",
      "=============================================================\n",
      "\n"
     ]
    },
    {
     "data": {
      "text/plain": [
       "'=== Experiment Summary: Semantic Routing Classification ===\\n\\nTimestamp         : 2025_10_15_164430\\n\\nDATA CONFIGURATION\\nRouter Name       : test\\nBatch Size        : 1024\\nDataset Domain    : Sentiment\\nDataset Name      : MPQA\\nTrain Limit       : 8603\\nTest Limit        : 2000\\nVector Dimensions : 128\\nEmbedding Model   : text-embedding-3-small\\n\\nREDIS SCHEMA\\nIndex Name        : MPQA\\nPrefix            : test1\\nStorage Type      : hash\\nFields:\\n  - label (tag)\\n  - vector (vector)  dims=128, metric=cosine, algo=hnsw\\n\\nREDIS INDEX INFO\\nDocuments         : 10\\nMax Doc ID        : 10\\nNum Terms         : 0\\nNum Records       : 20\\nInverted Size (MB): 0.000164\\nVector Index (MB) : 0.724480\\n\\nEVALUATION METRICS\\nAccuracy          : 0.8360\\nPrecision (macro) : 0.8361\\nRecall (macro)    : 0.8360\\nF1 (macro)        : 0.8360\\n\\nCONFUSION MATRIX [ [TP_0, FP_0], [FN_1, TP_1] ]\\n  [827, 173]\\n  [155, 845]\\n\\nCLASSIFICATION REPORT\\nClass 0: Precision=0.842, Recall=0.827, F1=0.835, Support=1000\\nClass 1: Precision=0.830, Recall=0.845, F1=0.837, Support=1000\\n\\nMacro Avg:\\n  Precision=0.836, Recall=0.836, F1=0.836\\n\\nTIMINGS (seconds)\\nload_dataset                                 : 2.126\\nEmbed and Save Train Data                    : 0.001\\nEmbed and Save Test Data                     : 0.000\\nLoad and process train data, create Redis Index: 0.334\\nLoad and process test data                   : 0.019\\nRoute test data                              : 0.982\\n\\n=============================================================\\n'"
      ]
     },
     "execution_count": 48,
     "metadata": {},
     "output_type": "execute_result"
    }
   ],
   "source": [
    "exp_summary = print_experiment_summary(eval_metrics, redis_schema, router_config, timer.timings, index.info(), experiment_name=experiment_name)"
   ]
  },
  {
   "cell_type": "markdown",
   "id": "27f860c1",
   "metadata": {},
   "source": [
    "# Option 2: OOTB Semantic Routing - The Offering from RedisVL, slight changes to handle more data bulk"
   ]
  },
  {
   "cell_type": "markdown",
   "id": "2e0b573c",
   "metadata": {},
   "source": [
    "### Custom Semantic Router - Allows messing with dimensions + batch sizes for bulky preds"
   ]
  },
  {
   "cell_type": "code",
   "execution_count": 78,
   "id": "bfb00228",
   "metadata": {},
   "outputs": [],
   "source": [
    "from tenacity import retry, stop_after_attempt, wait_random_exponential\n",
    "from tenacity.retry import retry_if_not_exception_type\n",
    "from tqdm.auto import tqdm\n",
    "import os\n",
    "from redisvl.extensions.router import SemanticRouter\n",
    "from redisvl.extensions.router import Route\n",
    "from redisvl.utils.vectorize import OpenAITextVectorizer\n",
    "from redisvl.extensions.cache.embeddings.embeddings import EmbeddingsCache\n",
    "from datasets import load_dataset, Dataset\n",
    "from redisvl.extensions.router.schema import (\n",
    "    DistanceAggregationMethod,\n",
    "    Route,\n",
    "    RouteMatch\n",
    ")\n",
    "from redis.commands.search.aggregation import AggregateRequest, AggregateResult, Reducer\n",
    "from redisvl.redis.utils import hashify\n",
    "from redisvl.query import FilterQuery, VectorRangeQuery\n",
    "from redisvl.extensions.constants import ROUTE_VECTOR_FIELD_NAME\n",
    "from redis.exceptions import ResponseError\n",
    "\n",
    "\n",
    "\n",
    "def build_route(\n",
    "    references: list[str],\n",
    "    label: str,\n",
    "    priority: int = 1,\n",
    "    distance_threshold: float = 0.5\n",
    "    ) -> Route:\n",
    "  route = Route(\n",
    "      name=label,\n",
    "      references=references,\n",
    "      metadata={\"category\": label, \"priority\": priority},\n",
    "      distance_threshold=distance_threshold\n",
    "  )\n",
    "  return route\n",
    "\n",
    "def build_routes_from_hf_data(\n",
    "    dataset: Dataset,\n",
    "    text_col: str = \"text\",\n",
    "    label_col: str = \"label\",\n",
    "    distance_threshold: float = 0.5\n",
    "    ) -> list[Route]:\n",
    "    '''\n",
    "    Expects dataset to be of form:\n",
    "    Dataset({\n",
    "        features: ['text', 'label'],\n",
    "        num_rows: 343152\n",
    "    })\n",
    "    '''\n",
    "    df = dataset.to_pandas()[[text_col, label_col]]\n",
    "    texts_by_label = df.groupby(label_col)[text_col].apply(list).to_dict()\n",
    "    return [build_route(references=refs, label=str(lbl), distance_threshold=distance_threshold) for lbl, refs in texts_by_label.items()]\n",
    "\n",
    "\n",
    "class HighVisOpenAITextVectorizer(OpenAITextVectorizer):\n",
    "    @retry(\n",
    "    wait=wait_random_exponential(min=1, max=60),\n",
    "    stop=stop_after_attempt(6),\n",
    "    retry=retry_if_not_exception_type(TypeError),\n",
    "    )\n",
    "    def _embed_many(\n",
    "        self, texts: List[str], batch_size: int = 1024, dimensions: int = 1536, **kwargs\n",
    "    ) -> List[List[float]]:\n",
    "        \"\"\"Exactly the same but with progress bar\n",
    "        \"\"\"\n",
    "        if not isinstance(texts, list):\n",
    "            raise TypeError(\"Must pass in a list of str values to embed.\")\n",
    "        if texts and not isinstance(texts[0], str):\n",
    "            raise TypeError(\"Must pass in a list of str values to embed.\")\n",
    "\n",
    "        embeddings: List = []\n",
    "\n",
    "        pbar = tqdm(total=len(texts), unit=\"emb\", desc=\"Embedding\", disable=False)\n",
    "        for batch in tqdm(self.batchify(texts, batch_size)):\n",
    "            try:\n",
    "                response = self._client.embeddings.create(\n",
    "                    input=batch, model=self.model, dimensions=1536, **kwargs\n",
    "                )\n",
    "                embeddings += [r.embedding for r in response.data]\n",
    "                pbar.update(len(batch))\n",
    "            except Exception as e:\n",
    "                raise ValueError(f\"Embedding texts failed: {e}\")\n",
    "        pbar.close()\n",
    "        return embeddings\n",
    "\n",
    "class BigBatchSemanticRouter(SemanticRouter):\n",
    "    def _add_routes(self, routes: List[Route]):\n",
    "        \"\"\"Add routes to the router and index.\n",
    "\n",
    "        Args:\n",
    "            routes (List[Route]): List of routes to be added.\n",
    "        \"\"\"\n",
    "        route_references: List[Dict[str, Any]] = []\n",
    "        keys: List[str] = []\n",
    "\n",
    "        for route in routes:\n",
    "            # embed route references as a single batch\n",
    "            reference_vectors = self.vectorizer.embed_many(\n",
    "                [reference for reference in route.references], as_buffer=True, batch_size=1024, dimensions=1536\n",
    "            )\n",
    "            # set route references\n",
    "            for i, reference in enumerate(route.references):\n",
    "                reference_hash = hashify(reference)\n",
    "                route_references.append(\n",
    "                    {\n",
    "                        \"reference_id\": reference_hash,\n",
    "                        \"route_name\": route.name,\n",
    "                        \"reference\": reference,\n",
    "                        \"vector\": reference_vectors[i],\n",
    "                    }\n",
    "                )\n",
    "                keys.append(\n",
    "                    self._route_ref_key(self._index, route.name, reference_hash)\n",
    "                )\n",
    "            # set route if does not yet exist client side\n",
    "            if not self.get(route.name):\n",
    "                self.routes.append(route)\n",
    "        self._index.load(route_references, keys=keys)\n",
    "\n",
    "    def _get_route_matches(\n",
    "        self,\n",
    "        vector: List[float],\n",
    "        aggregation_method: DistanceAggregationMethod,\n",
    "        max_k: int = 1,\n",
    "    ) -> List[RouteMatch]:\n",
    "        \"\"\"Get route response from vector db\"\"\"\n",
    "\n",
    "        # what's interesting about this is that we only provide one distance_threshold for a range query not multiple\n",
    "        # therefore you might take the max_threshold and further refine from there.\n",
    "        distance_threshold = max(route.distance_threshold for route in self.routes)\n",
    "\n",
    "        vector_range_query = VectorRangeQuery(\n",
    "            vector=vector,\n",
    "            vector_field_name=ROUTE_VECTOR_FIELD_NAME,\n",
    "            distance_threshold=float(distance_threshold),\n",
    "            return_fields=[\"route_name\"],\n",
    "        )\n",
    "\n",
    "        aggregate_request = self._build_aggregate_request(\n",
    "            vector_range_query, aggregation_method, max_k=max_k\n",
    "        )\n",
    "\n",
    "        try:\n",
    "            aggregation_result: AggregateResult = self._index.aggregate(\n",
    "                aggregate_request, vector_range_query.params\n",
    "            )\n",
    "        except ResponseError as e:\n",
    "            if \"VSS is not yet supported on FT.AGGREGATE\" in str(e):\n",
    "                raise RuntimeError(\n",
    "                    \"Semantic routing is only available on Redis version 7.x.x or greater\"\n",
    "                )\n",
    "            raise e\n",
    "\n",
    "        # process aggregation results into route matches\n",
    "        return [\n",
    "            self._process_route(route_match) for route_match in aggregation_result.rows\n",
    "        ]\n",
    "    \n",
    "    def _classify_multi_route(\n",
    "        self,\n",
    "        vector: List[float],\n",
    "        max_k: int,\n",
    "        aggregation_method: DistanceAggregationMethod,\n",
    "    ) -> List[RouteMatch]:\n",
    "        \"\"\"Classify to multiple routes, up to max_k (int), using a vector.\"\"\"\n",
    "\n",
    "        route_matches = self._get_route_matches(vector, aggregation_method, max_k=max_k)\n",
    "\n",
    "        # process route matches\n",
    "        top_route_matches: List[RouteMatch] = []\n",
    "        if route_matches:\n",
    "            for route_match in route_matches:\n",
    "                if route_match.name is not None:\n",
    "                    top_route_matches.append(route_match)\n",
    "                else:\n",
    "                    raise ValueError(\n",
    "                        f\"{route_match.name} not a supported route for the {self.name} semantic router.\"\n",
    "                    )\n",
    "\n",
    "        return top_route_matches\n",
    "\n",
    "    def bulk_route(\n",
    "        self,\n",
    "        statements: Optional[List[str]] = None,\n",
    "        vectors: Optional[List[List[float]]] = None,\n",
    "        max_k: Optional[int] = None,\n",
    "        distance_threshold: Optional[float] = None,\n",
    "        aggregation_method: Optional[DistanceAggregationMethod] = None,\n",
    "    ) -> List[List[RouteMatch]]:\n",
    "        \"\"\"For mass routing.\n",
    "        \"\"\"\n",
    "        if not vectors:\n",
    "            if not statements:\n",
    "                raise ValueError(\"Must provide a list of vectors or statements to the router\")\n",
    "            vectors = self.vectorizer.embed_many(statements, batch_size=1024, dimensions = 1536)  # type: ignore\n",
    "\n",
    "        max_k = max_k or self.routing_config.max_k\n",
    "        aggregation_method = (\n",
    "            aggregation_method or self.routing_config.aggregation_method\n",
    "        )\n",
    "\n",
    "        pbar = tqdm(total=len(vectors), unit=\"pred\", desc=\"Assessing\", disable=False)\n",
    "        results: List[List[RouteMatch]] = []\n",
    "        for v in vectors:\n",
    "            matches = self._classify_multi_route(v, max_k, aggregation_method)  # type: ignore\n",
    "            if distance_threshold is not None:\n",
    "                try:\n",
    "                    matches = [m for m in matches if m.distance <= distance_threshold]  # type: ignore\n",
    "                except AttributeError:\n",
    "                    pass\n",
    "            results.append(matches)\n",
    "            pbar.update(1)\n",
    "        pbar.close()\n",
    "        return results\n",
    "\n",
    "def nuke_redis():\n",
    "    import redis\n",
    "    try:\n",
    "        r = redis.Redis(host=REDIS_HOST, port=REDIS_PORT, db=REDIS_DB)\n",
    "        r.flushdb()\n",
    "    except:\n",
    "        pass\n",
    "\n"
   ]
  },
  {
   "cell_type": "markdown",
   "id": "e9f61b81",
   "metadata": {},
   "source": [
    "### Custom Router Optimizer"
   ]
  },
  {
   "cell_type": "code",
   "execution_count": 68,
   "id": "59838920",
   "metadata": {},
   "outputs": [],
   "source": [
    "import random\n",
    "from typing import Any, Callable, Dict, List\n",
    "\n",
    "import numpy as np\n",
    "from ranx import Qrels, Run, evaluate\n",
    "from redisvl.extensions.router.semantic import SemanticRouter\n",
    "\n",
    "from redis_retrieval_optimizer.threshold_optimization.base import (\n",
    "    BaseThresholdOptimizer,\n",
    "    EvalMetric,\n",
    ")\n",
    "from redis_retrieval_optimizer.threshold_optimization.schema import LabeledData\n",
    "from redis_retrieval_optimizer.threshold_optimization.utils import (\n",
    "    NULL_RESPONSE_KEY,\n",
    "    _format_qrels,\n",
    ")\n",
    "\n",
    "\n",
    "def _generate_run_router(test_data: List[LabeledData], router: SemanticRouter) -> \"Run\":\n",
    "    \"\"\"Format router results into format for ranx Run\"\"\"\n",
    "    if Run is None:\n",
    "        raise ImportError(\"ranx is required for threshold optimization\")\n",
    "    if np is None:\n",
    "        raise ImportError(\"numpy is required for threshold optimization\")\n",
    "\n",
    "    run_dict: Dict[Any, Any] = {}\n",
    "\n",
    "    bulk_route = router.bulk_route(statements=[td.query for td in test_data], max_k=1)\n",
    "    print(len(bulk_route))\n",
    "    for td, match in zip(test_data, bulk_route):\n",
    "        run_dict[td.id] = {}\n",
    "        if match:\n",
    "            run_dict[td.id][match[0].name] = np.int64(1)\n",
    "        else:\n",
    "            run_dict[td.id][NULL_RESPONSE_KEY] = np.int64(1)\n",
    "\n",
    "    # for td in test_data:\n",
    "    #     run_dict[td.id] = {}\n",
    "    #     route_match = router(td.query)\n",
    "    #     if route_match and route_match.name == td.query_match:\n",
    "    #         run_dict[td.id][td.query_match] = np.int64(1)\n",
    "    #     else:\n",
    "    #         run_dict[td.id][NULL_RESPONSE_KEY] = np.int64(1)\n",
    "\n",
    "    return Run(run_dict)\n",
    "\n",
    "\n",
    "def _eval_router(\n",
    "    router: SemanticRouter,\n",
    "    test_data: List[LabeledData],\n",
    "    qrels: \"Qrels\",\n",
    "    eval_metric: str,\n",
    ") -> float:\n",
    "    \"\"\"Evaluate acceptable metric given run and qrels data\"\"\"\n",
    "    if evaluate is None:\n",
    "        raise ImportError(\"ranx is required for threshold optimization\")\n",
    "\n",
    "    run = _generate_run_router(test_data, router)\n",
    "    return evaluate(qrels, run, eval_metric, make_comparable=True)\n",
    "\n",
    "\n",
    "def _router_random_search(\n",
    "    route_names: List[str], route_thresholds: dict, search_step=0.10\n",
    "):\n",
    "    \"\"\"Performs random search for many thresholds to many routes\"\"\"\n",
    "    if np is None:\n",
    "        raise ImportError(\"numpy is required for threshold optimization\")\n",
    "\n",
    "    score_threshold_values = []\n",
    "    for route in route_names:\n",
    "        score_threshold_values.append(\n",
    "            np.linspace(\n",
    "                start=max(route_thresholds[route] - search_step, 0),\n",
    "                stop=route_thresholds[route] + search_step,\n",
    "                num=100,\n",
    "            )\n",
    "        )\n",
    "\n",
    "    return {\n",
    "        route: float(random.choice(score_threshold_values[i]))\n",
    "        for i, route in enumerate(route_names)\n",
    "    }\n",
    "\n",
    "\n",
    "def _random_search_opt_router(\n",
    "    router: SemanticRouter,\n",
    "    test_data: List[LabeledData],\n",
    "    qrels: \"Qrels\",\n",
    "    eval_metric: EvalMetric,\n",
    "    **kwargs: Any,\n",
    "):\n",
    "    \"\"\"Performs complete optimization for router cases provide acceptable metric\"\"\"\n",
    "    print(\"Starting Optimization\")\n",
    "\n",
    "    start_score = _eval_router(router, test_data, qrels, eval_metric.value)\n",
    "    best_score = start_score\n",
    "    best_thresholds = router.route_thresholds\n",
    "\n",
    "    max_iterations = kwargs.get(\"max_iterations\", 20)\n",
    "    search_step = kwargs.get(\"search_step\", 0.10)\n",
    "\n",
    "    pbar = tqdm(total=max_iterations, desc=\"Optimizing Routes\")\n",
    "    for _ in range(max_iterations):\n",
    "        route_names = router.route_names\n",
    "        route_thresholds = router.route_thresholds\n",
    "        thresholds = _router_random_search(\n",
    "            route_names=route_names,\n",
    "            route_thresholds=route_thresholds,\n",
    "            search_step=search_step,\n",
    "        )\n",
    "        router.update_route_thresholds(thresholds)\n",
    "        print(\"Eval starting\")\n",
    "        score = _eval_router(router, test_data, qrels, eval_metric.value)\n",
    "        if score > best_score:\n",
    "            best_score = score\n",
    "            best_thresholds = thresholds\n",
    "        pbar.update(1)\n",
    "\n",
    "    print(\n",
    "        f\"Eval metric {eval_metric.value.upper()}: start {round(start_score, 3)}, end {round(best_score, 3)} \\nEnding thresholds: {router.route_thresholds}\"\n",
    "    )\n",
    "    router.update_route_thresholds(best_thresholds)\n",
    "    pbar.close()\n",
    "\n",
    "\n",
    "class BulkRouterThresholdOptimizer(BaseThresholdOptimizer):\n",
    "    def __init__(\n",
    "        self,\n",
    "        router: SemanticRouter,\n",
    "        test_dict: List[Dict[str, Any]],\n",
    "        opt_fn: Callable = _random_search_opt_router,\n",
    "        eval_metric: str = \"f1\",\n",
    "    ):\n",
    "        \"\"\"Initialize the router optimizer.\n",
    "\n",
    "        Args:\n",
    "            router (SemanticRouter): The RedisVL SemanticRouter instance to optimize.\n",
    "            test_dict (List[Dict[str, Any]]): List of test cases.\n",
    "            opt_fn (Callable): Function to perform optimization. Defaults to\n",
    "                grid search.\n",
    "            eval_metric (str): Evaluation metric for threshold optimization.\n",
    "                Defaults to \"f1\" score.\n",
    "        Raises:\n",
    "            ValueError: If the test_dict not in LabeledData format.\n",
    "        \"\"\"\n",
    "        super().__init__(router, test_dict, opt_fn, eval_metric)\n",
    "\n",
    "    def optimize(self, **kwargs: Any):\n",
    "        \"\"\"Optimize kicks off the optimization process for router\"\"\"\n",
    "        qrels = _format_qrels(self.test_data)\n",
    "        self.opt_fn(self.optimizable, self.test_data, qrels, self.eval_metric, **kwargs)"
   ]
  },
  {
   "cell_type": "markdown",
   "id": "92ea4cad",
   "metadata": {},
   "source": [
    "### Experiment"
   ]
  },
  {
   "cell_type": "code",
   "execution_count": 7,
   "id": "f4c33243",
   "metadata": {},
   "outputs": [],
   "source": [
    "nuke_redis()"
   ]
  },
  {
   "cell_type": "code",
   "execution_count": 105,
   "id": "52e86d13",
   "metadata": {},
   "outputs": [
    {
     "name": "stderr",
     "output_type": "stream",
     "text": [
      "Generating train split: 100%|██████████| 120000/120000 [00:00<00:00, 2322652.53 examples/s]\n",
      "Generating test split: 100%|██████████| 7600/7600 [00:00<00:00, 1491936.27 examples/s]\n"
     ]
    }
   ],
   "source": [
    "from datasets import load_dataset, concatenate_datasets\n",
    "\n",
    "eval_datasets={\n",
    "                \"Topic\": {\n",
    "                    \"DBLP\":{\n",
    "                        \"repo_id\": \"waashk/dblp\",\n",
    "                        \"train_lbl\": \"train\",\n",
    "                        \"test_lbl\": \"test\",\n",
    "                        \"text_col\": \"text\",\n",
    "                        \"label_col\": \"label\"\n",
    "                      },\n",
    "                      \"20NG\":{\n",
    "                        \"repo_id\": \"beyond/20NG\",\n",
    "                        \"train_lbl\": \"train\",\n",
    "                        \"test_lbl\": \"test\",\n",
    "                        \"text_col\": \"content\",\n",
    "                        \"label_col\": \"label\"\n",
    "                      }\n",
    "                    },\n",
    "                \"Sentiment\": {\n",
    "                    \"SST-2\":{\n",
    "                        \"repo_id\": \"SetFit/sst2\",\n",
    "                        \"train_lbl\": \"train\",\n",
    "                        \"test_lbl\": \"test\",\n",
    "                        \"text_col\": \"text\",\n",
    "                        \"label_col\": \"label\"\n",
    "\n",
    "                    },\n",
    "                    \"MPQA\":{\n",
    "                        \"repo_id\": \"jxm/mpqa\",\n",
    "                        \"train_lbl\": \"train\",\n",
    "                        \"test_lbl\": \"test\",\n",
    "                        \"text_col\": \"sentence\",\n",
    "                        \"label_col\": \"label\"\n",
    "                    }\n",
    "                },\n",
    "                \"Large\":{\n",
    "                    \"AGNews\":{\n",
    "                        \"repo_id\": \"SetFit/ag_news\",\n",
    "                        \"train_lbl\": \"train\",\n",
    "                        \"test_lbl\": \"test\",\n",
    "                        \"text_col\": \"text\",\n",
    "                        \"label_col\": \"label\"\n",
    "                    }\n",
    "                }\n",
    "              }\n",
    "\n",
    "router_config = {\n",
    "    \"name\": \"OOTB\",\n",
    "    \"batch_size\": 1024,\n",
    "    \"vectorizer_config\":{\n",
    "        \"dimensions\":1536,\n",
    "        \"OPENAI_API_KEY\": os.getenv(\"OPENAI_API_KEY\"),\n",
    "        \"OPENAI_MODEL\": \"text-embedding-3-small\"\n",
    "    },\n",
    "    \"dataset_domain\": \"Large\",\n",
    "    \"dataset_name\": \"AGNews\",\n",
    "}\n",
    "\n",
    "experiment_notes = \"\"\n",
    "\n",
    "# dataset_repo_id = eval_datasets[router_config[\"dataset_domain\"]][router_config[\"dataset_name\"]][\"repo_id\"]\n",
    "# dataset = load_dataset(dataset_repo_id)\n",
    "# print(dataset)\n",
    "\n",
    "timer=Timer()\n",
    "\n",
    "with timer.timeit(\"load_dataset\"):\n",
    "    dataset_repo_id = eval_datasets[router_config[\"dataset_domain\"]][router_config[\"dataset_name\"]][\"repo_id\"]\n",
    "    dataset_train_lbl = eval_datasets[router_config[\"dataset_domain\"]][router_config[\"dataset_name\"]][\"train_lbl\"]\n",
    "    dataset_test_lbl = eval_datasets[router_config[\"dataset_domain\"]][router_config[\"dataset_name\"]][\"test_lbl\"]\n",
    "    dataset_text_col = eval_datasets[router_config[\"dataset_domain\"]][router_config[\"dataset_name\"]][\"text_col\"]\n",
    "    dataset_label_col = eval_datasets[router_config[\"dataset_domain\"]][router_config[\"dataset_name\"]][\"label_col\"]\n",
    "\n",
    "    dataset = load_dataset(dataset_repo_id)\n",
    "\n",
    "    # Merge dev with train\n",
    "    all_splits = list(dataset.keys())\n",
    "    extra_splits = [s for s in all_splits if s not in (dataset_train_lbl, dataset_test_lbl)]\n",
    "    if extra_splits:\n",
    "        train_data = concatenate_datasets([dataset[dataset_train_lbl]] + [dataset[s] for s in extra_splits])\n",
    "    else:\n",
    "        train_data = dataset[dataset_train_lbl]\n",
    "\n",
    "    if \"alternate_scoring_source\" in eval_datasets[router_config[\"dataset_domain\"]][router_config[\"dataset_name\"]]:\n",
    "        altdataset_repo_id = eval_datasets[router_config[\"dataset_domain\"]][router_config[\"dataset_name\"]][\"alternate_scoring_source\"][\"repo_id\"]\n",
    "        altdataset_test_lbl = eval_datasets[router_config[\"dataset_domain\"]][router_config[\"dataset_name\"]][\"alternate_scoring_source\"][\"test_lbl\"]\n",
    "        altdataset = load_dataset(altdataset_repo_id)\n",
    "        test_text_col = eval_datasets[router_config[\"dataset_domain\"]][router_config[\"dataset_name\"]][\"alternate_scoring_source\"][\"text_col\"]\n",
    "        test_label_col = eval_datasets[router_config[\"dataset_domain\"]][router_config[\"dataset_name\"]][\"alternate_scoring_source\"][\"label_col\"]\n",
    "        test_data = altdataset[altdataset_test_lbl]\n",
    "    else:\n",
    "        test_text_col = dataset_text_col\n",
    "        test_label_col = dataset_label_col\n",
    "        test_data = dataset[dataset_test_lbl]\n",
    "\n",
    "    router_config.update({\"dataset_repo_id\":dataset_repo_id})\n",
    "    router_config.update({\"train_limit\":dataset[dataset_train_lbl].num_rows})\n",
    "    router_config.update({\"test_limit\":dataset[dataset_test_lbl].num_rows})\n",
    "\n",
    "# Define Experiment Names\n",
    "safe_repo = dataset_repo_id.replace(\"/\", \"-\")\n",
    "experiment_name = f'{router_config[\"name\"]}_{safe_repo}_{router_config[\"vectorizer_config\"][\"OPENAI_MODEL\"]}_{router_config[\"vectorizer_config\"][\"dimensions\"]}'"
   ]
  },
  {
   "cell_type": "code",
   "execution_count": 94,
   "id": "570a0a76",
   "metadata": {},
   "outputs": [],
   "source": [
    "# train_data"
   ]
  },
  {
   "cell_type": "code",
   "execution_count": 106,
   "id": "75e46dbe",
   "metadata": {},
   "outputs": [
    {
     "name": "stdout",
     "output_type": "stream",
     "text": [
      "DatasetDict({\n",
      "    train: Dataset({\n",
      "        features: ['text', 'label', 'label_text'],\n",
      "        num_rows: 120000\n",
      "    })\n",
      "    test: Dataset({\n",
      "        features: ['text', 'label', 'label_text'],\n",
      "        num_rows: 7600\n",
      "    })\n",
      "})\n"
     ]
    }
   ],
   "source": [
    "print(dataset)"
   ]
  },
  {
   "cell_type": "code",
   "execution_count": 107,
   "id": "8ef5bd64",
   "metadata": {},
   "outputs": [],
   "source": [
    "nuke_redis()\n"
   ]
  },
  {
   "cell_type": "code",
   "execution_count": 100,
   "id": "0a26b183",
   "metadata": {},
   "outputs": [
    {
     "name": "stdout",
     "output_type": "stream",
     "text": [
      "Dataset({\n",
      "    features: ['Unnamed: 0', 'label', 'content'],\n",
      "    num_rows: 11293\n",
      "})\n",
      "Dataset({\n",
      "    features: ['Unnamed: 0', 'label', 'content'],\n",
      "    num_rows: 7528\n",
      "})\n",
      "Column(['alt.atheism', 'alt.atheism', 'alt.atheism', 'alt.atheism', 'alt.atheism'])\n"
     ]
    }
   ],
   "source": [
    "print(train_data)\n",
    "print(test_data)\n",
    "print(test_data['label'])"
   ]
  },
  {
   "cell_type": "code",
   "execution_count": 108,
   "id": "c8dc25d0",
   "metadata": {},
   "outputs": [
    {
     "name": "stdout",
     "output_type": "stream",
     "text": [
      "21:17:47 httpx INFO   HTTP Request: POST https://api.openai.com/v1/embeddings \"HTTP/1.1 200 OK\"\n"
     ]
    },
    {
     "name": "stderr",
     "output_type": "stream",
     "text": [
      "\n",
      "\u001b[A"
     ]
    },
    {
     "name": "stdout",
     "output_type": "stream",
     "text": [
      "21:17:50 httpx INFO   HTTP Request: POST https://api.openai.com/v1/embeddings \"HTTP/1.1 200 OK\"\n"
     ]
    },
    {
     "name": "stderr",
     "output_type": "stream",
     "text": [
      "\n",
      "\u001b[A"
     ]
    },
    {
     "name": "stdout",
     "output_type": "stream",
     "text": [
      "21:17:53 httpx INFO   HTTP Request: POST https://api.openai.com/v1/embeddings \"HTTP/1.1 200 OK\"\n"
     ]
    },
    {
     "name": "stderr",
     "output_type": "stream",
     "text": [
      "\n",
      "\u001b[A"
     ]
    },
    {
     "name": "stdout",
     "output_type": "stream",
     "text": [
      "21:17:57 httpx INFO   HTTP Request: POST https://api.openai.com/v1/embeddings \"HTTP/1.1 200 OK\"\n"
     ]
    },
    {
     "name": "stderr",
     "output_type": "stream",
     "text": [
      "\n",
      "\u001b[A"
     ]
    },
    {
     "name": "stdout",
     "output_type": "stream",
     "text": [
      "21:18:01 httpx INFO   HTTP Request: POST https://api.openai.com/v1/embeddings \"HTTP/1.1 200 OK\"\n"
     ]
    },
    {
     "name": "stderr",
     "output_type": "stream",
     "text": [
      "\n",
      "\u001b[A"
     ]
    },
    {
     "name": "stdout",
     "output_type": "stream",
     "text": [
      "21:18:04 httpx INFO   HTTP Request: POST https://api.openai.com/v1/embeddings \"HTTP/1.1 200 OK\"\n"
     ]
    },
    {
     "name": "stderr",
     "output_type": "stream",
     "text": [
      "\n",
      "\u001b[A"
     ]
    },
    {
     "name": "stdout",
     "output_type": "stream",
     "text": [
      "21:18:08 httpx INFO   HTTP Request: POST https://api.openai.com/v1/embeddings \"HTTP/1.1 200 OK\"\n"
     ]
    },
    {
     "name": "stderr",
     "output_type": "stream",
     "text": [
      "\n",
      "\u001b[A"
     ]
    },
    {
     "name": "stdout",
     "output_type": "stream",
     "text": [
      "21:18:11 httpx INFO   HTTP Request: POST https://api.openai.com/v1/embeddings \"HTTP/1.1 200 OK\"\n"
     ]
    },
    {
     "name": "stderr",
     "output_type": "stream",
     "text": [
      "\n",
      "\u001b[A"
     ]
    },
    {
     "name": "stdout",
     "output_type": "stream",
     "text": [
      "21:18:15 httpx INFO   HTTP Request: POST https://api.openai.com/v1/embeddings \"HTTP/1.1 200 OK\"\n"
     ]
    },
    {
     "name": "stderr",
     "output_type": "stream",
     "text": [
      "\n",
      "\u001b[A"
     ]
    },
    {
     "name": "stdout",
     "output_type": "stream",
     "text": [
      "21:18:19 httpx INFO   HTTP Request: POST https://api.openai.com/v1/embeddings \"HTTP/1.1 200 OK\"\n"
     ]
    },
    {
     "name": "stderr",
     "output_type": "stream",
     "text": [
      "\n",
      "\u001b[A"
     ]
    },
    {
     "name": "stdout",
     "output_type": "stream",
     "text": [
      "21:18:24 httpx INFO   HTTP Request: POST https://api.openai.com/v1/embeddings \"HTTP/1.1 200 OK\"\n"
     ]
    },
    {
     "name": "stderr",
     "output_type": "stream",
     "text": [
      "\n",
      "\u001b[A"
     ]
    },
    {
     "name": "stdout",
     "output_type": "stream",
     "text": [
      "21:18:28 httpx INFO   HTTP Request: POST https://api.openai.com/v1/embeddings \"HTTP/1.1 200 OK\"\n"
     ]
    },
    {
     "name": "stderr",
     "output_type": "stream",
     "text": [
      "\n",
      "\u001b[A"
     ]
    },
    {
     "name": "stdout",
     "output_type": "stream",
     "text": [
      "21:18:31 httpx INFO   HTTP Request: POST https://api.openai.com/v1/embeddings \"HTTP/1.1 200 OK\"\n"
     ]
    },
    {
     "name": "stderr",
     "output_type": "stream",
     "text": [
      "\n",
      "\u001b[A"
     ]
    },
    {
     "name": "stdout",
     "output_type": "stream",
     "text": [
      "21:18:33 httpx INFO   HTTP Request: POST https://api.openai.com/v1/embeddings \"HTTP/1.1 200 OK\"\n"
     ]
    },
    {
     "name": "stderr",
     "output_type": "stream",
     "text": [
      "\n",
      "\u001b[A"
     ]
    },
    {
     "name": "stdout",
     "output_type": "stream",
     "text": [
      "21:18:40 httpx INFO   HTTP Request: POST https://api.openai.com/v1/embeddings \"HTTP/1.1 200 OK\"\n"
     ]
    },
    {
     "name": "stderr",
     "output_type": "stream",
     "text": [
      "\n",
      "\u001b[A"
     ]
    },
    {
     "name": "stdout",
     "output_type": "stream",
     "text": [
      "21:18:43 httpx INFO   HTTP Request: POST https://api.openai.com/v1/embeddings \"HTTP/1.1 200 OK\"\n"
     ]
    },
    {
     "name": "stderr",
     "output_type": "stream",
     "text": [
      "\n",
      "\u001b[A"
     ]
    },
    {
     "name": "stdout",
     "output_type": "stream",
     "text": [
      "21:18:47 httpx INFO   HTTP Request: POST https://api.openai.com/v1/embeddings \"HTTP/1.1 200 OK\"\n"
     ]
    },
    {
     "name": "stderr",
     "output_type": "stream",
     "text": [
      "\n",
      "\u001b[A"
     ]
    },
    {
     "name": "stdout",
     "output_type": "stream",
     "text": [
      "21:18:50 httpx INFO   HTTP Request: POST https://api.openai.com/v1/embeddings \"HTTP/1.1 200 OK\"\n"
     ]
    },
    {
     "name": "stderr",
     "output_type": "stream",
     "text": [
      "\n",
      "\u001b[A"
     ]
    },
    {
     "name": "stdout",
     "output_type": "stream",
     "text": [
      "21:18:54 httpx INFO   HTTP Request: POST https://api.openai.com/v1/embeddings \"HTTP/1.1 200 OK\"\n"
     ]
    },
    {
     "name": "stderr",
     "output_type": "stream",
     "text": [
      "\n",
      "\u001b[A"
     ]
    },
    {
     "name": "stdout",
     "output_type": "stream",
     "text": [
      "21:18:58 httpx INFO   HTTP Request: POST https://api.openai.com/v1/embeddings \"HTTP/1.1 200 OK\"\n"
     ]
    },
    {
     "name": "stderr",
     "output_type": "stream",
     "text": [
      "\n",
      "\u001b[A"
     ]
    },
    {
     "name": "stdout",
     "output_type": "stream",
     "text": [
      "21:19:01 httpx INFO   HTTP Request: POST https://api.openai.com/v1/embeddings \"HTTP/1.1 200 OK\"\n"
     ]
    },
    {
     "name": "stderr",
     "output_type": "stream",
     "text": [
      "\n",
      "\u001b[A"
     ]
    },
    {
     "name": "stdout",
     "output_type": "stream",
     "text": [
      "21:19:04 httpx INFO   HTTP Request: POST https://api.openai.com/v1/embeddings \"HTTP/1.1 200 OK\"\n"
     ]
    },
    {
     "name": "stderr",
     "output_type": "stream",
     "text": [
      "\n",
      "\u001b[A"
     ]
    },
    {
     "name": "stdout",
     "output_type": "stream",
     "text": [
      "21:19:08 httpx INFO   HTTP Request: POST https://api.openai.com/v1/embeddings \"HTTP/1.1 200 OK\"\n"
     ]
    },
    {
     "name": "stderr",
     "output_type": "stream",
     "text": [
      "\n",
      "\u001b[A"
     ]
    },
    {
     "name": "stdout",
     "output_type": "stream",
     "text": [
      "21:19:11 httpx INFO   HTTP Request: POST https://api.openai.com/v1/embeddings \"HTTP/1.1 200 OK\"\n"
     ]
    },
    {
     "name": "stderr",
     "output_type": "stream",
     "text": [
      "\n",
      "\u001b[A"
     ]
    },
    {
     "name": "stdout",
     "output_type": "stream",
     "text": [
      "21:19:17 httpx INFO   HTTP Request: POST https://api.openai.com/v1/embeddings \"HTTP/1.1 200 OK\"\n"
     ]
    },
    {
     "name": "stderr",
     "output_type": "stream",
     "text": [
      "\n",
      "\u001b[A"
     ]
    },
    {
     "name": "stdout",
     "output_type": "stream",
     "text": [
      "21:19:20 httpx INFO   HTTP Request: POST https://api.openai.com/v1/embeddings \"HTTP/1.1 200 OK\"\n"
     ]
    },
    {
     "name": "stderr",
     "output_type": "stream",
     "text": [
      "\n",
      "\u001b[A"
     ]
    },
    {
     "name": "stdout",
     "output_type": "stream",
     "text": [
      "21:19:24 httpx INFO   HTTP Request: POST https://api.openai.com/v1/embeddings \"HTTP/1.1 200 OK\"\n"
     ]
    },
    {
     "name": "stderr",
     "output_type": "stream",
     "text": [
      "\n",
      "\u001b[A"
     ]
    },
    {
     "name": "stdout",
     "output_type": "stream",
     "text": [
      "21:19:28 httpx INFO   HTTP Request: POST https://api.openai.com/v1/embeddings \"HTTP/1.1 200 OK\"\n"
     ]
    },
    {
     "name": "stderr",
     "output_type": "stream",
     "text": [
      "\n",
      "\u001b[A"
     ]
    },
    {
     "name": "stdout",
     "output_type": "stream",
     "text": [
      "21:19:31 httpx INFO   HTTP Request: POST https://api.openai.com/v1/embeddings \"HTTP/1.1 200 OK\"\n"
     ]
    },
    {
     "name": "stderr",
     "output_type": "stream",
     "text": [
      "\n",
      "\u001b[A"
     ]
    },
    {
     "name": "stdout",
     "output_type": "stream",
     "text": [
      "21:19:34 httpx INFO   HTTP Request: POST https://api.openai.com/v1/embeddings \"HTTP/1.1 200 OK\"\n"
     ]
    },
    {
     "name": "stderr",
     "output_type": "stream",
     "text": [
      "\n",
      "\u001b[A"
     ]
    },
    {
     "name": "stdout",
     "output_type": "stream",
     "text": [
      "21:19:35 httpx INFO   HTTP Request: POST https://api.openai.com/v1/embeddings \"HTTP/1.1 200 OK\"\n"
     ]
    },
    {
     "name": "stderr",
     "output_type": "stream",
     "text": [
      "\n",
      "30it [01:48,  3.62s/it]\n",
      "Embedding: 100%|██████████| 30000/30000 [01:48<00:00, 275.92emb/s]\n",
      "\n",
      "\u001b[A"
     ]
    },
    {
     "name": "stdout",
     "output_type": "stream",
     "text": [
      "21:19:55 httpx INFO   HTTP Request: POST https://api.openai.com/v1/embeddings \"HTTP/1.1 200 OK\"\n"
     ]
    },
    {
     "name": "stderr",
     "output_type": "stream",
     "text": [
      "\n",
      "\u001b[A"
     ]
    },
    {
     "name": "stdout",
     "output_type": "stream",
     "text": [
      "21:19:59 httpx INFO   HTTP Request: POST https://api.openai.com/v1/embeddings \"HTTP/1.1 200 OK\"\n"
     ]
    },
    {
     "name": "stderr",
     "output_type": "stream",
     "text": [
      "\n",
      "\u001b[A"
     ]
    },
    {
     "name": "stdout",
     "output_type": "stream",
     "text": [
      "21:20:03 httpx INFO   HTTP Request: POST https://api.openai.com/v1/embeddings \"HTTP/1.1 200 OK\"\n"
     ]
    },
    {
     "name": "stderr",
     "output_type": "stream",
     "text": [
      "\n",
      "\u001b[A"
     ]
    },
    {
     "name": "stdout",
     "output_type": "stream",
     "text": [
      "21:20:09 httpx INFO   HTTP Request: POST https://api.openai.com/v1/embeddings \"HTTP/1.1 200 OK\"\n"
     ]
    },
    {
     "name": "stderr",
     "output_type": "stream",
     "text": [
      "\n",
      "\u001b[A"
     ]
    },
    {
     "name": "stdout",
     "output_type": "stream",
     "text": [
      "21:20:12 httpx INFO   HTTP Request: POST https://api.openai.com/v1/embeddings \"HTTP/1.1 200 OK\"\n"
     ]
    },
    {
     "name": "stderr",
     "output_type": "stream",
     "text": [
      "\n",
      "\u001b[A"
     ]
    },
    {
     "name": "stdout",
     "output_type": "stream",
     "text": [
      "21:20:16 httpx INFO   HTTP Request: POST https://api.openai.com/v1/embeddings \"HTTP/1.1 200 OK\"\n"
     ]
    },
    {
     "name": "stderr",
     "output_type": "stream",
     "text": [
      "\n",
      "\u001b[A"
     ]
    },
    {
     "name": "stdout",
     "output_type": "stream",
     "text": [
      "21:20:19 httpx INFO   HTTP Request: POST https://api.openai.com/v1/embeddings \"HTTP/1.1 200 OK\"\n"
     ]
    },
    {
     "name": "stderr",
     "output_type": "stream",
     "text": [
      "\n",
      "\u001b[A"
     ]
    },
    {
     "name": "stdout",
     "output_type": "stream",
     "text": [
      "21:20:22 httpx INFO   HTTP Request: POST https://api.openai.com/v1/embeddings \"HTTP/1.1 200 OK\"\n"
     ]
    },
    {
     "name": "stderr",
     "output_type": "stream",
     "text": [
      "\n",
      "\u001b[A"
     ]
    },
    {
     "name": "stdout",
     "output_type": "stream",
     "text": [
      "21:20:25 httpx INFO   HTTP Request: POST https://api.openai.com/v1/embeddings \"HTTP/1.1 200 OK\"\n"
     ]
    },
    {
     "name": "stderr",
     "output_type": "stream",
     "text": [
      "\n",
      "\u001b[A"
     ]
    },
    {
     "name": "stdout",
     "output_type": "stream",
     "text": [
      "21:20:29 httpx INFO   HTTP Request: POST https://api.openai.com/v1/embeddings \"HTTP/1.1 200 OK\"\n"
     ]
    },
    {
     "name": "stderr",
     "output_type": "stream",
     "text": [
      "\n",
      "\u001b[A"
     ]
    },
    {
     "name": "stdout",
     "output_type": "stream",
     "text": [
      "21:20:33 httpx INFO   HTTP Request: POST https://api.openai.com/v1/embeddings \"HTTP/1.1 200 OK\"\n"
     ]
    },
    {
     "name": "stderr",
     "output_type": "stream",
     "text": [
      "\n",
      "\u001b[A"
     ]
    },
    {
     "name": "stdout",
     "output_type": "stream",
     "text": [
      "21:20:37 httpx INFO   HTTP Request: POST https://api.openai.com/v1/embeddings \"HTTP/1.1 200 OK\"\n"
     ]
    },
    {
     "name": "stderr",
     "output_type": "stream",
     "text": [
      "\n",
      "\u001b[A"
     ]
    },
    {
     "name": "stdout",
     "output_type": "stream",
     "text": [
      "21:20:41 httpx INFO   HTTP Request: POST https://api.openai.com/v1/embeddings \"HTTP/1.1 200 OK\"\n"
     ]
    },
    {
     "name": "stderr",
     "output_type": "stream",
     "text": [
      "\n",
      "\u001b[A"
     ]
    },
    {
     "name": "stdout",
     "output_type": "stream",
     "text": [
      "21:20:44 httpx INFO   HTTP Request: POST https://api.openai.com/v1/embeddings \"HTTP/1.1 200 OK\"\n"
     ]
    },
    {
     "name": "stderr",
     "output_type": "stream",
     "text": [
      "\n",
      "\u001b[A"
     ]
    },
    {
     "name": "stdout",
     "output_type": "stream",
     "text": [
      "21:20:48 httpx INFO   HTTP Request: POST https://api.openai.com/v1/embeddings \"HTTP/1.1 200 OK\"\n"
     ]
    },
    {
     "name": "stderr",
     "output_type": "stream",
     "text": [
      "\n",
      "\u001b[A"
     ]
    },
    {
     "name": "stdout",
     "output_type": "stream",
     "text": [
      "21:20:52 httpx INFO   HTTP Request: POST https://api.openai.com/v1/embeddings \"HTTP/1.1 200 OK\"\n"
     ]
    },
    {
     "name": "stderr",
     "output_type": "stream",
     "text": [
      "\n",
      "\u001b[A"
     ]
    },
    {
     "name": "stdout",
     "output_type": "stream",
     "text": [
      "21:20:55 httpx INFO   HTTP Request: POST https://api.openai.com/v1/embeddings \"HTTP/1.1 200 OK\"\n"
     ]
    },
    {
     "name": "stderr",
     "output_type": "stream",
     "text": [
      "\n",
      "\u001b[A"
     ]
    },
    {
     "name": "stdout",
     "output_type": "stream",
     "text": [
      "21:20:59 httpx INFO   HTTP Request: POST https://api.openai.com/v1/embeddings \"HTTP/1.1 200 OK\"\n"
     ]
    },
    {
     "name": "stderr",
     "output_type": "stream",
     "text": [
      "\n",
      "\u001b[A"
     ]
    },
    {
     "name": "stdout",
     "output_type": "stream",
     "text": [
      "21:21:02 httpx INFO   HTTP Request: POST https://api.openai.com/v1/embeddings \"HTTP/1.1 200 OK\"\n"
     ]
    },
    {
     "name": "stderr",
     "output_type": "stream",
     "text": [
      "\n",
      "\u001b[A"
     ]
    },
    {
     "name": "stdout",
     "output_type": "stream",
     "text": [
      "21:21:05 httpx INFO   HTTP Request: POST https://api.openai.com/v1/embeddings \"HTTP/1.1 200 OK\"\n"
     ]
    },
    {
     "name": "stderr",
     "output_type": "stream",
     "text": [
      "\n",
      "\u001b[A"
     ]
    },
    {
     "name": "stdout",
     "output_type": "stream",
     "text": [
      "21:21:09 httpx INFO   HTTP Request: POST https://api.openai.com/v1/embeddings \"HTTP/1.1 200 OK\"\n"
     ]
    },
    {
     "name": "stderr",
     "output_type": "stream",
     "text": [
      "\n",
      "\u001b[A"
     ]
    },
    {
     "name": "stdout",
     "output_type": "stream",
     "text": [
      "21:21:22 httpx INFO   HTTP Request: POST https://api.openai.com/v1/embeddings \"HTTP/1.1 200 OK\"\n"
     ]
    },
    {
     "name": "stderr",
     "output_type": "stream",
     "text": [
      "\n",
      "\u001b[A"
     ]
    },
    {
     "name": "stdout",
     "output_type": "stream",
     "text": [
      "21:21:28 httpx INFO   HTTP Request: POST https://api.openai.com/v1/embeddings \"HTTP/1.1 200 OK\"\n"
     ]
    },
    {
     "name": "stderr",
     "output_type": "stream",
     "text": [
      "\n",
      "\u001b[A"
     ]
    },
    {
     "name": "stdout",
     "output_type": "stream",
     "text": [
      "21:21:34 httpx INFO   HTTP Request: POST https://api.openai.com/v1/embeddings \"HTTP/1.1 200 OK\"\n"
     ]
    },
    {
     "name": "stderr",
     "output_type": "stream",
     "text": [
      "\n",
      "\u001b[A"
     ]
    },
    {
     "name": "stdout",
     "output_type": "stream",
     "text": [
      "21:21:37 httpx INFO   HTTP Request: POST https://api.openai.com/v1/embeddings \"HTTP/1.1 200 OK\"\n"
     ]
    },
    {
     "name": "stderr",
     "output_type": "stream",
     "text": [
      "\n",
      "\u001b[A"
     ]
    },
    {
     "name": "stdout",
     "output_type": "stream",
     "text": [
      "21:21:41 httpx INFO   HTTP Request: POST https://api.openai.com/v1/embeddings \"HTTP/1.1 200 OK\"\n"
     ]
    },
    {
     "name": "stderr",
     "output_type": "stream",
     "text": [
      "\n",
      "\u001b[A"
     ]
    },
    {
     "name": "stdout",
     "output_type": "stream",
     "text": [
      "21:21:45 httpx INFO   HTTP Request: POST https://api.openai.com/v1/embeddings \"HTTP/1.1 200 OK\"\n"
     ]
    },
    {
     "name": "stderr",
     "output_type": "stream",
     "text": [
      "\n",
      "\u001b[A"
     ]
    },
    {
     "name": "stdout",
     "output_type": "stream",
     "text": [
      "21:21:48 httpx INFO   HTTP Request: POST https://api.openai.com/v1/embeddings \"HTTP/1.1 200 OK\"\n"
     ]
    },
    {
     "name": "stderr",
     "output_type": "stream",
     "text": [
      "\n",
      "\u001b[A"
     ]
    },
    {
     "name": "stdout",
     "output_type": "stream",
     "text": [
      "21:21:52 httpx INFO   HTTP Request: POST https://api.openai.com/v1/embeddings \"HTTP/1.1 200 OK\"\n"
     ]
    },
    {
     "name": "stderr",
     "output_type": "stream",
     "text": [
      "\n",
      "\u001b[A"
     ]
    },
    {
     "name": "stdout",
     "output_type": "stream",
     "text": [
      "21:21:55 httpx INFO   HTTP Request: POST https://api.openai.com/v1/embeddings \"HTTP/1.1 200 OK\"\n"
     ]
    },
    {
     "name": "stderr",
     "output_type": "stream",
     "text": [
      "\n",
      "30it [02:02,  4.08s/it]\n",
      "Embedding: 100%|██████████| 30000/30000 [02:02<00:00, 245.35emb/s]\n",
      "\n",
      "\u001b[A"
     ]
    },
    {
     "name": "stdout",
     "output_type": "stream",
     "text": [
      "21:22:14 httpx INFO   HTTP Request: POST https://api.openai.com/v1/embeddings \"HTTP/1.1 200 OK\"\n"
     ]
    },
    {
     "name": "stderr",
     "output_type": "stream",
     "text": [
      "\n",
      "\u001b[A"
     ]
    },
    {
     "name": "stdout",
     "output_type": "stream",
     "text": [
      "21:22:17 httpx INFO   HTTP Request: POST https://api.openai.com/v1/embeddings \"HTTP/1.1 200 OK\"\n"
     ]
    },
    {
     "name": "stderr",
     "output_type": "stream",
     "text": [
      "\n",
      "\u001b[A"
     ]
    },
    {
     "name": "stdout",
     "output_type": "stream",
     "text": [
      "21:22:21 httpx INFO   HTTP Request: POST https://api.openai.com/v1/embeddings \"HTTP/1.1 200 OK\"\n"
     ]
    },
    {
     "name": "stderr",
     "output_type": "stream",
     "text": [
      "\n",
      "\u001b[A"
     ]
    },
    {
     "name": "stdout",
     "output_type": "stream",
     "text": [
      "21:22:24 httpx INFO   HTTP Request: POST https://api.openai.com/v1/embeddings \"HTTP/1.1 200 OK\"\n"
     ]
    },
    {
     "name": "stderr",
     "output_type": "stream",
     "text": [
      "\n",
      "\u001b[A"
     ]
    },
    {
     "name": "stdout",
     "output_type": "stream",
     "text": [
      "21:22:27 httpx INFO   HTTP Request: POST https://api.openai.com/v1/embeddings \"HTTP/1.1 200 OK\"\n"
     ]
    },
    {
     "name": "stderr",
     "output_type": "stream",
     "text": [
      "\n",
      "\u001b[A"
     ]
    },
    {
     "name": "stdout",
     "output_type": "stream",
     "text": [
      "21:22:30 httpx INFO   HTTP Request: POST https://api.openai.com/v1/embeddings \"HTTP/1.1 200 OK\"\n"
     ]
    },
    {
     "name": "stderr",
     "output_type": "stream",
     "text": [
      "\n",
      "\u001b[A"
     ]
    },
    {
     "name": "stdout",
     "output_type": "stream",
     "text": [
      "21:22:34 httpx INFO   HTTP Request: POST https://api.openai.com/v1/embeddings \"HTTP/1.1 200 OK\"\n"
     ]
    },
    {
     "name": "stderr",
     "output_type": "stream",
     "text": [
      "\n",
      "\u001b[A"
     ]
    },
    {
     "name": "stdout",
     "output_type": "stream",
     "text": [
      "21:22:37 httpx INFO   HTTP Request: POST https://api.openai.com/v1/embeddings \"HTTP/1.1 200 OK\"\n"
     ]
    },
    {
     "name": "stderr",
     "output_type": "stream",
     "text": [
      "\n",
      "\u001b[A"
     ]
    },
    {
     "name": "stdout",
     "output_type": "stream",
     "text": [
      "21:22:41 httpx INFO   HTTP Request: POST https://api.openai.com/v1/embeddings \"HTTP/1.1 200 OK\"\n"
     ]
    },
    {
     "name": "stderr",
     "output_type": "stream",
     "text": [
      "\n",
      "\u001b[A"
     ]
    },
    {
     "name": "stdout",
     "output_type": "stream",
     "text": [
      "21:22:45 httpx INFO   HTTP Request: POST https://api.openai.com/v1/embeddings \"HTTP/1.1 200 OK\"\n"
     ]
    },
    {
     "name": "stderr",
     "output_type": "stream",
     "text": [
      "\n",
      "\u001b[A"
     ]
    },
    {
     "name": "stdout",
     "output_type": "stream",
     "text": [
      "21:22:49 httpx INFO   HTTP Request: POST https://api.openai.com/v1/embeddings \"HTTP/1.1 200 OK\"\n"
     ]
    },
    {
     "name": "stderr",
     "output_type": "stream",
     "text": [
      "\n",
      "\u001b[A"
     ]
    },
    {
     "name": "stdout",
     "output_type": "stream",
     "text": [
      "21:22:55 httpx INFO   HTTP Request: POST https://api.openai.com/v1/embeddings \"HTTP/1.1 200 OK\"\n"
     ]
    },
    {
     "name": "stderr",
     "output_type": "stream",
     "text": [
      "\n",
      "\u001b[A"
     ]
    },
    {
     "name": "stdout",
     "output_type": "stream",
     "text": [
      "21:22:58 httpx INFO   HTTP Request: POST https://api.openai.com/v1/embeddings \"HTTP/1.1 200 OK\"\n"
     ]
    },
    {
     "name": "stderr",
     "output_type": "stream",
     "text": [
      "\n",
      "\u001b[A"
     ]
    },
    {
     "name": "stdout",
     "output_type": "stream",
     "text": [
      "21:23:00 httpx INFO   HTTP Request: POST https://api.openai.com/v1/embeddings \"HTTP/1.1 200 OK\"\n"
     ]
    },
    {
     "name": "stderr",
     "output_type": "stream",
     "text": [
      "\n",
      "\u001b[A"
     ]
    },
    {
     "name": "stdout",
     "output_type": "stream",
     "text": [
      "21:23:05 httpx INFO   HTTP Request: POST https://api.openai.com/v1/embeddings \"HTTP/1.1 200 OK\"\n"
     ]
    },
    {
     "name": "stderr",
     "output_type": "stream",
     "text": [
      "\n",
      "\u001b[A"
     ]
    },
    {
     "name": "stdout",
     "output_type": "stream",
     "text": [
      "21:23:08 httpx INFO   HTTP Request: POST https://api.openai.com/v1/embeddings \"HTTP/1.1 200 OK\"\n"
     ]
    },
    {
     "name": "stderr",
     "output_type": "stream",
     "text": [
      "\n",
      "\u001b[A"
     ]
    },
    {
     "name": "stdout",
     "output_type": "stream",
     "text": [
      "21:23:12 httpx INFO   HTTP Request: POST https://api.openai.com/v1/embeddings \"HTTP/1.1 200 OK\"\n"
     ]
    },
    {
     "name": "stderr",
     "output_type": "stream",
     "text": [
      "\n",
      "\u001b[A"
     ]
    },
    {
     "name": "stdout",
     "output_type": "stream",
     "text": [
      "21:23:16 httpx INFO   HTTP Request: POST https://api.openai.com/v1/embeddings \"HTTP/1.1 200 OK\"\n"
     ]
    },
    {
     "name": "stderr",
     "output_type": "stream",
     "text": [
      "\n",
      "\u001b[A"
     ]
    },
    {
     "name": "stdout",
     "output_type": "stream",
     "text": [
      "21:23:19 httpx INFO   HTTP Request: POST https://api.openai.com/v1/embeddings \"HTTP/1.1 200 OK\"\n"
     ]
    },
    {
     "name": "stderr",
     "output_type": "stream",
     "text": [
      "\n",
      "\u001b[A"
     ]
    },
    {
     "name": "stdout",
     "output_type": "stream",
     "text": [
      "21:23:22 httpx INFO   HTTP Request: POST https://api.openai.com/v1/embeddings \"HTTP/1.1 200 OK\"\n"
     ]
    },
    {
     "name": "stderr",
     "output_type": "stream",
     "text": [
      "\n",
      "\u001b[A"
     ]
    },
    {
     "name": "stdout",
     "output_type": "stream",
     "text": [
      "21:23:26 httpx INFO   HTTP Request: POST https://api.openai.com/v1/embeddings \"HTTP/1.1 200 OK\"\n"
     ]
    },
    {
     "name": "stderr",
     "output_type": "stream",
     "text": [
      "\n",
      "\u001b[A"
     ]
    },
    {
     "name": "stdout",
     "output_type": "stream",
     "text": [
      "21:23:30 httpx INFO   HTTP Request: POST https://api.openai.com/v1/embeddings \"HTTP/1.1 200 OK\"\n"
     ]
    },
    {
     "name": "stderr",
     "output_type": "stream",
     "text": [
      "\n",
      "\u001b[A"
     ]
    },
    {
     "name": "stdout",
     "output_type": "stream",
     "text": [
      "21:23:33 httpx INFO   HTTP Request: POST https://api.openai.com/v1/embeddings \"HTTP/1.1 200 OK\"\n"
     ]
    },
    {
     "name": "stderr",
     "output_type": "stream",
     "text": [
      "\n",
      "\u001b[A"
     ]
    },
    {
     "name": "stdout",
     "output_type": "stream",
     "text": [
      "21:23:37 httpx INFO   HTTP Request: POST https://api.openai.com/v1/embeddings \"HTTP/1.1 200 OK\"\n"
     ]
    },
    {
     "name": "stderr",
     "output_type": "stream",
     "text": [
      "\n",
      "\u001b[A"
     ]
    },
    {
     "name": "stdout",
     "output_type": "stream",
     "text": [
      "21:23:40 httpx INFO   HTTP Request: POST https://api.openai.com/v1/embeddings \"HTTP/1.1 200 OK\"\n"
     ]
    },
    {
     "name": "stderr",
     "output_type": "stream",
     "text": [
      "\n",
      "\u001b[A"
     ]
    },
    {
     "name": "stdout",
     "output_type": "stream",
     "text": [
      "21:23:43 httpx INFO   HTTP Request: POST https://api.openai.com/v1/embeddings \"HTTP/1.1 200 OK\"\n"
     ]
    },
    {
     "name": "stderr",
     "output_type": "stream",
     "text": [
      "\n",
      "\u001b[A"
     ]
    },
    {
     "name": "stdout",
     "output_type": "stream",
     "text": [
      "21:23:47 httpx INFO   HTTP Request: POST https://api.openai.com/v1/embeddings \"HTTP/1.1 200 OK\"\n"
     ]
    },
    {
     "name": "stderr",
     "output_type": "stream",
     "text": [
      "\n",
      "\u001b[A"
     ]
    },
    {
     "name": "stdout",
     "output_type": "stream",
     "text": [
      "21:23:53 httpx INFO   HTTP Request: POST https://api.openai.com/v1/embeddings \"HTTP/1.1 200 OK\"\n"
     ]
    },
    {
     "name": "stderr",
     "output_type": "stream",
     "text": [
      "\n",
      "\u001b[A"
     ]
    },
    {
     "name": "stdout",
     "output_type": "stream",
     "text": [
      "21:23:56 httpx INFO   HTTP Request: POST https://api.openai.com/v1/embeddings \"HTTP/1.1 200 OK\"\n"
     ]
    },
    {
     "name": "stderr",
     "output_type": "stream",
     "text": [
      "\n",
      "\u001b[A"
     ]
    },
    {
     "name": "stdout",
     "output_type": "stream",
     "text": [
      "21:23:58 httpx INFO   HTTP Request: POST https://api.openai.com/v1/embeddings \"HTTP/1.1 200 OK\"\n"
     ]
    },
    {
     "name": "stderr",
     "output_type": "stream",
     "text": [
      "\n",
      "30it [01:47,  3.60s/it]\n",
      "Embedding: 100%|██████████| 30000/30000 [01:47<00:00, 278.09emb/s]\n",
      "\n",
      "\u001b[A"
     ]
    },
    {
     "name": "stdout",
     "output_type": "stream",
     "text": [
      "21:24:18 httpx INFO   HTTP Request: POST https://api.openai.com/v1/embeddings \"HTTP/1.1 200 OK\"\n"
     ]
    },
    {
     "name": "stderr",
     "output_type": "stream",
     "text": [
      "\n",
      "\u001b[A"
     ]
    },
    {
     "name": "stdout",
     "output_type": "stream",
     "text": [
      "21:24:22 httpx INFO   HTTP Request: POST https://api.openai.com/v1/embeddings \"HTTP/1.1 200 OK\"\n"
     ]
    },
    {
     "name": "stderr",
     "output_type": "stream",
     "text": [
      "\n",
      "\u001b[A"
     ]
    },
    {
     "name": "stdout",
     "output_type": "stream",
     "text": [
      "21:24:25 httpx INFO   HTTP Request: POST https://api.openai.com/v1/embeddings \"HTTP/1.1 200 OK\"\n"
     ]
    },
    {
     "name": "stderr",
     "output_type": "stream",
     "text": [
      "\n",
      "\u001b[A"
     ]
    },
    {
     "name": "stdout",
     "output_type": "stream",
     "text": [
      "21:24:30 httpx INFO   HTTP Request: POST https://api.openai.com/v1/embeddings \"HTTP/1.1 200 OK\"\n"
     ]
    },
    {
     "name": "stderr",
     "output_type": "stream",
     "text": [
      "\n",
      "\u001b[A"
     ]
    },
    {
     "name": "stdout",
     "output_type": "stream",
     "text": [
      "21:24:34 httpx INFO   HTTP Request: POST https://api.openai.com/v1/embeddings \"HTTP/1.1 200 OK\"\n"
     ]
    },
    {
     "name": "stderr",
     "output_type": "stream",
     "text": [
      "\n",
      "\u001b[A"
     ]
    },
    {
     "name": "stdout",
     "output_type": "stream",
     "text": [
      "21:24:38 httpx INFO   HTTP Request: POST https://api.openai.com/v1/embeddings \"HTTP/1.1 200 OK\"\n"
     ]
    },
    {
     "name": "stderr",
     "output_type": "stream",
     "text": [
      "\n",
      "\u001b[A"
     ]
    },
    {
     "name": "stdout",
     "output_type": "stream",
     "text": [
      "21:24:42 httpx INFO   HTTP Request: POST https://api.openai.com/v1/embeddings \"HTTP/1.1 200 OK\"\n"
     ]
    },
    {
     "name": "stderr",
     "output_type": "stream",
     "text": [
      "\n",
      "\u001b[A"
     ]
    },
    {
     "name": "stdout",
     "output_type": "stream",
     "text": [
      "21:24:46 httpx INFO   HTTP Request: POST https://api.openai.com/v1/embeddings \"HTTP/1.1 200 OK\"\n"
     ]
    },
    {
     "name": "stderr",
     "output_type": "stream",
     "text": [
      "\n",
      "\u001b[A"
     ]
    },
    {
     "name": "stdout",
     "output_type": "stream",
     "text": [
      "21:24:51 httpx INFO   HTTP Request: POST https://api.openai.com/v1/embeddings \"HTTP/1.1 200 OK\"\n"
     ]
    },
    {
     "name": "stderr",
     "output_type": "stream",
     "text": [
      "\n",
      "\u001b[A"
     ]
    },
    {
     "name": "stdout",
     "output_type": "stream",
     "text": [
      "21:24:55 httpx INFO   HTTP Request: POST https://api.openai.com/v1/embeddings \"HTTP/1.1 200 OK\"\n"
     ]
    },
    {
     "name": "stderr",
     "output_type": "stream",
     "text": [
      "\n",
      "\u001b[A"
     ]
    },
    {
     "name": "stdout",
     "output_type": "stream",
     "text": [
      "21:24:59 httpx INFO   HTTP Request: POST https://api.openai.com/v1/embeddings \"HTTP/1.1 200 OK\"\n"
     ]
    },
    {
     "name": "stderr",
     "output_type": "stream",
     "text": [
      "\n",
      "\u001b[A"
     ]
    },
    {
     "name": "stdout",
     "output_type": "stream",
     "text": [
      "21:25:03 httpx INFO   HTTP Request: POST https://api.openai.com/v1/embeddings \"HTTP/1.1 200 OK\"\n"
     ]
    },
    {
     "name": "stderr",
     "output_type": "stream",
     "text": [
      "\n",
      "\u001b[A"
     ]
    },
    {
     "name": "stdout",
     "output_type": "stream",
     "text": [
      "21:25:07 httpx INFO   HTTP Request: POST https://api.openai.com/v1/embeddings \"HTTP/1.1 200 OK\"\n"
     ]
    },
    {
     "name": "stderr",
     "output_type": "stream",
     "text": [
      "\n",
      "\u001b[A"
     ]
    },
    {
     "name": "stdout",
     "output_type": "stream",
     "text": [
      "21:25:11 httpx INFO   HTTP Request: POST https://api.openai.com/v1/embeddings \"HTTP/1.1 200 OK\"\n"
     ]
    },
    {
     "name": "stderr",
     "output_type": "stream",
     "text": [
      "\n",
      "\u001b[A"
     ]
    },
    {
     "name": "stdout",
     "output_type": "stream",
     "text": [
      "21:25:15 httpx INFO   HTTP Request: POST https://api.openai.com/v1/embeddings \"HTTP/1.1 200 OK\"\n"
     ]
    },
    {
     "name": "stderr",
     "output_type": "stream",
     "text": [
      "\n",
      "\u001b[A"
     ]
    },
    {
     "name": "stdout",
     "output_type": "stream",
     "text": [
      "21:25:18 httpx INFO   HTTP Request: POST https://api.openai.com/v1/embeddings \"HTTP/1.1 200 OK\"\n"
     ]
    },
    {
     "name": "stderr",
     "output_type": "stream",
     "text": [
      "\n",
      "\u001b[A"
     ]
    },
    {
     "name": "stdout",
     "output_type": "stream",
     "text": [
      "21:25:23 httpx INFO   HTTP Request: POST https://api.openai.com/v1/embeddings \"HTTP/1.1 200 OK\"\n"
     ]
    },
    {
     "name": "stderr",
     "output_type": "stream",
     "text": [
      "\n",
      "\u001b[A"
     ]
    },
    {
     "name": "stdout",
     "output_type": "stream",
     "text": [
      "21:25:27 httpx INFO   HTTP Request: POST https://api.openai.com/v1/embeddings \"HTTP/1.1 200 OK\"\n"
     ]
    },
    {
     "name": "stderr",
     "output_type": "stream",
     "text": [
      "\n",
      "\u001b[A"
     ]
    },
    {
     "name": "stdout",
     "output_type": "stream",
     "text": [
      "21:25:31 httpx INFO   HTTP Request: POST https://api.openai.com/v1/embeddings \"HTTP/1.1 200 OK\"\n"
     ]
    },
    {
     "name": "stderr",
     "output_type": "stream",
     "text": [
      "\n",
      "\u001b[A"
     ]
    },
    {
     "name": "stdout",
     "output_type": "stream",
     "text": [
      "21:25:34 httpx INFO   HTTP Request: POST https://api.openai.com/v1/embeddings \"HTTP/1.1 200 OK\"\n"
     ]
    },
    {
     "name": "stderr",
     "output_type": "stream",
     "text": [
      "\n",
      "\u001b[A"
     ]
    },
    {
     "name": "stdout",
     "output_type": "stream",
     "text": [
      "21:25:37 httpx INFO   HTTP Request: POST https://api.openai.com/v1/embeddings \"HTTP/1.1 200 OK\"\n"
     ]
    },
    {
     "name": "stderr",
     "output_type": "stream",
     "text": [
      "\n",
      "\u001b[A"
     ]
    },
    {
     "name": "stdout",
     "output_type": "stream",
     "text": [
      "21:25:41 httpx INFO   HTTP Request: POST https://api.openai.com/v1/embeddings \"HTTP/1.1 200 OK\"\n"
     ]
    },
    {
     "name": "stderr",
     "output_type": "stream",
     "text": [
      "\n",
      "\u001b[A"
     ]
    },
    {
     "name": "stdout",
     "output_type": "stream",
     "text": [
      "21:25:45 httpx INFO   HTTP Request: POST https://api.openai.com/v1/embeddings \"HTTP/1.1 200 OK\"\n"
     ]
    },
    {
     "name": "stderr",
     "output_type": "stream",
     "text": [
      "\n",
      "\u001b[A"
     ]
    },
    {
     "name": "stdout",
     "output_type": "stream",
     "text": [
      "21:25:49 httpx INFO   HTTP Request: POST https://api.openai.com/v1/embeddings \"HTTP/1.1 200 OK\"\n"
     ]
    },
    {
     "name": "stderr",
     "output_type": "stream",
     "text": [
      "\n",
      "\u001b[A"
     ]
    },
    {
     "name": "stdout",
     "output_type": "stream",
     "text": [
      "21:25:53 httpx INFO   HTTP Request: POST https://api.openai.com/v1/embeddings \"HTTP/1.1 200 OK\"\n"
     ]
    },
    {
     "name": "stderr",
     "output_type": "stream",
     "text": [
      "\n",
      "\u001b[A"
     ]
    },
    {
     "name": "stdout",
     "output_type": "stream",
     "text": [
      "21:25:58 httpx INFO   HTTP Request: POST https://api.openai.com/v1/embeddings \"HTTP/1.1 200 OK\"\n"
     ]
    },
    {
     "name": "stderr",
     "output_type": "stream",
     "text": [
      "\n",
      "\u001b[A"
     ]
    },
    {
     "name": "stdout",
     "output_type": "stream",
     "text": [
      "21:26:01 httpx INFO   HTTP Request: POST https://api.openai.com/v1/embeddings \"HTTP/1.1 200 OK\"\n"
     ]
    },
    {
     "name": "stderr",
     "output_type": "stream",
     "text": [
      "\n",
      "\u001b[A"
     ]
    },
    {
     "name": "stdout",
     "output_type": "stream",
     "text": [
      "21:26:04 httpx INFO   HTTP Request: POST https://api.openai.com/v1/embeddings \"HTTP/1.1 200 OK\"\n"
     ]
    },
    {
     "name": "stderr",
     "output_type": "stream",
     "text": [
      "\n",
      "\u001b[A"
     ]
    },
    {
     "name": "stdout",
     "output_type": "stream",
     "text": [
      "21:26:09 httpx INFO   HTTP Request: POST https://api.openai.com/v1/embeddings \"HTTP/1.1 200 OK\"\n"
     ]
    },
    {
     "name": "stderr",
     "output_type": "stream",
     "text": [
      "\n",
      "\u001b[A"
     ]
    },
    {
     "name": "stdout",
     "output_type": "stream",
     "text": [
      "21:26:12 httpx INFO   HTTP Request: POST https://api.openai.com/v1/embeddings \"HTTP/1.1 200 OK\"\n"
     ]
    },
    {
     "name": "stderr",
     "output_type": "stream",
     "text": [
      "\n",
      "30it [01:57,  3.91s/it]\n",
      "Embedding: 100%|██████████| 30000/30000 [01:57<00:00, 255.53emb/s]\n"
     ]
    }
   ],
   "source": [
    "timer=Timer()\n",
    "\n",
    "with timer.timeit(\"Build Routes\"):\n",
    "    routes = build_routes_from_hf_data(dataset=train_data, text_col=dataset_text_col, label_col=dataset_label_col, distance_threshold=0.9)\n",
    "\n",
    "vectorizer=HighVisOpenAITextVectorizer(\n",
    "    model=router_config[\"vectorizer_config\"][\"OPENAI_MODEL\"],\n",
    "    api_config={\"api_key\": router_config[\"vectorizer_config\"][\"OPENAI_API_KEY\"]},\n",
    "    cache=EmbeddingsCache(redis_url=REDIS_URL)\n",
    ")\n",
    "\n",
    "with timer.timeit(\"Build Router\"):\n",
    "    router = BigBatchSemanticRouter(\n",
    "        name=router_config[\"name\"],\n",
    "        routes=routes,\n",
    "        vectorizer=vectorizer,\n",
    "        redis_url=REDIS_URL,\n",
    "        overwrite=True\n",
    "    )"
   ]
  },
  {
   "cell_type": "code",
   "execution_count": null,
   "id": "b72ecc90",
   "metadata": {},
   "outputs": [],
   "source": [
    "''' \n",
    "Optional for now\n",
    "'''\n",
    "\n",
    "# train_data_arr=[{\"query\": train_data[dataset_text_col][i], \"query_match\":str(train_data[dataset_label_col][i])} for i in range(len(train_data))]\n",
    "# optimizer = BulkRouterThresholdOptimizer(router, train_data_arr)\n",
    "# optimizer.optimize()"
   ]
  },
  {
   "cell_type": "code",
   "execution_count": 109,
   "id": "f437f660",
   "metadata": {},
   "outputs": [
    {
     "name": "stderr",
     "output_type": "stream",
     "text": [
      "\n",
      "\u001b[A"
     ]
    },
    {
     "name": "stdout",
     "output_type": "stream",
     "text": [
      "21:26:50 httpx INFO   HTTP Request: POST https://api.openai.com/v1/embeddings \"HTTP/1.1 200 OK\"\n"
     ]
    },
    {
     "name": "stderr",
     "output_type": "stream",
     "text": [
      "\n",
      "\u001b[A"
     ]
    },
    {
     "name": "stdout",
     "output_type": "stream",
     "text": [
      "21:26:53 httpx INFO   HTTP Request: POST https://api.openai.com/v1/embeddings \"HTTP/1.1 200 OK\"\n"
     ]
    },
    {
     "name": "stderr",
     "output_type": "stream",
     "text": [
      "\n",
      "\u001b[A"
     ]
    },
    {
     "name": "stdout",
     "output_type": "stream",
     "text": [
      "21:26:57 httpx INFO   HTTP Request: POST https://api.openai.com/v1/embeddings \"HTTP/1.1 200 OK\"\n"
     ]
    },
    {
     "name": "stderr",
     "output_type": "stream",
     "text": [
      "\n",
      "\u001b[A"
     ]
    },
    {
     "name": "stdout",
     "output_type": "stream",
     "text": [
      "21:27:01 httpx INFO   HTTP Request: POST https://api.openai.com/v1/embeddings \"HTTP/1.1 200 OK\"\n"
     ]
    },
    {
     "name": "stderr",
     "output_type": "stream",
     "text": [
      "\n",
      "\u001b[A"
     ]
    },
    {
     "name": "stdout",
     "output_type": "stream",
     "text": [
      "21:27:04 httpx INFO   HTTP Request: POST https://api.openai.com/v1/embeddings \"HTTP/1.1 200 OK\"\n"
     ]
    },
    {
     "name": "stderr",
     "output_type": "stream",
     "text": [
      "\n",
      "\u001b[A"
     ]
    },
    {
     "name": "stdout",
     "output_type": "stream",
     "text": [
      "21:27:09 httpx INFO   HTTP Request: POST https://api.openai.com/v1/embeddings \"HTTP/1.1 200 OK\"\n"
     ]
    },
    {
     "name": "stderr",
     "output_type": "stream",
     "text": [
      "\n",
      "\u001b[A"
     ]
    },
    {
     "name": "stdout",
     "output_type": "stream",
     "text": [
      "21:27:12 httpx INFO   HTTP Request: POST https://api.openai.com/v1/embeddings \"HTTP/1.1 200 OK\"\n"
     ]
    },
    {
     "name": "stderr",
     "output_type": "stream",
     "text": [
      "\n",
      "\u001b[A"
     ]
    },
    {
     "name": "stdout",
     "output_type": "stream",
     "text": [
      "21:27:15 httpx INFO   HTTP Request: POST https://api.openai.com/v1/embeddings \"HTTP/1.1 200 OK\"\n"
     ]
    },
    {
     "name": "stderr",
     "output_type": "stream",
     "text": [
      "\n",
      "8it [00:27,  3.42s/it]\n",
      "Embedding: 100%|██████████| 7600/7600 [00:27<00:00, 277.55emb/s]\n",
      "Assessing: 100%|██████████| 7600/7600 [09:48<00:00, 12.91pred/s]\n"
     ]
    }
   ],
   "source": [
    "with timer.timeit(\"Predict using test data\"):\n",
    "    test_statements=[str(i) for i in test_data[test_text_col]]\n",
    "    preds = router.bulk_route(statements=test_statements, max_k=1)"
   ]
  },
  {
   "cell_type": "code",
   "execution_count": null,
   "id": "193d3161",
   "metadata": {},
   "outputs": [
    {
     "data": {
      "text/plain": [
       "[[],\n",
       " [RouteMatch(name='3', distance=0.82392642277)],\n",
       " [RouteMatch(name='3', distance=0.847164654547)],\n",
       " [RouteMatch(name='3', distance=0.845529499289)],\n",
       " [RouteMatch(name='2', distance=0.848350499137)],\n",
       " [RouteMatch(name='3', distance=0.827292344786)],\n",
       " [RouteMatch(name='3', distance=0.788090894134)],\n",
       " [RouteMatch(name='3', distance=0.841644431344)],\n",
       " [RouteMatch(name='3', distance=0.833226804126)],\n",
       " [RouteMatch(name='3', distance=0.832765653681)],\n",
       " [RouteMatch(name='3', distance=0.783161275414)],\n",
       " [RouteMatch(name='3', distance=0.790653759802)],\n",
       " [RouteMatch(name='3', distance=0.779528571122)],\n",
       " [RouteMatch(name='3', distance=0.843359852934)],\n",
       " [RouteMatch(name='3', distance=0.853424395053)],\n",
       " [RouteMatch(name='3', distance=0.855540257894)],\n",
       " [RouteMatch(name='3', distance=0.843433438581)],\n",
       " [RouteMatch(name='3', distance=0.833426163121)],\n",
       " [RouteMatch(name='3', distance=0.843502744581)],\n",
       " [RouteMatch(name='2', distance=0.773682928532)],\n",
       " [RouteMatch(name='3', distance=0.785938775476)],\n",
       " [RouteMatch(name='3', distance=0.791364194)],\n",
       " [RouteMatch(name='3', distance=0.802012388131)],\n",
       " [RouteMatch(name='2', distance=0.821506108287)],\n",
       " [RouteMatch(name='2', distance=0.771973733545)],\n",
       " [RouteMatch(name='3', distance=0.810184416716)],\n",
       " [RouteMatch(name='1', distance=0.825013982667)],\n",
       " [RouteMatch(name='1', distance=0.794793407998)],\n",
       " [RouteMatch(name='1', distance=0.802984991498)],\n",
       " [RouteMatch(name='1', distance=0.81751434359)],\n",
       " [RouteMatch(name='1', distance=0.780348524441)],\n",
       " [RouteMatch(name='1', distance=0.795594999799)],\n",
       " [RouteMatch(name='0', distance=0.833642539395)],\n",
       " [RouteMatch(name='2', distance=0.82634407895)],\n",
       " [RouteMatch(name='0', distance=0.769193759901)],\n",
       " [RouteMatch(name='0', distance=0.84883519136)],\n",
       " [RouteMatch(name='0', distance=0.818135955265)],\n",
       " [RouteMatch(name='0', distance=0.840800186949)],\n",
       " [RouteMatch(name='0', distance=0.797367975835)],\n",
       " [RouteMatch(name='0', distance=0.797193356971)],\n",
       " [RouteMatch(name='1', distance=0.771130235745)],\n",
       " [RouteMatch(name='2', distance=0.790387399632)],\n",
       " [RouteMatch(name='0', distance=0.814248720236)],\n",
       " [RouteMatch(name='2', distance=0.792376464089)],\n",
       " [RouteMatch(name='1', distance=0.780752124245)],\n",
       " [RouteMatch(name='1', distance=0.789238699437)],\n",
       " [RouteMatch(name='0', distance=0.822874090239)],\n",
       " [RouteMatch(name='2', distance=0.777925367389)],\n",
       " [RouteMatch(name='0', distance=0.83053954624)],\n",
       " [RouteMatch(name='1', distance=0.803010284268)],\n",
       " [RouteMatch(name='0', distance=0.832854248195)],\n",
       " [RouteMatch(name='1', distance=0.765118750171)],\n",
       " [RouteMatch(name='0', distance=0.808960311892)],\n",
       " [RouteMatch(name='2', distance=0.798798572641)],\n",
       " [RouteMatch(name='2', distance=0.745022627621)],\n",
       " [RouteMatch(name='3', distance=0.854575146309)],\n",
       " [RouteMatch(name='2', distance=0.807752177813)],\n",
       " [RouteMatch(name='0', distance=0.77771576811)],\n",
       " [RouteMatch(name='2', distance=0.754406794219)],\n",
       " [RouteMatch(name='2', distance=0.766858383152)],\n",
       " [RouteMatch(name='1', distance=0.797045834863)],\n",
       " [RouteMatch(name='1', distance=0.801495150226)],\n",
       " [RouteMatch(name='1', distance=0.820547879032)],\n",
       " [RouteMatch(name='3', distance=0.792639069442)],\n",
       " [RouteMatch(name='0', distance=0.81543536184)],\n",
       " [RouteMatch(name='3', distance=0.825393557526)],\n",
       " [RouteMatch(name='0', distance=0.838329761968)],\n",
       " [RouteMatch(name='1', distance=0.836143988166)],\n",
       " [RouteMatch(name='1', distance=0.820389004661)],\n",
       " [RouteMatch(name='0', distance=0.832109372903)],\n",
       " [RouteMatch(name='3', distance=0.796935050793)],\n",
       " [RouteMatch(name='3', distance=0.814534992622)],\n",
       " [RouteMatch(name='3', distance=0.831676904273)],\n",
       " [RouteMatch(name='0', distance=0.850475457146)],\n",
       " [RouteMatch(name='0', distance=0.832368136012)],\n",
       " [RouteMatch(name='1', distance=0.821142514763)],\n",
       " [RouteMatch(name='0', distance=0.800260491688)],\n",
       " [RouteMatch(name='1', distance=0.820841641522)],\n",
       " [RouteMatch(name='0', distance=0.817970197863)],\n",
       " [RouteMatch(name='1', distance=0.806253385506)],\n",
       " [RouteMatch(name='0', distance=0.81145699131)],\n",
       " [RouteMatch(name='1', distance=0.816015838158)],\n",
       " [RouteMatch(name='2', distance=0.756960062592)],\n",
       " [RouteMatch(name='3', distance=0.773906552853)],\n",
       " [RouteMatch(name='0', distance=0.823577661588)],\n",
       " [RouteMatch(name='0', distance=0.823631058122)],\n",
       " [RouteMatch(name='2', distance=0.754643938116)],\n",
       " [RouteMatch(name='1', distance=0.827741958076)],\n",
       " [RouteMatch(name='1', distance=0.796720085052)],\n",
       " [RouteMatch(name='2', distance=0.795713800113)],\n",
       " [RouteMatch(name='0', distance=0.793883887663)],\n",
       " [RouteMatch(name='2', distance=0.82428682831)],\n",
       " [RouteMatch(name='3', distance=0.781717912185)],\n",
       " [RouteMatch(name='2', distance=0.73803430182)],\n",
       " [RouteMatch(name='1', distance=0.817575801025)],\n",
       " [RouteMatch(name='1', distance=0.807695499722)],\n",
       " [RouteMatch(name='1', distance=0.809083218419)],\n",
       " [RouteMatch(name='2', distance=0.734504096848)],\n",
       " [RouteMatch(name='0', distance=0.774709626823)],\n",
       " [RouteMatch(name='2', distance=0.753859830986)],\n",
       " [RouteMatch(name='1', distance=0.825840063773)],\n",
       " [RouteMatch(name='2', distance=0.765768563013)],\n",
       " [RouteMatch(name='3', distance=0.813657245227)],\n",
       " [RouteMatch(name='2', distance=0.799121503061)],\n",
       " [RouteMatch(name='0', distance=0.814588920746)],\n",
       " [RouteMatch(name='1', distance=0.801888554694)],\n",
       " [RouteMatch(name='2', distance=0.746710003412)],\n",
       " [RouteMatch(name='1', distance=0.823566376564)],\n",
       " [RouteMatch(name='0', distance=0.786513235629)],\n",
       " [RouteMatch(name='3', distance=0.80333686655)],\n",
       " [RouteMatch(name='3', distance=0.783580129881)],\n",
       " [RouteMatch(name='3', distance=0.796569244993)],\n",
       " [RouteMatch(name='3', distance=0.773410931791)],\n",
       " [RouteMatch(name='3', distance=0.783262784394)],\n",
       " [RouteMatch(name='3', distance=0.841839095822)],\n",
       " [RouteMatch(name='1', distance=0.813693375476)],\n",
       " [RouteMatch(name='3', distance=0.789471297509)],\n",
       " [RouteMatch(name='3', distance=0.810489153281)],\n",
       " [RouteMatch(name='2', distance=0.774841273296)],\n",
       " [RouteMatch(name='1', distance=0.801278156935)],\n",
       " [RouteMatch(name='2', distance=0.774118811008)],\n",
       " [RouteMatch(name='1', distance=0.801600377689)],\n",
       " [RouteMatch(name='3', distance=0.784617915772)],\n",
       " [RouteMatch(name='0', distance=0.794455903962)],\n",
       " [RouteMatch(name='3', distance=0.769116040671)],\n",
       " [RouteMatch(name='2', distance=0.839427417441)],\n",
       " [RouteMatch(name='1', distance=0.828731280149)],\n",
       " [RouteMatch(name='1', distance=0.766796632936)],\n",
       " [RouteMatch(name='1', distance=0.772644660051)],\n",
       " [RouteMatch(name='0', distance=0.76582345616)],\n",
       " [RouteMatch(name='0', distance=0.805668461689)],\n",
       " [RouteMatch(name='0', distance=0.816094441465)],\n",
       " [RouteMatch(name='1', distance=0.785901784777)],\n",
       " [RouteMatch(name='0', distance=0.827690644565)],\n",
       " [RouteMatch(name='1', distance=0.84172837528)],\n",
       " [RouteMatch(name='1', distance=0.806517378231)],\n",
       " [RouteMatch(name='0', distance=0.849982016922)],\n",
       " [RouteMatch(name='1', distance=0.788688227138)],\n",
       " [RouteMatch(name='1', distance=0.819967323277)],\n",
       " [RouteMatch(name='0', distance=0.822889753853)],\n",
       " [RouteMatch(name='1', distance=0.81702996518)],\n",
       " [RouteMatch(name='0', distance=0.80987128444)],\n",
       " [RouteMatch(name='1', distance=0.790360393561)],\n",
       " [RouteMatch(name='0', distance=0.797876259658)],\n",
       " [RouteMatch(name='0', distance=0.80018125756)],\n",
       " [RouteMatch(name='0', distance=0.791123141452)],\n",
       " [RouteMatch(name='1', distance=0.788483647224)],\n",
       " [RouteMatch(name='2', distance=0.756126958972)],\n",
       " [RouteMatch(name='1', distance=0.792593716269)],\n",
       " [RouteMatch(name='1', distance=0.815433978946)],\n",
       " [RouteMatch(name='1', distance=0.786146086953)],\n",
       " [RouteMatch(name='0', distance=0.824755400077)],\n",
       " [RouteMatch(name='1', distance=0.800064347187)],\n",
       " [RouteMatch(name='0', distance=0.797498951008)],\n",
       " [RouteMatch(name='2', distance=0.787157559106)],\n",
       " [RouteMatch(name='3', distance=0.85662866893)],\n",
       " [RouteMatch(name='2', distance=0.760403195543)],\n",
       " [RouteMatch(name='1', distance=0.797280530537)],\n",
       " [RouteMatch(name='1', distance=0.814039636308)],\n",
       " [RouteMatch(name='0', distance=0.782871910745)],\n",
       " [RouteMatch(name='1', distance=0.765543894807)],\n",
       " [RouteMatch(name='2', distance=0.774098324957)],\n",
       " [RouteMatch(name='3', distance=0.798022797813)],\n",
       " [RouteMatch(name='0', distance=0.796244470637)],\n",
       " [RouteMatch(name='0', distance=0.805274377162)],\n",
       " [RouteMatch(name='2', distance=0.797322618004)],\n",
       " [RouteMatch(name='2', distance=0.80081547831)],\n",
       " [RouteMatch(name='2', distance=0.786857561454)],\n",
       " [RouteMatch(name='1', distance=0.825972805445)],\n",
       " [RouteMatch(name='0', distance=0.791381608286)],\n",
       " [RouteMatch(name='3', distance=0.829780773029)],\n",
       " [RouteMatch(name='3', distance=0.838766105071)],\n",
       " [RouteMatch(name='2', distance=0.767151398718)],\n",
       " [RouteMatch(name='3', distance=0.813505889943)],\n",
       " [RouteMatch(name='0', distance=0.812846776401)],\n",
       " [RouteMatch(name='2', distance=0.854134210386)],\n",
       " [RouteMatch(name='3', distance=0.789422630763)],\n",
       " [RouteMatch(name='1', distance=0.809771340188)],\n",
       " [RouteMatch(name='3', distance=0.803633184505)],\n",
       " [RouteMatch(name='1', distance=0.819341718263)],\n",
       " [RouteMatch(name='2', distance=0.731026672906)],\n",
       " [RouteMatch(name='1', distance=0.82794539807)],\n",
       " [RouteMatch(name='1', distance=0.823263385594)],\n",
       " [RouteMatch(name='3', distance=0.797396065274)],\n",
       " [RouteMatch(name='2', distance=0.819331432367)],\n",
       " [RouteMatch(name='0', distance=0.83051020125)],\n",
       " [RouteMatch(name='3', distance=0.828766337762)],\n",
       " [RouteMatch(name='0', distance=0.806369399378)],\n",
       " [RouteMatch(name='1', distance=0.818029996695)],\n",
       " [RouteMatch(name='3', distance=0.788738515781)],\n",
       " [RouteMatch(name='3', distance=0.747082676225)],\n",
       " [RouteMatch(name='0', distance=0.82667591688)],\n",
       " [RouteMatch(name='0', distance=0.777018680956)],\n",
       " [RouteMatch(name='0', distance=0.779988346008)],\n",
       " [RouteMatch(name='2', distance=0.768231304981)],\n",
       " [RouteMatch(name='2', distance=0.813476051602)],\n",
       " [RouteMatch(name='2', distance=0.748529160263)],\n",
       " [RouteMatch(name='1', distance=0.813633341172)],\n",
       " [RouteMatch(name='2', distance=0.763142165471)],\n",
       " [RouteMatch(name='1', distance=0.797449095307)],\n",
       " [RouteMatch(name='2', distance=0.858852966413)],\n",
       " [RouteMatch(name='3', distance=0.796387757879)],\n",
       " [RouteMatch(name='3', distance=0.825176111199)],\n",
       " [RouteMatch(name='0', distance=0.76833530796)],\n",
       " [RouteMatch(name='1', distance=0.810429082301)],\n",
       " [RouteMatch(name='1', distance=0.794403316027)],\n",
       " [RouteMatch(name='1', distance=0.801556747455)],\n",
       " [RouteMatch(name='2', distance=0.762849762015)],\n",
       " [RouteMatch(name='1', distance=0.794985122264)],\n",
       " [RouteMatch(name='2', distance=0.841029158949)],\n",
       " [RouteMatch(name='1', distance=0.805211229524)],\n",
       " [RouteMatch(name='0', distance=0.833042732114)],\n",
       " [],\n",
       " [RouteMatch(name='0', distance=0.827369869822)],\n",
       " [RouteMatch(name='1', distance=0.810195381434)],\n",
       " [RouteMatch(name='0', distance=0.847969345394)],\n",
       " [RouteMatch(name='2', distance=0.786267338497)],\n",
       " [RouteMatch(name='2', distance=0.772174736435)],\n",
       " [RouteMatch(name='3', distance=0.80375731322)],\n",
       " [RouteMatch(name='1', distance=0.833668523847)],\n",
       " [RouteMatch(name='1', distance=0.785863271856)],\n",
       " [RouteMatch(name='0', distance=0.790409361088)],\n",
       " [RouteMatch(name='1', distance=0.854294153636)],\n",
       " [RouteMatch(name='1', distance=0.826152901853)],\n",
       " [RouteMatch(name='2', distance=0.792282606237)],\n",
       " [RouteMatch(name='2', distance=0.759236157495)],\n",
       " [RouteMatch(name='0', distance=0.818912343398)],\n",
       " [RouteMatch(name='1', distance=0.779335751214)],\n",
       " [RouteMatch(name='2', distance=0.816244126031)],\n",
       " [RouteMatch(name='0', distance=0.795514289812)],\n",
       " [RouteMatch(name='1', distance=0.784038903051)],\n",
       " [RouteMatch(name='1', distance=0.79938782357)],\n",
       " [RouteMatch(name='2', distance=0.797087565331)],\n",
       " [RouteMatch(name='3', distance=0.780086000875)],\n",
       " [RouteMatch(name='3', distance=0.837415456433)],\n",
       " [RouteMatch(name='1', distance=0.82379832617)],\n",
       " [RouteMatch(name='2', distance=0.775493900215)],\n",
       " [RouteMatch(name='1', distance=0.819977729657)],\n",
       " [RouteMatch(name='0', distance=0.796021819085)],\n",
       " [RouteMatch(name='2', distance=0.771299097332)],\n",
       " [RouteMatch(name='3', distance=0.793642531336)],\n",
       " [RouteMatch(name='1', distance=0.780226410584)],\n",
       " [RouteMatch(name='0', distance=0.814547566471)],\n",
       " [RouteMatch(name='3', distance=0.789199297248)],\n",
       " [RouteMatch(name='2', distance=0.776945620815)],\n",
       " [RouteMatch(name='2', distance=0.820916990629)],\n",
       " [RouteMatch(name='3', distance=0.823249410816)],\n",
       " [RouteMatch(name='3', distance=0.839495062221)],\n",
       " [RouteMatch(name='2', distance=0.813749571959)],\n",
       " [RouteMatch(name='0', distance=0.771897501843)],\n",
       " [RouteMatch(name='2', distance=0.787395772779)],\n",
       " [RouteMatch(name='0', distance=0.802739997917)],\n",
       " [RouteMatch(name='1', distance=0.80602043705)],\n",
       " [RouteMatch(name='2', distance=0.775436994429)],\n",
       " [RouteMatch(name='2', distance=0.777654499748)],\n",
       " [RouteMatch(name='3', distance=0.856184467677)],\n",
       " [RouteMatch(name='2', distance=0.771917873439)],\n",
       " [RouteMatch(name='3', distance=0.814411840711)],\n",
       " [RouteMatch(name='2', distance=0.761083359467)],\n",
       " [RouteMatch(name='3', distance=0.805870987726)],\n",
       " [RouteMatch(name='1', distance=0.805705479777)],\n",
       " [RouteMatch(name='0', distance=0.783559860036)],\n",
       " [RouteMatch(name='2', distance=0.816586140091)],\n",
       " [RouteMatch(name='3', distance=0.823158041817)],\n",
       " [RouteMatch(name='3', distance=0.850185711261)],\n",
       " [RouteMatch(name='0', distance=0.814776797188)],\n",
       " [RouteMatch(name='1', distance=0.818564993631)],\n",
       " [RouteMatch(name='3', distance=0.794806983471)],\n",
       " [RouteMatch(name='1', distance=0.81104187054)],\n",
       " [RouteMatch(name='1', distance=0.809310628627)],\n",
       " [RouteMatch(name='1', distance=0.820012275909)],\n",
       " [RouteMatch(name='0', distance=0.822840872392)],\n",
       " [RouteMatch(name='3', distance=0.8129855921)],\n",
       " [RouteMatch(name='3', distance=0.817033501666)],\n",
       " [RouteMatch(name='1', distance=0.821736288576)],\n",
       " [RouteMatch(name='3', distance=0.832444794842)],\n",
       " [RouteMatch(name='3', distance=0.840423660994)],\n",
       " [RouteMatch(name='1', distance=0.76575449966)],\n",
       " [RouteMatch(name='2', distance=0.804373469717)],\n",
       " [RouteMatch(name='3', distance=0.810870196346)],\n",
       " [RouteMatch(name='2', distance=0.814110312058)],\n",
       " [RouteMatch(name='1', distance=0.823588891378)],\n",
       " [RouteMatch(name='1', distance=0.795295862519)],\n",
       " [RouteMatch(name='3', distance=0.82272989705)],\n",
       " [RouteMatch(name='1', distance=0.80996029719)],\n",
       " [RouteMatch(name='0', distance=0.781685132792)],\n",
       " [RouteMatch(name='0', distance=0.778742035396)],\n",
       " [RouteMatch(name='2', distance=0.783126759178)],\n",
       " [RouteMatch(name='2', distance=0.83393880128)],\n",
       " [RouteMatch(name='1', distance=0.78914661443)],\n",
       " [RouteMatch(name='1', distance=0.800212592776)],\n",
       " [RouteMatch(name='3', distance=0.860734318488)],\n",
       " [RouteMatch(name='3', distance=0.803969836945)],\n",
       " [RouteMatch(name='3', distance=0.783990988941)],\n",
       " [RouteMatch(name='1', distance=0.803999773432)],\n",
       " [RouteMatch(name='2', distance=0.833768123208)],\n",
       " [RouteMatch(name='0', distance=0.789108524609)],\n",
       " [RouteMatch(name='2', distance=0.769020062396)],\n",
       " [RouteMatch(name='1', distance=0.818990798687)],\n",
       " [RouteMatch(name='2', distance=0.797980690341)],\n",
       " [RouteMatch(name='1', distance=0.796928807639)],\n",
       " [RouteMatch(name='2', distance=0.752393585899)],\n",
       " [RouteMatch(name='2', distance=0.760419628573)],\n",
       " [RouteMatch(name='2', distance=0.777786947112)],\n",
       " [RouteMatch(name='2', distance=0.737613746662)],\n",
       " [RouteMatch(name='1', distance=0.813060273066)],\n",
       " [RouteMatch(name='3', distance=0.836200864373)],\n",
       " [RouteMatch(name='3', distance=0.810438966627)],\n",
       " [RouteMatch(name='1', distance=0.798442530744)],\n",
       " [RouteMatch(name='2', distance=0.799603893001)],\n",
       " [RouteMatch(name='2', distance=0.756446054691)],\n",
       " [RouteMatch(name='1', distance=0.81576188237)],\n",
       " [RouteMatch(name='3', distance=0.847357753742)],\n",
       " [RouteMatch(name='2', distance=0.828905936362)],\n",
       " [RouteMatch(name='2', distance=0.810387911345)],\n",
       " [RouteMatch(name='0', distance=0.782297482736)],\n",
       " [RouteMatch(name='2', distance=0.770070422399)],\n",
       " [RouteMatch(name='2', distance=0.795850524114)],\n",
       " [RouteMatch(name='1', distance=0.80537428838)],\n",
       " [RouteMatch(name='2', distance=0.773523014652)],\n",
       " [RouteMatch(name='2', distance=0.759055828079)],\n",
       " [RouteMatch(name='0', distance=0.787872054185)],\n",
       " [RouteMatch(name='1', distance=0.834538171553)],\n",
       " [RouteMatch(name='2', distance=0.79426188342)],\n",
       " [RouteMatch(name='1', distance=0.788922786291)],\n",
       " [RouteMatch(name='3', distance=0.783685596466)],\n",
       " [RouteMatch(name='0', distance=0.834733706639)],\n",
       " [RouteMatch(name='0', distance=0.828065478871)],\n",
       " [RouteMatch(name='3', distance=0.823918526894)],\n",
       " [RouteMatch(name='3', distance=0.790376582896)],\n",
       " [RouteMatch(name='3', distance=0.842075749622)],\n",
       " [RouteMatch(name='1', distance=0.813299505924)],\n",
       " [RouteMatch(name='0', distance=0.813824253879)],\n",
       " [RouteMatch(name='0', distance=0.775902041437)],\n",
       " [RouteMatch(name='1', distance=0.818562552724)],\n",
       " [RouteMatch(name='0', distance=0.77972370856)],\n",
       " [RouteMatch(name='0', distance=0.829298326307)],\n",
       " [RouteMatch(name='2', distance=0.78050531863)],\n",
       " [RouteMatch(name='1', distance=0.797192070656)],\n",
       " [],\n",
       " [RouteMatch(name='3', distance=0.832689524826)],\n",
       " [RouteMatch(name='1', distance=0.808441170805)],\n",
       " [RouteMatch(name='0', distance=0.78652317784)],\n",
       " [RouteMatch(name='1', distance=0.794800764018)],\n",
       " [RouteMatch(name='3', distance=0.849755339163)],\n",
       " [RouteMatch(name='2', distance=0.795867385111)],\n",
       " [RouteMatch(name='2', distance=0.749461468636)],\n",
       " [RouteMatch(name='1', distance=0.829078764755)],\n",
       " [RouteMatch(name='1', distance=0.807561037521)],\n",
       " [RouteMatch(name='2', distance=0.787816372401)],\n",
       " [RouteMatch(name='1', distance=0.780778670261)],\n",
       " [RouteMatch(name='0', distance=0.803927604388)],\n",
       " [RouteMatch(name='0', distance=0.799012769663)],\n",
       " [RouteMatch(name='1', distance=0.828395281898)],\n",
       " [RouteMatch(name='0', distance=0.781906818628)],\n",
       " [RouteMatch(name='1', distance=0.823150040357)],\n",
       " [RouteMatch(name='1', distance=0.798662931919)],\n",
       " [RouteMatch(name='2', distance=0.812801836137)],\n",
       " [RouteMatch(name='1', distance=0.778393721344)],\n",
       " [RouteMatch(name='1', distance=0.792352690208)],\n",
       " [RouteMatch(name='1', distance=0.812535404503)],\n",
       " [RouteMatch(name='0', distance=0.827576022571)],\n",
       " [RouteMatch(name='2', distance=0.786047033341)],\n",
       " [RouteMatch(name='0', distance=0.83108064458)],\n",
       " [RouteMatch(name='0', distance=0.786261690497)],\n",
       " [RouteMatch(name='3', distance=0.844906312527)],\n",
       " [RouteMatch(name='1', distance=0.812039788423)],\n",
       " [RouteMatch(name='2', distance=0.781785001534)],\n",
       " [RouteMatch(name='0', distance=0.823965483228)],\n",
       " [RouteMatch(name='1', distance=0.773394518946)],\n",
       " [RouteMatch(name='1', distance=0.833949152026)],\n",
       " [RouteMatch(name='0', distance=0.855577729008)],\n",
       " [RouteMatch(name='1', distance=0.797283866156)],\n",
       " [RouteMatch(name='1', distance=0.81349553269)],\n",
       " [RouteMatch(name='1', distance=0.80692456902)],\n",
       " [RouteMatch(name='3', distance=0.842959597417)],\n",
       " [RouteMatch(name='1', distance=0.826881613019)],\n",
       " [RouteMatch(name='1', distance=0.80282511266)],\n",
       " [RouteMatch(name='2', distance=0.761598367998)],\n",
       " [RouteMatch(name='0', distance=0.819720856713)],\n",
       " [RouteMatch(name='1', distance=0.790110124371)],\n",
       " [RouteMatch(name='1', distance=0.811964881095)],\n",
       " [RouteMatch(name='3', distance=0.846659230255)],\n",
       " [RouteMatch(name='1', distance=0.801986775978)],\n",
       " [RouteMatch(name='2', distance=0.780228735433)],\n",
       " [RouteMatch(name='1', distance=0.788675293858)],\n",
       " [RouteMatch(name='1', distance=0.793504505238)],\n",
       " [RouteMatch(name='1', distance=0.790651325891)],\n",
       " [RouteMatch(name='0', distance=0.790598435414)],\n",
       " [RouteMatch(name='0', distance=0.816934651045)],\n",
       " [RouteMatch(name='0', distance=0.822610545789)],\n",
       " [RouteMatch(name='1', distance=0.80007639344)],\n",
       " [RouteMatch(name='0', distance=0.797252020825)],\n",
       " [RouteMatch(name='0', distance=0.772526098295)],\n",
       " [RouteMatch(name='0', distance=0.797639362937)],\n",
       " [RouteMatch(name='1', distance=0.811919228957)],\n",
       " [RouteMatch(name='1', distance=0.775810440103)],\n",
       " [RouteMatch(name='3', distance=0.79200470314)],\n",
       " [RouteMatch(name='1', distance=0.781017362559)],\n",
       " [RouteMatch(name='2', distance=0.769843504314)],\n",
       " [RouteMatch(name='3', distance=0.842648539532)],\n",
       " [RouteMatch(name='1', distance=0.771119758872)],\n",
       " [RouteMatch(name='0', distance=0.816656582162)],\n",
       " [RouteMatch(name='0', distance=0.7857444578)],\n",
       " [RouteMatch(name='0', distance=0.832151428113)],\n",
       " [RouteMatch(name='2', distance=0.777926703886)],\n",
       " [RouteMatch(name='2', distance=0.81134435181)],\n",
       " [RouteMatch(name='2', distance=0.785174726462)],\n",
       " [RouteMatch(name='0', distance=0.823979154274)],\n",
       " [RouteMatch(name='1', distance=0.79575665525)],\n",
       " [RouteMatch(name='2', distance=0.782601222107)],\n",
       " [RouteMatch(name='1', distance=0.823703956596)],\n",
       " [RouteMatch(name='0', distance=0.802472078108)],\n",
       " [RouteMatch(name='0', distance=0.808080064864)],\n",
       " [RouteMatch(name='0', distance=0.770982635905)],\n",
       " [RouteMatch(name='1', distance=0.838806728139)],\n",
       " [RouteMatch(name='1', distance=0.780911244096)],\n",
       " [RouteMatch(name='2', distance=0.80782603227)],\n",
       " [RouteMatch(name='2', distance=0.779328738164)],\n",
       " [RouteMatch(name='0', distance=0.814892685952)],\n",
       " [RouteMatch(name='0', distance=0.832501120107)],\n",
       " [RouteMatch(name='1', distance=0.818912133245)],\n",
       " [RouteMatch(name='2', distance=0.756662485717)],\n",
       " [RouteMatch(name='3', distance=0.790441716533)],\n",
       " [RouteMatch(name='3', distance=0.812527820228)],\n",
       " [RouteMatch(name='0', distance=0.802161097414)],\n",
       " [RouteMatch(name='2', distance=0.792299932625)],\n",
       " [RouteMatch(name='2', distance=0.833982953462)],\n",
       " [RouteMatch(name='3', distance=0.789536525242)],\n",
       " [RouteMatch(name='3', distance=0.8200786579)],\n",
       " [RouteMatch(name='0', distance=0.776706461769)],\n",
       " [RouteMatch(name='1', distance=0.801279309833)],\n",
       " [RouteMatch(name='1', distance=0.808995694259)],\n",
       " [RouteMatch(name='2', distance=0.797449704489)],\n",
       " [RouteMatch(name='2', distance=0.83253208837)],\n",
       " [RouteMatch(name='3', distance=0.809433296154)],\n",
       " [RouteMatch(name='2', distance=0.838214844021)],\n",
       " [RouteMatch(name='2', distance=0.853009167553)],\n",
       " [RouteMatch(name='3', distance=0.780567874232)],\n",
       " [RouteMatch(name='3', distance=0.784101835906)],\n",
       " [RouteMatch(name='2', distance=0.820528909491)],\n",
       " [RouteMatch(name='3', distance=0.785325576922)],\n",
       " [RouteMatch(name='0', distance=0.839092092549)],\n",
       " [RouteMatch(name='2', distance=0.783588493528)],\n",
       " [RouteMatch(name='0', distance=0.80254613645)],\n",
       " [RouteMatch(name='3', distance=0.841135037679)],\n",
       " [RouteMatch(name='2', distance=0.795894802153)],\n",
       " [RouteMatch(name='3', distance=0.812024096453)],\n",
       " [RouteMatch(name='2', distance=0.783333190404)],\n",
       " [RouteMatch(name='2', distance=0.828816591102)],\n",
       " [RouteMatch(name='1', distance=0.780729608287)],\n",
       " [RouteMatch(name='0', distance=0.792566538291)],\n",
       " [RouteMatch(name='2', distance=0.727225993883)],\n",
       " [RouteMatch(name='3', distance=0.790412839411)],\n",
       " [RouteMatch(name='3', distance=0.794352942186)],\n",
       " [RouteMatch(name='1', distance=0.8107996188)],\n",
       " [RouteMatch(name='0', distance=0.826158788548)],\n",
       " [RouteMatch(name='3', distance=0.804566912229)],\n",
       " [RouteMatch(name='1', distance=0.813575380126)],\n",
       " [RouteMatch(name='2', distance=0.825349491392)],\n",
       " [RouteMatch(name='1', distance=0.79201183605)],\n",
       " [RouteMatch(name='1', distance=0.817269798562)],\n",
       " [RouteMatch(name='3', distance=0.837371933594)],\n",
       " [RouteMatch(name='1', distance=0.808495932596)],\n",
       " [RouteMatch(name='0', distance=0.815336637005)],\n",
       " [RouteMatch(name='3', distance=0.858608008615)],\n",
       " [RouteMatch(name='2', distance=0.793350442048)],\n",
       " [RouteMatch(name='3', distance=0.761856752391)],\n",
       " [RouteMatch(name='3', distance=0.785498505817)],\n",
       " [RouteMatch(name='1', distance=0.797901292308)],\n",
       " [RouteMatch(name='0', distance=0.815830720296)],\n",
       " [RouteMatch(name='3', distance=0.778709223371)],\n",
       " [RouteMatch(name='0', distance=0.784693487717)],\n",
       " [RouteMatch(name='2', distance=0.79308205176)],\n",
       " [RouteMatch(name='1', distance=0.796262042652)],\n",
       " [RouteMatch(name='2', distance=0.800547306534)],\n",
       " [RouteMatch(name='1', distance=0.789909155827)],\n",
       " [RouteMatch(name='2', distance=0.766345755927)],\n",
       " [RouteMatch(name='0', distance=0.811405021539)],\n",
       " [RouteMatch(name='2', distance=0.753366362821)],\n",
       " [RouteMatch(name='3', distance=0.8180646242)],\n",
       " [RouteMatch(name='0', distance=0.83914166835)],\n",
       " [RouteMatch(name='2', distance=0.799868794888)],\n",
       " [RouteMatch(name='3', distance=0.84060262801)],\n",
       " [RouteMatch(name='2', distance=0.83251886879)],\n",
       " [RouteMatch(name='2', distance=0.812433771502)],\n",
       " [RouteMatch(name='1', distance=0.822770448853)],\n",
       " [RouteMatch(name='2', distance=0.756201049172)],\n",
       " [RouteMatch(name='0', distance=0.821562142868)],\n",
       " [RouteMatch(name='1', distance=0.81738182277)],\n",
       " [RouteMatch(name='1', distance=0.801360530763)],\n",
       " [RouteMatch(name='3', distance=0.852219474951)],\n",
       " [RouteMatch(name='1', distance=0.784341368541)],\n",
       " [RouteMatch(name='2', distance=0.791931333165)],\n",
       " [RouteMatch(name='2', distance=0.789567452378)],\n",
       " [RouteMatch(name='1', distance=0.798509943866)],\n",
       " [RouteMatch(name='2', distance=0.801738245558)],\n",
       " [RouteMatch(name='0', distance=0.818943041459)],\n",
       " [RouteMatch(name='1', distance=0.817495072515)],\n",
       " [RouteMatch(name='3', distance=0.818913588477)],\n",
       " [RouteMatch(name='0', distance=0.819042953186)],\n",
       " [RouteMatch(name='1', distance=0.807492389289)],\n",
       " [RouteMatch(name='1', distance=0.772065512954)],\n",
       " [RouteMatch(name='0', distance=0.818452439753)],\n",
       " [RouteMatch(name='1', distance=0.826628563957)],\n",
       " [RouteMatch(name='0', distance=0.804884124803)],\n",
       " [RouteMatch(name='0', distance=0.837461138049)],\n",
       " [RouteMatch(name='3', distance=0.841355807455)],\n",
       " [RouteMatch(name='2', distance=0.770851295972)],\n",
       " [RouteMatch(name='3', distance=0.819633006679)],\n",
       " [RouteMatch(name='3', distance=0.805675041875)],\n",
       " [RouteMatch(name='1', distance=0.842100501022)],\n",
       " [RouteMatch(name='3', distance=0.76812399689)],\n",
       " [RouteMatch(name='0', distance=0.803344520159)],\n",
       " [RouteMatch(name='0', distance=0.779562881244)],\n",
       " [RouteMatch(name='1', distance=0.825632839583)],\n",
       " [RouteMatch(name='0', distance=0.777465992893)],\n",
       " [RouteMatch(name='2', distance=0.786964046278)],\n",
       " [RouteMatch(name='3', distance=0.835808176195)],\n",
       " [RouteMatch(name='1', distance=0.816637046443)],\n",
       " [RouteMatch(name='2', distance=0.784063531329)],\n",
       " [RouteMatch(name='3', distance=0.853411871861)],\n",
       " [RouteMatch(name='2', distance=0.807927048903)],\n",
       " [RouteMatch(name='0', distance=0.790781911304)],\n",
       " [RouteMatch(name='0', distance=0.80092271743)],\n",
       " [RouteMatch(name='0', distance=0.81962380088)],\n",
       " [RouteMatch(name='3', distance=0.781018554502)],\n",
       " [RouteMatch(name='0', distance=0.838111203926)],\n",
       " [RouteMatch(name='2', distance=0.832463949992)],\n",
       " [RouteMatch(name='0', distance=0.777077497359)],\n",
       " [RouteMatch(name='1', distance=0.798913694285)],\n",
       " [RouteMatch(name='3', distance=0.777932054623)],\n",
       " [RouteMatch(name='3', distance=0.780154949526)],\n",
       " [RouteMatch(name='3', distance=0.786323656324)],\n",
       " [RouteMatch(name='2', distance=0.804554819718)],\n",
       " [RouteMatch(name='2', distance=0.785762154649)],\n",
       " [RouteMatch(name='3', distance=0.798700264077)],\n",
       " [RouteMatch(name='3', distance=0.834094606725)],\n",
       " [RouteMatch(name='1', distance=0.818102861078)],\n",
       " [RouteMatch(name='3', distance=0.79398713966)],\n",
       " [RouteMatch(name='1', distance=0.806340730061)],\n",
       " [RouteMatch(name='0', distance=0.813672575658)],\n",
       " [RouteMatch(name='0', distance=0.844553342457)],\n",
       " [RouteMatch(name='3', distance=0.842050269799)],\n",
       " [RouteMatch(name='1', distance=0.797791513789)],\n",
       " [RouteMatch(name='2', distance=0.838313793552)],\n",
       " [RouteMatch(name='2', distance=0.833818855142)],\n",
       " [RouteMatch(name='1', distance=0.799666005856)],\n",
       " [RouteMatch(name='3', distance=0.841267732414)],\n",
       " [RouteMatch(name='2', distance=0.801091835462)],\n",
       " [RouteMatch(name='0', distance=0.781925149308)],\n",
       " [RouteMatch(name='0', distance=0.784863266112)],\n",
       " [RouteMatch(name='0', distance=0.805112580438)],\n",
       " [RouteMatch(name='1', distance=0.782010515774)],\n",
       " [RouteMatch(name='3', distance=0.82293843003)],\n",
       " [RouteMatch(name='3', distance=0.788640190205)],\n",
       " [RouteMatch(name='3', distance=0.818379186462)],\n",
       " [RouteMatch(name='3', distance=0.815555346071)],\n",
       " [RouteMatch(name='3', distance=0.776565727059)],\n",
       " [RouteMatch(name='3', distance=0.826940488906)],\n",
       " [RouteMatch(name='2', distance=0.785975505638)],\n",
       " [RouteMatch(name='0', distance=0.79776596436)],\n",
       " [RouteMatch(name='2', distance=0.779774697413)],\n",
       " [RouteMatch(name='3', distance=0.824023035369)],\n",
       " [RouteMatch(name='1', distance=0.827786102707)],\n",
       " [RouteMatch(name='2', distance=0.780111047059)],\n",
       " [RouteMatch(name='0', distance=0.770097604573)],\n",
       " [RouteMatch(name='3', distance=0.792541247435)],\n",
       " [RouteMatch(name='3', distance=0.77487535578)],\n",
       " [RouteMatch(name='1', distance=0.804942609731)],\n",
       " [RouteMatch(name='3', distance=0.790045719371)],\n",
       " [RouteMatch(name='2', distance=0.834119042681)],\n",
       " [RouteMatch(name='3', distance=0.825602091853)],\n",
       " [RouteMatch(name='3', distance=0.784906322943)],\n",
       " [RouteMatch(name='1', distance=0.830136912664)],\n",
       " [RouteMatch(name='2', distance=0.767765544702)],\n",
       " [RouteMatch(name='1', distance=0.817410661859)],\n",
       " [RouteMatch(name='3', distance=0.807937285482)],\n",
       " [RouteMatch(name='3', distance=0.817477958435)],\n",
       " [RouteMatch(name='0', distance=0.798273721842)],\n",
       " [RouteMatch(name='1', distance=0.820341718443)],\n",
       " [RouteMatch(name='3', distance=0.794632111131)],\n",
       " [RouteMatch(name='3', distance=0.795424011652)],\n",
       " [RouteMatch(name='1', distance=0.817094858227)],\n",
       " [RouteMatch(name='1', distance=0.793050104799)],\n",
       " [RouteMatch(name='2', distance=0.842045865507)],\n",
       " [RouteMatch(name='3', distance=0.777288826609)],\n",
       " [RouteMatch(name='3', distance=0.791512220176)],\n",
       " [RouteMatch(name='3', distance=0.7640634196)],\n",
       " [RouteMatch(name='2', distance=0.808091228558)],\n",
       " [RouteMatch(name='0', distance=0.8059960986)],\n",
       " [RouteMatch(name='2', distance=0.807042819232)],\n",
       " [RouteMatch(name='3', distance=0.782758332133)],\n",
       " [RouteMatch(name='0', distance=0.784261663951)],\n",
       " [RouteMatch(name='3', distance=0.782617549431)],\n",
       " [RouteMatch(name='0', distance=0.832588836053)],\n",
       " [RouteMatch(name='3', distance=0.761294319211)],\n",
       " [RouteMatch(name='3', distance=0.782558838562)],\n",
       " [RouteMatch(name='2', distance=0.786662874684)],\n",
       " [RouteMatch(name='0', distance=0.832909911945)],\n",
       " [RouteMatch(name='0', distance=0.807340000853)],\n",
       " [RouteMatch(name='2', distance=0.802742707404)],\n",
       " [RouteMatch(name='2', distance=0.778045440678)],\n",
       " [RouteMatch(name='2', distance=0.767515142204)],\n",
       " [RouteMatch(name='1', distance=0.808666358429)],\n",
       " [RouteMatch(name='0', distance=0.823472013822)],\n",
       " [RouteMatch(name='0', distance=0.808581109778)],\n",
       " [RouteMatch(name='3', distance=0.818405147918)],\n",
       " [RouteMatch(name='1', distance=0.801730758149)],\n",
       " [RouteMatch(name='1', distance=0.779745274752)],\n",
       " [RouteMatch(name='1', distance=0.781142390819)],\n",
       " [RouteMatch(name='0', distance=0.818097000189)],\n",
       " [RouteMatch(name='0', distance=0.785827315004)],\n",
       " [RouteMatch(name='1', distance=0.79404738146)],\n",
       " [RouteMatch(name='1', distance=0.807629352561)],\n",
       " [RouteMatch(name='2', distance=0.779787633272)],\n",
       " [RouteMatch(name='2', distance=0.834263015798)],\n",
       " [RouteMatch(name='0', distance=0.811289656897)],\n",
       " [RouteMatch(name='0', distance=0.795330692526)],\n",
       " [RouteMatch(name='2', distance=0.785032657391)],\n",
       " [RouteMatch(name='2', distance=0.842203227837)],\n",
       " [RouteMatch(name='2', distance=0.769876421115)],\n",
       " [RouteMatch(name='3', distance=0.840474480225)],\n",
       " [RouteMatch(name='3', distance=0.837306502073)],\n",
       " [RouteMatch(name='3', distance=0.832846715918)],\n",
       " [RouteMatch(name='0', distance=0.770187028233)],\n",
       " [RouteMatch(name='1', distance=0.77664921792)],\n",
       " [RouteMatch(name='3', distance=0.786630013493)],\n",
       " [RouteMatch(name='2', distance=0.772837974091)],\n",
       " [RouteMatch(name='1', distance=0.824116710199)],\n",
       " [RouteMatch(name='3', distance=0.772200622045)],\n",
       " [RouteMatch(name='1', distance=0.809611194468)],\n",
       " [RouteMatch(name='3', distance=0.841648068514)],\n",
       " [RouteMatch(name='3', distance=0.823500156361)],\n",
       " [RouteMatch(name='2', distance=0.778991608445)],\n",
       " [RouteMatch(name='2', distance=0.836324155204)],\n",
       " [RouteMatch(name='3', distance=0.76956308739)],\n",
       " [RouteMatch(name='1', distance=0.816620238098)],\n",
       " [RouteMatch(name='1', distance=0.822295276435)],\n",
       " [RouteMatch(name='0', distance=0.772548429039)],\n",
       " [RouteMatch(name='2', distance=0.776619451936)],\n",
       " [RouteMatch(name='3', distance=0.836298347168)],\n",
       " [RouteMatch(name='0', distance=0.816396109213)],\n",
       " [RouteMatch(name='0', distance=0.826744963202)],\n",
       " [RouteMatch(name='1', distance=0.817194417834)],\n",
       " [RouteMatch(name='3', distance=0.771182003421)],\n",
       " [RouteMatch(name='0', distance=0.820950571448)],\n",
       " [RouteMatch(name='0', distance=0.826046684294)],\n",
       " [RouteMatch(name='1', distance=0.79887293813)],\n",
       " [RouteMatch(name='2', distance=0.799825914603)],\n",
       " [RouteMatch(name='1', distance=0.849247825992)],\n",
       " [RouteMatch(name='2', distance=0.767707018798)],\n",
       " [RouteMatch(name='0', distance=0.798760229483)],\n",
       " [RouteMatch(name='0', distance=0.79870165156)],\n",
       " [RouteMatch(name='1', distance=0.818020895177)],\n",
       " [RouteMatch(name='2', distance=0.798525336644)],\n",
       " [RouteMatch(name='2', distance=0.827239225144)],\n",
       " [RouteMatch(name='3', distance=0.836191520792)],\n",
       " [RouteMatch(name='3', distance=0.80730291115)],\n",
       " [RouteMatch(name='3', distance=0.808154523218)],\n",
       " [RouteMatch(name='3', distance=0.771132792718)],\n",
       " [RouteMatch(name='3', distance=0.7800075699)],\n",
       " [RouteMatch(name='1', distance=0.8183081939)],\n",
       " [RouteMatch(name='2', distance=0.783327926495)],\n",
       " [RouteMatch(name='2', distance=0.786226041299)],\n",
       " [RouteMatch(name='1', distance=0.801616251159)],\n",
       " [RouteMatch(name='1', distance=0.8359616983)],\n",
       " [RouteMatch(name='2', distance=0.802829054896)],\n",
       " [RouteMatch(name='2', distance=0.832708343262)],\n",
       " [RouteMatch(name='0', distance=0.867203280748)],\n",
       " [RouteMatch(name='1', distance=0.793964453178)],\n",
       " [RouteMatch(name='3', distance=0.846610578172)],\n",
       " [RouteMatch(name='0', distance=0.81214372474)],\n",
       " [RouteMatch(name='2', distance=0.821132482391)],\n",
       " [RouteMatch(name='1', distance=0.791532447399)],\n",
       " [RouteMatch(name='1', distance=0.803703356784)],\n",
       " [RouteMatch(name='1', distance=0.807836039713)],\n",
       " [RouteMatch(name='3', distance=0.855343187345)],\n",
       " [RouteMatch(name='0', distance=0.807703369268)],\n",
       " [RouteMatch(name='1', distance=0.809274463383)],\n",
       " [RouteMatch(name='3', distance=0.813490974883)],\n",
       " [RouteMatch(name='0', distance=0.816208865513)],\n",
       " [RouteMatch(name='0', distance=0.845037531806)],\n",
       " [RouteMatch(name='0', distance=0.807798750043)],\n",
       " [RouteMatch(name='0', distance=0.810719656352)],\n",
       " [RouteMatch(name='2', distance=0.778606901066)],\n",
       " [RouteMatch(name='1', distance=0.796717005042)],\n",
       " [RouteMatch(name='2', distance=0.836600154945)],\n",
       " [RouteMatch(name='2', distance=0.830189936264)],\n",
       " [RouteMatch(name='0', distance=0.829308716648)],\n",
       " [RouteMatch(name='1', distance=0.81041475419)],\n",
       " [RouteMatch(name='1', distance=0.778542091208)],\n",
       " [RouteMatch(name='1', distance=0.774182774343)],\n",
       " [RouteMatch(name='1', distance=0.784786752575)],\n",
       " [RouteMatch(name='0', distance=0.770422881081)],\n",
       " [RouteMatch(name='0', distance=0.78211373436)],\n",
       " [RouteMatch(name='1', distance=0.813578747151)],\n",
       " [RouteMatch(name='0', distance=0.825833110341)],\n",
       " [RouteMatch(name='1', distance=0.795719795282)],\n",
       " [RouteMatch(name='0', distance=0.789153573513)],\n",
       " [RouteMatch(name='2', distance=0.816248606762)],\n",
       " [RouteMatch(name='1', distance=0.824436120797)],\n",
       " [RouteMatch(name='3', distance=0.780587779208)],\n",
       " [RouteMatch(name='0', distance=0.810482656779)],\n",
       " [RouteMatch(name='1', distance=0.840459363541)],\n",
       " [RouteMatch(name='1', distance=0.834578921861)],\n",
       " [RouteMatch(name='3', distance=0.826054783009)],\n",
       " [RouteMatch(name='1', distance=0.833609295543)],\n",
       " [RouteMatch(name='3', distance=0.771668979868)],\n",
       " [RouteMatch(name='3', distance=0.798803455742)],\n",
       " [RouteMatch(name='2', distance=0.76141258657)],\n",
       " [RouteMatch(name='2', distance=0.798077198304)],\n",
       " [RouteMatch(name='2', distance=0.827728941448)],\n",
       " [RouteMatch(name='1', distance=0.788916899589)],\n",
       " [RouteMatch(name='1', distance=0.828052449106)],\n",
       " [RouteMatch(name='3', distance=0.82463043769)],\n",
       " [RouteMatch(name='3', distance=0.768311977563)],\n",
       " [RouteMatch(name='1', distance=0.797427170065)],\n",
       " [RouteMatch(name='1', distance=0.80862932307)],\n",
       " [RouteMatch(name='2', distance=0.775387670621)],\n",
       " [RouteMatch(name='0', distance=0.806493272069)],\n",
       " [RouteMatch(name='0', distance=0.792657341701)],\n",
       " [RouteMatch(name='3', distance=0.823302877611)],\n",
       " [RouteMatch(name='2', distance=0.819838434117)],\n",
       " [RouteMatch(name='0', distance=0.785509638509)],\n",
       " [RouteMatch(name='0', distance=0.806249283925)],\n",
       " [RouteMatch(name='1', distance=0.830768886695)],\n",
       " [RouteMatch(name='2', distance=0.780131911708)],\n",
       " [RouteMatch(name='2', distance=0.757761839315)],\n",
       " [RouteMatch(name='2', distance=0.752578003886)],\n",
       " [RouteMatch(name='2', distance=0.756934205921)],\n",
       " [RouteMatch(name='3', distance=0.783190300918)],\n",
       " [RouteMatch(name='3', distance=0.853686287215)],\n",
       " [RouteMatch(name='2', distance=0.775718409749)],\n",
       " [RouteMatch(name='2', distance=0.810580583137)],\n",
       " [RouteMatch(name='1', distance=0.821013259056)],\n",
       " [RouteMatch(name='2', distance=0.839531196018)],\n",
       " [RouteMatch(name='0', distance=0.795885610617)],\n",
       " [RouteMatch(name='3', distance=0.809048459811)],\n",
       " [RouteMatch(name='1', distance=0.813653095002)],\n",
       " [RouteMatch(name='1', distance=0.802817716195)],\n",
       " [RouteMatch(name='3', distance=0.833615594652)],\n",
       " [RouteMatch(name='0', distance=0.802642497063)],\n",
       " [RouteMatch(name='3', distance=0.833866094002)],\n",
       " [RouteMatch(name='3', distance=0.757213356335)],\n",
       " [RouteMatch(name='2', distance=0.829460390954)],\n",
       " [RouteMatch(name='2', distance=0.780464328852)],\n",
       " [RouteMatch(name='1', distance=0.796139506645)],\n",
       " [RouteMatch(name='3', distance=0.829377623625)],\n",
       " [RouteMatch(name='1', distance=0.787960382644)],\n",
       " [RouteMatch(name='0', distance=0.783155927565)],\n",
       " [RouteMatch(name='3', distance=0.822206681626)],\n",
       " [RouteMatch(name='1', distance=0.813877019952)],\n",
       " [RouteMatch(name='1', distance=0.822914179118)],\n",
       " [RouteMatch(name='0', distance=0.807524148511)],\n",
       " [RouteMatch(name='3', distance=0.779924196505)],\n",
       " [RouteMatch(name='0', distance=0.789210522862)],\n",
       " [RouteMatch(name='0', distance=0.820009058243)],\n",
       " [RouteMatch(name='3', distance=0.811023267183)],\n",
       " [RouteMatch(name='1', distance=0.791405354256)],\n",
       " [RouteMatch(name='2', distance=0.787329130492)],\n",
       " [RouteMatch(name='3', distance=0.778529234535)],\n",
       " [RouteMatch(name='3', distance=0.788198571282)],\n",
       " [RouteMatch(name='3', distance=0.771845566844)],\n",
       " [RouteMatch(name='0', distance=0.823515687138)],\n",
       " [RouteMatch(name='1', distance=0.814742540215)],\n",
       " [RouteMatch(name='1', distance=0.818457269434)],\n",
       " [RouteMatch(name='1', distance=0.776057453772)],\n",
       " [RouteMatch(name='0', distance=0.801824880224)],\n",
       " [RouteMatch(name='1', distance=0.79716312157)],\n",
       " [RouteMatch(name='2', distance=0.777812425081)],\n",
       " [RouteMatch(name='1', distance=0.803966312889)],\n",
       " [RouteMatch(name='0', distance=0.829673396088)],\n",
       " [RouteMatch(name='1', distance=0.799243596726)],\n",
       " [RouteMatch(name='1', distance=0.795089122104)],\n",
       " [RouteMatch(name='0', distance=0.815367195117)],\n",
       " [RouteMatch(name='2', distance=0.823259199153)],\n",
       " [RouteMatch(name='1', distance=0.77589633984)],\n",
       " [RouteMatch(name='3', distance=0.767725963963)],\n",
       " [RouteMatch(name='1', distance=0.799287157139)],\n",
       " [RouteMatch(name='0', distance=0.792456473572)],\n",
       " [RouteMatch(name='0', distance=0.838522369648)],\n",
       " [RouteMatch(name='1', distance=0.792210708401)],\n",
       " [RouteMatch(name='3', distance=0.838175924052)],\n",
       " [RouteMatch(name='1', distance=0.801073074092)],\n",
       " [RouteMatch(name='0', distance=0.793165350047)],\n",
       " [RouteMatch(name='0', distance=0.829729642667)],\n",
       " [RouteMatch(name='1', distance=0.814084089911)],\n",
       " [RouteMatch(name='2', distance=0.778092202537)],\n",
       " [RouteMatch(name='0', distance=0.835059311032)],\n",
       " [RouteMatch(name='0', distance=0.807144048104)],\n",
       " [RouteMatch(name='3', distance=0.813946527286)],\n",
       " [RouteMatch(name='0', distance=0.777880306652)],\n",
       " [RouteMatch(name='1', distance=0.793519871798)],\n",
       " [RouteMatch(name='3', distance=0.804868840101)],\n",
       " [RouteMatch(name='0', distance=0.785137436997)],\n",
       " [RouteMatch(name='3', distance=0.841611374765)],\n",
       " [RouteMatch(name='0', distance=0.775590520951)],\n",
       " [RouteMatch(name='1', distance=0.807045374109)],\n",
       " [RouteMatch(name='0', distance=0.812286561304)],\n",
       " [RouteMatch(name='1', distance=0.804180565549)],\n",
       " [RouteMatch(name='1', distance=0.786497653352)],\n",
       " [RouteMatch(name='0', distance=0.852619345962)],\n",
       " [RouteMatch(name='0', distance=0.807071328257)],\n",
       " [RouteMatch(name='2', distance=0.794199350816)],\n",
       " [RouteMatch(name='3', distance=0.800907321635)],\n",
       " [RouteMatch(name='3', distance=0.814261216592)],\n",
       " [RouteMatch(name='1', distance=0.800102386513)],\n",
       " [RouteMatch(name='0', distance=0.783655653868)],\n",
       " [RouteMatch(name='1', distance=0.807147294125)],\n",
       " [RouteMatch(name='0', distance=0.771467355075)],\n",
       " [RouteMatch(name='3', distance=0.792723078083)],\n",
       " [RouteMatch(name='3', distance=0.805428709078)],\n",
       " [RouteMatch(name='0', distance=0.813613487688)],\n",
       " [RouteMatch(name='1', distance=0.805875252611)],\n",
       " [RouteMatch(name='0', distance=0.833075025505)],\n",
       " [RouteMatch(name='2', distance=0.836156985659)],\n",
       " [RouteMatch(name='1', distance=0.79264449781)],\n",
       " [RouteMatch(name='0', distance=0.764751899809)],\n",
       " [RouteMatch(name='0', distance=0.810722235091)],\n",
       " [RouteMatch(name='0', distance=0.819119694197)],\n",
       " [RouteMatch(name='1', distance=0.821054264288)],\n",
       " [RouteMatch(name='1', distance=0.828697753744)],\n",
       " [RouteMatch(name='1', distance=0.805877396812)],\n",
       " [RouteMatch(name='2', distance=0.811026258322)],\n",
       " [RouteMatch(name='1', distance=0.803648872358)],\n",
       " [RouteMatch(name='0', distance=0.806956090342)],\n",
       " [RouteMatch(name='1', distance=0.802472935496)],\n",
       " [RouteMatch(name='0', distance=0.841573911816)],\n",
       " [RouteMatch(name='0', distance=0.772767305533)],\n",
       " [RouteMatch(name='0', distance=0.813690949112)],\n",
       " [RouteMatch(name='0', distance=0.78077889355)],\n",
       " [RouteMatch(name='0', distance=0.796426456112)],\n",
       " [RouteMatch(name='1', distance=0.848281737294)],\n",
       " [RouteMatch(name='1', distance=0.806079557667)],\n",
       " [RouteMatch(name='3', distance=0.791468897424)],\n",
       " [RouteMatch(name='2', distance=0.789185500498)],\n",
       " [RouteMatch(name='1', distance=0.821645016568)],\n",
       " [RouteMatch(name='0', distance=0.843867888681)],\n",
       " [RouteMatch(name='2', distance=0.780570559181)],\n",
       " [RouteMatch(name='1', distance=0.802627394345)],\n",
       " [RouteMatch(name='0', distance=0.818933234117)],\n",
       " [RouteMatch(name='1', distance=0.803600724311)],\n",
       " [RouteMatch(name='1', distance=0.813417145505)],\n",
       " [RouteMatch(name='0', distance=0.802997004347)],\n",
       " [RouteMatch(name='3', distance=0.824945366299)],\n",
       " [RouteMatch(name='0', distance=0.787543025651)],\n",
       " [RouteMatch(name='0', distance=0.795492162734)],\n",
       " [RouteMatch(name='0', distance=0.810194487468)],\n",
       " [RouteMatch(name='1', distance=0.826137563197)],\n",
       " [RouteMatch(name='3', distance=0.832471630039)],\n",
       " [RouteMatch(name='1', distance=0.807213426029)],\n",
       " [RouteMatch(name='0', distance=0.841564667137)],\n",
       " [RouteMatch(name='1', distance=0.811209183855)],\n",
       " [RouteMatch(name='1', distance=0.816333841857)],\n",
       " [RouteMatch(name='1', distance=0.79768720713)],\n",
       " [RouteMatch(name='1', distance=0.791326792383)],\n",
       " [RouteMatch(name='1', distance=0.786505571066)],\n",
       " [RouteMatch(name='1', distance=0.790235468108)],\n",
       " [RouteMatch(name='3', distance=0.77792263563)],\n",
       " [RouteMatch(name='0', distance=0.797838987518)],\n",
       " [RouteMatch(name='2', distance=0.815830252121)],\n",
       " [RouteMatch(name='1', distance=0.801730179295)],\n",
       " [RouteMatch(name='1', distance=0.792345903799)],\n",
       " [RouteMatch(name='2', distance=0.772982550236)],\n",
       " [RouteMatch(name='2', distance=0.761422272409)],\n",
       " [RouteMatch(name='3', distance=0.828076862648)],\n",
       " [RouteMatch(name='2', distance=0.755411615384)],\n",
       " [RouteMatch(name='0', distance=0.772623185478)],\n",
       " [RouteMatch(name='0', distance=0.757644049803)],\n",
       " [RouteMatch(name='1', distance=0.812719117557)],\n",
       " [RouteMatch(name='1', distance=0.844138559804)],\n",
       " [RouteMatch(name='1', distance=0.814098061201)],\n",
       " [RouteMatch(name='1', distance=0.82734516995)],\n",
       " [RouteMatch(name='1', distance=0.807870407136)],\n",
       " [RouteMatch(name='1', distance=0.80151638423)],\n",
       " [RouteMatch(name='2', distance=0.803504604846)],\n",
       " [RouteMatch(name='3', distance=0.827921345524)],\n",
       " [RouteMatch(name='1', distance=0.810455740607)],\n",
       " [RouteMatch(name='0', distance=0.820762294033)],\n",
       " [RouteMatch(name='3', distance=0.796975505562)],\n",
       " [RouteMatch(name='0', distance=0.822139162688)],\n",
       " [RouteMatch(name='0', distance=0.810961166148)],\n",
       " [RouteMatch(name='2', distance=0.821067891307)],\n",
       " [RouteMatch(name='1', distance=0.812662268027)],\n",
       " [RouteMatch(name='1', distance=0.780555530621)],\n",
       " [RouteMatch(name='1', distance=0.767975490969)],\n",
       " [RouteMatch(name='3', distance=0.775027711524)],\n",
       " [RouteMatch(name='1', distance=0.835755591553)],\n",
       " [RouteMatch(name='2', distance=0.790359701934)],\n",
       " [RouteMatch(name='2', distance=0.803888726115)],\n",
       " [RouteMatch(name='1', distance=0.775185590862)],\n",
       " [RouteMatch(name='3', distance=0.797194288868)],\n",
       " [RouteMatch(name='0', distance=0.841744672759)],\n",
       " [RouteMatch(name='0', distance=0.798908875726)],\n",
       " [RouteMatch(name='2', distance=0.797815616485)],\n",
       " [RouteMatch(name='0', distance=0.850109588234)],\n",
       " [RouteMatch(name='0', distance=0.828654274693)],\n",
       " [RouteMatch(name='0', distance=0.815574594483)],\n",
       " [RouteMatch(name='2', distance=0.795830574069)],\n",
       " [RouteMatch(name='2', distance=0.799073586346)],\n",
       " [RouteMatch(name='1', distance=0.810067787361)],\n",
       " [RouteMatch(name='2', distance=0.809434116143)],\n",
       " [RouteMatch(name='0', distance=0.768477551882)],\n",
       " [RouteMatch(name='3', distance=0.776230681459)],\n",
       " [RouteMatch(name='1', distance=0.828564301653)],\n",
       " [RouteMatch(name='2', distance=0.776627871375)],\n",
       " [RouteMatch(name='2', distance=0.772155126674)],\n",
       " [RouteMatch(name='0', distance=0.788178401879)],\n",
       " [RouteMatch(name='2', distance=0.771604367713)],\n",
       " [RouteMatch(name='3', distance=0.796908829516)],\n",
       " [RouteMatch(name='2', distance=0.772421288943)],\n",
       " [RouteMatch(name='1', distance=0.820180083925)],\n",
       " [RouteMatch(name='1', distance=0.813465131863)],\n",
       " [RouteMatch(name='2', distance=0.742296358064)],\n",
       " [RouteMatch(name='0', distance=0.774085257248)],\n",
       " [RouteMatch(name='2', distance=0.777567301573)],\n",
       " [RouteMatch(name='1', distance=0.804261232619)],\n",
       " [RouteMatch(name='0', distance=0.799174877008)],\n",
       " [RouteMatch(name='0', distance=0.785334773818)],\n",
       " [RouteMatch(name='3', distance=0.762797866422)],\n",
       " [RouteMatch(name='3', distance=0.794061061815)],\n",
       " [RouteMatch(name='2', distance=0.712833122617)],\n",
       " [RouteMatch(name='2', distance=0.740998960436)],\n",
       " [RouteMatch(name='0', distance=0.794359912704)],\n",
       " [RouteMatch(name='0', distance=0.808401461046)],\n",
       " [RouteMatch(name='0', distance=0.787854784135)],\n",
       " [RouteMatch(name='2', distance=0.788653463532)],\n",
       " [RouteMatch(name='3', distance=0.773403100155)],\n",
       " [RouteMatch(name='1', distance=0.805735198112)],\n",
       " [RouteMatch(name='0', distance=0.796786586221)],\n",
       " [RouteMatch(name='2', distance=0.773284579491)],\n",
       " [RouteMatch(name='2', distance=0.822375106855)],\n",
       " [RouteMatch(name='3', distance=0.777041078906)],\n",
       " [RouteMatch(name='3', distance=0.810752936719)],\n",
       " [RouteMatch(name='1', distance=0.8069497904)],\n",
       " [RouteMatch(name='2', distance=0.78026410188)],\n",
       " [RouteMatch(name='0', distance=0.811489187461)],\n",
       " [RouteMatch(name='0', distance=0.810309107698)],\n",
       " [RouteMatch(name='1', distance=0.775827112631)],\n",
       " [RouteMatch(name='1', distance=0.835078256388)],\n",
       " [RouteMatch(name='2', distance=0.765441557537)],\n",
       " [RouteMatch(name='2', distance=0.80440894562)],\n",
       " [RouteMatch(name='1', distance=0.803010115715)],\n",
       " [RouteMatch(name='2', distance=0.864354162349)],\n",
       " [RouteMatch(name='1', distance=0.792458504528)],\n",
       " [RouteMatch(name='3', distance=0.817613755669)],\n",
       " [RouteMatch(name='1', distance=0.779910371782)],\n",
       " [RouteMatch(name='0', distance=0.833956973924)],\n",
       " [RouteMatch(name='1', distance=0.807420872585)],\n",
       " [RouteMatch(name='2', distance=0.782623370605)],\n",
       " [RouteMatch(name='3', distance=0.831631971689)],\n",
       " [RouteMatch(name='1', distance=0.807495805579)],\n",
       " [RouteMatch(name='2', distance=0.802577750526)],\n",
       " [RouteMatch(name='3', distance=0.805477133893)],\n",
       " [RouteMatch(name='2', distance=0.759776831856)],\n",
       " [RouteMatch(name='3', distance=0.76958180532)],\n",
       " [RouteMatch(name='3', distance=0.782663832396)],\n",
       " [RouteMatch(name='0', distance=0.827613614905)],\n",
       " [RouteMatch(name='1', distance=0.821531763852)],\n",
       " [RouteMatch(name='3', distance=0.806502625899)],\n",
       " [RouteMatch(name='0', distance=0.796765174655)],\n",
       " [RouteMatch(name='0', distance=0.802679285447)],\n",
       " [RouteMatch(name='2', distance=0.77428173382)],\n",
       " [RouteMatch(name='2', distance=0.774825460338)],\n",
       " [RouteMatch(name='2', distance=0.7765164985)],\n",
       " [RouteMatch(name='1', distance=0.800694504552)],\n",
       " [RouteMatch(name='1', distance=0.796948532795)],\n",
       " [RouteMatch(name='3', distance=0.790772514516)],\n",
       " [RouteMatch(name='3', distance=0.800511970948)],\n",
       " [RouteMatch(name='2', distance=0.758518334342)],\n",
       " [RouteMatch(name='3', distance=0.790888194523)],\n",
       " [RouteMatch(name='0', distance=0.815564376103)],\n",
       " [RouteMatch(name='0', distance=0.844213294288)],\n",
       " [RouteMatch(name='1', distance=0.79680661496)],\n",
       " [RouteMatch(name='1', distance=0.784369333834)],\n",
       " [RouteMatch(name='3', distance=0.79769388783)],\n",
       " [RouteMatch(name='3', distance=0.765051045343)],\n",
       " [RouteMatch(name='0', distance=0.793758706657)],\n",
       " [RouteMatch(name='3', distance=0.836898924399)],\n",
       " [RouteMatch(name='2', distance=0.785465342958)],\n",
       " [RouteMatch(name='3', distance=0.818829783083)],\n",
       " [RouteMatch(name='3', distance=0.823720183972)],\n",
       " [RouteMatch(name='1', distance=0.819733985631)],\n",
       " [RouteMatch(name='1', distance=0.818455959292)],\n",
       " [RouteMatch(name='3', distance=0.815270653541)],\n",
       " [RouteMatch(name='0', distance=0.76572970015)],\n",
       " [RouteMatch(name='0', distance=0.817814221552)],\n",
       " [RouteMatch(name='3', distance=0.786535681709)],\n",
       " [RouteMatch(name='3', distance=0.790707467768)],\n",
       " [RouteMatch(name='1', distance=0.770067917722)],\n",
       " [RouteMatch(name='2', distance=0.767689986706)],\n",
       " [RouteMatch(name='0', distance=0.821785681992)],\n",
       " [RouteMatch(name='0', distance=0.756552876707)],\n",
       " [RouteMatch(name='3', distance=0.802249543113)],\n",
       " [RouteMatch(name='1', distance=0.802924735855)],\n",
       " [RouteMatch(name='1', distance=0.822827734188)],\n",
       " [RouteMatch(name='1', distance=0.783657183357)],\n",
       " [RouteMatch(name='3', distance=0.793855177397)],\n",
       " [RouteMatch(name='0', distance=0.758629895097)],\n",
       " ...]"
      ]
     },
     "execution_count": 112,
     "metadata": {},
     "output_type": "execute_result"
    }
   ],
   "source": []
  },
  {
   "cell_type": "code",
   "execution_count": null,
   "id": "e3c46875",
   "metadata": {},
   "outputs": [],
   "source": []
  },
  {
   "cell_type": "code",
   "execution_count": 113,
   "id": "bda1700f",
   "metadata": {},
   "outputs": [
    {
     "name": "stdout",
     "output_type": "stream",
     "text": [
      "=== Experiment Summary: Semantic Routing Classification ===\n",
      "\n",
      "Timestamp         : 2025_10_15_213821\n",
      "\n",
      "Experiment Notes  : NA\n",
      "\n",
      "DATA CONFIGURATION\n",
      "Router Name       : OOTB\n",
      "Batch Size        : 1024\n",
      "Dataset Repo ID    : SetFit/ag_news\n",
      "Dataset Domain    : Large\n",
      "Dataset Name      : AGNews\n",
      "Train Limit       : 120000\n",
      "Test Limit        : 7600\n",
      "Vector Dimensions : 1536\n",
      "Embedding Model   : text-embedding-3-small\n",
      "\n",
      "\n",
      "No index info available\n",
      "EVALUATION METRICS\n",
      "Accuracy          : 0.8971\n",
      "Precision (macro) : 0.8982\n",
      "Recall (macro)    : 0.8971\n",
      "F1 (macro)        : 0.8971\n",
      "\n",
      "CONFUSION MATRIX [ [TP_0, FP_0], [FN_1, TP_1] ]\n",
      "  [1665, 67, 132, 36]\n",
      "  [14, 1858, 26, 2]\n",
      "\n",
      "CLASSIFICATION REPORT\n",
      "Class 0: Precision=0.930, Recall=0.876, F1=0.902, Support=1900\n",
      "Class 1: Precision=0.948, Recall=0.978, F1=0.963, Support=1900\n",
      "Class 2: Precision=0.827, Recall=0.883, F1=0.854, Support=1900\n",
      "Class 3: Precision=0.888, Recall=0.851, F1=0.869, Support=1900\n",
      "\n",
      "Macro Avg:\n",
      "  Precision=0.898, Recall=0.897, F1=0.897\n",
      "\n",
      "TIMINGS (seconds)\n",
      "Build Routes                                 : 0.053\n",
      "Build Router                                 : 533.696\n",
      "Predict using test data                      : 620.386\n",
      "Total: 1154.135\n",
      "\n",
      "=============================================================\n",
      "\n"
     ]
    }
   ],
   "source": [
    "extracted_preds = [i[0].name if len(i)>0 else \"0\" for i in preds]\n",
    "labels = [str(i) for i in test_data[test_label_col]]\n",
    "\n",
    "eval_metrics = classification_metrics(\n",
    "    preds=extracted_preds,\n",
    "    labels=labels\n",
    ")\n",
    "\n",
    "exp_summary = print_experiment_summary(eval_metrics, router_config, timer.timings, experiment_name=experiment_name)"
   ]
  },
  {
   "cell_type": "markdown",
   "id": "9e9daaab",
   "metadata": {},
   "source": []
  }
 ],
 "metadata": {
  "kernelspec": {
   "display_name": ".venv",
   "language": "python",
   "name": "python3"
  },
  "language_info": {
   "codemirror_mode": {
    "name": "ipython",
    "version": 3
   },
   "file_extension": ".py",
   "mimetype": "text/x-python",
   "name": "python",
   "nbconvert_exporter": "python",
   "pygments_lexer": "ipython3",
   "version": "3.13.7"
  }
 },
 "nbformat": 4,
 "nbformat_minor": 5
}
