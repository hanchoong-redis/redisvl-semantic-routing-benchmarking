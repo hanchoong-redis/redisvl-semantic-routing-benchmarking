{
 "cells": [
  {
   "cell_type": "code",
   "execution_count": 40,
   "id": "6a6ba1a9",
   "metadata": {},
   "outputs": [],
   "source": [
    "!pip install --upgrade -q sentence-transformers ranx redisvl \"redis-retrieval-optimizer>=0.2.0\" datasets pandas openai scikit-learn h5py tiktoken"
   ]
  },
  {
   "cell_type": "markdown",
   "id": "e3ecff2b",
   "metadata": {},
   "source": [
    "# Setup"
   ]
  },
  {
   "cell_type": "markdown",
   "id": "23f7b92b",
   "metadata": {},
   "source": [
    "## Run a Redis instance\n",
    "\n",
    "#### Mac\n",
    "\n",
    "Remember to point at 6380, not 6379\n",
    "```bash\n",
    "docker run -d --name redis-stack \\\n",
    "  -p 6380:6379 -p 8001:8001 \\\n",
    "  -v redis-data:/data \\\n",
    "  redis/redis-stack:latest\n",
    "\n",
    "```\n",
    "#### For Colab\n",
    "Use the shell script below to download, extract, and install [Redis Stack](https://redis.io/docs/getting-started/install-stack/) directly from the Redis package archive."
   ]
  },
  {
   "cell_type": "code",
   "execution_count": null,
   "id": "3cca621e",
   "metadata": {},
   "outputs": [],
   "source": [
    "# NBVAL_SKIP\n",
    "%%sh\n",
    "curl -fsSL https://packages.redis.io/gpg | sudo gpg --dearmor -o /usr/share/keyrings/redis-archive-keyring.gpg\n",
    "echo \"deb [signed-by=/usr/share/keyrings/redis-archive-keyring.gpg] https://packages.redis.io/deb $(lsb_release -cs) main\" | sudo tee /etc/apt/sources.list.d/redis.list\n",
    "sudo apt-get update  > /dev/null 2>&1\n",
    "sudo apt-get install redis-stack-server  > /dev/null 2>&1\n",
    "redis-stack-server --daemonize yes"
   ]
  },
  {
   "cell_type": "markdown",
   "id": "ce384584",
   "metadata": {},
   "source": [
    "### Define the Redis Connection URL\n",
    "\n",
    "By default this notebook connects to the local instance of Redis Stack. **If you have your own Redis Enterprise instance** - replace REDIS_PASSWORD, REDIS_HOST and REDIS_PORT values with your own."
   ]
  },
  {
   "cell_type": "code",
   "execution_count": 1,
   "id": "414b8c20",
   "metadata": {},
   "outputs": [],
   "source": [
    "import os, sys, io\n",
    "import warnings\n",
    "\n",
    "warnings.filterwarnings(\"ignore\")\n",
    "\n",
    "# Replace values below with your own if using Redis Cloud instance\n",
    "REDIS_HOST = os.getenv(\"REDIS_HOST\", \"localhost\") # ex: \"redis-18374.c253.us-central1-1.gce.cloud.redislabs.com\"\n",
    "REDIS_PORT = os.getenv(\"REDIS_PORT\", \"6380\")      # ex: 18374\n",
    "REDIS_PASSWORD = os.getenv(\"REDIS_PASSWORD\", \"\")  \n",
    "REDIS_DB = os.getenv(\"REDIS_DB\", 0)\n",
    "\n",
    "# If SSL is enabled on the endpoint, use rediss:// as the URL prefix\n",
    "REDIS_URL = f\"redis://:{REDIS_PASSWORD}@{REDIS_HOST}:{REDIS_PORT}\""
   ]
  },
  {
   "cell_type": "markdown",
   "id": "a7fe5691",
   "metadata": {},
   "source": [
    "# Set Credentials for OpenAI"
   ]
  },
  {
   "cell_type": "code",
   "execution_count": 2,
   "id": "8a3fa9d6",
   "metadata": {},
   "outputs": [
    {
     "data": {
      "text/plain": [
       "True"
      ]
     },
     "execution_count": 2,
     "metadata": {},
     "output_type": "execute_result"
    }
   ],
   "source": [
    "import os\n",
    "from dotenv import load_dotenv\n",
    "import openai\n",
    "load_dotenv()\n",
    "\n"
   ]
  },
  {
   "cell_type": "markdown",
   "id": "71c083da",
   "metadata": {},
   "source": [
    "# Helpers"
   ]
  },
  {
   "cell_type": "markdown",
   "id": "20433a8f",
   "metadata": {},
   "source": [
    "## Metrics Collection"
   ]
  },
  {
   "cell_type": "code",
   "execution_count": null,
   "id": "c41b05a1",
   "metadata": {},
   "outputs": [
    {
     "ename": "ModuleNotFoundError",
     "evalue": "No module named 'pbar'",
     "output_type": "error",
     "traceback": [
      "\u001b[31m---------------------------------------------------------------------------\u001b[39m",
      "\u001b[31mModuleNotFoundError\u001b[39m                       Traceback (most recent call last)",
      "\u001b[36mCell\u001b[39m\u001b[36m \u001b[39m\u001b[32mIn[65]\u001b[39m\u001b[32m, line 12\u001b[39m\n\u001b[32m     10\u001b[39m \u001b[38;5;28;01mimport\u001b[39;00m\u001b[38;5;250m \u001b[39m\u001b[34;01mtime\u001b[39;00m\n\u001b[32m     11\u001b[39m \u001b[38;5;28;01mfrom\u001b[39;00m\u001b[38;5;250m \u001b[39m\u001b[34;01mdatetime\u001b[39;00m\u001b[38;5;250m \u001b[39m\u001b[38;5;28;01mimport\u001b[39;00m datetime\n\u001b[32m---> \u001b[39m\u001b[32m12\u001b[39m \u001b[38;5;28;01mimport\u001b[39;00m\u001b[38;5;250m \u001b[39m\u001b[34;01mpbar\u001b[39;00m\n\u001b[32m     13\u001b[39m \u001b[38;5;28;01mimport\u001b[39;00m\u001b[38;5;250m \u001b[39m\u001b[34;01mos\u001b[39;00m\n\u001b[32m     14\u001b[39m \u001b[38;5;28;01mfrom\u001b[39;00m\u001b[38;5;250m \u001b[39m\u001b[34;01mtqdm\u001b[39;00m\u001b[34;01m.\u001b[39;00m\u001b[34;01mauto\u001b[39;00m\u001b[38;5;250m \u001b[39m\u001b[38;5;28;01mimport\u001b[39;00m tqdm\n",
      "\u001b[31mModuleNotFoundError\u001b[39m: No module named 'pbar'"
     ]
    }
   ],
   "source": [
    "from sklearn.metrics import (\n",
    "    accuracy_score,\n",
    "    precision_score,\n",
    "    recall_score,\n",
    "    f1_score,\n",
    "    classification_report,\n",
    "    confusion_matrix\n",
    ")\n",
    "import os\n",
    "import time\n",
    "from datetime import datetime\n",
    "from tqdm.auto import tqdm\n",
    "from openai import OpenAI\n",
    "from typing import List, Optional, Dict, Any, Tuple\n",
    "import h5py, numpy as np\n",
    "def format_timestamp(ts=None):\n",
    "    if ts is None:\n",
    "        ts = datetime.now()\n",
    "    elif isinstance(ts, (int, float)):\n",
    "        ts = datetime.fromtimestamp(ts)\n",
    "    return ts.strftime(\"%Y_%m_%d_%H%M%S\")\n",
    "\n",
    "class Timer:\n",
    "    def __init__(self):\n",
    "        self.timings = {}\n",
    "\n",
    "    def timeit(self, name):\n",
    "        class _T:\n",
    "            def __enter__(_self):\n",
    "                _self.start = time.perf_counter()\n",
    "            def __exit__(_self, *a):\n",
    "                end=round(time.perf_counter() - _self.start, 3)\n",
    "                self.timings[name] = end\n",
    "        return _T()\n",
    "\n",
    "def classification_metrics(preds: list[str], labels: list[str]) -> dict:\n",
    "    metrics = {\n",
    "        \"accuracy\": accuracy_score(labels, preds),\n",
    "        \"precision_macro\": precision_score(labels, preds, average=\"macro\", zero_division=0),\n",
    "        \"recall_macro\": recall_score(labels, preds, average=\"macro\", zero_division=0),\n",
    "        \"f1_macro\": f1_score(labels, preds, average=\"macro\", zero_division=0),\n",
    "        \"confusion_matrix\": confusion_matrix(labels, preds).tolist(),\n",
    "        \"classification_report\": classification_report(labels, preds, zero_division=0, output_dict=True)\n",
    "    }\n",
    "    return metrics\n",
    "\n",
    "def print_experiment_summary(eval_metrics, \n",
    "                             router_config, timings, redis_schema=None, redis_index_info=None,\n",
    "                             experiment_notes=\"NA\", experiment_name=\"experiment\", \n",
    "                             print_output=True, save_output=True):\n",
    "    lines = []\n",
    "    lines.append(\"=== Experiment Summary: Semantic Routing Classification ===\\n\")\n",
    "\n",
    "    lines.append(f\"Timestamp         : {format_timestamp()}\")\n",
    "    lines.append(\"\")\n",
    "\n",
    "    lines.append(f\"Experiment Notes  : {experiment_notes}\")\n",
    "    lines.append(\"\")\n",
    "\n",
    "    # Data Config\n",
    "    lines.append(\"DATA CONFIGURATION\")\n",
    "    lines.append(f\"Router Name       : {router_config.get('name')}\")\n",
    "    lines.append(f\"Batch Size        : {router_config.get('batch_size')}\")\n",
    "    lines.append(f\"Dataset Repo ID    : {router_config.get('dataset_repo_id')}\")\n",
    "    lines.append(f\"Dataset Domain    : {router_config.get('dataset_domain')}\")\n",
    "    lines.append(f\"Dataset Name      : {router_config.get('dataset_name')}\")\n",
    "    lines.append(f\"Train Limit       : {router_config.get('train_limit')}\")\n",
    "    lines.append(f\"Test Limit        : {router_config.get('test_limit')}\")\n",
    "    vec_cfg = router_config.get('vectorizer_config', {})\n",
    "    lines.append(f\"Vector Dimensions : {vec_cfg.get('dimensions')}\")\n",
    "    lines.append(f\"Embedding Model   : {vec_cfg.get('OPENAI_MODEL')}\\n\")\n",
    "\n",
    "    # Redis Schema\n",
    "    if redis_schema:\n",
    "        idx = redis_schema.get('index', {})\n",
    "        lines.append(\"REDIS SCHEMA\")\n",
    "        lines.append(f\"Index Name        : {idx.get('name')}\")\n",
    "        lines.append(f\"Prefix            : {idx.get('prefix')}\")\n",
    "        lines.append(f\"Storage Type      : {idx.get('storage_type')}\")\n",
    "        lines.append(\"Fields:\")\n",
    "        for f in redis_schema.get('fields', []):\n",
    "            if f['type'] == 'vector':\n",
    "                attrs = f.get('attrs', {})\n",
    "                lines.append(f\"  - {f['name']} ({f['type']})  dims={attrs.get('dims')}, metric={attrs.get('distance_metric')}, algo={attrs.get('algorithm')}\")\n",
    "            else:\n",
    "                lines.append(f\"  - {f['name']} ({f['type']})\")\n",
    "    lines.append(\"\")\n",
    "\n",
    "    # Redis Index Info\n",
    "    if redis_index_info:\n",
    "        lines.append(\"REDIS INDEX INFO\")\n",
    "        lines.append(f\"Documents         : {redis_index_info['num_docs']}\")\n",
    "        lines.append(f\"Max Doc ID        : {redis_index_info['max_doc_id']}\")\n",
    "        lines.append(f\"Num Terms         : {redis_index_info['num_terms']}\")\n",
    "        lines.append(f\"Num Records       : {redis_index_info['num_records']}\")\n",
    "        lines.append(f\"Inverted Size (MB): {float(redis_index_info['inverted_sz_mb']):.6f}\")\n",
    "        lines.append(f\"Vector Index (MB) : {float(redis_index_info['vector_index_sz_mb']):.6f}\\n\")\n",
    "    else:\n",
    "        lines.append(\"No index info available\")\n",
    "\n",
    "    # Evaluation Metrics\n",
    "    lines.append(\"EVALUATION METRICS\")\n",
    "    lines.append(f\"Accuracy          : {eval_metrics['accuracy']:.4f}\")\n",
    "    lines.append(f\"Precision (macro) : {eval_metrics['precision_macro']:.4f}\")\n",
    "    lines.append(f\"Recall (macro)    : {eval_metrics['recall_macro']:.4f}\")\n",
    "    lines.append(f\"F1 (macro)        : {eval_metrics['f1_macro']:.4f}\\n\")\n",
    "\n",
    "    cm = eval_metrics['confusion_matrix']\n",
    "    lines.append(\"CONFUSION MATRIX [ [TP_0, FP_0], [FN_1, TP_1] ]\")\n",
    "    lines.append(f\"  {cm[0]}\")\n",
    "    lines.append(f\"  {cm[1]}\\n\")\n",
    "\n",
    "    lines.append(\"CLASSIFICATION REPORT\")\n",
    "    report = eval_metrics['classification_report']\n",
    "    for label, metrics in report.items():\n",
    "        if label in ['accuracy', 'macro avg', 'weighted avg']:\n",
    "            continue\n",
    "        lines.append(f\"Class {label}: \"\n",
    "                     f\"Precision={metrics['precision']:.3f}, \"\n",
    "                     f\"Recall={metrics['recall']:.3f}, \"\n",
    "                     f\"F1={metrics['f1-score']:.3f}, \"\n",
    "                     f\"Support={int(metrics['support'])}\")\n",
    "    lines.append(\"\")\n",
    "\n",
    "    macro = report.get('macro avg', {})\n",
    "    lines.append(\"Macro Avg:\")\n",
    "    lines.append(f\"  Precision={macro.get('precision', 0):.3f}, \"\n",
    "                 f\"Recall={macro.get('recall', 0):.3f}, \"\n",
    "                 f\"F1={macro.get('f1-score', 0):.3f}\\n\")\n",
    "\n",
    "    # Timings\n",
    "    lines.append(\"TIMINGS (seconds)\")\n",
    "    total=sum(timings.values())\n",
    "    for k, v in timings.items():\n",
    "        lines.append(f\"{k:<45}: {v:.3f}\")\n",
    "    lines.append(f\"Total: {total:.3f}\")\n",
    "    lines.append(\"\\n=============================================================\\n\")\n",
    "\n",
    "    output_str = \"\\n\".join(lines)\n",
    "\n",
    "    if print_output:\n",
    "        print(output_str)\n",
    "\n",
    "    if save_output:\n",
    "        os.makedirs(\"experiments\", exist_ok=True)\n",
    "        path = os.path.join(\"experiments\", f\"{format_timestamp()}_{experiment_name}.txt\")\n",
    "        with open(path, \"w\", encoding=\"utf-8\") as f:\n",
    "            f.write(output_str)\n",
    "\n",
    "    return output_str"
   ]
  },
  {
   "cell_type": "markdown",
   "id": "1a2c6e83",
   "metadata": {},
   "source": [
    "## OpenAI Embedding and Data Management"
   ]
  },
  {
   "cell_type": "code",
   "execution_count": 6,
   "id": "469ab400",
   "metadata": {},
   "outputs": [],
   "source": [
    "\n",
    "import os\n",
    "from tqdm.auto import tqdm\n",
    "from openai import OpenAI\n",
    "from typing import List, Optional, Dict, Any, Tuple\n",
    "import h5py, numpy as np\n",
    "\n",
    "def save_embeddings_h5(\n",
    "    path: str,\n",
    "    labels: List[Any],\n",
    "    embeds: List[List[float]],\n",
    "    meta: Optional[Dict] = None\n",
    ") -> None:\n",
    "    E = np.asarray(embeds, dtype=\"float32\")\n",
    "    n, d = E.shape\n",
    "    L = np.asarray([str(l) for l in labels], dtype=h5py.string_dtype(\"utf-8\"))\n",
    "    if len(L) != n:\n",
    "        raise ValueError(\"labels length must match number of embeddings\")\n",
    "\n",
    "    with h5py.File(path, \"a\") as f:\n",
    "        if \"embeddings\" not in f:\n",
    "            f.create_dataset(\"embeddings\", data=E, maxshape=(None, d),\n",
    "                             chunks=True, compression=\"gzip\", compression_opts=4)\n",
    "            f.create_dataset(\"labels\", data=L, maxshape=(None,),\n",
    "                             chunks=True, compression=\"gzip\", compression_opts=4)\n",
    "            if meta:\n",
    "                for k, v in meta.items():\n",
    "                    f.attrs[k] = v\n",
    "        else:\n",
    "            de, dl = f[\"embeddings\"], f[\"labels\"]\n",
    "            if de.shape[1] != d:\n",
    "                raise ValueError(f\"dim mismatch: file {de.shape[1]} vs new {d}\")\n",
    "            start = de.shape[0]\n",
    "            de.resize(start + n, axis=0)\n",
    "            dl.resize(start + n, axis=0)\n",
    "            de[start:start+n] = E\n",
    "            dl[start:start+n] = L\n",
    "\n",
    "def load_embeddings_h5(path: str, n: Optional[int] = None) -> tuple[list[list[float]], list[str]]:\n",
    "    with h5py.File(path, \"r\") as f:\n",
    "        for name in (\"embeddings\", \"labels\"):\n",
    "            if name not in f:\n",
    "                raise ValueError(f\"File missing '{name}' dataset\")\n",
    "        de, dl = f[\"embeddings\"], f[\"labels\"]\n",
    "        total = de.shape[0]\n",
    "        end = total if n is None else min(total, n)\n",
    "        vectors = de[:end]\n",
    "        labels = dl.asstr()[:end]\n",
    "    return vectors.tolist(), labels.tolist()\n",
    "\n",
    "def get_batch_embeddings(\n",
    "    text_list: list[str], \n",
    "    batch_size: int = 512,\n",
    "    dimensions: int = 128,\n",
    "    model: str = \"text-embedding-3-small\",\n",
    "    show_bar: bool = True\n",
    ") -> list[list[float]]:\n",
    "    client = OpenAI()\n",
    "    embeddings: List[List[float]] = []\n",
    "    texts = text_list\n",
    "    iterator = range(0, len(texts), batch_size)\n",
    "    pbar = tqdm(total=len(texts), unit=\"emb\", desc=\"Embedding\", disable=not show_bar)\n",
    "    try:\n",
    "        for i in iterator:\n",
    "            batch = texts[i:i + batch_size]\n",
    "            resp = client.embeddings.create(input=batch, model=model, dimensions=dimensions)\n",
    "            embeddings.extend([d.embedding for d in resp.data])\n",
    "            pbar.update(len(batch))\n",
    "    finally:\n",
    "        pbar.close()\n",
    "    return embeddings\n",
    "\n",
    "\n",
    "def get_batch_embeddings_to_h5(\n",
    "    out_path: str,\n",
    "    text_list: list[str],\n",
    "    labels_list: list[str],\n",
    "    batch_size: int = 512,\n",
    "    dimensions: int = 128,\n",
    "    model: str = \"text-embedding-3-small\",\n",
    "    show_bar: bool = True,\n",
    "    meta: Optional[Dict] = None,\n",
    "    return_data: bool = False,\n",
    "    append_existing: bool = False,\n",
    ") -> Optional[Tuple[list[list[float]], list[str]]]:\n",
    "    if len(text_list) != len(labels_list):\n",
    "        raise ValueError(\"text_list and labels_list must be same length\")\n",
    "\n",
    "    if os.path.exists(out_path) and not append_existing:\n",
    "        print(f\"File '{out_path}' already exists. Skipping embedding generation.\")\n",
    "        return None\n",
    "\n",
    "    client = OpenAI()\n",
    "    ret_E: List[List[float]] = []\n",
    "    ret_L: List[str] = []\n",
    "\n",
    "    iterator = range(0, len(text_list), batch_size)\n",
    "    pbar = tqdm(total=len(text_list), unit=\"emb\", desc=\"Embedding\", disable=not show_bar)\n",
    "\n",
    "    try:\n",
    "        for i in iterator:\n",
    "            batch_t = text_list[i:i + batch_size]\n",
    "            batch_l = labels_list[i:i + batch_size]\n",
    "            resp = client.embeddings.create(input=batch_t, model=model, dimensions=dimensions)\n",
    "            batch_e = [d.embedding for d in resp.data]\n",
    "\n",
    "            save_embeddings_h5(out_path, batch_l, batch_e, meta=meta)\n",
    "\n",
    "            if return_data:\n",
    "                ret_E.extend(batch_e)\n",
    "                ret_L.extend([str(x) for x in batch_l])\n",
    "\n",
    "            pbar.update(len(batch_t))\n",
    "    finally:\n",
    "        pbar.close()\n",
    "\n",
    "    return (ret_E, ret_L) if return_data else None"
   ]
  },
  {
   "cell_type": "markdown",
   "id": "cae20a4b",
   "metadata": {},
   "source": [
    "# Experiments"
   ]
  },
  {
   "cell_type": "markdown",
   "id": "8df99bf8",
   "metadata": {},
   "source": [
    "## Option 1: Custom Semantic Router - Direct Redis access - Allows for trying out techniques with Numpy Arrs"
   ]
  },
  {
   "cell_type": "markdown",
   "id": "0e302b7d",
   "metadata": {},
   "source": [
    "### Select and Download Datasets"
   ]
  },
  {
   "cell_type": "code",
   "execution_count": null,
   "id": "999ef6f4",
   "metadata": {},
   "outputs": [],
   "source": [
    "import os \n",
    "from datasets import load_dataset\n",
    "\n",
    "# See dataset page @ https://huggingface.co/datasets/ + repo_id\n",
    "eval_datasets={\n",
    "                \"Topic\": {\n",
    "                    \"DBLP\":{\n",
    "                        \"repo_id\": \"waashk/dblp\",\n",
    "                        \"train_lbl\": \"train\",\n",
    "                        \"test_lbl\": \"test\",\n",
    "                        \"text_col\": \"text\",\n",
    "                        \"label_col\": \"label\"\n",
    "                      }\n",
    "                    },\n",
    "                \"Sentiment\": {\n",
    "                    \"MPQA\":{\n",
    "                        \"repo_id\": \"jxm/mpqa\",\n",
    "                        \"train_lbl\": \"train\",\n",
    "                        \"test_lbl\": \"test\",\n",
    "                        \"text_col\": \"sentence\",\n",
    "                        \"label_col\": \"label\"\n",
    "                    }\n",
    "                }\n",
    "              }\n",
    "\n",
    "router_config = {\n",
    "    \"name\": \"test\",\n",
    "    \"batch_size\": 1024,\n",
    "    \"vectorizer_config\":{\n",
    "        \"dimensions\":128,\n",
    "        \"OPENAI_API_KEY\": os.getenv(\"OPENAI_API_KEY\"),\n",
    "        \"OPENAI_MODEL\": \"text-embedding-3-small\"\n",
    "    },\n",
    "    \"dataset_domain\": \"Sentiment\",\n",
    "    \"dataset_name\": \"MPQA\",\n",
    "}\n",
    "\n",
    "redis_schema = {\n",
    "    \"index\": {\n",
    "        \"name\": \"MPQA\",\n",
    "        \"prefix\": \"test1\",\n",
    "        \"storage_type\": \"hash\",\n",
    "    },\n",
    "    \"fields\": [\n",
    "        {\"name\": \"label\", \"type\": \"tag\"},\n",
    "        {\n",
    "            \"name\": \"vector\",\n",
    "            \"type\": \"vector\",\n",
    "            \"attrs\": {\n",
    "                \"dims\": router_config[\"vectorizer_config\"][\"dimensions\"],\n",
    "                \"distance_metric\": \"cosine\",\n",
    "                \"algorithm\": \"hnsw\",\n",
    "                \"datatype\": \"float32\"\n",
    "            }\n",
    "\n",
    "        }\n",
    "    ],\n",
    "}\n",
    "\n",
    "experiment_notes = \"\"\n",
    "\n",
    "timer=Timer()\n",
    "\n",
    "with timer.timeit(\"load_dataset\"):\n",
    "    dataset_repo_id = eval_datasets[router_config[\"dataset_domain\"]][router_config[\"dataset_name\"]][\"repo_id\"]\n",
    "    dataset_train_lbl = eval_datasets[router_config[\"dataset_domain\"]][router_config[\"dataset_name\"]][\"train_lbl\"]\n",
    "    dataset_test_lbl = eval_datasets[router_config[\"dataset_domain\"]][router_config[\"dataset_name\"]][\"test_lbl\"]\n",
    "    dataset_text_col = eval_datasets[router_config[\"dataset_domain\"]][router_config[\"dataset_name\"]][\"text_col\"]\n",
    "    dataset_label_col = eval_datasets[router_config[\"dataset_domain\"]][router_config[\"dataset_name\"]][\"label_col\"]\n",
    "\n",
    "    dataset = load_dataset(dataset_repo_id)\n",
    "    train_data = dataset[dataset_train_lbl]\n",
    "    test_data = dataset[dataset_test_lbl]\n",
    "\n",
    "    router_config.update({\"dataset_repo_id\":dataset_repo_id})\n",
    "    router_config.update({\"train_limit\":train_data.num_rows})\n",
    "    router_config.update({\"test_limit\":test_data.num_rows})\n",
    "\n",
    "# Define Experiment Names\n",
    "safe_repo = dataset_repo_id.replace(\"/\", \"-\")\n",
    "experiment_name = f'{router_config[\"name\"]}_{safe_repo}_{router_config[\"vectorizer_config\"][\"OPENAI_MODEL\"]}_{router_config[\"vectorizer_config\"][\"dimensions\"]}'\n",
    "train_filepath = f'embeddings/{experiment_name}_{dataset_train_lbl}_{str(train_data.num_rows)}.h5'\n",
    "test_filepath  = f'embeddings/{experiment_name}_{dataset_test_lbl}_{str(test_data.num_rows)}.h5'"
   ]
  },
  {
   "cell_type": "markdown",
   "id": "0c49e598",
   "metadata": {},
   "source": [
    "### Pre-Generate Embeddings for Train and Test Data, Save to Embeddings Folder"
   ]
  },
  {
   "cell_type": "code",
   "execution_count": null,
   "id": "5a212b61",
   "metadata": {},
   "outputs": [
    {
     "name": "stdout",
     "output_type": "stream",
     "text": [
      "File 'embeddings/test_jxm-mpqa_text-embedding-3-small_128_train_8603.h5' already exists. Skipping embedding generation.\n",
      "File 'embeddings/test_jxm-mpqa_text-embedding-3-small_128_test_2000.h5' already exists. Skipping embedding generation.\n"
     ]
    }
   ],
   "source": [
    "os.makedirs(\"embeddings\", exist_ok=True)\n",
    "\n",
    "with timer.timeit(\"Embed and Save Train Data\"):\n",
    "    train_embeddings = get_batch_embeddings_to_h5(out_path=train_filepath,\n",
    "                                                text_list=train_data[dataset_text_col],\n",
    "                                                labels_list=train_data[dataset_label_col],\n",
    "                                                batch_size=router_config[\"batch_size\"],\n",
    "                                                dimensions=router_config[\"vectorizer_config\"][\"dimensions\"],\n",
    "                                                model=router_config[\"vectorizer_config\"][\"OPENAI_MODEL\"])\n",
    "\n",
    "with timer.timeit(\"Embed and Save Test Data\"):\n",
    "    test_embeddings = get_batch_embeddings_to_h5(out_path=test_filepath,\n",
    "                                                text_list=test_data[dataset_text_col],\n",
    "                                                labels_list=test_data[dataset_label_col],\n",
    "                                                batch_size=router_config[\"batch_size\"],\n",
    "                                                dimensions=router_config[\"vectorizer_config\"][\"dimensions\"],\n",
    "                                                model=router_config[\"vectorizer_config\"][\"OPENAI_MODEL\"])"
   ]
  },
  {
   "cell_type": "markdown",
   "id": "19502e9b",
   "metadata": {},
   "source": [
    "### Load and Query Functions"
   ]
  },
  {
   "cell_type": "code",
   "execution_count": 45,
   "id": "b1ff508a",
   "metadata": {},
   "outputs": [],
   "source": [
    "import numpy as np\n",
    "import redis\n",
    "from redisvl.query import VectorQuery\n",
    "from redisvl.index import SearchIndex\n",
    "\n",
    "def _kmeans(x, k, iters=20, seed=0):\n",
    "    rng = np.random.default_rng(seed)\n",
    "    k = min(k, len(x))\n",
    "    idx = rng.choice(len(x), size=k, replace=False)\n",
    "    c = x[idx].copy()\n",
    "    for _ in range(iters):\n",
    "        d = ((x[:, None, :] - c[None, :, :])**2).sum(-1)\n",
    "        a = d.argmin(1)\n",
    "        new_c = []\n",
    "        for j in range(k):\n",
    "            sj = (a == j)\n",
    "            if sj.any():\n",
    "                new_c.append(x[sj].mean(0))\n",
    "            else:\n",
    "                new_c.append(c[rng.integers(0, k)])\n",
    "        new_c = np.stack(new_c, 0)\n",
    "        if np.allclose(new_c, c):\n",
    "            break\n",
    "        c = new_c\n",
    "    return c, a\n",
    "\n",
    "def build_multi_prototypes(vectors, labels, mask=None, k_per_class=1, \n",
    "                           max_points_per_proto=None, normalize=True, seed=0):\n",
    "    \"\"\"\n",
    "    If max_points_per_proto is set, k for class c becomes ceil(n_c / max_points_per_proto).\n",
    "    Otherwise use fixed k_per_class.\n",
    "    \"\"\"\n",
    "    labels = np.asarray(labels)\n",
    "    V = np.asarray(vectors, dtype=np.float32)\n",
    "    if mask is None:\n",
    "        mask = np.linalg.norm(V, axis=1) > 0\n",
    "    V, L = V[mask], labels[mask]\n",
    "\n",
    "    out = []\n",
    "    for cls in np.unique(L):\n",
    "        sel = (L == cls)\n",
    "        X = V[sel]\n",
    "        if len(X) == 0:\n",
    "            continue\n",
    "\n",
    "        if max_points_per_proto is not None and max_points_per_proto > 0:\n",
    "            k = int(np.ceil(len(X) / max_points_per_proto))\n",
    "        else:\n",
    "            k = int(k_per_class)\n",
    "        k = max(1, min(k, len(X)))\n",
    "\n",
    "        centers, assign = _kmeans(X, k=k, seed=seed)\n",
    "        for j in range(len(centers)):\n",
    "            sj = (assign == j)\n",
    "            if not sj.any():\n",
    "                continue\n",
    "            mu = centers[j]\n",
    "            if normalize:\n",
    "                n = np.linalg.norm(mu)\n",
    "                if n > 0:\n",
    "                    mu = mu / (n + 1e-12)\n",
    "            weight = float(sj.mean())  # fraction of class points in this prototype\n",
    "            out.append({\"vector\": mu.astype(np.float32).tobytes(), \"label\": cls, \"weight\": weight})\n",
    "    return out\n",
    "\n",
    "def route_label(vec, labels, index, k=5):\n",
    "    means = {}\n",
    "    for lab in labels:\n",
    "        q = VectorQuery(\n",
    "            vector=list(map(float, vec)),\n",
    "            vector_field_name=\"vector\",\n",
    "            num_results=k,\n",
    "            return_fields=[\"label\", \"vector_distance\"],\n",
    "            filter_expression=f\"@label:{{{lab}}}\",\n",
    "        )\n",
    "        hits = index.query(q)\n",
    "        if hits:\n",
    "            dists = [float(h[\"vector_distance\"]) for h in hits]\n",
    "            means[lab] = sum(dists) / len(dists)\n",
    "    if not means:\n",
    "        return None, {}\n",
    "    best = min(means, key=means.get)\n",
    "    return best, means\n",
    "\n",
    "def route_batch(vectors, labels, index, k=5):\n",
    "    out = []\n",
    "    for v in tqdm(vectors):\n",
    "        best, _ = route_label(v, labels, index, k)\n",
    "        out.append(best)\n",
    "    return out"
   ]
  },
  {
   "cell_type": "markdown",
   "id": "1bfcfcd7",
   "metadata": {},
   "source": [
    "### Pre-Generated Experiment"
   ]
  },
  {
   "cell_type": "code",
   "execution_count": 64,
   "id": "0b10c815",
   "metadata": {},
   "outputs": [
    {
     "data": {
      "text/plain": [
       "10"
      ]
     },
     "execution_count": 64,
     "metadata": {},
     "output_type": "execute_result"
    }
   ],
   "source": [
    "\n",
    "\n",
    "with timer.timeit(\"Load and process train data, create Redis Index\"):\n",
    "    r = redis.Redis(host=REDIS_HOST, port=REDIS_PORT, db=REDIS_DB)\n",
    "    try:\n",
    "        r.flushdb()\n",
    "        r.ft(redis_schema[\"index\"][\"name\"]).dropindex() \n",
    "    except:\n",
    "        pass\n",
    "\n",
    "    index = SearchIndex.from_dict(redis_schema, redis_url=REDIS_URL)\n",
    "    index.create(overwrite=True)\n",
    "    vectors,labels=load_embeddings_h5(train_filepath)\n",
    "    unique_labels=list(set(labels))\n",
    "    vectors = np.array(vectors)\n",
    "    data = build_multi_prototypes(vectors, labels, mask=None, k_per_class=5, max_points_per_proto=None, normalize=True, seed=0)\n",
    "\n",
    "    keys = index.load(data)\n",
    "index.info()['num_docs']"
   ]
  },
  {
   "cell_type": "code",
   "execution_count": 47,
   "id": "ce3e5d7d",
   "metadata": {},
   "outputs": [
    {
     "name": "stderr",
     "output_type": "stream",
     "text": [
      "100%|██████████| 2000/2000 [00:00<00:00, 2039.42it/s]\n"
     ]
    }
   ],
   "source": [
    "with timer.timeit(\"Load and process test data\"):\n",
    "    test_vectors,test_labels=load_embeddings_h5(test_filepath, n=test_data.num_rows)\n",
    "    test_vectors = np.array(test_vectors)\n",
    "    test_vectors /= np.linalg.norm(test_vectors, axis=1, keepdims=True) + 1e-12\n",
    "with timer.timeit(\"Route test data\"):\n",
    "    preds=route_batch(test_vectors, unique_labels, index, k=5)\n",
    "\n",
    "eval_metrics = classification_metrics(\n",
    "    preds=preds,\n",
    "    labels=test_labels\n",
    ")"
   ]
  },
  {
   "cell_type": "code",
   "execution_count": null,
   "id": "11190f7c",
   "metadata": {},
   "outputs": [
    {
     "name": "stdout",
     "output_type": "stream",
     "text": [
      "=== Experiment Summary: Semantic Routing Classification ===\n",
      "\n",
      "Timestamp         : 2025_10_15_164430\n",
      "\n",
      "DATA CONFIGURATION\n",
      "Router Name       : test\n",
      "Batch Size        : 1024\n",
      "Dataset Domain    : Sentiment\n",
      "Dataset Name      : MPQA\n",
      "Train Limit       : 8603\n",
      "Test Limit        : 2000\n",
      "Vector Dimensions : 128\n",
      "Embedding Model   : text-embedding-3-small\n",
      "\n",
      "REDIS SCHEMA\n",
      "Index Name        : MPQA\n",
      "Prefix            : test1\n",
      "Storage Type      : hash\n",
      "Fields:\n",
      "  - label (tag)\n",
      "  - vector (vector)  dims=128, metric=cosine, algo=hnsw\n",
      "\n",
      "REDIS INDEX INFO\n",
      "Documents         : 10\n",
      "Max Doc ID        : 10\n",
      "Num Terms         : 0\n",
      "Num Records       : 20\n",
      "Inverted Size (MB): 0.000164\n",
      "Vector Index (MB) : 0.724480\n",
      "\n",
      "EVALUATION METRICS\n",
      "Accuracy          : 0.8360\n",
      "Precision (macro) : 0.8361\n",
      "Recall (macro)    : 0.8360\n",
      "F1 (macro)        : 0.8360\n",
      "\n",
      "CONFUSION MATRIX [ [TP_0, FP_0], [FN_1, TP_1] ]\n",
      "  [827, 173]\n",
      "  [155, 845]\n",
      "\n",
      "CLASSIFICATION REPORT\n",
      "Class 0: Precision=0.842, Recall=0.827, F1=0.835, Support=1000\n",
      "Class 1: Precision=0.830, Recall=0.845, F1=0.837, Support=1000\n",
      "\n",
      "Macro Avg:\n",
      "  Precision=0.836, Recall=0.836, F1=0.836\n",
      "\n",
      "TIMINGS (seconds)\n",
      "load_dataset                                 : 2.126\n",
      "Embed and Save Train Data                    : 0.001\n",
      "Embed and Save Test Data                     : 0.000\n",
      "Load and process train data, create Redis Index: 0.334\n",
      "Load and process test data                   : 0.019\n",
      "Route test data                              : 0.982\n",
      "\n",
      "=============================================================\n",
      "\n"
     ]
    },
    {
     "data": {
      "text/plain": [
       "'=== Experiment Summary: Semantic Routing Classification ===\\n\\nTimestamp         : 2025_10_15_164430\\n\\nDATA CONFIGURATION\\nRouter Name       : test\\nBatch Size        : 1024\\nDataset Domain    : Sentiment\\nDataset Name      : MPQA\\nTrain Limit       : 8603\\nTest Limit        : 2000\\nVector Dimensions : 128\\nEmbedding Model   : text-embedding-3-small\\n\\nREDIS SCHEMA\\nIndex Name        : MPQA\\nPrefix            : test1\\nStorage Type      : hash\\nFields:\\n  - label (tag)\\n  - vector (vector)  dims=128, metric=cosine, algo=hnsw\\n\\nREDIS INDEX INFO\\nDocuments         : 10\\nMax Doc ID        : 10\\nNum Terms         : 0\\nNum Records       : 20\\nInverted Size (MB): 0.000164\\nVector Index (MB) : 0.724480\\n\\nEVALUATION METRICS\\nAccuracy          : 0.8360\\nPrecision (macro) : 0.8361\\nRecall (macro)    : 0.8360\\nF1 (macro)        : 0.8360\\n\\nCONFUSION MATRIX [ [TP_0, FP_0], [FN_1, TP_1] ]\\n  [827, 173]\\n  [155, 845]\\n\\nCLASSIFICATION REPORT\\nClass 0: Precision=0.842, Recall=0.827, F1=0.835, Support=1000\\nClass 1: Precision=0.830, Recall=0.845, F1=0.837, Support=1000\\n\\nMacro Avg:\\n  Precision=0.836, Recall=0.836, F1=0.836\\n\\nTIMINGS (seconds)\\nload_dataset                                 : 2.126\\nEmbed and Save Train Data                    : 0.001\\nEmbed and Save Test Data                     : 0.000\\nLoad and process train data, create Redis Index: 0.334\\nLoad and process test data                   : 0.019\\nRoute test data                              : 0.982\\n\\n=============================================================\\n'"
      ]
     },
     "execution_count": 48,
     "metadata": {},
     "output_type": "execute_result"
    }
   ],
   "source": [
    "exp_summary = print_experiment_summary(eval_metrics, redis_schema, router_config, timer.timings, index.info(), experiment_name=experiment_name)"
   ]
  },
  {
   "cell_type": "markdown",
   "id": "27f860c1",
   "metadata": {},
   "source": [
    "# Option 2: OOTB Semantic Routing - The Offering from RedisVL, slight changes to handle more data bulk"
   ]
  },
  {
   "cell_type": "markdown",
   "id": "2e0b573c",
   "metadata": {},
   "source": [
    "### Custom Semantic Router - Allows messing with dimensions + batch sizes for bulky preds"
   ]
  },
  {
   "cell_type": "code",
   "execution_count": null,
   "id": "bfb00228",
   "metadata": {},
   "outputs": [],
   "source": [
    "from tenacity import retry, stop_after_attempt, wait_random_exponential\n",
    "from tenacity.retry import retry_if_not_exception_type\n",
    "from tqdm.auto import tqdm\n",
    "import os\n",
    "from redisvl.extensions.router import SemanticRouter\n",
    "from redisvl.extensions.router import Route\n",
    "from redisvl.utils.vectorize import OpenAITextVectorizer\n",
    "from redisvl.extensions.cache.embeddings.embeddings import EmbeddingsCache\n",
    "from datasets import load_dataset, Dataset\n",
    "from redisvl.extensions.router.schema import (\n",
    "    DistanceAggregationMethod,\n",
    "    Route,\n",
    "    RouteMatch\n",
    ")\n",
    "from redis.commands.search.aggregation import AggregateRequest, AggregateResult, Reducer\n",
    "from redisvl.redis.utils import hashify\n",
    "from redisvl.query import FilterQuery, VectorRangeQuery\n",
    "from redisvl.extensions.constants import ROUTE_VECTOR_FIELD_NAME\n",
    "from redis.exceptions import ResponseError\n",
    "from pydantic import PrivateAttr\n",
    "from collections import defaultdict\n",
    "\n",
    "from collections import defaultdict\n",
    "from itertools import accumulate\n",
    "from typing import List, Optional\n",
    "from tqdm import tqdm\n",
    "\n",
    "\n",
    "class HighVisOpenAITextVectorizer(OpenAITextVectorizer):\n",
    "    _default_batch_size: int = PrivateAttr(1024)\n",
    "    _dimensions: int = PrivateAttr(1536)\n",
    "    def __init__(self, *args, default_batch_size: int = 1024, dimensions: int = 1536, **kwargs):\n",
    "        super().__init__(*args, **kwargs)\n",
    "        self._default_batch_size = default_batch_size\n",
    "        self._dimensions = dimensions\n",
    "\n",
    "    @retry(\n",
    "    wait=wait_random_exponential(min=1, max=60),\n",
    "    stop=stop_after_attempt(6),\n",
    "    retry=retry_if_not_exception_type(TypeError),\n",
    "    )\n",
    "    def _embed_many(self, texts: List[str], batch_size: Optional[int] = None,\n",
    "                    dimensions: Optional[int] = None, **kwargs) -> List[List[float]]:\n",
    "        if not isinstance(texts, list) or (texts and not isinstance(texts[0], str)):\n",
    "            raise TypeError(\"Must pass in a list of str values to embed.\")\n",
    "        embeddings: List = []\n",
    "        pbar = tqdm(total=len(texts), unit=\"emb\", desc=\"Embedding\", disable=False)\n",
    "        for batch in tqdm(self.batchify(texts, self._default_batch_size)):\n",
    "            try:\n",
    "                resp = self._client.embeddings.create(input=batch, model=self.model, dimensions=self._dimensions, **kwargs)\n",
    "                embeddings += [r.embedding for r in resp.data]\n",
    "                pbar.update(len(batch))\n",
    "            except Exception as e:\n",
    "                raise ValueError(f\"Embedding texts failed: {e}\")\n",
    "        pbar.close()\n",
    "        return embeddings\n",
    "\n",
    "class BigBatchSemanticRouter(SemanticRouter):\n",
    "\n",
    "    def _add_routes(self, routes: List[Route]):\n",
    "        \"\"\"Add routes to the router and index.\n",
    "\n",
    "        Args:\n",
    "            routes (List[Route]): List of routes to be added.\n",
    "        \"\"\"\n",
    "        route_references: List[Dict[str, Any]] = []\n",
    "        keys: List[str] = []\n",
    "\n",
    "        for route in routes:\n",
    "            # embed route references as a single batch\n",
    "            reference_vectors = self.vectorizer.embed_many(\n",
    "                [reference for reference in route.references], as_buffer=True\n",
    "            )\n",
    "            # set route references\n",
    "            for i, reference in enumerate(route.references):\n",
    "                reference_hash = hashify(reference)\n",
    "                route_references.append(\n",
    "                    {\n",
    "                        \"reference_id\": reference_hash,\n",
    "                        \"route_name\": route.name,\n",
    "                        \"reference\": reference,\n",
    "                        \"vector\": reference_vectors[i],\n",
    "                    }\n",
    "                )\n",
    "                keys.append(\n",
    "                    self._route_ref_key(self._index, route.name, reference_hash)\n",
    "                )\n",
    "            # set route if does not yet exist client side\n",
    "            if not self.get(route.name):\n",
    "                self.routes.append(route)\n",
    "        self._index.load(route_references, keys=keys)\n",
    "\n",
    "    def _get_route_matches(\n",
    "        self,\n",
    "        vector: List[float],\n",
    "        aggregation_method: DistanceAggregationMethod,\n",
    "        max_k: int = 1,\n",
    "    ) -> List[RouteMatch]:\n",
    "        \"\"\"Get route response from vector db\"\"\"\n",
    "\n",
    "        # what's interesting about this is that we only provide one distance_threshold for a range query not multiple\n",
    "        # therefore you might take the max_threshold and further refine from there.\n",
    "        distance_threshold = max(route.distance_threshold for route in self.routes)\n",
    "\n",
    "        vector_range_query = VectorRangeQuery(\n",
    "            vector=vector,\n",
    "            vector_field_name=ROUTE_VECTOR_FIELD_NAME,\n",
    "            distance_threshold=float(distance_threshold),\n",
    "            return_fields=[\"route_name\"],\n",
    "        )\n",
    "\n",
    "        aggregate_request = self._build_aggregate_request(\n",
    "            vector_range_query, aggregation_method, max_k=max_k\n",
    "        )\n",
    "\n",
    "        try:\n",
    "            aggregation_result: AggregateResult = self._index.aggregate(\n",
    "                aggregate_request, vector_range_query.params\n",
    "            )\n",
    "        except ResponseError as e:\n",
    "            if \"VSS is not yet supported on FT.AGGREGATE\" in str(e):\n",
    "                raise RuntimeError(\n",
    "                    \"Semantic routing is only available on Redis version 7.x.x or greater\"\n",
    "                )\n",
    "            raise e\n",
    "\n",
    "        # process aggregation results into route matches\n",
    "        return [\n",
    "            self._process_route(route_match) for route_match in aggregation_result.rows\n",
    "        ]\n",
    "    \n",
    "    def _classify_multi_route(\n",
    "        self,\n",
    "        vector: List[float],\n",
    "        max_k: int,\n",
    "        aggregation_method: DistanceAggregationMethod,\n",
    "    ) -> List[RouteMatch]:\n",
    "        \"\"\"Classify to multiple routes, up to max_k (int), using a vector.\"\"\"\n",
    "\n",
    "        route_matches = self._get_route_matches(vector, aggregation_method, max_k=max_k)\n",
    "\n",
    "        # process route matches\n",
    "        top_route_matches: List[RouteMatch] = []\n",
    "        if route_matches:\n",
    "            for route_match in route_matches:\n",
    "                if route_match.name is not None:\n",
    "                    top_route_matches.append(route_match)\n",
    "                else:\n",
    "                    raise ValueError(\n",
    "                        f\"{route_match.name} not a supported route for the {self.name} semantic router.\"\n",
    "                    )\n",
    "\n",
    "        return top_route_matches\n",
    "\n",
    "    def bulk_route(\n",
    "        self,\n",
    "        statements: Optional[List[str]] = None,\n",
    "        vectors: Optional[List[List[float]]] = None,\n",
    "        max_k: Optional[int] = None,\n",
    "        distance_threshold: Optional[float] = None,\n",
    "        aggregation_method: Optional[DistanceAggregationMethod] = None,\n",
    "    ) -> List[List[RouteMatch]]:\n",
    "        \"\"\"For mass routing.\n",
    "        \"\"\"\n",
    "        if not vectors:\n",
    "            if not statements:\n",
    "                raise ValueError(\"Must provide a list of vectors or statements to the router\")\n",
    "            vectors = self.vectorizer.embed_many(statements)  # type: ignore\n",
    "\n",
    "        max_k = max_k or self.routing_config.max_k\n",
    "        aggregation_method = (\n",
    "            aggregation_method or self.routing_config.aggregation_method\n",
    "        )\n",
    "\n",
    "        pbar = tqdm(total=len(vectors), unit=\"pred\", desc=\"Assessing\", disable=False)\n",
    "        results: List[List[RouteMatch]] = []\n",
    "        for v in vectors:\n",
    "            matches = self._classify_multi_route(v, max_k, aggregation_method)  # type: ignore\n",
    "            if distance_threshold is not None:\n",
    "                try:\n",
    "                    matches = [m for m in matches if m.distance <= distance_threshold]  # type: ignore\n",
    "                except AttributeError:\n",
    "                    pass\n",
    "            results.append(matches)\n",
    "            pbar.update(1)\n",
    "        pbar.close()\n",
    "        return results\n",
    "\n",
    "\n",
    "    def bulk_democratic_route(\n",
    "        self,\n",
    "        statements: Optional[List[str]] = None,\n",
    "        vectors: Optional[List[List[float]]] = None,\n",
    "        max_k: Optional[int] = None,\n",
    "        distance_threshold: Optional[float] = None,\n",
    "        aggregation_method=None,\n",
    "    ) -> List[str]:\n",
    "        assert (statements or vectors) and not (statements and vectors)\n",
    "\n",
    "        max_k = max_k or 10\n",
    "        aggregation_method = aggregation_method or self.routing_config.aggregation_method\n",
    "\n",
    "        # 1) Build chunks and owners\n",
    "        if vectors is None:\n",
    "            all_chunks = []\n",
    "            owners = []\n",
    "            for i, s in enumerate(statements):\n",
    "                ch = chunk_texts([s])\n",
    "                all_chunks.extend(ch)\n",
    "                owners.extend([i] * len(ch))\n",
    "            # 2) Batch embed once\n",
    "            all_vecs = self.vectorizer.embed_many(all_chunks)\n",
    "        else:\n",
    "            # Caller pre-supplied vectors and owners must be 1:1 with statements\n",
    "            # Interpret each vector list item as a chunk of statement i\n",
    "            owners = []\n",
    "            all_vecs = []\n",
    "            for i, vecs_i in enumerate(vectors):\n",
    "                all_vecs.extend(vecs_i)\n",
    "                owners.extend([i] * len(vecs_i))\n",
    "\n",
    "        n_statements = (len(statements) if statements else (max(owners) + 1))\n",
    "        vote_counts = [defaultdict(float) for _ in range(n_statements)]\n",
    "\n",
    "        # 3) Classify chunks and accumulate votes by owner\n",
    "        pbar = tqdm(total=len(all_vecs), unit=\"chunk\", desc=\"Assessing\", disable=False)\n",
    "        for vec, owner in zip(all_vecs, owners):\n",
    "            matches = self._classify_multi_route(vec, max_k, aggregation_method)\n",
    "            for m in matches:\n",
    "                vote_counts[owner][m.name] += (m.vector_distance ** 2)\n",
    "            pbar.update(1)\n",
    "        pbar.close()\n",
    "\n",
    "        # 4) Pick winners\n",
    "        preds = []\n",
    "        for vc in vote_counts:\n",
    "            if not vc:\n",
    "                preds.append(None)\n",
    "            else:\n",
    "                preds.append(max(vc, key=vc.get))\n",
    "        return preds\n",
    "\n",
    "\n",
    "        # if not vectors:\n",
    "        #     if not statements:\n",
    "        #         raise ValueError(\"Must provide a list of vectors or statements to the router\")\n",
    "        #     vectors = self.vectorizer.embed_many(statements)  # type: ignore\n",
    "\n",
    "        # max_k = max_k or self.routing_config.max_k\n",
    "        # aggregation_method = (\n",
    "        #     aggregation_method or self.routing_config.aggregation_method\n",
    "        # )\n",
    "\n",
    "        # pbar = tqdm(total=len(vectors), unit=\"pred\", desc=\"Assessing\", disable=False)\n",
    "        # results: List[List[RouteMatch]] = []\n",
    "        # for v in vectors:\n",
    "        #     matches = self._classify_multi_route(v, max_k, aggregation_method)  # type: ignore\n",
    "        #     if distance_threshold is not None:\n",
    "        #         try:\n",
    "        #             matches = [m for m in matches if m.distance <= distance_threshold]  # type: ignore\n",
    "        #         except AttributeError:\n",
    "        #             pass\n",
    "        #     results.append(matches)\n",
    "        #     pbar.update(1)\n",
    "        # pbar.close()\n",
    "        # return results\n",
    "\n",
    "\n",
    "def nuke_redis():\n",
    "    import redis\n",
    "    try:\n",
    "        r = redis.Redis(host=REDIS_HOST, port=REDIS_PORT, db=REDIS_DB)\n",
    "        r.flushdb()\n",
    "    except:\n",
    "        pass\n",
    "\n"
   ]
  },
  {
   "cell_type": "markdown",
   "id": "e9f61b81",
   "metadata": {},
   "source": [
    "### Custom Router Optimizer"
   ]
  },
  {
   "cell_type": "code",
   "execution_count": 11,
   "id": "59838920",
   "metadata": {},
   "outputs": [],
   "source": [
    "import random\n",
    "from typing import Any, Callable, Dict, List\n",
    "\n",
    "import numpy as np\n",
    "from ranx import Qrels, Run, evaluate\n",
    "from redisvl.extensions.router.semantic import SemanticRouter\n",
    "\n",
    "from redis_retrieval_optimizer.threshold_optimization.base import (\n",
    "    BaseThresholdOptimizer,\n",
    "    EvalMetric,\n",
    ")\n",
    "from redis_retrieval_optimizer.threshold_optimization.schema import LabeledData\n",
    "from redis_retrieval_optimizer.threshold_optimization.utils import (\n",
    "    NULL_RESPONSE_KEY,\n",
    "    _format_qrels,\n",
    ")\n",
    "\n",
    "\n",
    "def _generate_run_router(test_data: List[LabeledData], router: SemanticRouter) -> \"Run\":\n",
    "    \"\"\"Format router results into format for ranx Run\"\"\"\n",
    "    if Run is None:\n",
    "        raise ImportError(\"ranx is required for threshold optimization\")\n",
    "    if np is None:\n",
    "        raise ImportError(\"numpy is required for threshold optimization\")\n",
    "\n",
    "    run_dict: Dict[Any, Any] = {}\n",
    "\n",
    "    bulk_route = router.bulk_route(statements=[td.query for td in test_data], max_k=1)\n",
    "    print(len(bulk_route))\n",
    "    for td, match in zip(test_data, bulk_route):\n",
    "        run_dict[td.id] = {}\n",
    "        if match:\n",
    "            run_dict[td.id][match[0].name] = np.int64(1)\n",
    "        else:\n",
    "            run_dict[td.id][NULL_RESPONSE_KEY] = np.int64(1)\n",
    "\n",
    "    # for td in test_data:\n",
    "    #     run_dict[td.id] = {}\n",
    "    #     route_match = router(td.query)\n",
    "    #     if route_match and route_match.name == td.query_match:\n",
    "    #         run_dict[td.id][td.query_match] = np.int64(1)\n",
    "    #     else:\n",
    "    #         run_dict[td.id][NULL_RESPONSE_KEY] = np.int64(1)\n",
    "\n",
    "    return Run(run_dict)\n",
    "\n",
    "\n",
    "def _eval_router(\n",
    "    router: SemanticRouter,\n",
    "    test_data: List[LabeledData],\n",
    "    qrels: \"Qrels\",\n",
    "    eval_metric: str,\n",
    ") -> float:\n",
    "    \"\"\"Evaluate acceptable metric given run and qrels data\"\"\"\n",
    "    if evaluate is None:\n",
    "        raise ImportError(\"ranx is required for threshold optimization\")\n",
    "\n",
    "    run = _generate_run_router(test_data, router)\n",
    "    return evaluate(qrels, run, eval_metric, make_comparable=True)\n",
    "\n",
    "\n",
    "def _router_random_search(\n",
    "    route_names: List[str], route_thresholds: dict, search_step=0.10\n",
    "):\n",
    "    \"\"\"Performs random search for many thresholds to many routes\"\"\"\n",
    "    if np is None:\n",
    "        raise ImportError(\"numpy is required for threshold optimization\")\n",
    "\n",
    "    score_threshold_values = []\n",
    "    for route in route_names:\n",
    "        score_threshold_values.append(\n",
    "            np.linspace(\n",
    "                start=max(route_thresholds[route] - search_step, 0),\n",
    "                stop=route_thresholds[route] + search_step,\n",
    "                num=100,\n",
    "            )\n",
    "        )\n",
    "\n",
    "    return {\n",
    "        route: float(random.choice(score_threshold_values[i]))\n",
    "        for i, route in enumerate(route_names)\n",
    "    }\n",
    "\n",
    "\n",
    "def _random_search_opt_router(\n",
    "    router: SemanticRouter,\n",
    "    test_data: List[LabeledData],\n",
    "    qrels: \"Qrels\",\n",
    "    eval_metric: EvalMetric,\n",
    "    **kwargs: Any,\n",
    "):\n",
    "    \"\"\"Performs complete optimization for router cases provide acceptable metric\"\"\"\n",
    "    print(\"Starting Optimization\")\n",
    "\n",
    "    start_score = _eval_router(router, test_data, qrels, eval_metric.value)\n",
    "    best_score = start_score\n",
    "    best_thresholds = router.route_thresholds\n",
    "\n",
    "    max_iterations = kwargs.get(\"max_iterations\", 20)\n",
    "    search_step = kwargs.get(\"search_step\", 0.10)\n",
    "\n",
    "    pbar = tqdm(total=max_iterations, desc=\"Optimizing Routes\")\n",
    "    for _ in range(max_iterations):\n",
    "        route_names = router.route_names\n",
    "        route_thresholds = router.route_thresholds\n",
    "        thresholds = _router_random_search(\n",
    "            route_names=route_names,\n",
    "            route_thresholds=route_thresholds,\n",
    "            search_step=search_step,\n",
    "        )\n",
    "        router.update_route_thresholds(thresholds)\n",
    "        print(\"Eval starting\")\n",
    "        score = _eval_router(router, test_data, qrels, eval_metric.value)\n",
    "        if score > best_score:\n",
    "            best_score = score\n",
    "            best_thresholds = thresholds\n",
    "        pbar.update(1)\n",
    "\n",
    "    print(\n",
    "        f\"Eval metric {eval_metric.value.upper()}: start {round(start_score, 3)}, end {round(best_score, 3)} \\nEnding thresholds: {router.route_thresholds}\"\n",
    "    )\n",
    "    router.update_route_thresholds(best_thresholds)\n",
    "    pbar.close()\n",
    "\n",
    "\n",
    "class BulkRouterThresholdOptimizer(BaseThresholdOptimizer):\n",
    "    def __init__(\n",
    "        self,\n",
    "        router: SemanticRouter,\n",
    "        test_dict: List[Dict[str, Any]],\n",
    "        opt_fn: Callable = _random_search_opt_router,\n",
    "        eval_metric: str = \"f1\",\n",
    "    ):\n",
    "        \"\"\"Initialize the router optimizer.\n",
    "\n",
    "        Args:\n",
    "            router (SemanticRouter): The RedisVL SemanticRouter instance to optimize.\n",
    "            test_dict (List[Dict[str, Any]]): List of test cases.\n",
    "            opt_fn (Callable): Function to perform optimization. Defaults to\n",
    "                grid search.\n",
    "            eval_metric (str): Evaluation metric for threshold optimization.\n",
    "                Defaults to \"f1\" score.\n",
    "        Raises:\n",
    "            ValueError: If the test_dict not in LabeledData format.\n",
    "        \"\"\"\n",
    "        super().__init__(router, test_dict, opt_fn, eval_metric)\n",
    "\n",
    "    def optimize(self, **kwargs: Any):\n",
    "        \"\"\"Optimize kicks off the optimization process for router\"\"\"\n",
    "        qrels = _format_qrels(self.test_data)\n",
    "        self.opt_fn(self.optimizable, self.test_data, qrels, self.eval_metric, **kwargs)"
   ]
  },
  {
   "cell_type": "code",
   "execution_count": null,
   "id": "35bdf937",
   "metadata": {},
   "outputs": [],
   "source": []
  },
  {
   "cell_type": "markdown",
   "id": "92ea4cad",
   "metadata": {},
   "source": [
    "### Experiment"
   ]
  },
  {
   "cell_type": "code",
   "execution_count": 9,
   "id": "f4c33243",
   "metadata": {},
   "outputs": [],
   "source": [
    "nuke_redis()"
   ]
  },
  {
   "cell_type": "code",
   "execution_count": null,
   "id": "d406d866",
   "metadata": {},
   "outputs": [
    {
     "data": {
      "text/plain": [
       "40"
      ]
     },
     "execution_count": 47,
     "metadata": {},
     "output_type": "execute_result"
    }
   ],
   "source": []
  },
  {
   "cell_type": "code",
   "execution_count": 50,
   "id": "52e86d13",
   "metadata": {},
   "outputs": [],
   "source": [
    "from datasets import load_dataset, concatenate_datasets, Column\n",
    "import re\n",
    "import string\n",
    "import tiktoken\n",
    "\n",
    "def standardize_strings(strings):\n",
    "    table = str.maketrans('', '', string.punctuation)\n",
    "    cleaned = []\n",
    "    for s in strings:\n",
    "        s = s.lower()\n",
    "        s = s.translate(table)\n",
    "        s = re.sub(r'\\s+', ' ', s).strip()\n",
    "        cleaned.append(s)\n",
    "    return cleaned\n",
    "\n",
    "def chunk_texts(texts, chunk_size=256, overlap=64, model=\"gpt-5\"):\n",
    "    enc = tiktoken.encoding_for_model(model)\n",
    "    chunks = []\n",
    "    for text in texts:\n",
    "        tokens = enc.encode(text)\n",
    "        for i in range(0, len(tokens), chunk_size):\n",
    "            chunk = enc.decode(tokens[i:i+chunk_size])\n",
    "            chunks.append(chunk)\n",
    "    return chunks\n",
    "\n",
    "def build_route(\n",
    "    references: list[str],\n",
    "    label: str,\n",
    "    priority: int = 1,\n",
    "    distance_threshold: float = 0.5\n",
    "    ) -> Route:\n",
    "  route = Route(\n",
    "      name=label,\n",
    "      references=references,\n",
    "      metadata={\"category\": label, \"priority\": priority},\n",
    "      distance_threshold=distance_threshold\n",
    "  )\n",
    "  return route\n",
    "\n",
    "def build_routes_from_hf_data(\n",
    "    dataset: Dataset,\n",
    "    text_col: str = \"text\",\n",
    "    label_col: str = \"label\",\n",
    "    distance_threshold: float = 0.5\n",
    "    ) -> list[Route]:\n",
    "    '''\n",
    "    Expects dataset to be of form:\n",
    "    Dataset({\n",
    "        features: ['text', 'label'],\n",
    "        num_rows: 343152\n",
    "    })\n",
    "    '''\n",
    "    df = dataset.to_pandas()[[text_col, label_col]]\n",
    "    texts_by_label = df.groupby(label_col)[text_col].apply(list).to_dict()\n",
    "    return [build_route(references=chunk_texts(standardize_strings([str(i) if str(i).strip() != \"\" else \"0\" for i in refs])), label=str(lbl), distance_threshold=distance_threshold) for lbl, refs in texts_by_label.items()]\n",
    "\n",
    "\n",
    "eval_datasets={\n",
    "                \"Topic\": {\n",
    "                    \"DBLP\":{\n",
    "                        \"repo_id\": \"waashk/dblp\",\n",
    "                        \"train_lbl\": \"train\",\n",
    "                        \"test_lbl\": \"test\",\n",
    "                        \"text_col\": \"text\",\n",
    "                        \"label_col\": \"label\"\n",
    "                      },\n",
    "                      \"20NG\":{\n",
    "                        \"repo_id\": \"waashk/20ng\",\n",
    "                        \"train_lbl\": \"train\",\n",
    "                        \"test_lbl\": \"test\",\n",
    "                        \"text_col\": \"text\",\n",
    "                        \"label_col\": \"label\"\n",
    "                      },\n",
    "                      \"TREC\":{\n",
    "                        \"repo_id\": \"waashk/trec\",\n",
    "                        \"train_lbl\": \"train\",\n",
    "                        \"test_lbl\": \"test\",\n",
    "                        \"text_col\": \"text\",\n",
    "                        \"label_col\": \"label\"\n",
    "                      },\n",
    "                      \"WOS-5736\":{\n",
    "                        \"repo_id\": \"waashk/wos5736\",\n",
    "                        \"train_lbl\": \"train\",\n",
    "                        \"test_lbl\": \"test\",\n",
    "                        \"text_col\": \"text\",\n",
    "                        \"label_col\": \"label\"\n",
    "                      }\n",
    "                    },\n",
    "                \"Sentiment\": {\n",
    "                    \"SST-1\":{\n",
    "                        \"repo_id\": \"waashk/sst1\",\n",
    "                        \"train_lbl\": \"train\",\n",
    "                        \"test_lbl\": \"test\",\n",
    "                        \"text_col\": \"text\",\n",
    "                        \"label_col\": \"label\"\n",
    "\n",
    "                    },\n",
    "                    \"SST-2\":{\n",
    "                        \"repo_id\": \"SetFit/sst2\",\n",
    "                        \"train_lbl\": \"train\",\n",
    "                        \"test_lbl\": \"test\",\n",
    "                        \"text_col\": \"text\",\n",
    "                        \"label_col\": \"label\"\n",
    "\n",
    "                    },\n",
    "                    \"MPQA\":{\n",
    "                        \"repo_id\": \"jxm/mpqa\",\n",
    "                        \"train_lbl\": \"train\",\n",
    "                        \"test_lbl\": \"test\",\n",
    "                        \"text_col\": \"sentence\",\n",
    "                        \"label_col\": \"label\"\n",
    "                    }\n",
    "                },\n",
    "                \"Large\":{\n",
    "                    \"AGNews\":{\n",
    "                        \"repo_id\": \"SetFit/ag_news\",\n",
    "                        \"train_lbl\": \"train\",\n",
    "                        \"test_lbl\": \"test\",\n",
    "                        \"text_col\": \"text\",\n",
    "                        \"label_col\": \"label\"\n",
    "                    }\n",
    "                }\n",
    "              }\n",
    "\n",
    "router_config = {\n",
    "    \"name\": \"OOTB\",\n",
    "    \"batch_size\": 1024,\n",
    "    \"vectorizer_config\":{\n",
    "        \"dimensions\":1536,\n",
    "        \"OPENAI_API_KEY\": os.getenv(\"OPENAI_API_KEY\"),\n",
    "        \"OPENAI_MODEL\": \"text-embedding-3-small\"\n",
    "    },\n",
    "    \"dataset_domain\": \"Topic\",\n",
    "    \"dataset_name\": \"WOS-5736\",\n",
    "}\n",
    "\n",
    "experiment_notes = \"\"\n",
    "\n",
    "# dataset_repo_id = eval_datasets[router_config[\"dataset_domain\"]][router_config[\"dataset_name\"]][\"repo_id\"]\n",
    "# dataset = load_dataset(dataset_repo_id)\n",
    "# print(dataset)\n",
    "\n",
    "timer=Timer()\n",
    "\n",
    "with timer.timeit(\"load_dataset\"):\n",
    "    dataset_repo_id = eval_datasets[router_config[\"dataset_domain\"]][router_config[\"dataset_name\"]][\"repo_id\"]\n",
    "    dataset_train_lbl = eval_datasets[router_config[\"dataset_domain\"]][router_config[\"dataset_name\"]][\"train_lbl\"]\n",
    "    dataset_test_lbl = eval_datasets[router_config[\"dataset_domain\"]][router_config[\"dataset_name\"]][\"test_lbl\"]\n",
    "    dataset_text_col = eval_datasets[router_config[\"dataset_domain\"]][router_config[\"dataset_name\"]][\"text_col\"]\n",
    "    dataset_label_col = eval_datasets[router_config[\"dataset_domain\"]][router_config[\"dataset_name\"]][\"label_col\"]\n",
    "\n",
    "    dataset = load_dataset(dataset_repo_id, data_files={\"train\":\"train_fold_0.parquet\", \"test\":\"test_fold_0.parquet\"})\n",
    "\n",
    "    # Merge dev with train\n",
    "    all_splits = list(dataset.keys())\n",
    "    extra_splits = [s for s in all_splits if s not in (dataset_train_lbl, dataset_test_lbl)]\n",
    "    if extra_splits:\n",
    "        train_data = concatenate_datasets([dataset[dataset_train_lbl]] + [dataset[s] for s in extra_splits])\n",
    "    else:\n",
    "        train_data = dataset[dataset_train_lbl]\n",
    "\n",
    "    if \"alternate_scoring_source\" in eval_datasets[router_config[\"dataset_domain\"]][router_config[\"dataset_name\"]]:\n",
    "        altdataset_repo_id = eval_datasets[router_config[\"dataset_domain\"]][router_config[\"dataset_name\"]][\"alternate_scoring_source\"][\"repo_id\"]\n",
    "        altdataset_test_lbl = eval_datasets[router_config[\"dataset_domain\"]][router_config[\"dataset_name\"]][\"alternate_scoring_source\"][\"test_lbl\"]\n",
    "        altdataset = load_dataset(altdataset_repo_id)\n",
    "        test_text_col = eval_datasets[router_config[\"dataset_domain\"]][router_config[\"dataset_name\"]][\"alternate_scoring_source\"][\"text_col\"]\n",
    "        test_label_col = eval_datasets[router_config[\"dataset_domain\"]][router_config[\"dataset_name\"]][\"alternate_scoring_source\"][\"label_col\"]\n",
    "        test_data = altdataset[altdataset_test_lbl]\n",
    "    else:\n",
    "        test_text_col = dataset_text_col\n",
    "        test_label_col = dataset_label_col\n",
    "        test_data = dataset[dataset_test_lbl]\n",
    "\n",
    "    router_config.update({\"dataset_repo_id\":dataset_repo_id})\n",
    "    router_config.update({\"train_limit\":dataset[dataset_train_lbl].num_rows})\n",
    "    router_config.update({\"test_limit\":dataset[dataset_test_lbl].num_rows})\n",
    "\n",
    "# Define Experiment Names\n",
    "safe_repo = dataset_repo_id.replace(\"/\", \"-\")\n",
    "experiment_name = f'{router_config[\"name\"]}_{safe_repo}_{router_config[\"vectorizer_config\"][\"OPENAI_MODEL\"]}_{router_config[\"vectorizer_config\"][\"dimensions\"]}'\n",
    "\n"
   ]
  },
  {
   "cell_type": "code",
   "execution_count": 57,
   "id": "75e46dbe",
   "metadata": {},
   "outputs": [
    {
     "name": "stdout",
     "output_type": "stream",
     "text": [
      "Dataset({\n",
      "    features: ['text', 'label'],\n",
      "    num_rows: 16954\n",
      "})\n"
     ]
    }
   ],
   "source": [
    "print(train_data)"
   ]
  },
  {
   "cell_type": "code",
   "execution_count": 58,
   "id": "65dbe991",
   "metadata": {},
   "outputs": [
    {
     "name": "stdout",
     "output_type": "stream",
     "text": [
      "Dataset({\n",
      "    features: ['text', 'label'],\n",
      "    num_rows: 1892\n",
      "})\n"
     ]
    }
   ],
   "source": [
    "print(test_data)"
   ]
  },
  {
   "cell_type": "code",
   "execution_count": 59,
   "id": "8ef5bd64",
   "metadata": {},
   "outputs": [],
   "source": [
    "nuke_redis()\n"
   ]
  },
  {
   "cell_type": "code",
   "execution_count": 43,
   "id": "0a26b183",
   "metadata": {},
   "outputs": [
    {
     "name": "stdout",
     "output_type": "stream",
     "text": [
      "Dataset({\n",
      "    features: ['text', 'label'],\n",
      "    num_rows: 10669\n",
      "})\n",
      "Dataset({\n",
      "    features: ['text', 'label'],\n",
      "    num_rows: 1186\n",
      "})\n",
      "Column([3, 1, 3, 1, 1])\n"
     ]
    }
   ],
   "source": [
    "print(train_data)\n",
    "print(test_data)\n",
    "print(test_data['label'])"
   ]
  },
  {
   "cell_type": "code",
   "execution_count": 67,
   "id": "c8dc25d0",
   "metadata": {},
   "outputs": [
    {
     "name": "stdout",
     "output_type": "stream",
     "text": [
      "23:19:03 httpx INFO   HTTP Request: POST https://api.openai.com/v1/embeddings \"HTTP/1.1 200 OK\"\n",
      "23:19:03 redisvl.index.index INFO   Index already exists, overwriting.\n"
     ]
    }
   ],
   "source": [
    "timer=Timer()\n",
    "\n",
    "with timer.timeit(\"Build Routes\"):\n",
    "    routes = build_routes_from_hf_data(dataset=train_data, text_col=dataset_text_col, label_col=dataset_label_col, distance_threshold=0.9)\n",
    "\n",
    "vectorizer=HighVisOpenAITextVectorizer(\n",
    "    model=router_config[\"vectorizer_config\"][\"OPENAI_MODEL\"],\n",
    "    api_config={\"api_key\": router_config[\"vectorizer_config\"][\"OPENAI_API_KEY\"]},\n",
    "    cache=EmbeddingsCache(redis_url=REDIS_URL),\n",
    "    default_batch_size=router_config[\"batch_size\"],\n",
    "    dimensions=router_config[\"vectorizer_config\"][\"dimensions\"]\n",
    ")\n",
    "\n",
    "with timer.timeit(\"Build Router\"):\n",
    "    router = BigBatchSemanticRouter(\n",
    "        name=router_config[\"name\"],\n",
    "        routes=routes,\n",
    "        vectorizer=vectorizer,\n",
    "        redis_url=REDIS_URL,\n",
    "        overwrite=True\n",
    "    )"
   ]
  },
  {
   "cell_type": "code",
   "execution_count": null,
   "id": "b72ecc90",
   "metadata": {},
   "outputs": [],
   "source": [
    "''' \n",
    "Optional for now\n",
    "'''\n",
    "\n",
    "# train_data_arr=[{\"query\": train_data[dataset_text_col][i], \"query_match\":str(train_data[dataset_label_col][i])} for i in range(len(train_data))]\n",
    "# optimizer = BulkRouterThresholdOptimizer(router, train_data_arr)\n",
    "# optimizer.optimize()"
   ]
  },
  {
   "cell_type": "code",
   "execution_count": null,
   "id": "f437f660",
   "metadata": {},
   "outputs": [
    {
     "name": "stderr",
     "output_type": "stream",
     "text": [
      "Assessing:   0%|          | 0/574 [00:00<?, ?pred/s]\n",
      "\u001b[A"
     ]
    },
    {
     "name": "stdout",
     "output_type": "stream",
     "text": [
      "23:19:08 httpx INFO   HTTP Request: POST https://api.openai.com/v1/embeddings \"HTTP/1.1 200 OK\"\n"
     ]
    },
    {
     "name": "stderr",
     "output_type": "stream",
     "text": [
      "\n",
      "1it [00:00,  2.81it/s]\n",
      "Embedding: 100%|██████████| 2/2 [00:00<00:00,  5.60emb/s]\n",
      "Assessing:   0%|          | 2/574 [00:00<02:04,  4.58pred/s]\n",
      "\u001b[A"
     ]
    },
    {
     "name": "stdout",
     "output_type": "stream",
     "text": [
      "23:19:09 httpx INFO   HTTP Request: POST https://api.openai.com/v1/embeddings \"HTTP/1.1 200 OK\"\n"
     ]
    },
    {
     "name": "stderr",
     "output_type": "stream",
     "text": [
      "\n",
      "1it [00:00,  2.05it/s]\n",
      "Embedding: 100%|██████████| 1/1 [00:00<00:00,  2.04emb/s]\n",
      "Assessing:   1%|          | 3/574 [00:00<03:15,  2.92pred/s]\n",
      "\u001b[A"
     ]
    },
    {
     "name": "stdout",
     "output_type": "stream",
     "text": [
      "23:19:09 httpx INFO   HTTP Request: POST https://api.openai.com/v1/embeddings \"HTTP/1.1 200 OK\"\n"
     ]
    },
    {
     "name": "stderr",
     "output_type": "stream",
     "text": [
      "\n",
      "1it [00:00,  2.83it/s]\n",
      "Embedding: 100%|██████████| 1/1 [00:00<00:00,  2.82emb/s]\n",
      "Assessing:   1%|          | 4/574 [00:01<03:23,  2.80pred/s]\n",
      "\u001b[A"
     ]
    },
    {
     "name": "stdout",
     "output_type": "stream",
     "text": [
      "23:19:13 httpx INFO   HTTP Request: POST https://api.openai.com/v1/embeddings \"HTTP/1.1 200 OK\"\n"
     ]
    },
    {
     "name": "stderr",
     "output_type": "stream",
     "text": [
      "\n",
      "1it [00:03,  3.17s/it]\n",
      "Embedding: 100%|██████████| 1/1 [00:03<00:00,  3.17s/emb]\n",
      "Assessing:   1%|          | 5/574 [00:04<12:48,  1.35s/pred]\n",
      "\u001b[A"
     ]
    },
    {
     "name": "stdout",
     "output_type": "stream",
     "text": [
      "23:19:14 httpx INFO   HTTP Request: POST https://api.openai.com/v1/embeddings \"HTTP/1.1 200 OK\"\n"
     ]
    },
    {
     "name": "stderr",
     "output_type": "stream",
     "text": [
      "\n",
      "1it [00:00,  1.14it/s]\n",
      "Embedding: 100%|██████████| 2/2 [00:00<00:00,  2.27emb/s]\n",
      "Assessing:   1%|          | 6/574 [00:05<11:26,  1.21s/pred]\n",
      "\u001b[A"
     ]
    },
    {
     "name": "stdout",
     "output_type": "stream",
     "text": [
      "23:19:14 httpx INFO   HTTP Request: POST https://api.openai.com/v1/embeddings \"HTTP/1.1 200 OK\"\n"
     ]
    },
    {
     "name": "stderr",
     "output_type": "stream",
     "text": [
      "\n",
      "1it [00:00,  2.36it/s]\n",
      "Embedding: 100%|██████████| 1/1 [00:00<00:00,  2.35emb/s]\n",
      "Assessing:   1%|          | 7/574 [00:05<09:09,  1.03pred/s]\n",
      "\u001b[A"
     ]
    },
    {
     "name": "stdout",
     "output_type": "stream",
     "text": [
      "23:19:15 httpx INFO   HTTP Request: POST https://api.openai.com/v1/embeddings \"HTTP/1.1 200 OK\"\n"
     ]
    },
    {
     "name": "stderr",
     "output_type": "stream",
     "text": [
      "\n",
      "1it [00:00,  1.62it/s]\n",
      "Embedding: 100%|██████████| 2/2 [00:00<00:00,  3.23emb/s]\n",
      "Assessing:   1%|▏         | 8/574 [00:06<08:13,  1.15pred/s]\n",
      "\u001b[A"
     ]
    },
    {
     "name": "stdout",
     "output_type": "stream",
     "text": [
      "23:19:15 httpx INFO   HTTP Request: POST https://api.openai.com/v1/embeddings \"HTTP/1.1 200 OK\"\n"
     ]
    },
    {
     "name": "stderr",
     "output_type": "stream",
     "text": [
      "\n",
      "1it [00:00,  3.03it/s]\n",
      "Embedding: 100%|██████████| 1/1 [00:00<00:00,  3.01emb/s]\n",
      "Assessing:   2%|▏         | 9/574 [00:06<06:42,  1.40pred/s]\n",
      "\u001b[A"
     ]
    },
    {
     "name": "stdout",
     "output_type": "stream",
     "text": [
      "23:19:16 httpx INFO   HTTP Request: POST https://api.openai.com/v1/embeddings \"HTTP/1.1 200 OK\"\n"
     ]
    },
    {
     "name": "stderr",
     "output_type": "stream",
     "text": [
      "\n",
      "1it [00:00,  1.47it/s]\n",
      "Embedding: 100%|██████████| 1/1 [00:00<00:00,  1.47emb/s]\n",
      "Assessing:   2%|▏         | 10/574 [00:07<06:40,  1.41pred/s]\n",
      "\u001b[A"
     ]
    },
    {
     "name": "stdout",
     "output_type": "stream",
     "text": [
      "23:19:16 httpx INFO   HTTP Request: POST https://api.openai.com/v1/embeddings \"HTTP/1.1 200 OK\"\n"
     ]
    },
    {
     "name": "stderr",
     "output_type": "stream",
     "text": [
      "\n",
      "1it [00:00,  2.68it/s]\n",
      "Embedding: 100%|██████████| 1/1 [00:00<00:00,  2.66emb/s]\n",
      "Assessing:   2%|▏         | 11/574 [00:08<05:47,  1.62pred/s]\n",
      "\u001b[A"
     ]
    },
    {
     "name": "stdout",
     "output_type": "stream",
     "text": [
      "23:19:18 httpx INFO   HTTP Request: POST https://api.openai.com/v1/embeddings \"HTTP/1.1 200 OK\"\n"
     ]
    },
    {
     "name": "stderr",
     "output_type": "stream",
     "text": [
      "\n",
      "1it [00:01,  1.63s/it]\n",
      "Embedding: 100%|██████████| 2/2 [00:01<00:00,  1.23emb/s]\n",
      "Assessing:   2%|▏         | 12/574 [00:09<08:47,  1.06pred/s]\n",
      "\u001b[A"
     ]
    },
    {
     "name": "stdout",
     "output_type": "stream",
     "text": [
      "23:19:20 httpx INFO   HTTP Request: POST https://api.openai.com/v1/embeddings \"HTTP/1.1 200 OK\"\n"
     ]
    },
    {
     "name": "stderr",
     "output_type": "stream",
     "text": [
      "\n",
      "1it [00:01,  1.87s/it]\n",
      "Embedding: 100%|██████████| 1/1 [00:01<00:00,  1.87s/emb]\n",
      "Assessing:   2%|▏         | 13/574 [00:11<11:30,  1.23s/pred]\n",
      "\u001b[A"
     ]
    },
    {
     "name": "stdout",
     "output_type": "stream",
     "text": [
      "23:19:21 httpx INFO   HTTP Request: POST https://api.openai.com/v1/embeddings \"HTTP/1.1 200 OK\"\n"
     ]
    },
    {
     "name": "stderr",
     "output_type": "stream",
     "text": [
      "\n",
      "1it [00:01,  1.58s/it]\n",
      "Embedding: 100%|██████████| 1/1 [00:01<00:00,  1.58s/emb]\n",
      "Assessing:   2%|▏         | 14/574 [00:13<12:31,  1.34s/pred]\n",
      "\u001b[A"
     ]
    },
    {
     "name": "stdout",
     "output_type": "stream",
     "text": [
      "23:19:22 httpx INFO   HTTP Request: POST https://api.openai.com/v1/embeddings \"HTTP/1.1 200 OK\"\n"
     ]
    },
    {
     "name": "stderr",
     "output_type": "stream",
     "text": [
      "\n",
      "1it [00:01,  1.01s/it]\n",
      "Embedding: 100%|██████████| 1/1 [00:01<00:00,  1.01s/emb]\n",
      "Assessing:   3%|▎         | 15/574 [00:14<11:39,  1.25s/pred]\n",
      "\u001b[A"
     ]
    },
    {
     "name": "stdout",
     "output_type": "stream",
     "text": [
      "23:19:23 httpx INFO   HTTP Request: POST https://api.openai.com/v1/embeddings \"HTTP/1.1 200 OK\"\n"
     ]
    },
    {
     "name": "stderr",
     "output_type": "stream",
     "text": [
      "\n",
      "1it [00:00,  2.30it/s]\n",
      "Embedding: 100%|██████████| 1/1 [00:00<00:00,  2.29emb/s]\n",
      "Assessing:   3%|▎         | 16/574 [00:14<09:25,  1.01s/pred]\n",
      "\u001b[A"
     ]
    },
    {
     "name": "stdout",
     "output_type": "stream",
     "text": [
      "23:19:25 httpx INFO   HTTP Request: POST https://api.openai.com/v1/embeddings \"HTTP/1.1 200 OK\"\n"
     ]
    },
    {
     "name": "stderr",
     "output_type": "stream",
     "text": [
      "\n",
      "1it [00:01,  1.69s/it]\n",
      "Embedding: 100%|██████████| 1/1 [00:01<00:00,  1.69s/emb]\n",
      "Assessing:   3%|▎         | 17/574 [00:16<11:22,  1.23s/pred]\n",
      "\u001b[A"
     ]
    },
    {
     "name": "stdout",
     "output_type": "stream",
     "text": [
      "23:19:25 httpx INFO   HTTP Request: POST https://api.openai.com/v1/embeddings \"HTTP/1.1 200 OK\"\n"
     ]
    },
    {
     "name": "stderr",
     "output_type": "stream",
     "text": [
      "\n",
      "1it [00:00,  2.44it/s]\n",
      "Embedding: 100%|██████████| 2/2 [00:00<00:00,  4.87emb/s]\n",
      "Assessing:   3%|▎         | 18/574 [00:16<09:12,  1.01pred/s]\n",
      "\u001b[A"
     ]
    },
    {
     "name": "stdout",
     "output_type": "stream",
     "text": [
      "23:19:25 httpx INFO   HTTP Request: POST https://api.openai.com/v1/embeddings \"HTTP/1.1 200 OK\"\n"
     ]
    },
    {
     "name": "stderr",
     "output_type": "stream",
     "text": [
      "\n",
      "1it [00:00,  2.85it/s]\n",
      "Embedding: 100%|██████████| 2/2 [00:00<00:00,  5.68emb/s]\n",
      "Assessing:   3%|▎         | 19/574 [00:17<07:32,  1.23pred/s]\n",
      "\u001b[A"
     ]
    },
    {
     "name": "stdout",
     "output_type": "stream",
     "text": [
      "23:19:26 httpx INFO   HTTP Request: POST https://api.openai.com/v1/embeddings \"HTTP/1.1 200 OK\"\n"
     ]
    },
    {
     "name": "stderr",
     "output_type": "stream",
     "text": [
      "\n",
      "1it [00:00,  2.49it/s]\n",
      "Embedding: 100%|██████████| 1/1 [00:00<00:00,  2.48emb/s]\n",
      "Assessing:   3%|▎         | 20/574 [00:17<06:27,  1.43pred/s]\n",
      "\u001b[A"
     ]
    },
    {
     "name": "stdout",
     "output_type": "stream",
     "text": [
      "23:19:26 httpx INFO   HTTP Request: POST https://api.openai.com/v1/embeddings \"HTTP/1.1 200 OK\"\n"
     ]
    },
    {
     "name": "stderr",
     "output_type": "stream",
     "text": [
      "\n",
      "1it [00:00,  2.60it/s]\n",
      "Embedding: 100%|██████████| 1/1 [00:00<00:00,  2.59emb/s]\n",
      "Assessing:   4%|▎         | 21/574 [00:18<05:39,  1.63pred/s]\n",
      "\u001b[A"
     ]
    },
    {
     "name": "stdout",
     "output_type": "stream",
     "text": [
      "23:19:27 httpx INFO   HTTP Request: POST https://api.openai.com/v1/embeddings \"HTTP/1.1 200 OK\"\n"
     ]
    },
    {
     "name": "stderr",
     "output_type": "stream",
     "text": [
      "\n",
      "1it [00:00,  1.74it/s]\n",
      "Embedding: 100%|██████████| 1/1 [00:00<00:00,  1.73emb/s]\n",
      "Assessing:   4%|▍         | 22/574 [00:18<05:37,  1.64pred/s]\n",
      "\u001b[A"
     ]
    },
    {
     "name": "stdout",
     "output_type": "stream",
     "text": [
      "23:19:28 httpx INFO   HTTP Request: POST https://api.openai.com/v1/embeddings \"HTTP/1.1 200 OK\"\n"
     ]
    },
    {
     "name": "stderr",
     "output_type": "stream",
     "text": [
      "\n",
      "1it [00:00,  1.44it/s]\n",
      "Embedding: 100%|██████████| 1/1 [00:00<00:00,  1.44emb/s]\n",
      "Assessing:   4%|▍         | 23/574 [00:19<05:55,  1.55pred/s]\n",
      "\u001b[A"
     ]
    },
    {
     "name": "stdout",
     "output_type": "stream",
     "text": [
      "23:19:28 httpx INFO   HTTP Request: POST https://api.openai.com/v1/embeddings \"HTTP/1.1 200 OK\"\n"
     ]
    },
    {
     "name": "stderr",
     "output_type": "stream",
     "text": [
      "\n",
      "1it [00:00,  1.44it/s]\n",
      "Embedding: 100%|██████████| 1/1 [00:00<00:00,  1.44emb/s]\n",
      "Assessing:   4%|▍         | 24/574 [00:20<06:08,  1.49pred/s]\n",
      "\u001b[A"
     ]
    },
    {
     "name": "stdout",
     "output_type": "stream",
     "text": [
      "23:19:29 httpx INFO   HTTP Request: POST https://api.openai.com/v1/embeddings \"HTTP/1.1 200 OK\"\n"
     ]
    },
    {
     "name": "stderr",
     "output_type": "stream",
     "text": [
      "\n",
      "1it [00:00,  2.60it/s]\n",
      "Embedding: 100%|██████████| 2/2 [00:00<00:00,  5.19emb/s]\n",
      "Assessing:   4%|▍         | 25/574 [00:20<05:26,  1.68pred/s]\n",
      "\u001b[A"
     ]
    },
    {
     "name": "stdout",
     "output_type": "stream",
     "text": [
      "23:19:30 httpx INFO   HTTP Request: POST https://api.openai.com/v1/embeddings \"HTTP/1.1 200 OK\"\n"
     ]
    },
    {
     "name": "stderr",
     "output_type": "stream",
     "text": [
      "\n",
      "1it [00:00,  1.10it/s]\n",
      "Embedding: 100%|██████████| 2/2 [00:00<00:00,  2.19emb/s]\n",
      "Assessing:   5%|▍         | 26/574 [00:21<06:26,  1.42pred/s]\n",
      "\u001b[A"
     ]
    },
    {
     "name": "stdout",
     "output_type": "stream",
     "text": [
      "23:19:30 httpx INFO   HTTP Request: POST https://api.openai.com/v1/embeddings \"HTTP/1.1 200 OK\"\n"
     ]
    },
    {
     "name": "stderr",
     "output_type": "stream",
     "text": [
      "\n",
      "1it [00:00,  1.75it/s]\n",
      "Embedding: 100%|██████████| 1/1 [00:00<00:00,  1.75emb/s]\n",
      "Assessing:   5%|▍         | 27/574 [00:22<06:08,  1.48pred/s]\n",
      "\u001b[A"
     ]
    },
    {
     "name": "stdout",
     "output_type": "stream",
     "text": [
      "23:19:31 httpx INFO   HTTP Request: POST https://api.openai.com/v1/embeddings \"HTTP/1.1 200 OK\"\n"
     ]
    },
    {
     "name": "stderr",
     "output_type": "stream",
     "text": [
      "\n",
      "1it [00:00,  1.47it/s]\n",
      "Embedding: 100%|██████████| 2/2 [00:00<00:00,  2.93emb/s]\n",
      "Assessing:   5%|▍         | 28/574 [00:22<06:17,  1.45pred/s]\n",
      "\u001b[A"
     ]
    },
    {
     "name": "stdout",
     "output_type": "stream",
     "text": [
      "23:19:33 httpx INFO   HTTP Request: POST https://api.openai.com/v1/embeddings \"HTTP/1.1 200 OK\"\n"
     ]
    },
    {
     "name": "stderr",
     "output_type": "stream",
     "text": [
      "\n",
      "1it [00:01,  1.51s/it]\n",
      "Embedding: 100%|██████████| 2/2 [00:01<00:00,  1.32emb/s]\n",
      "Assessing:   5%|▌         | 29/574 [00:24<08:39,  1.05pred/s]\n",
      "\u001b[A"
     ]
    },
    {
     "name": "stdout",
     "output_type": "stream",
     "text": [
      "23:19:33 httpx INFO   HTTP Request: POST https://api.openai.com/v1/embeddings \"HTTP/1.1 200 OK\"\n"
     ]
    },
    {
     "name": "stderr",
     "output_type": "stream",
     "text": [
      "\n",
      "1it [00:00,  1.71it/s]\n",
      "Embedding: 100%|██████████| 2/2 [00:00<00:00,  3.42emb/s]\n",
      "Assessing:   5%|▌         | 30/574 [00:25<07:46,  1.17pred/s]\n",
      "\u001b[A"
     ]
    },
    {
     "name": "stdout",
     "output_type": "stream",
     "text": [
      "23:19:34 httpx INFO   HTTP Request: POST https://api.openai.com/v1/embeddings \"HTTP/1.1 200 OK\"\n"
     ]
    },
    {
     "name": "stderr",
     "output_type": "stream",
     "text": [
      "\n",
      "1it [00:00,  2.56it/s]\n",
      "Embedding: 100%|██████████| 2/2 [00:00<00:00,  5.11emb/s]\n",
      "Assessing:   5%|▌         | 31/574 [00:25<06:37,  1.37pred/s]\n",
      "\u001b[A"
     ]
    },
    {
     "name": "stdout",
     "output_type": "stream",
     "text": [
      "23:19:34 httpx INFO   HTTP Request: POST https://api.openai.com/v1/embeddings \"HTTP/1.1 200 OK\"\n"
     ]
    },
    {
     "name": "stderr",
     "output_type": "stream",
     "text": [
      "\n",
      "1it [00:00,  2.45it/s]\n",
      "Embedding: 100%|██████████| 1/1 [00:00<00:00,  2.44emb/s]\n",
      "Assessing:   6%|▌         | 32/574 [00:26<05:49,  1.55pred/s]\n",
      "\u001b[A"
     ]
    },
    {
     "name": "stdout",
     "output_type": "stream",
     "text": [
      "23:19:35 httpx INFO   HTTP Request: POST https://api.openai.com/v1/embeddings \"HTTP/1.1 200 OK\"\n"
     ]
    },
    {
     "name": "stderr",
     "output_type": "stream",
     "text": [
      "\n",
      "1it [00:00,  2.10it/s]\n",
      "Embedding: 100%|██████████| 2/2 [00:00<00:00,  4.18emb/s]\n",
      "Assessing:   6%|▌         | 33/574 [00:26<05:29,  1.64pred/s]\n",
      "\u001b[A"
     ]
    },
    {
     "name": "stdout",
     "output_type": "stream",
     "text": [
      "23:19:35 httpx INFO   HTTP Request: POST https://api.openai.com/v1/embeddings \"HTTP/1.1 200 OK\"\n"
     ]
    },
    {
     "name": "stderr",
     "output_type": "stream",
     "text": [
      "\n",
      "1it [00:00,  2.31it/s]\n",
      "Embedding: 100%|██████████| 2/2 [00:00<00:00,  4.60emb/s]\n",
      "Assessing:   6%|▌         | 34/574 [00:27<05:09,  1.74pred/s]\n",
      "\u001b[A"
     ]
    },
    {
     "name": "stdout",
     "output_type": "stream",
     "text": [
      "23:19:36 httpx INFO   HTTP Request: POST https://api.openai.com/v1/embeddings \"HTTP/1.1 200 OK\"\n"
     ]
    },
    {
     "name": "stderr",
     "output_type": "stream",
     "text": [
      "\n",
      "1it [00:00,  2.60it/s]\n",
      "Embedding: 100%|██████████| 2/2 [00:00<00:00,  5.17emb/s]\n",
      "Assessing:   6%|▌         | 35/574 [00:27<04:47,  1.88pred/s]\n",
      "\u001b[A"
     ]
    },
    {
     "name": "stdout",
     "output_type": "stream",
     "text": [
      "23:19:36 httpx INFO   HTTP Request: POST https://api.openai.com/v1/embeddings \"HTTP/1.1 200 OK\"\n"
     ]
    },
    {
     "name": "stderr",
     "output_type": "stream",
     "text": [
      "\n",
      "1it [00:00,  2.13it/s]\n",
      "Embedding: 100%|██████████| 1/1 [00:00<00:00,  2.12emb/s]\n",
      "Assessing:   6%|▋         | 36/574 [00:27<04:42,  1.91pred/s]\n",
      "\u001b[A"
     ]
    },
    {
     "name": "stdout",
     "output_type": "stream",
     "text": [
      "23:19:37 httpx INFO   HTTP Request: POST https://api.openai.com/v1/embeddings \"HTTP/1.1 200 OK\"\n"
     ]
    },
    {
     "name": "stderr",
     "output_type": "stream",
     "text": [
      "\n",
      "1it [00:00,  1.76it/s]\n",
      "Embedding: 100%|██████████| 1/1 [00:00<00:00,  1.75emb/s]\n",
      "Assessing:   6%|▋         | 37/574 [00:28<04:54,  1.83pred/s]\n",
      "\u001b[A"
     ]
    },
    {
     "name": "stdout",
     "output_type": "stream",
     "text": [
      "23:19:37 httpx INFO   HTTP Request: POST https://api.openai.com/v1/embeddings \"HTTP/1.1 200 OK\"\n"
     ]
    },
    {
     "name": "stderr",
     "output_type": "stream",
     "text": [
      "\n",
      "1it [00:00,  2.48it/s]\n",
      "Embedding: 100%|██████████| 1/1 [00:00<00:00,  2.47emb/s]\n",
      "Assessing:   7%|▋         | 38/574 [00:29<04:37,  1.93pred/s]\n",
      "\u001b[A"
     ]
    },
    {
     "name": "stdout",
     "output_type": "stream",
     "text": [
      "23:19:38 httpx INFO   HTTP Request: POST https://api.openai.com/v1/embeddings \"HTTP/1.1 200 OK\"\n"
     ]
    },
    {
     "name": "stderr",
     "output_type": "stream",
     "text": [
      "\n",
      "1it [00:00,  1.64it/s]\n",
      "Embedding: 100%|██████████| 2/2 [00:00<00:00,  3.25emb/s]\n",
      "Assessing:   7%|▋         | 39/574 [00:29<05:00,  1.78pred/s]\n",
      "\u001b[A"
     ]
    },
    {
     "name": "stdout",
     "output_type": "stream",
     "text": [
      "23:19:39 httpx INFO   HTTP Request: POST https://api.openai.com/v1/embeddings \"HTTP/1.1 200 OK\"\n"
     ]
    },
    {
     "name": "stderr",
     "output_type": "stream",
     "text": [
      "\n",
      "1it [00:01,  1.33s/it]\n",
      "Embedding: 100%|██████████| 2/2 [00:01<00:00,  1.50emb/s]\n",
      "Assessing:   7%|▋         | 40/574 [00:31<07:10,  1.24pred/s]\n",
      "\u001b[A"
     ]
    },
    {
     "name": "stdout",
     "output_type": "stream",
     "text": [
      "23:19:40 httpx INFO   HTTP Request: POST https://api.openai.com/v1/embeddings \"HTTP/1.1 200 OK\"\n"
     ]
    },
    {
     "name": "stderr",
     "output_type": "stream",
     "text": [
      "\n",
      "1it [00:00,  1.72it/s]\n",
      "Embedding: 100%|██████████| 1/1 [00:00<00:00,  1.71emb/s]\n",
      "Assessing:   7%|▋         | 41/574 [00:31<06:39,  1.34pred/s]\n",
      "\u001b[A"
     ]
    },
    {
     "name": "stdout",
     "output_type": "stream",
     "text": [
      "23:19:41 httpx INFO   HTTP Request: POST https://api.openai.com/v1/embeddings \"HTTP/1.1 200 OK\"\n"
     ]
    },
    {
     "name": "stderr",
     "output_type": "stream",
     "text": [
      "\n",
      "1it [00:00,  1.40it/s]\n",
      "Embedding: 100%|██████████| 1/1 [00:00<00:00,  1.40emb/s]\n",
      "Assessing:   7%|▋         | 42/574 [00:32<06:36,  1.34pred/s]\n",
      "\u001b[A"
     ]
    },
    {
     "name": "stdout",
     "output_type": "stream",
     "text": [
      "23:19:41 httpx INFO   HTTP Request: POST https://api.openai.com/v1/embeddings \"HTTP/1.1 200 OK\"\n"
     ]
    },
    {
     "name": "stderr",
     "output_type": "stream",
     "text": [
      "\n",
      "1it [00:00,  1.52it/s]\n",
      "Embedding: 100%|██████████| 2/2 [00:00<00:00,  3.03emb/s]\n",
      "Assessing:   7%|▋         | 43/574 [00:33<06:30,  1.36pred/s]\n",
      "\u001b[A"
     ]
    },
    {
     "name": "stdout",
     "output_type": "stream",
     "text": [
      "23:19:42 httpx INFO   HTTP Request: POST https://api.openai.com/v1/embeddings \"HTTP/1.1 200 OK\"\n"
     ]
    },
    {
     "name": "stderr",
     "output_type": "stream",
     "text": [
      "\n",
      "1it [00:00,  2.63it/s]\n",
      "Embedding: 100%|██████████| 2/2 [00:00<00:00,  5.23emb/s]\n",
      "Assessing:   8%|▊         | 44/574 [00:33<05:39,  1.56pred/s]\n",
      "\u001b[A"
     ]
    },
    {
     "name": "stdout",
     "output_type": "stream",
     "text": [
      "23:19:42 httpx INFO   HTTP Request: POST https://api.openai.com/v1/embeddings \"HTTP/1.1 200 OK\"\n"
     ]
    },
    {
     "name": "stderr",
     "output_type": "stream",
     "text": [
      "\n",
      "1it [00:00,  2.10it/s]\n",
      "Embedding: 100%|██████████| 2/2 [00:00<00:00,  4.18emb/s]\n",
      "Assessing:   8%|▊         | 45/574 [00:34<05:20,  1.65pred/s]\n",
      "\u001b[A"
     ]
    },
    {
     "name": "stdout",
     "output_type": "stream",
     "text": [
      "23:19:43 httpx INFO   HTTP Request: POST https://api.openai.com/v1/embeddings \"HTTP/1.1 200 OK\"\n"
     ]
    },
    {
     "name": "stderr",
     "output_type": "stream",
     "text": [
      "\n",
      "1it [00:00,  1.96it/s]\n",
      "Embedding: 100%|██████████| 1/1 [00:00<00:00,  1.95emb/s]\n",
      "Assessing:   8%|▊         | 46/574 [00:34<05:09,  1.70pred/s]\n",
      "\u001b[A"
     ]
    },
    {
     "name": "stdout",
     "output_type": "stream",
     "text": [
      "23:19:43 httpx INFO   HTTP Request: POST https://api.openai.com/v1/embeddings \"HTTP/1.1 200 OK\"\n"
     ]
    },
    {
     "name": "stderr",
     "output_type": "stream",
     "text": [
      "\n",
      "1it [00:00,  2.86it/s]\n",
      "Embedding: 100%|██████████| 1/1 [00:00<00:00,  2.85emb/s]\n",
      "Assessing:   8%|▊         | 47/574 [00:34<04:36,  1.91pred/s]\n",
      "\u001b[A"
     ]
    },
    {
     "name": "stdout",
     "output_type": "stream",
     "text": [
      "23:19:44 httpx INFO   HTTP Request: POST https://api.openai.com/v1/embeddings \"HTTP/1.1 200 OK\"\n"
     ]
    },
    {
     "name": "stderr",
     "output_type": "stream",
     "text": [
      "\n",
      "1it [00:00,  1.46it/s]\n",
      "Embedding: 100%|██████████| 2/2 [00:00<00:00,  2.92emb/s]\n",
      "Assessing:   8%|▊         | 48/574 [00:35<05:08,  1.70pred/s]\n",
      "\u001b[A"
     ]
    },
    {
     "name": "stdout",
     "output_type": "stream",
     "text": [
      "23:19:44 httpx INFO   HTTP Request: POST https://api.openai.com/v1/embeddings \"HTTP/1.1 200 OK\"\n"
     ]
    },
    {
     "name": "stderr",
     "output_type": "stream",
     "text": [
      "\n",
      "1it [00:00,  2.43it/s]\n",
      "Embedding: 100%|██████████| 1/1 [00:00<00:00,  2.42emb/s]\n",
      "Assessing:   9%|▊         | 49/574 [00:36<04:45,  1.84pred/s]\n",
      "\u001b[A"
     ]
    },
    {
     "name": "stdout",
     "output_type": "stream",
     "text": [
      "23:19:45 httpx INFO   HTTP Request: POST https://api.openai.com/v1/embeddings \"HTTP/1.1 200 OK\"\n"
     ]
    },
    {
     "name": "stderr",
     "output_type": "stream",
     "text": [
      "\n",
      "1it [00:00,  2.81it/s]\n",
      "Embedding: 100%|██████████| 1/1 [00:00<00:00,  2.80emb/s]\n",
      "Assessing:   9%|▊         | 50/574 [00:36<04:18,  2.03pred/s]\n",
      "\u001b[A"
     ]
    },
    {
     "name": "stdout",
     "output_type": "stream",
     "text": [
      "23:19:45 httpx INFO   HTTP Request: POST https://api.openai.com/v1/embeddings \"HTTP/1.1 200 OK\"\n"
     ]
    },
    {
     "name": "stderr",
     "output_type": "stream",
     "text": [
      "\n",
      "1it [00:00,  1.47it/s]\n",
      "Embedding: 100%|██████████| 1/1 [00:00<00:00,  1.47emb/s]\n",
      "Assessing:   9%|▉         | 51/574 [00:37<04:52,  1.79pred/s]\n",
      "\u001b[A"
     ]
    },
    {
     "name": "stdout",
     "output_type": "stream",
     "text": [
      "23:19:46 httpx INFO   HTTP Request: POST https://api.openai.com/v1/embeddings \"HTTP/1.1 200 OK\"\n"
     ]
    },
    {
     "name": "stderr",
     "output_type": "stream",
     "text": [
      "\n",
      "1it [00:00,  1.34it/s]\n",
      "Embedding: 100%|██████████| 1/1 [00:00<00:00,  1.33emb/s]\n",
      "Assessing:   9%|▉         | 52/574 [00:38<05:26,  1.60pred/s]\n",
      "\u001b[A"
     ]
    },
    {
     "name": "stdout",
     "output_type": "stream",
     "text": [
      "23:19:47 httpx INFO   HTTP Request: POST https://api.openai.com/v1/embeddings \"HTTP/1.1 200 OK\"\n"
     ]
    },
    {
     "name": "stderr",
     "output_type": "stream",
     "text": [
      "\n",
      "1it [00:00,  1.09it/s]\n",
      "Embedding: 100%|██████████| 1/1 [00:00<00:00,  1.09emb/s]\n",
      "Assessing:   9%|▉         | 53/574 [00:38<06:17,  1.38pred/s]\n",
      "\u001b[A"
     ]
    },
    {
     "name": "stdout",
     "output_type": "stream",
     "text": [
      "23:19:47 httpx INFO   HTTP Request: POST https://api.openai.com/v1/embeddings \"HTTP/1.1 200 OK\"\n"
     ]
    },
    {
     "name": "stderr",
     "output_type": "stream",
     "text": [
      "\n",
      "1it [00:00,  2.89it/s]\n",
      "Embedding: 100%|██████████| 1/1 [00:00<00:00,  2.88emb/s]\n",
      "Assessing:   9%|▉         | 54/574 [00:39<05:22,  1.61pred/s]\n",
      "\u001b[A"
     ]
    },
    {
     "name": "stdout",
     "output_type": "stream",
     "text": [
      "23:19:48 httpx INFO   HTTP Request: POST https://api.openai.com/v1/embeddings \"HTTP/1.1 200 OK\"\n"
     ]
    },
    {
     "name": "stderr",
     "output_type": "stream",
     "text": [
      "\n",
      "1it [00:00,  1.58it/s]\n",
      "Embedding: 100%|██████████| 1/1 [00:00<00:00,  1.57emb/s]\n",
      "Assessing:  10%|▉         | 55/574 [00:40<05:29,  1.57pred/s]\n",
      "\u001b[A"
     ]
    },
    {
     "name": "stdout",
     "output_type": "stream",
     "text": [
      "23:19:49 httpx INFO   HTTP Request: POST https://api.openai.com/v1/embeddings \"HTTP/1.1 200 OK\"\n"
     ]
    },
    {
     "name": "stderr",
     "output_type": "stream",
     "text": [
      "\n",
      "1it [00:00,  2.08it/s]\n",
      "Embedding: 100%|██████████| 2/2 [00:00<00:00,  4.14emb/s]\n",
      "Assessing:  10%|▉         | 56/574 [00:40<05:13,  1.65pred/s]\n",
      "\u001b[A"
     ]
    },
    {
     "name": "stdout",
     "output_type": "stream",
     "text": [
      "23:19:49 httpx INFO   HTTP Request: POST https://api.openai.com/v1/embeddings \"HTTP/1.1 200 OK\"\n"
     ]
    },
    {
     "name": "stderr",
     "output_type": "stream",
     "text": [
      "\n",
      "1it [00:00,  2.29it/s]\n",
      "Embedding: 100%|██████████| 2/2 [00:00<00:00,  4.56emb/s]\n",
      "Assessing:  10%|▉         | 57/574 [00:41<04:53,  1.76pred/s]\n",
      "\u001b[A"
     ]
    },
    {
     "name": "stdout",
     "output_type": "stream",
     "text": [
      "23:19:50 httpx INFO   HTTP Request: POST https://api.openai.com/v1/embeddings \"HTTP/1.1 200 OK\"\n"
     ]
    },
    {
     "name": "stderr",
     "output_type": "stream",
     "text": [
      "\n",
      "1it [00:00,  1.43it/s]\n",
      "Embedding: 100%|██████████| 2/2 [00:00<00:00,  2.86emb/s]\n",
      "Assessing:  10%|█         | 58/574 [00:41<05:20,  1.61pred/s]\n",
      "\u001b[A"
     ]
    },
    {
     "name": "stdout",
     "output_type": "stream",
     "text": [
      "23:19:51 httpx INFO   HTTP Request: POST https://api.openai.com/v1/embeddings \"HTTP/1.1 200 OK\"\n"
     ]
    },
    {
     "name": "stderr",
     "output_type": "stream",
     "text": [
      "\n",
      "1it [00:00,  1.11it/s]\n",
      "Embedding: 100%|██████████| 2/2 [00:00<00:00,  2.20emb/s]\n",
      "Assessing:  10%|█         | 59/574 [00:42<06:13,  1.38pred/s]\n",
      "\u001b[A"
     ]
    },
    {
     "name": "stdout",
     "output_type": "stream",
     "text": [
      "23:19:51 httpx INFO   HTTP Request: POST https://api.openai.com/v1/embeddings \"HTTP/1.1 200 OK\"\n"
     ]
    },
    {
     "name": "stderr",
     "output_type": "stream",
     "text": [
      "\n",
      "1it [00:00,  2.00it/s]\n",
      "Embedding: 100%|██████████| 2/2 [00:00<00:00,  3.97emb/s]\n",
      "Assessing:  10%|█         | 60/574 [00:43<05:43,  1.50pred/s]\n",
      "\u001b[A"
     ]
    },
    {
     "name": "stdout",
     "output_type": "stream",
     "text": [
      "23:19:52 httpx INFO   HTTP Request: POST https://api.openai.com/v1/embeddings \"HTTP/1.1 200 OK\"\n"
     ]
    },
    {
     "name": "stderr",
     "output_type": "stream",
     "text": [
      "\n",
      "1it [00:00,  1.37it/s]\n",
      "Embedding: 100%|██████████| 2/2 [00:00<00:00,  2.74emb/s]\n",
      "Assessing:  11%|█         | 61/574 [00:44<05:59,  1.43pred/s]\n",
      "\u001b[A"
     ]
    },
    {
     "name": "stdout",
     "output_type": "stream",
     "text": [
      "23:19:53 httpx INFO   HTTP Request: POST https://api.openai.com/v1/embeddings \"HTTP/1.1 200 OK\"\n"
     ]
    },
    {
     "name": "stderr",
     "output_type": "stream",
     "text": [
      "\n",
      "1it [00:00,  2.18it/s]\n",
      "Embedding: 100%|██████████| 2/2 [00:00<00:00,  4.34emb/s]\n",
      "Assessing:  11%|█         | 62/574 [00:44<05:30,  1.55pred/s]\n",
      "\u001b[A"
     ]
    },
    {
     "name": "stdout",
     "output_type": "stream",
     "text": [
      "23:19:53 httpx INFO   HTTP Request: POST https://api.openai.com/v1/embeddings \"HTTP/1.1 200 OK\"\n"
     ]
    },
    {
     "name": "stderr",
     "output_type": "stream",
     "text": [
      "\n",
      "1it [00:00,  1.32it/s]\n",
      "Embedding: 100%|██████████| 2/2 [00:00<00:00,  2.63emb/s]\n",
      "Assessing:  11%|█         | 63/574 [00:45<05:54,  1.44pred/s]\n",
      "\u001b[A"
     ]
    },
    {
     "name": "stdout",
     "output_type": "stream",
     "text": [
      "23:19:54 httpx INFO   HTTP Request: POST https://api.openai.com/v1/embeddings \"HTTP/1.1 200 OK\"\n"
     ]
    },
    {
     "name": "stderr",
     "output_type": "stream",
     "text": [
      "\n",
      "1it [00:00,  1.91it/s]\n",
      "Embedding: 100%|██████████| 2/2 [00:00<00:00,  3.80emb/s]\n",
      "Assessing:  11%|█         | 64/574 [00:45<05:35,  1.52pred/s]\n",
      "\u001b[A"
     ]
    },
    {
     "name": "stdout",
     "output_type": "stream",
     "text": [
      "23:19:55 httpx INFO   HTTP Request: POST https://api.openai.com/v1/embeddings \"HTTP/1.1 200 OK\"\n"
     ]
    },
    {
     "name": "stderr",
     "output_type": "stream",
     "text": [
      "\n",
      "1it [00:00,  2.19it/s]\n",
      "Embedding: 100%|██████████| 1/1 [00:00<00:00,  2.18emb/s]\n",
      "Assessing:  11%|█▏        | 65/574 [00:46<05:09,  1.64pred/s]\n",
      "\u001b[A"
     ]
    },
    {
     "name": "stdout",
     "output_type": "stream",
     "text": [
      "23:19:55 httpx INFO   HTTP Request: POST https://api.openai.com/v1/embeddings \"HTTP/1.1 200 OK\"\n"
     ]
    },
    {
     "name": "stderr",
     "output_type": "stream",
     "text": [
      "\n",
      "1it [00:00,  1.57it/s]\n",
      "Embedding: 100%|██████████| 2/2 [00:00<00:00,  3.12emb/s]\n",
      "Assessing:  11%|█▏        | 66/574 [00:47<05:21,  1.58pred/s]\n",
      "\u001b[A"
     ]
    },
    {
     "name": "stdout",
     "output_type": "stream",
     "text": [
      "23:19:56 httpx INFO   HTTP Request: POST https://api.openai.com/v1/embeddings \"HTTP/1.1 200 OK\"\n"
     ]
    },
    {
     "name": "stderr",
     "output_type": "stream",
     "text": [
      "\n",
      "1it [00:00,  1.89it/s]\n",
      "Embedding: 100%|██████████| 1/1 [00:00<00:00,  1.89emb/s]\n",
      "Assessing:  12%|█▏        | 67/574 [00:47<05:10,  1.63pred/s]\n",
      "\u001b[A"
     ]
    },
    {
     "name": "stdout",
     "output_type": "stream",
     "text": [
      "23:19:57 httpx INFO   HTTP Request: POST https://api.openai.com/v1/embeddings \"HTTP/1.1 200 OK\"\n"
     ]
    },
    {
     "name": "stderr",
     "output_type": "stream",
     "text": [
      "\n",
      "1it [00:00,  1.41it/s]\n",
      "Embedding: 100%|██████████| 2/2 [00:00<00:00,  2.81emb/s]\n",
      "Assessing:  12%|█▏        | 68/574 [00:48<05:32,  1.52pred/s]\n",
      "\u001b[A"
     ]
    },
    {
     "name": "stdout",
     "output_type": "stream",
     "text": [
      "23:19:57 httpx INFO   HTTP Request: POST https://api.openai.com/v1/embeddings \"HTTP/1.1 200 OK\"\n"
     ]
    },
    {
     "name": "stderr",
     "output_type": "stream",
     "text": [
      "\n",
      "1it [00:00,  2.18it/s]\n",
      "Embedding: 100%|██████████| 2/2 [00:00<00:00,  4.33emb/s]\n",
      "Assessing:  12%|█▏        | 69/574 [00:48<05:09,  1.63pred/s]\n",
      "\u001b[A"
     ]
    },
    {
     "name": "stdout",
     "output_type": "stream",
     "text": [
      "23:19:58 httpx INFO   HTTP Request: POST https://api.openai.com/v1/embeddings \"HTTP/1.1 200 OK\"\n"
     ]
    },
    {
     "name": "stderr",
     "output_type": "stream",
     "text": [
      "\n",
      "1it [00:00,  2.14it/s]\n",
      "Embedding: 100%|██████████| 2/2 [00:00<00:00,  4.26emb/s]\n",
      "Assessing:  12%|█▏        | 70/574 [00:49<04:54,  1.71pred/s]\n",
      "\u001b[A"
     ]
    },
    {
     "name": "stdout",
     "output_type": "stream",
     "text": [
      "23:19:58 httpx INFO   HTTP Request: POST https://api.openai.com/v1/embeddings \"HTTP/1.1 200 OK\"\n"
     ]
    },
    {
     "name": "stderr",
     "output_type": "stream",
     "text": [
      "\n",
      "1it [00:00,  1.31it/s]\n",
      "Embedding: 100%|██████████| 2/2 [00:00<00:00,  2.61emb/s]\n",
      "Assessing:  12%|█▏        | 71/574 [00:50<05:28,  1.53pred/s]\n",
      "\u001b[A"
     ]
    },
    {
     "name": "stdout",
     "output_type": "stream",
     "text": [
      "23:19:59 httpx INFO   HTTP Request: POST https://api.openai.com/v1/embeddings \"HTTP/1.1 200 OK\"\n"
     ]
    },
    {
     "name": "stderr",
     "output_type": "stream",
     "text": [
      "\n",
      "1it [00:00,  2.26it/s]\n",
      "Embedding: 100%|██████████| 1/1 [00:00<00:00,  2.25emb/s]\n",
      "Assessing:  13%|█▎        | 72/574 [00:50<05:01,  1.67pred/s]\n",
      "\u001b[A"
     ]
    },
    {
     "name": "stdout",
     "output_type": "stream",
     "text": [
      "23:20:00 httpx INFO   HTTP Request: POST https://api.openai.com/v1/embeddings \"HTTP/1.1 200 OK\"\n"
     ]
    },
    {
     "name": "stderr",
     "output_type": "stream",
     "text": [
      "\n",
      "1it [00:00,  1.66it/s]\n",
      "Embedding: 100%|██████████| 1/1 [00:00<00:00,  1.66emb/s]\n",
      "Assessing:  13%|█▎        | 73/574 [00:51<05:05,  1.64pred/s]\n",
      "\u001b[A"
     ]
    },
    {
     "name": "stdout",
     "output_type": "stream",
     "text": [
      "23:20:00 httpx INFO   HTTP Request: POST https://api.openai.com/v1/embeddings \"HTTP/1.1 200 OK\"\n"
     ]
    },
    {
     "name": "stderr",
     "output_type": "stream",
     "text": [
      "\n",
      "1it [00:00,  2.03it/s]\n",
      "Embedding: 100%|██████████| 2/2 [00:00<00:00,  4.06emb/s]\n",
      "Assessing:  13%|█▎        | 74/574 [00:51<04:55,  1.69pred/s]\n",
      "\u001b[A"
     ]
    },
    {
     "name": "stdout",
     "output_type": "stream",
     "text": [
      "23:20:01 httpx INFO   HTTP Request: POST https://api.openai.com/v1/embeddings \"HTTP/1.1 200 OK\"\n"
     ]
    },
    {
     "name": "stderr",
     "output_type": "stream",
     "text": [
      "\n",
      "1it [00:00,  1.78it/s]\n",
      "Embedding: 100%|██████████| 2/2 [00:00<00:00,  3.56emb/s]\n",
      "Assessing:  13%|█▎        | 75/574 [00:52<04:58,  1.67pred/s]\n",
      "\u001b[A"
     ]
    },
    {
     "name": "stdout",
     "output_type": "stream",
     "text": [
      "23:20:01 httpx INFO   HTTP Request: POST https://api.openai.com/v1/embeddings \"HTTP/1.1 200 OK\"\n"
     ]
    },
    {
     "name": "stderr",
     "output_type": "stream",
     "text": [
      "\n",
      "1it [00:00,  1.37it/s]\n",
      "Embedding: 100%|██████████| 2/2 [00:00<00:00,  2.73emb/s]\n",
      "Assessing:  13%|█▎        | 76/574 [00:53<05:23,  1.54pred/s]\n",
      "\u001b[A"
     ]
    },
    {
     "name": "stdout",
     "output_type": "stream",
     "text": [
      "23:20:02 httpx INFO   HTTP Request: POST https://api.openai.com/v1/embeddings \"HTTP/1.1 200 OK\"\n"
     ]
    },
    {
     "name": "stderr",
     "output_type": "stream",
     "text": [
      "\n",
      "1it [00:00,  2.20it/s]\n",
      "Embedding: 100%|██████████| 2/2 [00:00<00:00,  4.37emb/s]\n",
      "Assessing:  13%|█▎        | 77/574 [00:53<05:01,  1.65pred/s]\n",
      "\u001b[A"
     ]
    },
    {
     "name": "stdout",
     "output_type": "stream",
     "text": [
      "23:20:02 httpx INFO   HTTP Request: POST https://api.openai.com/v1/embeddings \"HTTP/1.1 200 OK\"\n"
     ]
    },
    {
     "name": "stderr",
     "output_type": "stream",
     "text": [
      "\n",
      "1it [00:00,  2.44it/s]\n",
      "Embedding: 100%|██████████| 1/1 [00:00<00:00,  2.43emb/s]\n",
      "Assessing:  14%|█▎        | 78/574 [00:54<04:35,  1.80pred/s]\n",
      "\u001b[A"
     ]
    },
    {
     "name": "stdout",
     "output_type": "stream",
     "text": [
      "23:20:03 httpx INFO   HTTP Request: POST https://api.openai.com/v1/embeddings \"HTTP/1.1 200 OK\"\n"
     ]
    },
    {
     "name": "stderr",
     "output_type": "stream",
     "text": [
      "\n",
      "1it [00:00,  2.26it/s]\n",
      "Embedding: 100%|██████████| 2/2 [00:00<00:00,  4.51emb/s]\n",
      "Assessing:  14%|█▍        | 79/574 [00:54<04:25,  1.87pred/s]\n",
      "\u001b[A"
     ]
    },
    {
     "name": "stdout",
     "output_type": "stream",
     "text": [
      "23:20:03 httpx INFO   HTTP Request: POST https://api.openai.com/v1/embeddings \"HTTP/1.1 200 OK\"\n"
     ]
    },
    {
     "name": "stderr",
     "output_type": "stream",
     "text": [
      "\n",
      "1it [00:00,  2.34it/s]\n",
      "Embedding: 100%|██████████| 1/1 [00:00<00:00,  2.33emb/s]\n",
      "Assessing:  14%|█▍        | 80/574 [00:55<04:13,  1.95pred/s]\n",
      "\u001b[A"
     ]
    },
    {
     "name": "stdout",
     "output_type": "stream",
     "text": [
      "23:20:05 httpx INFO   HTTP Request: POST https://api.openai.com/v1/embeddings \"HTTP/1.1 200 OK\"\n"
     ]
    },
    {
     "name": "stderr",
     "output_type": "stream",
     "text": [
      "\n",
      "1it [00:01,  1.16s/it]\n",
      "Embedding: 100%|██████████| 1/1 [00:01<00:00,  1.17s/emb]\n",
      "Assessing:  14%|█▍        | 81/574 [00:56<05:53,  1.39pred/s]\n",
      "\u001b[A"
     ]
    },
    {
     "name": "stdout",
     "output_type": "stream",
     "text": [
      "23:20:05 httpx INFO   HTTP Request: POST https://api.openai.com/v1/embeddings \"HTTP/1.1 200 OK\"\n"
     ]
    },
    {
     "name": "stderr",
     "output_type": "stream",
     "text": [
      "\n",
      "1it [00:00,  1.45it/s]\n",
      "Embedding: 100%|██████████| 1/1 [00:00<00:00,  1.44emb/s]\n",
      "Assessing:  14%|█▍        | 82/574 [00:57<05:54,  1.39pred/s]\n",
      "\u001b[A"
     ]
    },
    {
     "name": "stdout",
     "output_type": "stream",
     "text": [
      "23:20:06 httpx INFO   HTTP Request: POST https://api.openai.com/v1/embeddings \"HTTP/1.1 200 OK\"\n"
     ]
    },
    {
     "name": "stderr",
     "output_type": "stream",
     "text": [
      "\n",
      "1it [00:00,  1.37it/s]\n",
      "Embedding: 100%|██████████| 1/1 [00:00<00:00,  1.37emb/s]\n",
      "Assessing:  14%|█▍        | 83/574 [00:57<06:00,  1.36pred/s]\n",
      "\u001b[A"
     ]
    },
    {
     "name": "stdout",
     "output_type": "stream",
     "text": [
      "23:20:07 httpx INFO   HTTP Request: POST https://api.openai.com/v1/embeddings \"HTTP/1.1 200 OK\"\n"
     ]
    },
    {
     "name": "stderr",
     "output_type": "stream",
     "text": [
      "\n",
      "1it [00:01,  1.23s/it]\n",
      "Embedding: 100%|██████████| 2/2 [00:01<00:00,  1.63emb/s]\n",
      "Assessing:  15%|█▍        | 84/574 [00:59<07:19,  1.12pred/s]\n",
      "\u001b[A"
     ]
    },
    {
     "name": "stdout",
     "output_type": "stream",
     "text": [
      "23:20:08 httpx INFO   HTTP Request: POST https://api.openai.com/v1/embeddings \"HTTP/1.1 200 OK\"\n"
     ]
    },
    {
     "name": "stderr",
     "output_type": "stream",
     "text": [
      "\n",
      "1it [00:00,  1.72it/s]\n",
      "Embedding: 100%|██████████| 1/1 [00:00<00:00,  1.72emb/s]\n",
      "Assessing:  15%|█▍        | 85/574 [00:59<06:35,  1.24pred/s]\n",
      "\u001b[A"
     ]
    },
    {
     "name": "stdout",
     "output_type": "stream",
     "text": [
      "23:20:09 httpx INFO   HTTP Request: POST https://api.openai.com/v1/embeddings \"HTTP/1.1 200 OK\"\n"
     ]
    },
    {
     "name": "stderr",
     "output_type": "stream",
     "text": [
      "\n",
      "1it [00:01,  1.53s/it]\n",
      "Embedding: 100%|██████████| 2/2 [00:01<00:00,  1.31emb/s]\n",
      "Assessing:  15%|█▍        | 86/574 [01:01<08:28,  1.04s/pred]\n",
      "\u001b[A"
     ]
    },
    {
     "name": "stdout",
     "output_type": "stream",
     "text": [
      "23:20:10 httpx INFO   HTTP Request: POST https://api.openai.com/v1/embeddings \"HTTP/1.1 200 OK\"\n"
     ]
    },
    {
     "name": "stderr",
     "output_type": "stream",
     "text": [
      "\n",
      "1it [00:00,  1.73it/s]\n",
      "Embedding: 100%|██████████| 1/1 [00:00<00:00,  1.73emb/s]\n",
      "Assessing:  15%|█▌        | 87/574 [01:02<07:24,  1.10pred/s]\n",
      "\u001b[A"
     ]
    },
    {
     "name": "stdout",
     "output_type": "stream",
     "text": [
      "23:20:11 httpx INFO   HTTP Request: POST https://api.openai.com/v1/embeddings \"HTTP/1.1 200 OK\"\n"
     ]
    },
    {
     "name": "stderr",
     "output_type": "stream",
     "text": [
      "\n",
      "1it [00:00,  2.34it/s]\n",
      "Embedding: 100%|██████████| 1/1 [00:00<00:00,  2.33emb/s]\n",
      "Assessing:  15%|█▌        | 88/574 [01:02<06:17,  1.29pred/s]\n",
      "\u001b[A"
     ]
    },
    {
     "name": "stdout",
     "output_type": "stream",
     "text": [
      "23:20:11 httpx INFO   HTTP Request: POST https://api.openai.com/v1/embeddings \"HTTP/1.1 200 OK\"\n"
     ]
    },
    {
     "name": "stderr",
     "output_type": "stream",
     "text": [
      "\n",
      "1it [00:00,  2.36it/s]\n",
      "Embedding: 100%|██████████| 1/1 [00:00<00:00,  2.35emb/s]\n",
      "Assessing:  16%|█▌        | 89/574 [01:02<05:29,  1.47pred/s]\n",
      "\u001b[A"
     ]
    },
    {
     "name": "stdout",
     "output_type": "stream",
     "text": [
      "23:20:11 httpx INFO   HTTP Request: POST https://api.openai.com/v1/embeddings \"HTTP/1.1 200 OK\"\n"
     ]
    },
    {
     "name": "stderr",
     "output_type": "stream",
     "text": [
      "\n",
      "1it [00:00,  2.63it/s]\n",
      "Embedding: 100%|██████████| 2/2 [00:00<00:00,  5.23emb/s]\n",
      "Assessing:  16%|█▌        | 90/574 [01:03<04:50,  1.67pred/s]\n",
      "\u001b[A"
     ]
    },
    {
     "name": "stdout",
     "output_type": "stream",
     "text": [
      "23:20:12 httpx INFO   HTTP Request: POST https://api.openai.com/v1/embeddings \"HTTP/1.1 200 OK\"\n"
     ]
    },
    {
     "name": "stderr",
     "output_type": "stream",
     "text": [
      "\n",
      "1it [00:00,  1.67it/s]\n",
      "Embedding: 100%|██████████| 1/1 [00:00<00:00,  1.67emb/s]\n",
      "Assessing:  16%|█▌        | 91/574 [01:03<04:54,  1.64pred/s]\n",
      "\u001b[A"
     ]
    },
    {
     "name": "stdout",
     "output_type": "stream",
     "text": [
      "23:20:13 httpx INFO   HTTP Request: POST https://api.openai.com/v1/embeddings \"HTTP/1.1 200 OK\"\n"
     ]
    },
    {
     "name": "stderr",
     "output_type": "stream",
     "text": [
      "\n",
      "1it [00:00,  1.25it/s]\n",
      "Embedding: 100%|██████████| 2/2 [00:00<00:00,  2.48emb/s]\n",
      "Assessing:  16%|█▌        | 92/574 [01:04<05:28,  1.47pred/s]\n",
      "\u001b[A"
     ]
    },
    {
     "name": "stdout",
     "output_type": "stream",
     "text": [
      "23:20:13 httpx INFO   HTTP Request: POST https://api.openai.com/v1/embeddings \"HTTP/1.1 200 OK\"\n"
     ]
    },
    {
     "name": "stderr",
     "output_type": "stream",
     "text": [
      "\n",
      "1it [00:00,  1.99it/s]\n",
      "Embedding: 100%|██████████| 1/1 [00:00<00:00,  1.98emb/s]\n",
      "Assessing:  16%|█▌        | 93/574 [01:05<05:06,  1.57pred/s]\n",
      "\u001b[A"
     ]
    },
    {
     "name": "stdout",
     "output_type": "stream",
     "text": [
      "23:20:14 httpx INFO   HTTP Request: POST https://api.openai.com/v1/embeddings \"HTTP/1.1 200 OK\"\n"
     ]
    },
    {
     "name": "stderr",
     "output_type": "stream",
     "text": [
      "\n",
      "1it [00:00,  2.09it/s]\n",
      "Embedding: 100%|██████████| 1/1 [00:00<00:00,  2.08emb/s]\n",
      "Assessing:  16%|█▋        | 94/574 [01:05<04:47,  1.67pred/s]\n",
      "\u001b[A"
     ]
    },
    {
     "name": "stdout",
     "output_type": "stream",
     "text": [
      "23:20:15 httpx INFO   HTTP Request: POST https://api.openai.com/v1/embeddings \"HTTP/1.1 200 OK\"\n"
     ]
    },
    {
     "name": "stderr",
     "output_type": "stream",
     "text": [
      "\n",
      "1it [00:00,  1.27it/s]\n",
      "Embedding: 100%|██████████| 2/2 [00:00<00:00,  2.54emb/s]\n",
      "Assessing:  17%|█▋        | 95/574 [01:06<05:20,  1.49pred/s]\n",
      "\u001b[A"
     ]
    },
    {
     "name": "stdout",
     "output_type": "stream",
     "text": [
      "23:20:16 httpx INFO   HTTP Request: POST https://api.openai.com/v1/embeddings \"HTTP/1.1 200 OK\"\n"
     ]
    },
    {
     "name": "stderr",
     "output_type": "stream",
     "text": [
      "\n",
      "1it [00:00,  1.45it/s]\n",
      "Embedding: 100%|██████████| 1/1 [00:00<00:00,  1.44emb/s]\n",
      "Assessing:  17%|█▋        | 96/574 [01:07<05:28,  1.46pred/s]\n",
      "\u001b[A"
     ]
    },
    {
     "name": "stdout",
     "output_type": "stream",
     "text": [
      "23:20:16 httpx INFO   HTTP Request: POST https://api.openai.com/v1/embeddings \"HTTP/1.1 200 OK\"\n"
     ]
    },
    {
     "name": "stderr",
     "output_type": "stream",
     "text": [
      "\n",
      "1it [00:00,  1.50it/s]\n",
      "Embedding: 100%|██████████| 2/2 [00:00<00:00,  2.99emb/s]\n",
      "Assessing:  17%|█▋        | 97/574 [01:08<05:32,  1.44pred/s]\n",
      "\u001b[A"
     ]
    },
    {
     "name": "stdout",
     "output_type": "stream",
     "text": [
      "23:20:18 httpx INFO   HTTP Request: POST https://api.openai.com/v1/embeddings \"HTTP/1.1 200 OK\"\n"
     ]
    },
    {
     "name": "stderr",
     "output_type": "stream",
     "text": [
      "\n",
      "1it [00:01,  1.41s/it]\n",
      "Embedding: 100%|██████████| 1/1 [00:01<00:00,  1.41s/emb]\n",
      "Assessing:  17%|█▋        | 98/574 [01:09<07:17,  1.09pred/s]\n",
      "\u001b[A"
     ]
    },
    {
     "name": "stdout",
     "output_type": "stream",
     "text": [
      "23:20:18 httpx INFO   HTTP Request: POST https://api.openai.com/v1/embeddings \"HTTP/1.1 200 OK\"\n"
     ]
    },
    {
     "name": "stderr",
     "output_type": "stream",
     "text": [
      "\n",
      "1it [00:00,  2.26it/s]\n",
      "Embedding: 100%|██████████| 2/2 [00:00<00:00,  4.50emb/s]\n",
      "Assessing:  17%|█▋        | 99/574 [01:10<06:15,  1.26pred/s]\n",
      "\u001b[A"
     ]
    },
    {
     "name": "stdout",
     "output_type": "stream",
     "text": [
      "23:20:19 httpx INFO   HTTP Request: POST https://api.openai.com/v1/embeddings \"HTTP/1.1 200 OK\"\n"
     ]
    },
    {
     "name": "stderr",
     "output_type": "stream",
     "text": [
      "\n",
      "1it [00:00,  2.46it/s]\n",
      "Embedding: 100%|██████████| 1/1 [00:00<00:00,  2.45emb/s]\n",
      "Assessing:  17%|█▋        | 100/574 [01:10<05:24,  1.46pred/s]\n",
      "\u001b[A"
     ]
    },
    {
     "name": "stdout",
     "output_type": "stream",
     "text": [
      "23:20:19 httpx INFO   HTTP Request: POST https://api.openai.com/v1/embeddings \"HTTP/1.1 200 OK\"\n"
     ]
    },
    {
     "name": "stderr",
     "output_type": "stream",
     "text": [
      "\n",
      "1it [00:00,  2.69it/s]\n",
      "Embedding: 100%|██████████| 1/1 [00:00<00:00,  2.68emb/s]\n",
      "Assessing:  18%|█▊        | 101/574 [01:10<04:44,  1.66pred/s]\n",
      "\u001b[A"
     ]
    },
    {
     "name": "stdout",
     "output_type": "stream",
     "text": [
      "23:20:20 httpx INFO   HTTP Request: POST https://api.openai.com/v1/embeddings \"HTTP/1.1 200 OK\"\n"
     ]
    },
    {
     "name": "stderr",
     "output_type": "stream",
     "text": [
      "\n",
      "1it [00:00,  1.83it/s]\n",
      "Embedding: 100%|██████████| 1/1 [00:00<00:00,  1.82emb/s]\n",
      "Assessing:  18%|█▊        | 102/574 [01:11<04:40,  1.68pred/s]\n",
      "\u001b[A"
     ]
    },
    {
     "name": "stdout",
     "output_type": "stream",
     "text": [
      "23:20:20 httpx INFO   HTTP Request: POST https://api.openai.com/v1/embeddings \"HTTP/1.1 200 OK\"\n"
     ]
    },
    {
     "name": "stderr",
     "output_type": "stream",
     "text": [
      "\n",
      "1it [00:00,  1.27it/s]\n",
      "Embedding: 100%|██████████| 1/1 [00:00<00:00,  1.27emb/s]\n",
      "Assessing:  18%|█▊        | 103/574 [01:12<05:11,  1.51pred/s]\n",
      "\u001b[A"
     ]
    },
    {
     "name": "stdout",
     "output_type": "stream",
     "text": [
      "23:20:22 httpx INFO   HTTP Request: POST https://api.openai.com/v1/embeddings \"HTTP/1.1 200 OK\"\n"
     ]
    },
    {
     "name": "stderr",
     "output_type": "stream",
     "text": [
      "\n",
      "1it [00:01,  1.37s/it]\n",
      "Embedding: 100%|██████████| 1/1 [00:01<00:00,  1.37s/emb]\n",
      "Assessing:  18%|█▊        | 104/574 [01:13<06:54,  1.13pred/s]\n",
      "\u001b[A"
     ]
    },
    {
     "name": "stdout",
     "output_type": "stream",
     "text": [
      "23:20:22 httpx INFO   HTTP Request: POST https://api.openai.com/v1/embeddings \"HTTP/1.1 200 OK\"\n"
     ]
    },
    {
     "name": "stderr",
     "output_type": "stream",
     "text": [
      "\n",
      "1it [00:00,  2.87it/s]\n",
      "Embedding: 100%|██████████| 1/1 [00:00<00:00,  2.86emb/s]\n",
      "Assessing:  18%|█▊        | 105/574 [01:14<05:42,  1.37pred/s]\n",
      "\u001b[A"
     ]
    },
    {
     "name": "stdout",
     "output_type": "stream",
     "text": [
      "23:20:23 httpx INFO   HTTP Request: POST https://api.openai.com/v1/embeddings \"HTTP/1.1 200 OK\"\n"
     ]
    },
    {
     "name": "stderr",
     "output_type": "stream",
     "text": [
      "\n",
      "1it [00:00,  2.01it/s]\n",
      "Embedding: 100%|██████████| 1/1 [00:00<00:00,  2.00emb/s]\n",
      "Assessing:  18%|█▊        | 106/574 [01:14<05:13,  1.49pred/s]\n",
      "\u001b[A"
     ]
    },
    {
     "name": "stdout",
     "output_type": "stream",
     "text": [
      "23:20:23 httpx INFO   HTTP Request: POST https://api.openai.com/v1/embeddings \"HTTP/1.1 200 OK\"\n"
     ]
    },
    {
     "name": "stderr",
     "output_type": "stream",
     "text": [
      "\n",
      "1it [00:00,  1.38it/s]\n",
      "Embedding: 100%|██████████| 2/2 [00:00<00:00,  2.75emb/s]\n",
      "Assessing:  19%|█▊        | 107/574 [01:15<05:27,  1.43pred/s]\n",
      "\u001b[A"
     ]
    },
    {
     "name": "stdout",
     "output_type": "stream",
     "text": [
      "23:20:24 httpx INFO   HTTP Request: POST https://api.openai.com/v1/embeddings \"HTTP/1.1 200 OK\"\n"
     ]
    },
    {
     "name": "stderr",
     "output_type": "stream",
     "text": [
      "\n",
      "1it [00:00,  1.48it/s]\n",
      "Embedding: 100%|██████████| 2/2 [00:00<00:00,  2.96emb/s]\n",
      "Assessing:  19%|█▉        | 108/574 [01:16<05:28,  1.42pred/s]\n",
      "\u001b[A"
     ]
    },
    {
     "name": "stdout",
     "output_type": "stream",
     "text": [
      "23:20:25 httpx INFO   HTTP Request: POST https://api.openai.com/v1/embeddings \"HTTP/1.1 200 OK\"\n"
     ]
    },
    {
     "name": "stderr",
     "output_type": "stream",
     "text": [
      "\n",
      "1it [00:00,  2.12it/s]\n",
      "Embedding: 100%|██████████| 1/1 [00:00<00:00,  2.10emb/s]\n",
      "Assessing:  19%|█▉        | 109/574 [01:16<05:00,  1.55pred/s]\n",
      "\u001b[A"
     ]
    },
    {
     "name": "stdout",
     "output_type": "stream",
     "text": [
      "23:20:25 httpx INFO   HTTP Request: POST https://api.openai.com/v1/embeddings \"HTTP/1.1 200 OK\"\n"
     ]
    },
    {
     "name": "stderr",
     "output_type": "stream",
     "text": [
      "\n",
      "1it [00:00,  1.41it/s]\n",
      "Embedding: 100%|██████████| 1/1 [00:00<00:00,  1.41emb/s]\n",
      "Assessing:  19%|█▉        | 110/574 [01:17<05:11,  1.49pred/s]\n",
      "\u001b[A"
     ]
    },
    {
     "name": "stdout",
     "output_type": "stream",
     "text": [
      "23:20:26 httpx INFO   HTTP Request: POST https://api.openai.com/v1/embeddings \"HTTP/1.1 200 OK\"\n"
     ]
    },
    {
     "name": "stderr",
     "output_type": "stream",
     "text": [
      "\n",
      "1it [00:00,  1.92it/s]\n",
      "Embedding: 100%|██████████| 2/2 [00:00<00:00,  3.83emb/s]\n",
      "Assessing:  19%|█▉        | 111/574 [01:17<04:57,  1.56pred/s]\n",
      "\u001b[A"
     ]
    },
    {
     "name": "stdout",
     "output_type": "stream",
     "text": [
      "23:20:27 httpx INFO   HTTP Request: POST https://api.openai.com/v1/embeddings \"HTTP/1.1 200 OK\"\n"
     ]
    },
    {
     "name": "stderr",
     "output_type": "stream",
     "text": [
      "\n",
      "1it [00:00,  1.99it/s]\n",
      "Embedding: 100%|██████████| 2/2 [00:00<00:00,  3.97emb/s]\n",
      "Assessing:  20%|█▉        | 112/574 [01:18<04:42,  1.63pred/s]\n",
      "\u001b[A"
     ]
    },
    {
     "name": "stdout",
     "output_type": "stream",
     "text": [
      "23:20:27 httpx INFO   HTTP Request: POST https://api.openai.com/v1/embeddings \"HTTP/1.1 200 OK\"\n"
     ]
    },
    {
     "name": "stderr",
     "output_type": "stream",
     "text": [
      "\n",
      "1it [00:00,  2.49it/s]\n",
      "Embedding: 100%|██████████| 1/1 [00:00<00:00,  2.48emb/s]\n",
      "Assessing:  20%|█▉        | 113/574 [01:18<04:17,  1.79pred/s]\n",
      "\u001b[A"
     ]
    },
    {
     "name": "stdout",
     "output_type": "stream",
     "text": [
      "23:20:27 httpx INFO   HTTP Request: POST https://api.openai.com/v1/embeddings \"HTTP/1.1 200 OK\"\n"
     ]
    },
    {
     "name": "stderr",
     "output_type": "stream",
     "text": [
      "\n",
      "1it [00:00,  2.18it/s]\n",
      "Embedding: 100%|██████████| 1/1 [00:00<00:00,  2.17emb/s]\n",
      "Assessing:  20%|█▉        | 114/574 [01:19<04:07,  1.86pred/s]\n",
      "\u001b[A"
     ]
    },
    {
     "name": "stdout",
     "output_type": "stream",
     "text": [
      "23:20:28 httpx INFO   HTTP Request: POST https://api.openai.com/v1/embeddings \"HTTP/1.1 200 OK\"\n"
     ]
    },
    {
     "name": "stderr",
     "output_type": "stream",
     "text": [
      "\n",
      "1it [00:00,  1.75it/s]\n",
      "Embedding: 100%|██████████| 1/1 [00:00<00:00,  1.75emb/s]\n",
      "Assessing:  20%|██        | 115/574 [01:20<04:15,  1.80pred/s]\n",
      "\u001b[A"
     ]
    },
    {
     "name": "stdout",
     "output_type": "stream",
     "text": [
      "23:20:29 httpx INFO   HTTP Request: POST https://api.openai.com/v1/embeddings \"HTTP/1.1 200 OK\"\n"
     ]
    },
    {
     "name": "stderr",
     "output_type": "stream",
     "text": [
      "\n",
      "1it [00:00,  2.09it/s]\n",
      "Embedding: 100%|██████████| 1/1 [00:00<00:00,  2.09emb/s]\n",
      "Assessing:  20%|██        | 116/574 [01:20<04:07,  1.85pred/s]\n",
      "\u001b[A"
     ]
    },
    {
     "name": "stdout",
     "output_type": "stream",
     "text": [
      "23:20:29 httpx INFO   HTTP Request: POST https://api.openai.com/v1/embeddings \"HTTP/1.1 200 OK\"\n"
     ]
    },
    {
     "name": "stderr",
     "output_type": "stream",
     "text": [
      "\n",
      "1it [00:00,  1.55it/s]\n",
      "Embedding: 100%|██████████| 2/2 [00:00<00:00,  3.09emb/s]\n",
      "Assessing:  20%|██        | 117/574 [01:21<04:26,  1.71pred/s]\n",
      "\u001b[A"
     ]
    },
    {
     "name": "stdout",
     "output_type": "stream",
     "text": [
      "23:20:30 httpx INFO   HTTP Request: POST https://api.openai.com/v1/embeddings \"HTTP/1.1 200 OK\"\n"
     ]
    },
    {
     "name": "stderr",
     "output_type": "stream",
     "text": [
      "\n",
      "1it [00:00,  1.11it/s]\n",
      "Embedding: 100%|██████████| 2/2 [00:00<00:00,  2.22emb/s]\n",
      "Assessing:  21%|██        | 118/574 [01:22<05:15,  1.44pred/s]\n",
      "\u001b[A"
     ]
    },
    {
     "name": "stdout",
     "output_type": "stream",
     "text": [
      "23:20:31 httpx INFO   HTTP Request: POST https://api.openai.com/v1/embeddings \"HTTP/1.1 200 OK\"\n"
     ]
    },
    {
     "name": "stderr",
     "output_type": "stream",
     "text": [
      "\n",
      "1it [00:00,  1.76it/s]\n",
      "Embedding: 100%|██████████| 2/2 [00:00<00:00,  3.52emb/s]\n",
      "Assessing:  21%|██        | 119/574 [01:22<05:04,  1.50pred/s]\n",
      "\u001b[A"
     ]
    },
    {
     "name": "stdout",
     "output_type": "stream",
     "text": [
      "23:20:32 httpx INFO   HTTP Request: POST https://api.openai.com/v1/embeddings \"HTTP/1.1 200 OK\"\n"
     ]
    },
    {
     "name": "stderr",
     "output_type": "stream",
     "text": [
      "\n",
      "1it [00:00,  1.19it/s]\n",
      "Embedding: 100%|██████████| 2/2 [00:00<00:00,  2.38emb/s]\n",
      "Assessing:  21%|██        | 120/574 [01:23<05:32,  1.37pred/s]\n",
      "\u001b[A"
     ]
    },
    {
     "name": "stdout",
     "output_type": "stream",
     "text": [
      "23:20:32 httpx INFO   HTTP Request: POST https://api.openai.com/v1/embeddings \"HTTP/1.1 200 OK\"\n"
     ]
    },
    {
     "name": "stderr",
     "output_type": "stream",
     "text": [
      "\n",
      "1it [00:00,  1.53it/s]\n",
      "Embedding: 100%|██████████| 2/2 [00:00<00:00,  3.06emb/s]\n",
      "Assessing:  21%|██        | 121/574 [01:24<05:27,  1.39pred/s]\n",
      "\u001b[A"
     ]
    },
    {
     "name": "stdout",
     "output_type": "stream",
     "text": [
      "23:20:33 httpx INFO   HTTP Request: POST https://api.openai.com/v1/embeddings \"HTTP/1.1 200 OK\"\n"
     ]
    },
    {
     "name": "stderr",
     "output_type": "stream",
     "text": [
      "\n",
      "1it [00:00,  1.38it/s]\n",
      "Embedding: 100%|██████████| 2/2 [00:00<00:00,  2.76emb/s]\n",
      "Assessing:  21%|██▏       | 122/574 [01:25<05:35,  1.35pred/s]\n",
      "\u001b[A"
     ]
    },
    {
     "name": "stdout",
     "output_type": "stream",
     "text": [
      "23:20:34 httpx INFO   HTTP Request: POST https://api.openai.com/v1/embeddings \"HTTP/1.1 200 OK\"\n"
     ]
    },
    {
     "name": "stderr",
     "output_type": "stream",
     "text": [
      "\n",
      "1it [00:00,  2.41it/s]\n",
      "Embedding: 100%|██████████| 1/1 [00:00<00:00,  2.40emb/s]\n",
      "Assessing:  21%|██▏       | 123/574 [01:25<04:54,  1.53pred/s]\n",
      "\u001b[A"
     ]
    },
    {
     "name": "stdout",
     "output_type": "stream",
     "text": [
      "23:20:34 httpx INFO   HTTP Request: POST https://api.openai.com/v1/embeddings \"HTTP/1.1 200 OK\"\n"
     ]
    },
    {
     "name": "stderr",
     "output_type": "stream",
     "text": [
      "\n",
      "1it [00:01,  1.01s/it]\n",
      "Embedding: 100%|██████████| 2/2 [00:01<00:00,  1.97emb/s]\n",
      "Assessing:  22%|██▏       | 124/574 [01:26<05:48,  1.29pred/s]\n",
      "\u001b[A"
     ]
    },
    {
     "name": "stdout",
     "output_type": "stream",
     "text": [
      "23:20:36 httpx INFO   HTTP Request: POST https://api.openai.com/v1/embeddings \"HTTP/1.1 200 OK\"\n"
     ]
    },
    {
     "name": "stderr",
     "output_type": "stream",
     "text": [
      "\n",
      "1it [00:01,  1.55s/it]\n",
      "Embedding: 100%|██████████| 2/2 [00:01<00:00,  1.29emb/s]\n",
      "Assessing:  22%|██▏       | 125/574 [01:28<07:38,  1.02s/pred]\n",
      "\u001b[A"
     ]
    },
    {
     "name": "stdout",
     "output_type": "stream",
     "text": [
      "23:20:37 httpx INFO   HTTP Request: POST https://api.openai.com/v1/embeddings \"HTTP/1.1 200 OK\"\n"
     ]
    },
    {
     "name": "stderr",
     "output_type": "stream",
     "text": [
      "\n",
      "1it [00:00,  1.76it/s]\n",
      "Embedding: 100%|██████████| 2/2 [00:00<00:00,  3.51emb/s]\n",
      "Assessing:  22%|██▏       | 126/574 [01:28<06:41,  1.12pred/s]\n",
      "\u001b[A"
     ]
    },
    {
     "name": "stdout",
     "output_type": "stream",
     "text": [
      "23:20:38 httpx INFO   HTTP Request: POST https://api.openai.com/v1/embeddings \"HTTP/1.1 200 OK\"\n"
     ]
    },
    {
     "name": "stderr",
     "output_type": "stream",
     "text": [
      "\n",
      "1it [00:00,  1.19it/s]\n",
      "Embedding: 100%|██████████| 2/2 [00:00<00:00,  2.38emb/s]\n",
      "Assessing:  22%|██▏       | 127/574 [01:29<06:38,  1.12pred/s]\n",
      "\u001b[A"
     ]
    },
    {
     "name": "stdout",
     "output_type": "stream",
     "text": [
      "23:20:38 httpx INFO   HTTP Request: POST https://api.openai.com/v1/embeddings \"HTTP/1.1 200 OK\"\n"
     ]
    },
    {
     "name": "stderr",
     "output_type": "stream",
     "text": [
      "\n",
      "1it [00:00,  1.92it/s]\n",
      "Embedding: 100%|██████████| 2/2 [00:00<00:00,  3.83emb/s]\n",
      "Assessing:  22%|██▏       | 128/574 [01:30<05:54,  1.26pred/s]\n",
      "\u001b[A"
     ]
    },
    {
     "name": "stdout",
     "output_type": "stream",
     "text": [
      "23:20:39 httpx INFO   HTTP Request: POST https://api.openai.com/v1/embeddings \"HTTP/1.1 200 OK\"\n"
     ]
    },
    {
     "name": "stderr",
     "output_type": "stream",
     "text": [
      "\n",
      "1it [00:00,  1.49it/s]\n",
      "Embedding: 100%|██████████| 1/1 [00:00<00:00,  1.48emb/s]\n",
      "Assessing:  22%|██▏       | 129/574 [01:30<05:41,  1.30pred/s]\n",
      "\u001b[A"
     ]
    },
    {
     "name": "stdout",
     "output_type": "stream",
     "text": [
      "23:20:40 httpx INFO   HTTP Request: POST https://api.openai.com/v1/embeddings \"HTTP/1.1 200 OK\"\n"
     ]
    },
    {
     "name": "stderr",
     "output_type": "stream",
     "text": [
      "\n",
      "1it [00:00,  1.45it/s]\n",
      "Embedding: 100%|██████████| 1/1 [00:00<00:00,  1.45emb/s]\n",
      "Assessing:  23%|██▎       | 130/574 [01:31<05:35,  1.33pred/s]\n",
      "\u001b[A"
     ]
    },
    {
     "name": "stdout",
     "output_type": "stream",
     "text": [
      "23:20:40 httpx INFO   HTTP Request: POST https://api.openai.com/v1/embeddings \"HTTP/1.1 200 OK\"\n"
     ]
    },
    {
     "name": "stderr",
     "output_type": "stream",
     "text": [
      "\n",
      "1it [00:00,  2.14it/s]\n",
      "Embedding: 100%|██████████| 1/1 [00:00<00:00,  2.14emb/s]\n",
      "Assessing:  23%|██▎       | 131/574 [01:32<04:59,  1.48pred/s]\n",
      "\u001b[A"
     ]
    },
    {
     "name": "stdout",
     "output_type": "stream",
     "text": [
      "23:20:41 httpx INFO   HTTP Request: POST https://api.openai.com/v1/embeddings \"HTTP/1.1 200 OK\"\n"
     ]
    },
    {
     "name": "stderr",
     "output_type": "stream",
     "text": [
      "\n",
      "1it [00:00,  1.48it/s]\n",
      "Embedding: 100%|██████████| 2/2 [00:00<00:00,  2.96emb/s]\n",
      "Assessing:  23%|██▎       | 132/574 [01:32<05:03,  1.46pred/s]\n",
      "\u001b[A"
     ]
    },
    {
     "name": "stdout",
     "output_type": "stream",
     "text": [
      "23:20:42 httpx INFO   HTTP Request: POST https://api.openai.com/v1/embeddings \"HTTP/1.1 200 OK\"\n"
     ]
    },
    {
     "name": "stderr",
     "output_type": "stream",
     "text": [
      "\n",
      "1it [00:00,  1.69it/s]\n",
      "Embedding: 100%|██████████| 2/2 [00:00<00:00,  3.37emb/s]\n",
      "Assessing:  23%|██▎       | 133/574 [01:33<04:55,  1.49pred/s]\n",
      "\u001b[A"
     ]
    },
    {
     "name": "stdout",
     "output_type": "stream",
     "text": [
      "23:20:42 httpx INFO   HTTP Request: POST https://api.openai.com/v1/embeddings \"HTTP/1.1 200 OK\"\n"
     ]
    },
    {
     "name": "stderr",
     "output_type": "stream",
     "text": [
      "\n",
      "1it [00:00,  2.50it/s]\n",
      "Embedding: 100%|██████████| 2/2 [00:00<00:00,  4.98emb/s]\n",
      "Assessing:  23%|██▎       | 134/574 [01:33<04:23,  1.67pred/s]\n",
      "\u001b[A"
     ]
    },
    {
     "name": "stdout",
     "output_type": "stream",
     "text": [
      "23:20:43 httpx INFO   HTTP Request: POST https://api.openai.com/v1/embeddings \"HTTP/1.1 200 OK\"\n"
     ]
    },
    {
     "name": "stderr",
     "output_type": "stream",
     "text": [
      "\n",
      "1it [00:00,  1.45it/s]\n",
      "Embedding: 100%|██████████| 2/2 [00:00<00:00,  2.90emb/s]\n",
      "Assessing:  24%|██▎       | 135/574 [01:34<04:38,  1.58pred/s]\n",
      "\u001b[A"
     ]
    },
    {
     "name": "stdout",
     "output_type": "stream",
     "text": [
      "23:20:43 httpx INFO   HTTP Request: POST https://api.openai.com/v1/embeddings \"HTTP/1.1 200 OK\"\n"
     ]
    },
    {
     "name": "stderr",
     "output_type": "stream",
     "text": [
      "\n",
      "1it [00:00,  1.71it/s]\n",
      "Embedding: 100%|██████████| 2/2 [00:00<00:00,  3.41emb/s]\n",
      "Assessing:  24%|██▎       | 136/574 [01:35<04:38,  1.57pred/s]\n",
      "\u001b[A"
     ]
    },
    {
     "name": "stdout",
     "output_type": "stream",
     "text": [
      "23:20:44 httpx INFO   HTTP Request: POST https://api.openai.com/v1/embeddings \"HTTP/1.1 200 OK\"\n"
     ]
    },
    {
     "name": "stderr",
     "output_type": "stream",
     "text": [
      "\n",
      "1it [00:00,  1.15it/s]\n",
      "Embedding: 100%|██████████| 2/2 [00:00<00:00,  2.30emb/s]\n",
      "Assessing:  24%|██▍       | 137/574 [01:36<05:14,  1.39pred/s]\n",
      "\u001b[A"
     ]
    },
    {
     "name": "stdout",
     "output_type": "stream",
     "text": [
      "23:20:45 httpx INFO   HTTP Request: POST https://api.openai.com/v1/embeddings \"HTTP/1.1 200 OK\"\n"
     ]
    },
    {
     "name": "stderr",
     "output_type": "stream",
     "text": [
      "\n",
      "1it [00:00,  2.48it/s]\n",
      "Embedding: 100%|██████████| 1/1 [00:00<00:00,  2.47emb/s]\n",
      "Assessing:  24%|██▍       | 138/574 [01:36<04:36,  1.58pred/s]\n",
      "\u001b[A"
     ]
    },
    {
     "name": "stdout",
     "output_type": "stream",
     "text": [
      "23:20:45 httpx INFO   HTTP Request: POST https://api.openai.com/v1/embeddings \"HTTP/1.1 200 OK\"\n"
     ]
    },
    {
     "name": "stderr",
     "output_type": "stream",
     "text": [
      "\n",
      "1it [00:00,  2.29it/s]\n",
      "Embedding: 100%|██████████| 1/1 [00:00<00:00,  2.28emb/s]\n",
      "Assessing:  24%|██▍       | 139/574 [01:37<04:14,  1.71pred/s]\n",
      "\u001b[A"
     ]
    },
    {
     "name": "stdout",
     "output_type": "stream",
     "text": [
      "23:20:46 httpx INFO   HTTP Request: POST https://api.openai.com/v1/embeddings \"HTTP/1.1 200 OK\"\n"
     ]
    },
    {
     "name": "stderr",
     "output_type": "stream",
     "text": [
      "\n",
      "1it [00:00,  2.38it/s]\n",
      "Embedding: 100%|██████████| 1/1 [00:00<00:00,  2.36emb/s]\n",
      "Assessing:  24%|██▍       | 140/574 [01:37<03:57,  1.83pred/s]\n",
      "\u001b[A"
     ]
    },
    {
     "name": "stdout",
     "output_type": "stream",
     "text": [
      "23:20:46 httpx INFO   HTTP Request: POST https://api.openai.com/v1/embeddings \"HTTP/1.1 200 OK\"\n"
     ]
    },
    {
     "name": "stderr",
     "output_type": "stream",
     "text": [
      "\n",
      "1it [00:00,  2.14it/s]\n",
      "Embedding: 100%|██████████| 2/2 [00:00<00:00,  4.27emb/s]\n",
      "Assessing:  25%|██▍       | 141/574 [01:38<03:52,  1.86pred/s]\n",
      "\u001b[A"
     ]
    },
    {
     "name": "stdout",
     "output_type": "stream",
     "text": [
      "23:20:47 httpx INFO   HTTP Request: POST https://api.openai.com/v1/embeddings \"HTTP/1.1 200 OK\"\n"
     ]
    },
    {
     "name": "stderr",
     "output_type": "stream",
     "text": [
      "\n",
      "1it [00:00,  1.47it/s]\n",
      "Embedding: 100%|██████████| 2/2 [00:00<00:00,  2.93emb/s]\n",
      "Assessing:  25%|██▍       | 142/574 [01:38<04:16,  1.68pred/s]\n",
      "\u001b[A"
     ]
    },
    {
     "name": "stdout",
     "output_type": "stream",
     "text": [
      "23:20:48 httpx INFO   HTTP Request: POST https://api.openai.com/v1/embeddings \"HTTP/1.1 200 OK\"\n"
     ]
    },
    {
     "name": "stderr",
     "output_type": "stream",
     "text": [
      "\n",
      "1it [00:00,  1.45it/s]\n",
      "Embedding: 100%|██████████| 1/1 [00:00<00:00,  1.45emb/s]\n",
      "Assessing:  25%|██▍       | 143/574 [01:39<04:32,  1.58pred/s]\n",
      "\u001b[A"
     ]
    },
    {
     "name": "stdout",
     "output_type": "stream",
     "text": [
      "23:20:48 httpx INFO   HTTP Request: POST https://api.openai.com/v1/embeddings \"HTTP/1.1 200 OK\"\n"
     ]
    },
    {
     "name": "stderr",
     "output_type": "stream",
     "text": [
      "\n",
      "1it [00:00,  1.62it/s]\n",
      "Embedding: 100%|██████████| 2/2 [00:00<00:00,  3.23emb/s]\n",
      "Assessing:  25%|██▌       | 144/574 [01:40<04:36,  1.56pred/s]\n",
      "\u001b[A"
     ]
    },
    {
     "name": "stdout",
     "output_type": "stream",
     "text": [
      "23:20:49 httpx INFO   HTTP Request: POST https://api.openai.com/v1/embeddings \"HTTP/1.1 200 OK\"\n"
     ]
    },
    {
     "name": "stderr",
     "output_type": "stream",
     "text": [
      "\n",
      "1it [00:00,  2.46it/s]\n",
      "Embedding: 100%|██████████| 2/2 [00:00<00:00,  4.91emb/s]\n",
      "Assessing:  25%|██▌       | 145/574 [01:40<04:12,  1.70pred/s]\n",
      "\u001b[A"
     ]
    },
    {
     "name": "stdout",
     "output_type": "stream",
     "text": [
      "23:20:49 httpx INFO   HTTP Request: POST https://api.openai.com/v1/embeddings \"HTTP/1.1 200 OK\"\n"
     ]
    },
    {
     "name": "stderr",
     "output_type": "stream",
     "text": [
      "\n",
      "1it [00:00,  1.61it/s]\n",
      "Embedding: 100%|██████████| 2/2 [00:00<00:00,  3.22emb/s]\n",
      "Assessing:  25%|██▌       | 146/574 [01:41<04:21,  1.64pred/s]\n",
      "\u001b[A"
     ]
    },
    {
     "name": "stdout",
     "output_type": "stream",
     "text": [
      "23:20:50 httpx INFO   HTTP Request: POST https://api.openai.com/v1/embeddings \"HTTP/1.1 200 OK\"\n"
     ]
    },
    {
     "name": "stderr",
     "output_type": "stream",
     "text": [
      "\n",
      "1it [00:00,  2.79it/s]\n",
      "Embedding: 100%|██████████| 1/1 [00:00<00:00,  2.77emb/s]\n",
      "Assessing:  26%|██▌       | 147/574 [01:41<03:52,  1.84pred/s]\n",
      "\u001b[A"
     ]
    },
    {
     "name": "stdout",
     "output_type": "stream",
     "text": [
      "23:20:50 httpx INFO   HTTP Request: POST https://api.openai.com/v1/embeddings \"HTTP/1.1 200 OK\"\n"
     ]
    },
    {
     "name": "stderr",
     "output_type": "stream",
     "text": [
      "\n",
      "1it [00:00,  3.10it/s]\n",
      "Embedding: 100%|██████████| 1/1 [00:00<00:00,  3.09emb/s]\n",
      "Assessing:  26%|██▌       | 148/574 [01:42<03:26,  2.06pred/s]\n",
      "\u001b[A"
     ]
    },
    {
     "name": "stdout",
     "output_type": "stream",
     "text": [
      "23:20:51 httpx INFO   HTTP Request: POST https://api.openai.com/v1/embeddings \"HTTP/1.1 200 OK\"\n"
     ]
    },
    {
     "name": "stderr",
     "output_type": "stream",
     "text": [
      "\n",
      "1it [00:00,  2.39it/s]\n",
      "Embedding: 100%|██████████| 1/1 [00:00<00:00,  2.39emb/s]\n",
      "Assessing:  26%|██▌       | 149/574 [01:42<03:21,  2.11pred/s]\n",
      "\u001b[A"
     ]
    },
    {
     "name": "stdout",
     "output_type": "stream",
     "text": [
      "23:20:51 httpx INFO   HTTP Request: POST https://api.openai.com/v1/embeddings \"HTTP/1.1 200 OK\"\n"
     ]
    },
    {
     "name": "stderr",
     "output_type": "stream",
     "text": [
      "\n",
      "1it [00:00,  1.73it/s]\n",
      "Embedding: 100%|██████████| 1/1 [00:00<00:00,  1.72emb/s]\n",
      "Assessing:  26%|██▌       | 150/574 [01:43<03:38,  1.94pred/s]\n",
      "\u001b[A"
     ]
    },
    {
     "name": "stdout",
     "output_type": "stream",
     "text": [
      "23:20:52 httpx INFO   HTTP Request: POST https://api.openai.com/v1/embeddings \"HTTP/1.1 200 OK\"\n"
     ]
    },
    {
     "name": "stderr",
     "output_type": "stream",
     "text": [
      "\n",
      "1it [00:00,  1.80it/s]\n",
      "Embedding: 100%|██████████| 2/2 [00:00<00:00,  3.60emb/s]\n",
      "Assessing:  26%|██▋       | 151/574 [01:43<03:48,  1.85pred/s]\n",
      "\u001b[A"
     ]
    },
    {
     "name": "stdout",
     "output_type": "stream",
     "text": [
      "23:20:52 httpx INFO   HTTP Request: POST https://api.openai.com/v1/embeddings \"HTTP/1.1 200 OK\"\n"
     ]
    },
    {
     "name": "stderr",
     "output_type": "stream",
     "text": [
      "\n",
      "1it [00:00,  2.34it/s]\n",
      "Embedding: 100%|██████████| 1/1 [00:00<00:00,  2.33emb/s]\n",
      "Assessing:  26%|██▋       | 152/574 [01:44<03:36,  1.95pred/s]\n",
      "\u001b[A"
     ]
    },
    {
     "name": "stdout",
     "output_type": "stream",
     "text": [
      "23:20:53 httpx INFO   HTTP Request: POST https://api.openai.com/v1/embeddings \"HTTP/1.1 200 OK\"\n"
     ]
    },
    {
     "name": "stderr",
     "output_type": "stream",
     "text": [
      "\n",
      "1it [00:00,  1.98it/s]\n",
      "Embedding: 100%|██████████| 2/2 [00:00<00:00,  3.95emb/s]\n",
      "Assessing:  27%|██▋       | 153/574 [01:44<03:40,  1.91pred/s]\n",
      "\u001b[A"
     ]
    },
    {
     "name": "stdout",
     "output_type": "stream",
     "text": [
      "23:20:53 httpx INFO   HTTP Request: POST https://api.openai.com/v1/embeddings \"HTTP/1.1 200 OK\"\n"
     ]
    },
    {
     "name": "stderr",
     "output_type": "stream",
     "text": [
      "\n",
      "1it [00:00,  1.61it/s]\n",
      "Embedding: 100%|██████████| 2/2 [00:00<00:00,  3.21emb/s]\n",
      "Assessing:  27%|██▋       | 154/574 [01:45<03:57,  1.77pred/s]\n",
      "\u001b[A"
     ]
    },
    {
     "name": "stdout",
     "output_type": "stream",
     "text": [
      "23:20:54 httpx INFO   HTTP Request: POST https://api.openai.com/v1/embeddings \"HTTP/1.1 200 OK\"\n"
     ]
    },
    {
     "name": "stderr",
     "output_type": "stream",
     "text": [
      "\n",
      "1it [00:00,  1.10it/s]\n",
      "Embedding: 100%|██████████| 2/2 [00:00<00:00,  2.20emb/s]\n",
      "Assessing:  27%|██▋       | 155/574 [01:46<04:45,  1.47pred/s]\n",
      "\u001b[A"
     ]
    },
    {
     "name": "stdout",
     "output_type": "stream",
     "text": [
      "23:20:55 httpx INFO   HTTP Request: POST https://api.openai.com/v1/embeddings \"HTTP/1.1 200 OK\"\n"
     ]
    },
    {
     "name": "stderr",
     "output_type": "stream",
     "text": [
      "\n",
      "1it [00:00,  2.43it/s]\n",
      "Embedding: 100%|██████████| 2/2 [00:00<00:00,  4.83emb/s]\n",
      "Assessing:  27%|██▋       | 156/574 [01:46<04:17,  1.63pred/s]\n",
      "\u001b[A"
     ]
    },
    {
     "name": "stdout",
     "output_type": "stream",
     "text": [
      "23:20:55 httpx INFO   HTTP Request: POST https://api.openai.com/v1/embeddings \"HTTP/1.1 200 OK\"\n"
     ]
    },
    {
     "name": "stderr",
     "output_type": "stream",
     "text": [
      "\n",
      "1it [00:00,  2.13it/s]\n",
      "Embedding: 100%|██████████| 2/2 [00:00<00:00,  4.24emb/s]\n",
      "Assessing:  27%|██▋       | 157/574 [01:47<04:03,  1.71pred/s]\n",
      "\u001b[A"
     ]
    },
    {
     "name": "stdout",
     "output_type": "stream",
     "text": [
      "23:20:56 httpx INFO   HTTP Request: POST https://api.openai.com/v1/embeddings \"HTTP/1.1 200 OK\"\n"
     ]
    },
    {
     "name": "stderr",
     "output_type": "stream",
     "text": [
      "\n",
      "1it [00:00,  1.93it/s]\n",
      "Embedding: 100%|██████████| 2/2 [00:00<00:00,  3.85emb/s]\n",
      "Assessing:  28%|██▊       | 158/574 [01:47<04:04,  1.70pred/s]\n",
      "\u001b[A"
     ]
    },
    {
     "name": "stdout",
     "output_type": "stream",
     "text": [
      "23:20:58 httpx INFO   HTTP Request: POST https://api.openai.com/v1/embeddings \"HTTP/1.1 200 OK\"\n"
     ]
    },
    {
     "name": "stderr",
     "output_type": "stream",
     "text": [
      "\n",
      "1it [00:02,  2.45s/it]\n",
      "Embedding: 100%|██████████| 1/1 [00:02<00:00,  2.45s/emb]\n",
      "Assessing:  28%|██▊       | 159/574 [01:50<08:00,  1.16s/pred]\n",
      "\u001b[A"
     ]
    },
    {
     "name": "stdout",
     "output_type": "stream",
     "text": [
      "23:20:59 httpx INFO   HTTP Request: POST https://api.openai.com/v1/embeddings \"HTTP/1.1 200 OK\"\n"
     ]
    },
    {
     "name": "stderr",
     "output_type": "stream",
     "text": [
      "\n",
      "1it [00:00,  1.49it/s]\n",
      "Embedding: 100%|██████████| 2/2 [00:00<00:00,  2.97emb/s]\n",
      "Assessing:  28%|██▊       | 160/574 [01:51<07:03,  1.02s/pred]\n",
      "\u001b[A"
     ]
    },
    {
     "name": "stdout",
     "output_type": "stream",
     "text": [
      "23:21:00 httpx INFO   HTTP Request: POST https://api.openai.com/v1/embeddings \"HTTP/1.1 200 OK\"\n"
     ]
    },
    {
     "name": "stderr",
     "output_type": "stream",
     "text": [
      "\n",
      "1it [00:00,  2.44it/s]\n",
      "Embedding: 100%|██████████| 2/2 [00:00<00:00,  4.86emb/s]\n",
      "Assessing:  28%|██▊       | 161/574 [01:51<05:52,  1.17pred/s]\n",
      "\u001b[A"
     ]
    },
    {
     "name": "stdout",
     "output_type": "stream",
     "text": [
      "23:21:00 httpx INFO   HTTP Request: POST https://api.openai.com/v1/embeddings \"HTTP/1.1 200 OK\"\n"
     ]
    },
    {
     "name": "stderr",
     "output_type": "stream",
     "text": [
      "\n",
      "1it [00:00,  1.99it/s]\n",
      "Embedding: 100%|██████████| 2/2 [00:00<00:00,  3.97emb/s]\n",
      "Assessing:  28%|██▊       | 162/574 [01:52<05:13,  1.31pred/s]\n",
      "\u001b[A"
     ]
    },
    {
     "name": "stdout",
     "output_type": "stream",
     "text": [
      "23:21:01 httpx INFO   HTTP Request: POST https://api.openai.com/v1/embeddings \"HTTP/1.1 200 OK\"\n"
     ]
    },
    {
     "name": "stderr",
     "output_type": "stream",
     "text": [
      "\n",
      "1it [00:00,  2.60it/s]\n",
      "Embedding: 100%|██████████| 2/2 [00:00<00:00,  5.16emb/s]\n",
      "Assessing:  28%|██▊       | 163/574 [01:52<04:31,  1.51pred/s]\n",
      "\u001b[A"
     ]
    },
    {
     "name": "stdout",
     "output_type": "stream",
     "text": [
      "23:21:01 httpx INFO   HTTP Request: POST https://api.openai.com/v1/embeddings \"HTTP/1.1 200 OK\"\n"
     ]
    },
    {
     "name": "stderr",
     "output_type": "stream",
     "text": [
      "\n",
      "1it [00:00,  1.27it/s]\n",
      "Embedding: 100%|██████████| 1/1 [00:00<00:00,  1.27emb/s]\n",
      "Assessing:  29%|██▊       | 164/574 [01:53<04:49,  1.42pred/s]\n",
      "\u001b[A"
     ]
    },
    {
     "name": "stdout",
     "output_type": "stream",
     "text": [
      "23:21:02 httpx INFO   HTTP Request: POST https://api.openai.com/v1/embeddings \"HTTP/1.1 200 OK\"\n"
     ]
    },
    {
     "name": "stderr",
     "output_type": "stream",
     "text": [
      "\n",
      "1it [00:00,  1.05it/s]\n",
      "Embedding: 100%|██████████| 1/1 [00:00<00:00,  1.05emb/s]\n",
      "Assessing:  29%|██▊       | 165/574 [01:54<05:22,  1.27pred/s]\n",
      "\u001b[A"
     ]
    },
    {
     "name": "stdout",
     "output_type": "stream",
     "text": [
      "23:21:03 httpx INFO   HTTP Request: POST https://api.openai.com/v1/embeddings \"HTTP/1.1 200 OK\"\n"
     ]
    },
    {
     "name": "stderr",
     "output_type": "stream",
     "text": [
      "\n",
      "1it [00:00,  2.19it/s]\n",
      "Embedding: 100%|██████████| 2/2 [00:00<00:00,  4.36emb/s]\n",
      "Assessing:  29%|██▉       | 166/574 [01:54<04:44,  1.43pred/s]\n",
      "\u001b[A"
     ]
    },
    {
     "name": "stdout",
     "output_type": "stream",
     "text": [
      "23:21:03 httpx INFO   HTTP Request: POST https://api.openai.com/v1/embeddings \"HTTP/1.1 200 OK\"\n"
     ]
    },
    {
     "name": "stderr",
     "output_type": "stream",
     "text": [
      "\n",
      "1it [00:00,  2.72it/s]\n",
      "Embedding: 100%|██████████| 1/1 [00:00<00:00,  2.71emb/s]\n",
      "Assessing:  29%|██▉       | 167/574 [01:55<04:07,  1.65pred/s]\n",
      "\u001b[A"
     ]
    },
    {
     "name": "stdout",
     "output_type": "stream",
     "text": [
      "23:21:04 httpx INFO   HTTP Request: POST https://api.openai.com/v1/embeddings \"HTTP/1.1 200 OK\"\n"
     ]
    },
    {
     "name": "stderr",
     "output_type": "stream",
     "text": [
      "\n",
      "1it [00:00,  2.06it/s]\n",
      "Embedding: 100%|██████████| 1/1 [00:00<00:00,  2.06emb/s]\n",
      "Assessing:  29%|██▉       | 168/574 [01:55<03:55,  1.72pred/s]\n",
      "\u001b[A"
     ]
    },
    {
     "name": "stdout",
     "output_type": "stream",
     "text": [
      "23:21:04 httpx INFO   HTTP Request: POST https://api.openai.com/v1/embeddings \"HTTP/1.1 200 OK\"\n"
     ]
    },
    {
     "name": "stderr",
     "output_type": "stream",
     "text": [
      "\n",
      "1it [00:00,  2.31it/s]\n",
      "Embedding: 100%|██████████| 1/1 [00:00<00:00,  2.30emb/s]\n",
      "Assessing:  29%|██▉       | 169/574 [01:56<03:40,  1.83pred/s]\n",
      "\u001b[A"
     ]
    },
    {
     "name": "stdout",
     "output_type": "stream",
     "text": [
      "23:21:05 httpx INFO   HTTP Request: POST https://api.openai.com/v1/embeddings \"HTTP/1.1 200 OK\"\n"
     ]
    },
    {
     "name": "stderr",
     "output_type": "stream",
     "text": [
      "\n",
      "1it [00:00,  2.56it/s]\n",
      "Embedding: 100%|██████████| 1/1 [00:00<00:00,  2.55emb/s]\n",
      "Assessing:  30%|██▉       | 170/574 [01:56<03:25,  1.97pred/s]\n",
      "\u001b[A"
     ]
    },
    {
     "name": "stdout",
     "output_type": "stream",
     "text": [
      "23:21:05 httpx INFO   HTTP Request: POST https://api.openai.com/v1/embeddings \"HTTP/1.1 200 OK\"\n"
     ]
    },
    {
     "name": "stderr",
     "output_type": "stream",
     "text": [
      "\n",
      "1it [00:00,  2.40it/s]\n",
      "Embedding: 100%|██████████| 1/1 [00:00<00:00,  2.39emb/s]\n",
      "Assessing:  30%|██▉       | 171/574 [01:57<03:17,  2.04pred/s]\n",
      "\u001b[A"
     ]
    },
    {
     "name": "stdout",
     "output_type": "stream",
     "text": [
      "23:21:06 httpx INFO   HTTP Request: POST https://api.openai.com/v1/embeddings \"HTTP/1.1 200 OK\"\n"
     ]
    },
    {
     "name": "stderr",
     "output_type": "stream",
     "text": [
      "\n",
      "1it [00:00,  2.34it/s]\n",
      "Embedding: 100%|██████████| 2/2 [00:00<00:00,  4.66emb/s]\n",
      "Assessing:  30%|██▉       | 172/574 [01:57<03:15,  2.05pred/s]\n",
      "\u001b[A"
     ]
    },
    {
     "name": "stdout",
     "output_type": "stream",
     "text": [
      "23:21:06 httpx INFO   HTTP Request: POST https://api.openai.com/v1/embeddings \"HTTP/1.1 200 OK\"\n"
     ]
    },
    {
     "name": "stderr",
     "output_type": "stream",
     "text": [
      "\n",
      "1it [00:00,  1.40it/s]\n",
      "Embedding: 100%|██████████| 2/2 [00:00<00:00,  2.80emb/s]\n",
      "Assessing:  30%|███       | 173/574 [01:58<03:48,  1.76pred/s]\n",
      "\u001b[A"
     ]
    },
    {
     "name": "stdout",
     "output_type": "stream",
     "text": [
      "23:21:07 httpx INFO   HTTP Request: POST https://api.openai.com/v1/embeddings \"HTTP/1.1 200 OK\"\n"
     ]
    },
    {
     "name": "stderr",
     "output_type": "stream",
     "text": [
      "\n",
      "1it [00:00,  2.10it/s]\n",
      "Embedding: 100%|██████████| 1/1 [00:00<00:00,  2.09emb/s]\n",
      "Assessing:  30%|███       | 174/574 [01:58<03:40,  1.81pred/s]\n",
      "\u001b[A"
     ]
    },
    {
     "name": "stdout",
     "output_type": "stream",
     "text": [
      "23:21:07 httpx INFO   HTTP Request: POST https://api.openai.com/v1/embeddings \"HTTP/1.1 200 OK\"\n"
     ]
    },
    {
     "name": "stderr",
     "output_type": "stream",
     "text": [
      "\n",
      "1it [00:00,  2.28it/s]\n",
      "Embedding: 100%|██████████| 2/2 [00:00<00:00,  4.53emb/s]\n",
      "Assessing:  30%|███       | 175/574 [01:59<03:32,  1.88pred/s]\n",
      "\u001b[A"
     ]
    },
    {
     "name": "stdout",
     "output_type": "stream",
     "text": [
      "23:21:08 httpx INFO   HTTP Request: POST https://api.openai.com/v1/embeddings \"HTTP/1.1 200 OK\"\n"
     ]
    },
    {
     "name": "stderr",
     "output_type": "stream",
     "text": [
      "\n",
      "1it [00:00,  1.70it/s]\n",
      "Embedding: 100%|██████████| 2/2 [00:00<00:00,  3.39emb/s]\n",
      "Assessing:  31%|███       | 176/574 [01:59<03:44,  1.77pred/s]\n",
      "\u001b[A"
     ]
    },
    {
     "name": "stdout",
     "output_type": "stream",
     "text": [
      "23:21:09 httpx INFO   HTTP Request: POST https://api.openai.com/v1/embeddings \"HTTP/1.1 200 OK\"\n"
     ]
    },
    {
     "name": "stderr",
     "output_type": "stream",
     "text": [
      "\n",
      "1it [00:00,  1.49it/s]\n",
      "Embedding: 100%|██████████| 2/2 [00:00<00:00,  2.96emb/s]\n",
      "Assessing:  31%|███       | 177/574 [02:00<04:02,  1.64pred/s]\n",
      "\u001b[A"
     ]
    },
    {
     "name": "stdout",
     "output_type": "stream",
     "text": [
      "23:21:09 httpx INFO   HTTP Request: POST https://api.openai.com/v1/embeddings \"HTTP/1.1 200 OK\"\n"
     ]
    },
    {
     "name": "stderr",
     "output_type": "stream",
     "text": [
      "\n",
      "1it [00:00,  1.46it/s]\n",
      "Embedding: 100%|██████████| 1/1 [00:00<00:00,  1.46emb/s]\n",
      "Assessing:  31%|███       | 178/574 [02:01<04:14,  1.56pred/s]\n",
      "\u001b[A"
     ]
    },
    {
     "name": "stdout",
     "output_type": "stream",
     "text": [
      "23:21:10 httpx INFO   HTTP Request: POST https://api.openai.com/v1/embeddings \"HTTP/1.1 200 OK\"\n"
     ]
    },
    {
     "name": "stderr",
     "output_type": "stream",
     "text": [
      "\n",
      "1it [00:00,  1.99it/s]\n",
      "Embedding: 100%|██████████| 1/1 [00:00<00:00,  1.99emb/s]\n",
      "Assessing:  31%|███       | 179/574 [02:01<04:00,  1.64pred/s]\n",
      "\u001b[A"
     ]
    },
    {
     "name": "stdout",
     "output_type": "stream",
     "text": [
      "23:21:11 httpx INFO   HTTP Request: POST https://api.openai.com/v1/embeddings \"HTTP/1.1 200 OK\"\n"
     ]
    },
    {
     "name": "stderr",
     "output_type": "stream",
     "text": [
      "\n",
      "1it [00:00,  2.14it/s]\n",
      "Embedding: 100%|██████████| 2/2 [00:00<00:00,  4.27emb/s]\n",
      "Assessing:  31%|███▏      | 180/574 [02:02<03:49,  1.72pred/s]\n",
      "\u001b[A"
     ]
    },
    {
     "name": "stdout",
     "output_type": "stream",
     "text": [
      "23:21:11 httpx INFO   HTTP Request: POST https://api.openai.com/v1/embeddings \"HTTP/1.1 200 OK\"\n"
     ]
    },
    {
     "name": "stderr",
     "output_type": "stream",
     "text": [
      "\n",
      "1it [00:00,  2.55it/s]\n",
      "Embedding: 100%|██████████| 1/1 [00:00<00:00,  2.54emb/s]\n",
      "Assessing:  32%|███▏      | 181/574 [02:02<03:30,  1.87pred/s]\n",
      "\u001b[A"
     ]
    },
    {
     "name": "stdout",
     "output_type": "stream",
     "text": [
      "23:21:12 httpx INFO   HTTP Request: POST https://api.openai.com/v1/embeddings \"HTTP/1.1 200 OK\"\n"
     ]
    },
    {
     "name": "stderr",
     "output_type": "stream",
     "text": [
      "\n",
      "1it [00:00,  1.91it/s]\n",
      "Embedding: 100%|██████████| 2/2 [00:00<00:00,  3.81emb/s]\n",
      "Assessing:  32%|███▏      | 182/574 [02:03<03:34,  1.83pred/s]\n",
      "\u001b[A"
     ]
    },
    {
     "name": "stdout",
     "output_type": "stream",
     "text": [
      "23:21:12 httpx INFO   HTTP Request: POST https://api.openai.com/v1/embeddings \"HTTP/1.1 200 OK\"\n"
     ]
    },
    {
     "name": "stderr",
     "output_type": "stream",
     "text": [
      "\n",
      "1it [00:00,  2.23it/s]\n",
      "Embedding: 100%|██████████| 2/2 [00:00<00:00,  4.43emb/s]\n",
      "Assessing:  32%|███▏      | 183/574 [02:03<03:28,  1.87pred/s]\n",
      "\u001b[A"
     ]
    },
    {
     "name": "stdout",
     "output_type": "stream",
     "text": [
      "23:21:13 httpx INFO   HTTP Request: POST https://api.openai.com/v1/embeddings \"HTTP/1.1 200 OK\"\n"
     ]
    },
    {
     "name": "stderr",
     "output_type": "stream",
     "text": [
      "\n",
      "1it [00:00,  1.49it/s]\n",
      "Embedding: 100%|██████████| 2/2 [00:00<00:00,  2.97emb/s]\n",
      "Assessing:  32%|███▏      | 184/574 [02:04<03:50,  1.70pred/s]\n",
      "\u001b[A"
     ]
    },
    {
     "name": "stdout",
     "output_type": "stream",
     "text": [
      "23:21:13 httpx INFO   HTTP Request: POST https://api.openai.com/v1/embeddings \"HTTP/1.1 200 OK\"\n"
     ]
    },
    {
     "name": "stderr",
     "output_type": "stream",
     "text": [
      "\n",
      "1it [00:00,  1.76it/s]\n",
      "Embedding: 100%|██████████| 2/2 [00:00<00:00,  3.51emb/s]\n",
      "Assessing:  32%|███▏      | 185/574 [02:05<03:52,  1.67pred/s]\n",
      "\u001b[A"
     ]
    },
    {
     "name": "stdout",
     "output_type": "stream",
     "text": [
      "23:21:14 httpx INFO   HTTP Request: POST https://api.openai.com/v1/embeddings \"HTTP/1.1 200 OK\"\n"
     ]
    },
    {
     "name": "stderr",
     "output_type": "stream",
     "text": [
      "\n",
      "1it [00:00,  2.30it/s]\n",
      "Embedding: 100%|██████████| 1/1 [00:00<00:00,  2.29emb/s]\n",
      "Assessing:  32%|███▏      | 186/574 [02:05<03:37,  1.79pred/s]\n",
      "\u001b[A"
     ]
    },
    {
     "name": "stdout",
     "output_type": "stream",
     "text": [
      "23:21:14 httpx INFO   HTTP Request: POST https://api.openai.com/v1/embeddings \"HTTP/1.1 200 OK\"\n"
     ]
    },
    {
     "name": "stderr",
     "output_type": "stream",
     "text": [
      "\n",
      "1it [00:00,  2.08it/s]\n",
      "Embedding: 100%|██████████| 1/1 [00:00<00:00,  2.07emb/s]\n",
      "Assessing:  33%|███▎      | 187/574 [02:06<03:31,  1.83pred/s]\n",
      "\u001b[A"
     ]
    },
    {
     "name": "stdout",
     "output_type": "stream",
     "text": [
      "23:21:15 httpx INFO   HTTP Request: POST https://api.openai.com/v1/embeddings \"HTTP/1.1 200 OK\"\n"
     ]
    },
    {
     "name": "stderr",
     "output_type": "stream",
     "text": [
      "\n",
      "1it [00:00,  1.98it/s]\n",
      "Embedding: 100%|██████████| 2/2 [00:00<00:00,  3.94emb/s]\n",
      "Assessing:  33%|███▎      | 188/574 [02:06<03:32,  1.82pred/s]\n",
      "\u001b[A"
     ]
    },
    {
     "name": "stdout",
     "output_type": "stream",
     "text": [
      "23:21:16 httpx INFO   HTTP Request: POST https://api.openai.com/v1/embeddings \"HTTP/1.1 200 OK\"\n"
     ]
    },
    {
     "name": "stderr",
     "output_type": "stream",
     "text": [
      "\n",
      "1it [00:00,  1.36it/s]\n",
      "Embedding: 100%|██████████| 2/2 [00:00<00:00,  2.72emb/s]\n",
      "Assessing:  33%|███▎      | 189/574 [02:07<03:57,  1.62pred/s]\n",
      "\u001b[A"
     ]
    },
    {
     "name": "stdout",
     "output_type": "stream",
     "text": [
      "23:21:16 httpx INFO   HTTP Request: POST https://api.openai.com/v1/embeddings \"HTTP/1.1 200 OK\"\n"
     ]
    },
    {
     "name": "stderr",
     "output_type": "stream",
     "text": [
      "\n",
      "1it [00:00,  1.65it/s]\n",
      "Embedding: 100%|██████████| 1/1 [00:00<00:00,  1.65emb/s]\n",
      "Assessing:  33%|███▎      | 190/574 [02:08<03:59,  1.61pred/s]\n",
      "\u001b[A"
     ]
    },
    {
     "name": "stdout",
     "output_type": "stream",
     "text": [
      "23:21:17 httpx INFO   HTTP Request: POST https://api.openai.com/v1/embeddings \"HTTP/1.1 200 OK\"\n"
     ]
    },
    {
     "name": "stderr",
     "output_type": "stream",
     "text": [
      "\n",
      "1it [00:00,  2.26it/s]\n",
      "Embedding: 100%|██████████| 1/1 [00:00<00:00,  2.25emb/s]\n",
      "Assessing:  33%|███▎      | 191/574 [02:08<03:44,  1.71pred/s]\n",
      "\u001b[A"
     ]
    },
    {
     "name": "stdout",
     "output_type": "stream",
     "text": [
      "23:21:18 httpx INFO   HTTP Request: POST https://api.openai.com/v1/embeddings \"HTTP/1.1 200 OK\"\n"
     ]
    },
    {
     "name": "stderr",
     "output_type": "stream",
     "text": [
      "\n",
      "1it [00:00,  1.44it/s]\n",
      "Embedding: 100%|██████████| 1/1 [00:00<00:00,  1.44emb/s]\n",
      "Assessing:  33%|███▎      | 192/574 [02:09<04:00,  1.59pred/s]\n",
      "\u001b[A"
     ]
    },
    {
     "name": "stdout",
     "output_type": "stream",
     "text": [
      "23:21:18 httpx INFO   HTTP Request: POST https://api.openai.com/v1/embeddings \"HTTP/1.1 200 OK\"\n"
     ]
    },
    {
     "name": "stderr",
     "output_type": "stream",
     "text": [
      "\n",
      "1it [00:00,  1.94it/s]\n",
      "Embedding: 100%|██████████| 1/1 [00:00<00:00,  1.94emb/s]\n",
      "Assessing:  34%|███▎      | 193/574 [02:10<03:50,  1.66pred/s]\n",
      "\u001b[A"
     ]
    },
    {
     "name": "stdout",
     "output_type": "stream",
     "text": [
      "23:21:19 httpx INFO   HTTP Request: POST https://api.openai.com/v1/embeddings \"HTTP/1.1 200 OK\"\n"
     ]
    },
    {
     "name": "stderr",
     "output_type": "stream",
     "text": [
      "\n",
      "1it [00:00,  2.03it/s]\n",
      "Embedding: 100%|██████████| 2/2 [00:00<00:00,  4.04emb/s]\n",
      "Assessing:  34%|███▍      | 194/574 [02:10<03:43,  1.70pred/s]\n",
      "\u001b[A"
     ]
    },
    {
     "name": "stdout",
     "output_type": "stream",
     "text": [
      "23:21:19 httpx INFO   HTTP Request: POST https://api.openai.com/v1/embeddings \"HTTP/1.1 200 OK\"\n"
     ]
    },
    {
     "name": "stderr",
     "output_type": "stream",
     "text": [
      "\n",
      "1it [00:00,  1.41it/s]\n",
      "Embedding: 100%|██████████| 2/2 [00:00<00:00,  2.82emb/s]\n",
      "Assessing:  34%|███▍      | 195/574 [02:11<04:03,  1.56pred/s]\n",
      "\u001b[A"
     ]
    },
    {
     "name": "stdout",
     "output_type": "stream",
     "text": [
      "23:21:21 httpx INFO   HTTP Request: POST https://api.openai.com/v1/embeddings \"HTTP/1.1 200 OK\"\n"
     ]
    },
    {
     "name": "stderr",
     "output_type": "stream",
     "text": [
      "\n",
      "1it [00:01,  1.59s/it]\n",
      "Embedding: 100%|██████████| 1/1 [00:01<00:00,  1.59s/emb]\n",
      "Assessing:  34%|███▍      | 196/574 [02:12<05:53,  1.07pred/s]\n",
      "\u001b[A"
     ]
    },
    {
     "name": "stdout",
     "output_type": "stream",
     "text": [
      "23:21:22 httpx INFO   HTTP Request: POST https://api.openai.com/v1/embeddings \"HTTP/1.1 200 OK\"\n"
     ]
    },
    {
     "name": "stderr",
     "output_type": "stream",
     "text": [
      "\n",
      "1it [00:00,  2.11it/s]\n",
      "Embedding: 100%|██████████| 1/1 [00:00<00:00,  2.09emb/s]\n",
      "Assessing:  34%|███▍      | 197/574 [02:13<05:04,  1.24pred/s]\n",
      "\u001b[A"
     ]
    },
    {
     "name": "stdout",
     "output_type": "stream",
     "text": [
      "23:21:22 httpx INFO   HTTP Request: POST https://api.openai.com/v1/embeddings \"HTTP/1.1 200 OK\"\n"
     ]
    },
    {
     "name": "stderr",
     "output_type": "stream",
     "text": [
      "\n",
      "1it [00:00,  2.49it/s]\n",
      "Embedding: 100%|██████████| 1/1 [00:00<00:00,  2.47emb/s]\n",
      "Assessing:  34%|███▍      | 198/574 [02:13<04:21,  1.44pred/s]\n",
      "\u001b[A"
     ]
    },
    {
     "name": "stdout",
     "output_type": "stream",
     "text": [
      "23:21:24 httpx INFO   HTTP Request: POST https://api.openai.com/v1/embeddings \"HTTP/1.1 200 OK\"\n"
     ]
    },
    {
     "name": "stderr",
     "output_type": "stream",
     "text": [
      "\n",
      "1it [00:01,  1.88s/it]\n",
      "Embedding: 100%|██████████| 1/1 [00:01<00:00,  1.88s/emb]\n",
      "Assessing:  35%|███▍      | 199/574 [02:15<06:37,  1.06s/pred]\n",
      "\u001b[A"
     ]
    },
    {
     "name": "stdout",
     "output_type": "stream",
     "text": [
      "23:21:25 httpx INFO   HTTP Request: POST https://api.openai.com/v1/embeddings \"HTTP/1.1 200 OK\"\n"
     ]
    },
    {
     "name": "stderr",
     "output_type": "stream",
     "text": [
      "\n",
      "1it [00:00,  1.62it/s]\n",
      "Embedding: 100%|██████████| 1/1 [00:00<00:00,  1.61emb/s]\n",
      "Assessing:  35%|███▍      | 200/574 [02:16<05:53,  1.06pred/s]\n",
      "\u001b[A"
     ]
    },
    {
     "name": "stdout",
     "output_type": "stream",
     "text": [
      "23:21:25 httpx INFO   HTTP Request: POST https://api.openai.com/v1/embeddings \"HTTP/1.1 200 OK\"\n"
     ]
    },
    {
     "name": "stderr",
     "output_type": "stream",
     "text": [
      "\n",
      "1it [00:00,  2.48it/s]\n",
      "Embedding: 100%|██████████| 2/2 [00:00<00:00,  4.94emb/s]\n",
      "Assessing:  35%|███▌      | 201/574 [02:16<04:56,  1.26pred/s]\n",
      "\u001b[A"
     ]
    },
    {
     "name": "stdout",
     "output_type": "stream",
     "text": [
      "23:21:25 httpx INFO   HTTP Request: POST https://api.openai.com/v1/embeddings \"HTTP/1.1 200 OK\"\n"
     ]
    },
    {
     "name": "stderr",
     "output_type": "stream",
     "text": [
      "\n",
      "1it [00:00,  2.96it/s]\n",
      "Embedding: 100%|██████████| 1/1 [00:00<00:00,  2.95emb/s]\n",
      "Assessing:  35%|███▌      | 202/574 [02:17<04:08,  1.50pred/s]\n",
      "\u001b[A"
     ]
    },
    {
     "name": "stdout",
     "output_type": "stream",
     "text": [
      "23:21:26 httpx INFO   HTTP Request: POST https://api.openai.com/v1/embeddings \"HTTP/1.1 200 OK\"\n"
     ]
    },
    {
     "name": "stderr",
     "output_type": "stream",
     "text": [
      "\n",
      "1it [00:00,  1.80it/s]\n",
      "Embedding: 100%|██████████| 1/1 [00:00<00:00,  1.80emb/s]\n",
      "Assessing:  35%|███▌      | 203/574 [02:17<03:58,  1.55pred/s]\n",
      "\u001b[A"
     ]
    },
    {
     "name": "stdout",
     "output_type": "stream",
     "text": [
      "23:21:27 httpx INFO   HTTP Request: POST https://api.openai.com/v1/embeddings \"HTTP/1.1 200 OK\"\n"
     ]
    },
    {
     "name": "stderr",
     "output_type": "stream",
     "text": [
      "\n",
      "1it [00:00,  1.80it/s]\n",
      "Embedding: 100%|██████████| 1/1 [00:00<00:00,  1.80emb/s]\n",
      "Assessing:  36%|███▌      | 204/574 [02:18<03:52,  1.59pred/s]\n",
      "\u001b[A"
     ]
    },
    {
     "name": "stdout",
     "output_type": "stream",
     "text": [
      "23:21:27 httpx INFO   HTTP Request: POST https://api.openai.com/v1/embeddings \"HTTP/1.1 200 OK\"\n"
     ]
    },
    {
     "name": "stderr",
     "output_type": "stream",
     "text": [
      "\n",
      "1it [00:00,  1.35it/s]\n",
      "Embedding: 100%|██████████| 2/2 [00:00<00:00,  2.70emb/s]\n",
      "Assessing:  36%|███▌      | 205/574 [02:19<04:08,  1.49pred/s]\n",
      "\u001b[A"
     ]
    },
    {
     "name": "stdout",
     "output_type": "stream",
     "text": [
      "23:21:29 httpx INFO   HTTP Request: POST https://api.openai.com/v1/embeddings \"HTTP/1.1 200 OK\"\n"
     ]
    },
    {
     "name": "stderr",
     "output_type": "stream",
     "text": [
      "\n",
      "1it [00:01,  1.15s/it]\n",
      "Embedding: 100%|██████████| 2/2 [00:01<00:00,  1.73emb/s]\n",
      "Assessing:  36%|███▌      | 206/574 [02:20<05:04,  1.21pred/s]\n",
      "\u001b[A"
     ]
    },
    {
     "name": "stdout",
     "output_type": "stream",
     "text": [
      "23:21:29 httpx INFO   HTTP Request: POST https://api.openai.com/v1/embeddings \"HTTP/1.1 200 OK\"\n"
     ]
    },
    {
     "name": "stderr",
     "output_type": "stream",
     "text": [
      "\n",
      "1it [00:00,  2.27it/s]\n",
      "Embedding: 100%|██████████| 2/2 [00:00<00:00,  4.53emb/s]\n",
      "Assessing:  36%|███▌      | 207/574 [02:20<04:26,  1.38pred/s]\n",
      "\u001b[A"
     ]
    },
    {
     "name": "stdout",
     "output_type": "stream",
     "text": [
      "23:21:29 httpx INFO   HTTP Request: POST https://api.openai.com/v1/embeddings \"HTTP/1.1 200 OK\"\n"
     ]
    },
    {
     "name": "stderr",
     "output_type": "stream",
     "text": [
      "\n",
      "1it [00:00,  2.76it/s]\n",
      "Embedding: 100%|██████████| 1/1 [00:00<00:00,  2.75emb/s]\n",
      "Assessing:  36%|███▌      | 208/574 [02:21<03:48,  1.60pred/s]\n",
      "\u001b[A"
     ]
    },
    {
     "name": "stdout",
     "output_type": "stream",
     "text": [
      "23:21:30 httpx INFO   HTTP Request: POST https://api.openai.com/v1/embeddings \"HTTP/1.1 200 OK\"\n"
     ]
    },
    {
     "name": "stderr",
     "output_type": "stream",
     "text": [
      "\n",
      "1it [00:00,  1.48it/s]\n",
      "Embedding: 100%|██████████| 2/2 [00:00<00:00,  2.96emb/s]\n",
      "Assessing:  36%|███▋      | 209/574 [02:22<03:58,  1.53pred/s]\n",
      "\u001b[A"
     ]
    },
    {
     "name": "stdout",
     "output_type": "stream",
     "text": [
      "23:21:30 httpx INFO   HTTP Request: POST https://api.openai.com/v1/embeddings \"HTTP/1.1 200 OK\"\n"
     ]
    },
    {
     "name": "stderr",
     "output_type": "stream",
     "text": [
      "\n",
      "1it [00:00,  3.18it/s]\n",
      "Embedding: 100%|██████████| 1/1 [00:00<00:00,  3.17emb/s]\n",
      "Assessing:  37%|███▋      | 210/574 [02:22<03:24,  1.78pred/s]\n",
      "\u001b[A"
     ]
    },
    {
     "name": "stdout",
     "output_type": "stream",
     "text": [
      "23:21:31 httpx INFO   HTTP Request: POST https://api.openai.com/v1/embeddings \"HTTP/1.1 200 OK\"\n"
     ]
    },
    {
     "name": "stderr",
     "output_type": "stream",
     "text": [
      "\n",
      "1it [00:00,  2.31it/s]\n",
      "Embedding: 100%|██████████| 2/2 [00:00<00:00,  4.60emb/s]\n",
      "Assessing:  37%|███▋      | 211/574 [02:22<03:13,  1.87pred/s]\n",
      "\u001b[A"
     ]
    },
    {
     "name": "stdout",
     "output_type": "stream",
     "text": [
      "23:21:32 httpx INFO   HTTP Request: POST https://api.openai.com/v1/embeddings \"HTTP/1.1 200 OK\"\n"
     ]
    },
    {
     "name": "stderr",
     "output_type": "stream",
     "text": [
      "\n",
      "1it [00:00,  1.79it/s]\n",
      "Embedding: 100%|██████████| 1/1 [00:00<00:00,  1.79emb/s]\n",
      "Assessing:  37%|███▋      | 212/574 [02:23<03:19,  1.82pred/s]\n",
      "\u001b[A"
     ]
    },
    {
     "name": "stdout",
     "output_type": "stream",
     "text": [
      "23:21:32 httpx INFO   HTTP Request: POST https://api.openai.com/v1/embeddings \"HTTP/1.1 200 OK\"\n"
     ]
    },
    {
     "name": "stderr",
     "output_type": "stream",
     "text": [
      "\n",
      "1it [00:00,  2.50it/s]\n",
      "Embedding: 100%|██████████| 1/1 [00:00<00:00,  2.49emb/s]\n",
      "Assessing:  37%|███▋      | 213/574 [02:23<03:05,  1.95pred/s]\n",
      "\u001b[A"
     ]
    },
    {
     "name": "stdout",
     "output_type": "stream",
     "text": [
      "23:21:33 httpx INFO   HTTP Request: POST https://api.openai.com/v1/embeddings \"HTTP/1.1 200 OK\"\n"
     ]
    },
    {
     "name": "stderr",
     "output_type": "stream",
     "text": [
      "\n",
      "1it [00:00,  1.40it/s]\n",
      "Embedding: 100%|██████████| 2/2 [00:00<00:00,  2.80emb/s]\n",
      "Assessing:  37%|███▋      | 214/574 [02:24<03:31,  1.70pred/s]\n",
      "\u001b[A"
     ]
    },
    {
     "name": "stdout",
     "output_type": "stream",
     "text": [
      "23:21:33 httpx INFO   HTTP Request: POST https://api.openai.com/v1/embeddings \"HTTP/1.1 200 OK\"\n"
     ]
    },
    {
     "name": "stderr",
     "output_type": "stream",
     "text": [
      "\n",
      "1it [00:00,  2.27it/s]\n",
      "Embedding: 100%|██████████| 2/2 [00:00<00:00,  4.52emb/s]\n",
      "Assessing:  37%|███▋      | 215/574 [02:25<03:19,  1.80pred/s]\n",
      "\u001b[A"
     ]
    },
    {
     "name": "stdout",
     "output_type": "stream",
     "text": [
      "23:21:34 httpx INFO   HTTP Request: POST https://api.openai.com/v1/embeddings \"HTTP/1.1 200 OK\"\n"
     ]
    },
    {
     "name": "stderr",
     "output_type": "stream",
     "text": [
      "\n",
      "1it [00:00,  2.53it/s]\n",
      "Embedding: 100%|██████████| 1/1 [00:00<00:00,  2.52emb/s]\n",
      "Assessing:  38%|███▊      | 216/574 [02:25<03:03,  1.95pred/s]\n",
      "\u001b[A"
     ]
    },
    {
     "name": "stdout",
     "output_type": "stream",
     "text": [
      "23:21:35 httpx INFO   HTTP Request: POST https://api.openai.com/v1/embeddings \"HTTP/1.1 200 OK\"\n"
     ]
    },
    {
     "name": "stderr",
     "output_type": "stream",
     "text": [
      "\n",
      "1it [00:01,  1.51s/it]\n",
      "Embedding: 100%|██████████| 1/1 [00:01<00:00,  1.51s/emb]\n",
      "Assessing:  38%|███▊      | 217/574 [02:27<04:52,  1.22pred/s]\n",
      "\u001b[A"
     ]
    },
    {
     "name": "stdout",
     "output_type": "stream",
     "text": [
      "23:21:36 httpx INFO   HTTP Request: POST https://api.openai.com/v1/embeddings \"HTTP/1.1 200 OK\"\n"
     ]
    },
    {
     "name": "stderr",
     "output_type": "stream",
     "text": [
      "\n",
      "1it [00:00,  2.17it/s]\n",
      "Embedding: 100%|██████████| 1/1 [00:00<00:00,  2.17emb/s]\n",
      "Assessing:  38%|███▊      | 218/574 [02:27<04:16,  1.39pred/s]\n",
      "\u001b[A"
     ]
    },
    {
     "name": "stdout",
     "output_type": "stream",
     "text": [
      "23:21:36 httpx INFO   HTTP Request: POST https://api.openai.com/v1/embeddings \"HTTP/1.1 200 OK\"\n"
     ]
    },
    {
     "name": "stderr",
     "output_type": "stream",
     "text": [
      "\n",
      "1it [00:00,  1.60it/s]\n",
      "Embedding: 100%|██████████| 1/1 [00:00<00:00,  1.59emb/s]\n",
      "Assessing:  38%|███▊      | 219/574 [02:28<04:07,  1.43pred/s]\n",
      "\u001b[A"
     ]
    },
    {
     "name": "stdout",
     "output_type": "stream",
     "text": [
      "23:21:37 httpx INFO   HTTP Request: POST https://api.openai.com/v1/embeddings \"HTTP/1.1 200 OK\"\n"
     ]
    },
    {
     "name": "stderr",
     "output_type": "stream",
     "text": [
      "\n",
      "1it [00:00,  2.31it/s]\n",
      "Embedding: 100%|██████████| 1/1 [00:00<00:00,  2.31emb/s]\n",
      "Assessing:  38%|███▊      | 220/574 [02:28<03:41,  1.60pred/s]\n",
      "\u001b[A"
     ]
    },
    {
     "name": "stdout",
     "output_type": "stream",
     "text": [
      "23:21:37 httpx INFO   HTTP Request: POST https://api.openai.com/v1/embeddings \"HTTP/1.1 200 OK\"\n"
     ]
    },
    {
     "name": "stderr",
     "output_type": "stream",
     "text": [
      "\n",
      "1it [00:00,  1.80it/s]\n",
      "Embedding: 100%|██████████| 1/1 [00:00<00:00,  1.79emb/s]\n",
      "Assessing:  39%|███▊      | 221/574 [02:29<03:36,  1.63pred/s]\n",
      "\u001b[A"
     ]
    },
    {
     "name": "stdout",
     "output_type": "stream",
     "text": [
      "23:21:38 httpx INFO   HTTP Request: POST https://api.openai.com/v1/embeddings \"HTTP/1.1 200 OK\"\n"
     ]
    },
    {
     "name": "stderr",
     "output_type": "stream",
     "text": [
      "\n",
      "1it [00:00,  1.95it/s]\n",
      "Embedding: 100%|██████████| 1/1 [00:00<00:00,  1.94emb/s]\n",
      "Assessing:  39%|███▊      | 222/574 [02:29<03:28,  1.69pred/s]\n",
      "\u001b[A"
     ]
    },
    {
     "name": "stdout",
     "output_type": "stream",
     "text": [
      "23:21:38 httpx INFO   HTTP Request: POST https://api.openai.com/v1/embeddings \"HTTP/1.1 200 OK\"\n"
     ]
    },
    {
     "name": "stderr",
     "output_type": "stream",
     "text": [
      "\n",
      "1it [00:00,  2.57it/s]\n",
      "Embedding: 100%|██████████| 1/1 [00:00<00:00,  2.57emb/s]\n",
      "Assessing:  39%|███▉      | 223/574 [02:30<03:09,  1.86pred/s]\n",
      "\u001b[A"
     ]
    },
    {
     "name": "stdout",
     "output_type": "stream",
     "text": [
      "23:21:39 httpx INFO   HTTP Request: POST https://api.openai.com/v1/embeddings \"HTTP/1.1 200 OK\"\n"
     ]
    },
    {
     "name": "stderr",
     "output_type": "stream",
     "text": [
      "\n",
      "1it [00:00,  2.12it/s]\n",
      "Embedding: 100%|██████████| 1/1 [00:00<00:00,  2.11emb/s]\n",
      "Assessing:  39%|███▉      | 224/574 [02:30<03:03,  1.90pred/s]\n",
      "\u001b[A"
     ]
    },
    {
     "name": "stdout",
     "output_type": "stream",
     "text": [
      "23:21:39 httpx INFO   HTTP Request: POST https://api.openai.com/v1/embeddings \"HTTP/1.1 200 OK\"\n"
     ]
    },
    {
     "name": "stderr",
     "output_type": "stream",
     "text": [
      "\n",
      "1it [00:00,  3.26it/s]\n",
      "Embedding: 100%|██████████| 1/1 [00:00<00:00,  3.25emb/s]\n",
      "Assessing:  39%|███▉      | 225/574 [02:31<02:43,  2.14pred/s]\n",
      "\u001b[A"
     ]
    },
    {
     "name": "stdout",
     "output_type": "stream",
     "text": [
      "23:21:40 httpx INFO   HTTP Request: POST https://api.openai.com/v1/embeddings \"HTTP/1.1 200 OK\"\n"
     ]
    },
    {
     "name": "stderr",
     "output_type": "stream",
     "text": [
      "\n",
      "1it [00:00,  1.47it/s]\n",
      "Embedding: 100%|██████████| 1/1 [00:00<00:00,  1.47emb/s]\n",
      "Assessing:  39%|███▉      | 226/574 [02:31<03:07,  1.86pred/s]\n",
      "\u001b[A"
     ]
    },
    {
     "name": "stdout",
     "output_type": "stream",
     "text": [
      "23:21:41 httpx INFO   HTTP Request: POST https://api.openai.com/v1/embeddings \"HTTP/1.1 200 OK\"\n"
     ]
    },
    {
     "name": "stderr",
     "output_type": "stream",
     "text": [
      "\n",
      "1it [00:00,  1.52it/s]\n",
      "Embedding: 100%|██████████| 2/2 [00:00<00:00,  3.04emb/s]\n",
      "Assessing:  40%|███▉      | 227/574 [02:32<03:24,  1.70pred/s]\n",
      "\u001b[A"
     ]
    },
    {
     "name": "stdout",
     "output_type": "stream",
     "text": [
      "23:21:41 httpx INFO   HTTP Request: POST https://api.openai.com/v1/embeddings \"HTTP/1.1 200 OK\"\n"
     ]
    },
    {
     "name": "stderr",
     "output_type": "stream",
     "text": [
      "\n",
      "1it [00:00,  2.37it/s]\n",
      "Embedding: 100%|██████████| 2/2 [00:00<00:00,  4.72emb/s]\n",
      "Assessing:  40%|███▉      | 228/574 [02:32<03:09,  1.83pred/s]\n",
      "\u001b[A"
     ]
    },
    {
     "name": "stdout",
     "output_type": "stream",
     "text": [
      "23:21:41 httpx INFO   HTTP Request: POST https://api.openai.com/v1/embeddings \"HTTP/1.1 200 OK\"\n"
     ]
    },
    {
     "name": "stderr",
     "output_type": "stream",
     "text": [
      "\n",
      "1it [00:00,  2.18it/s]\n",
      "Embedding: 100%|██████████| 1/1 [00:00<00:00,  2.17emb/s]\n",
      "Assessing:  40%|███▉      | 229/574 [02:33<03:03,  1.88pred/s]\n",
      "\u001b[A"
     ]
    },
    {
     "name": "stdout",
     "output_type": "stream",
     "text": [
      "23:21:42 httpx INFO   HTTP Request: POST https://api.openai.com/v1/embeddings \"HTTP/1.1 200 OK\"\n"
     ]
    },
    {
     "name": "stderr",
     "output_type": "stream",
     "text": [
      "\n",
      "1it [00:00,  1.53it/s]\n",
      "Embedding: 100%|██████████| 2/2 [00:00<00:00,  3.05emb/s]\n",
      "Assessing:  40%|████      | 230/574 [02:34<03:20,  1.72pred/s]\n",
      "\u001b[A"
     ]
    },
    {
     "name": "stdout",
     "output_type": "stream",
     "text": [
      "23:21:43 httpx INFO   HTTP Request: POST https://api.openai.com/v1/embeddings \"HTTP/1.1 200 OK\"\n"
     ]
    },
    {
     "name": "stderr",
     "output_type": "stream",
     "text": [
      "\n",
      "1it [00:00,  1.48it/s]\n",
      "Embedding: 100%|██████████| 2/2 [00:00<00:00,  2.96emb/s]\n",
      "Assessing:  40%|████      | 231/574 [02:34<03:34,  1.60pred/s]\n",
      "\u001b[A"
     ]
    },
    {
     "name": "stdout",
     "output_type": "stream",
     "text": [
      "23:21:43 httpx INFO   HTTP Request: POST https://api.openai.com/v1/embeddings \"HTTP/1.1 200 OK\"\n"
     ]
    },
    {
     "name": "stderr",
     "output_type": "stream",
     "text": [
      "\n",
      "1it [00:00,  1.87it/s]\n",
      "Embedding: 100%|██████████| 2/2 [00:00<00:00,  3.72emb/s]\n",
      "Assessing:  40%|████      | 232/574 [02:35<03:28,  1.64pred/s]\n",
      "\u001b[A"
     ]
    },
    {
     "name": "stdout",
     "output_type": "stream",
     "text": [
      "23:21:44 httpx INFO   HTTP Request: POST https://api.openai.com/v1/embeddings \"HTTP/1.1 200 OK\"\n"
     ]
    },
    {
     "name": "stderr",
     "output_type": "stream",
     "text": [
      "\n",
      "1it [00:00,  2.24it/s]\n",
      "Embedding: 100%|██████████| 2/2 [00:00<00:00,  4.47emb/s]\n",
      "Assessing:  41%|████      | 233/574 [02:35<03:16,  1.74pred/s]\n",
      "\u001b[A"
     ]
    },
    {
     "name": "stdout",
     "output_type": "stream",
     "text": [
      "23:21:44 httpx INFO   HTTP Request: POST https://api.openai.com/v1/embeddings \"HTTP/1.1 200 OK\"\n"
     ]
    },
    {
     "name": "stderr",
     "output_type": "stream",
     "text": [
      "\n",
      "1it [00:00,  2.21it/s]\n",
      "Embedding: 100%|██████████| 2/2 [00:00<00:00,  4.40emb/s]\n",
      "Assessing:  41%|████      | 234/574 [02:36<03:07,  1.82pred/s]\n",
      "\u001b[A"
     ]
    },
    {
     "name": "stdout",
     "output_type": "stream",
     "text": [
      "23:21:45 httpx INFO   HTTP Request: POST https://api.openai.com/v1/embeddings \"HTTP/1.1 200 OK\"\n"
     ]
    },
    {
     "name": "stderr",
     "output_type": "stream",
     "text": [
      "\n",
      "1it [00:00,  2.45it/s]\n",
      "Embedding: 100%|██████████| 1/1 [00:00<00:00,  2.44emb/s]\n",
      "Assessing:  41%|████      | 235/574 [02:36<02:55,  1.93pred/s]\n",
      "\u001b[A"
     ]
    },
    {
     "name": "stdout",
     "output_type": "stream",
     "text": [
      "23:21:45 httpx INFO   HTTP Request: POST https://api.openai.com/v1/embeddings \"HTTP/1.1 200 OK\"\n"
     ]
    },
    {
     "name": "stderr",
     "output_type": "stream",
     "text": [
      "\n",
      "1it [00:00,  2.68it/s]\n",
      "Embedding: 100%|██████████| 1/1 [00:00<00:00,  2.67emb/s]\n",
      "Assessing:  41%|████      | 236/574 [02:37<02:43,  2.07pred/s]\n",
      "\u001b[A"
     ]
    },
    {
     "name": "stdout",
     "output_type": "stream",
     "text": [
      "23:21:46 httpx INFO   HTTP Request: POST https://api.openai.com/v1/embeddings \"HTTP/1.1 200 OK\"\n"
     ]
    },
    {
     "name": "stderr",
     "output_type": "stream",
     "text": [
      "\n",
      "1it [00:00,  2.10it/s]\n",
      "Embedding: 100%|██████████| 1/1 [00:00<00:00,  2.10emb/s]\n",
      "Assessing:  41%|████▏     | 237/574 [02:37<02:45,  2.04pred/s]\n",
      "\u001b[A"
     ]
    },
    {
     "name": "stdout",
     "output_type": "stream",
     "text": [
      "23:21:46 httpx INFO   HTTP Request: POST https://api.openai.com/v1/embeddings \"HTTP/1.1 200 OK\"\n"
     ]
    },
    {
     "name": "stderr",
     "output_type": "stream",
     "text": [
      "\n",
      "1it [00:00,  1.53it/s]\n",
      "Embedding: 100%|██████████| 1/1 [00:00<00:00,  1.52emb/s]\n",
      "Assessing:  41%|████▏     | 238/574 [02:38<03:04,  1.82pred/s]\n",
      "\u001b[A"
     ]
    },
    {
     "name": "stdout",
     "output_type": "stream",
     "text": [
      "23:21:47 httpx INFO   HTTP Request: POST https://api.openai.com/v1/embeddings \"HTTP/1.1 200 OK\"\n"
     ]
    },
    {
     "name": "stderr",
     "output_type": "stream",
     "text": [
      "\n",
      "1it [00:00,  2.58it/s]\n",
      "Embedding: 100%|██████████| 1/1 [00:00<00:00,  2.57emb/s]\n",
      "Assessing:  42%|████▏     | 239/574 [02:38<02:51,  1.96pred/s]\n",
      "\u001b[A"
     ]
    },
    {
     "name": "stdout",
     "output_type": "stream",
     "text": [
      "23:21:49 httpx INFO   HTTP Request: POST https://api.openai.com/v1/embeddings \"HTTP/1.1 200 OK\"\n"
     ]
    },
    {
     "name": "stderr",
     "output_type": "stream",
     "text": [
      "\n",
      "1it [00:01,  1.63s/it]\n",
      "Embedding: 100%|██████████| 1/1 [00:01<00:00,  1.64s/emb]\n",
      "Assessing:  42%|████▏     | 240/574 [02:40<04:46,  1.17pred/s]\n",
      "\u001b[A"
     ]
    },
    {
     "name": "stdout",
     "output_type": "stream",
     "text": [
      "23:21:49 httpx INFO   HTTP Request: POST https://api.openai.com/v1/embeddings \"HTTP/1.1 200 OK\"\n"
     ]
    },
    {
     "name": "stderr",
     "output_type": "stream",
     "text": [
      "\n",
      "1it [00:00,  1.39it/s]\n",
      "Embedding: 100%|██████████| 2/2 [00:00<00:00,  2.77emb/s]\n",
      "Assessing:  42%|████▏     | 241/574 [02:41<04:36,  1.20pred/s]\n",
      "\u001b[A"
     ]
    },
    {
     "name": "stdout",
     "output_type": "stream",
     "text": [
      "23:21:50 httpx INFO   HTTP Request: POST https://api.openai.com/v1/embeddings \"HTTP/1.1 200 OK\"\n"
     ]
    },
    {
     "name": "stderr",
     "output_type": "stream",
     "text": [
      "\n",
      "1it [00:00,  1.75it/s]\n",
      "Embedding: 100%|██████████| 1/1 [00:00<00:00,  1.74emb/s]\n",
      "Assessing:  42%|████▏     | 242/574 [02:41<04:13,  1.31pred/s]\n",
      "\u001b[A"
     ]
    },
    {
     "name": "stdout",
     "output_type": "stream",
     "text": [
      "23:21:51 httpx INFO   HTTP Request: POST https://api.openai.com/v1/embeddings \"HTTP/1.1 200 OK\"\n"
     ]
    },
    {
     "name": "stderr",
     "output_type": "stream",
     "text": [
      "\n",
      "1it [00:00,  1.73it/s]\n",
      "Embedding: 100%|██████████| 1/1 [00:00<00:00,  1.73emb/s]\n",
      "Assessing:  42%|████▏     | 243/574 [02:42<03:57,  1.39pred/s]\n",
      "\u001b[A"
     ]
    },
    {
     "name": "stdout",
     "output_type": "stream",
     "text": [
      "23:21:51 httpx INFO   HTTP Request: POST https://api.openai.com/v1/embeddings \"HTTP/1.1 200 OK\"\n"
     ]
    },
    {
     "name": "stderr",
     "output_type": "stream",
     "text": [
      "\n",
      "1it [00:00,  1.28it/s]\n",
      "Embedding: 100%|██████████| 2/2 [00:00<00:00,  2.55emb/s]\n",
      "Assessing:  43%|████▎     | 244/574 [02:43<04:07,  1.34pred/s]\n",
      "\u001b[A"
     ]
    },
    {
     "name": "stdout",
     "output_type": "stream",
     "text": [
      "23:21:52 httpx INFO   HTTP Request: POST https://api.openai.com/v1/embeddings \"HTTP/1.1 200 OK\"\n"
     ]
    },
    {
     "name": "stderr",
     "output_type": "stream",
     "text": [
      "\n",
      "1it [00:00,  2.02it/s]\n",
      "Embedding: 100%|██████████| 1/1 [00:00<00:00,  2.01emb/s]\n",
      "Assessing:  43%|████▎     | 245/574 [02:43<03:45,  1.46pred/s]\n",
      "\u001b[A"
     ]
    },
    {
     "name": "stdout",
     "output_type": "stream",
     "text": [
      "23:21:53 httpx INFO   HTTP Request: POST https://api.openai.com/v1/embeddings \"HTTP/1.1 200 OK\"\n"
     ]
    },
    {
     "name": "stderr",
     "output_type": "stream",
     "text": [
      "\n",
      "1it [00:00,  1.41it/s]\n",
      "Embedding: 100%|██████████| 1/1 [00:00<00:00,  1.40emb/s]\n",
      "Assessing:  43%|████▎     | 246/574 [02:44<03:50,  1.42pred/s]\n",
      "\u001b[A"
     ]
    },
    {
     "name": "stdout",
     "output_type": "stream",
     "text": [
      "23:21:53 httpx INFO   HTTP Request: POST https://api.openai.com/v1/embeddings \"HTTP/1.1 200 OK\"\n"
     ]
    },
    {
     "name": "stderr",
     "output_type": "stream",
     "text": [
      "\n",
      "1it [00:00,  1.69it/s]\n",
      "Embedding: 100%|██████████| 2/2 [00:00<00:00,  3.36emb/s]\n",
      "Assessing:  43%|████▎     | 247/574 [02:45<03:43,  1.47pred/s]\n",
      "\u001b[A"
     ]
    },
    {
     "name": "stdout",
     "output_type": "stream",
     "text": [
      "23:21:54 httpx INFO   HTTP Request: POST https://api.openai.com/v1/embeddings \"HTTP/1.1 200 OK\"\n"
     ]
    },
    {
     "name": "stderr",
     "output_type": "stream",
     "text": [
      "\n",
      "1it [00:00,  2.55it/s]\n",
      "Embedding: 100%|██████████| 2/2 [00:00<00:00,  5.07emb/s]\n",
      "Assessing:  43%|████▎     | 248/574 [02:45<03:18,  1.64pred/s]\n",
      "\u001b[A"
     ]
    },
    {
     "name": "stdout",
     "output_type": "stream",
     "text": [
      "23:21:54 httpx INFO   HTTP Request: POST https://api.openai.com/v1/embeddings \"HTTP/1.1 200 OK\"\n"
     ]
    },
    {
     "name": "stderr",
     "output_type": "stream",
     "text": [
      "\n",
      "1it [00:00,  2.15it/s]\n",
      "Embedding: 100%|██████████| 2/2 [00:00<00:00,  4.29emb/s]\n",
      "Assessing:  43%|████▎     | 249/574 [02:46<03:08,  1.72pred/s]\n",
      "\u001b[A"
     ]
    }
   ],
   "source": [
    "with timer.timeit(\"Predict using test data\"):\n",
    "    test_statements=standardize_strings([str(i) for i in test_data[test_text_col]])\n",
    "    # test_statements=[str(i) for i in test_data[test_text_col]]\n",
    "    # preds = router.bulk_route(statements=test_statements, max_k=1)\n",
    "\n",
    "    \n",
    "    preds = router.bulk_democratic_route(statements=test_statements, max_k=10)"
   ]
  },
  {
   "cell_type": "code",
   "execution_count": 38,
   "id": "b3b90ef3",
   "metadata": {},
   "outputs": [],
   "source": [
    "# test_statements"
   ]
  },
  {
   "cell_type": "code",
   "execution_count": 57,
   "id": "bda1700f",
   "metadata": {},
   "outputs": [
    {
     "name": "stdout",
     "output_type": "stream",
     "text": [
      "=== Experiment Summary: Semantic Routing Classification ===\n",
      "\n",
      "Timestamp         : 2025_10_15_230851\n",
      "\n",
      "Experiment Notes  : NA\n",
      "\n",
      "DATA CONFIGURATION\n",
      "Router Name       : OOTB\n",
      "Batch Size        : 1024\n",
      "Dataset Repo ID    : waashk/wos5736\n",
      "Dataset Domain    : Topic\n",
      "Dataset Name      : WOS-5736\n",
      "Train Limit       : 5162\n",
      "Test Limit        : 574\n",
      "Vector Dimensions : 1536\n",
      "Embedding Model   : text-embedding-3-small\n",
      "\n",
      "\n",
      "No index info available\n",
      "EVALUATION METRICS\n",
      "Accuracy          : 0.6725\n",
      "Precision (macro) : 0.7296\n",
      "Recall (macro)    : 0.6923\n",
      "F1 (macro)        : 0.6467\n",
      "\n",
      "CONFUSION MATRIX [ [TP_0, FP_0], [FN_1, TP_1] ]\n",
      "  [40, 4, 0, 1, 0, 0, 0, 0, 0, 0, 0]\n",
      "  [1, 36, 0, 6, 0, 0, 0, 0, 0, 0, 0]\n",
      "\n",
      "CLASSIFICATION REPORT\n",
      "Class 0: Precision=0.741, Recall=0.889, F1=0.808, Support=45\n",
      "Class 1: Precision=0.692, Recall=0.837, F1=0.758, Support=43\n",
      "Class 10: Precision=0.528, Recall=0.929, F1=0.674, Support=70\n",
      "Class 2: Precision=0.780, Recall=0.929, F1=0.848, Support=42\n",
      "Class 3: Precision=0.655, Recall=0.974, F1=0.784, Support=39\n",
      "Class 4: Precision=0.822, Recall=0.925, F1=0.871, Support=40\n",
      "Class 5: Precision=0.778, Recall=0.553, F1=0.646, Support=38\n",
      "Class 6: Precision=1.000, Recall=0.024, F1=0.047, Support=42\n",
      "Class 7: Precision=0.724, Recall=0.280, F1=0.404, Support=75\n",
      "Class 8: Precision=0.649, Recall=0.769, F1=0.704, Support=65\n",
      "Class 9: Precision=0.655, Recall=0.507, F1=0.571, Support=75\n",
      "\n",
      "Macro Avg:\n",
      "  Precision=0.730, Recall=0.692, F1=0.647\n",
      "\n",
      "TIMINGS (seconds)\n",
      "Build Routes                                 : 0.722\n",
      "Build Router                                 : 48.298\n",
      "Predict using test data                      : 9.940\n",
      "Total: 58.960\n",
      "\n",
      "=============================================================\n",
      "\n"
     ]
    }
   ],
   "source": [
    "extracted_preds = [i[0].name if len(i)>0 else \"0\" for i in preds]\n",
    "labels = [str(i) for i in test_data[test_label_col]]\n",
    "\n",
    "eval_metrics = classification_metrics(\n",
    "    preds=extracted_preds,\n",
    "    labels=labels\n",
    ")\n",
    "\n",
    "exp_summary = print_experiment_summary(eval_metrics, router_config, timer.timings, experiment_name=experiment_name)"
   ]
  },
  {
   "cell_type": "markdown",
   "id": "9e9daaab",
   "metadata": {},
   "source": []
  }
 ],
 "metadata": {
  "kernelspec": {
   "display_name": ".venv",
   "language": "python",
   "name": "python3"
  },
  "language_info": {
   "codemirror_mode": {
    "name": "ipython",
    "version": 3
   },
   "file_extension": ".py",
   "mimetype": "text/x-python",
   "name": "python",
   "nbconvert_exporter": "python",
   "pygments_lexer": "ipython3",
   "version": "3.13.7"
  }
 },
 "nbformat": 4,
 "nbformat_minor": 5
}
