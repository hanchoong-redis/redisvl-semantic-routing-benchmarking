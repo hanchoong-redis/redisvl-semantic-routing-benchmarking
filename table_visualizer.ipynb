{
 "cells": [
  {
   "cell_type": "code",
   "execution_count": null,
   "id": "179d7836",
   "metadata": {},
   "outputs": [],
   "source": [
    "import pandas as pd, matplotlib.pyplot as plt\n",
    "\n",
    "def md_table_to_image(md: str, out_path: str, dpi=200, fontsize=8, col_width=1.4):\n",
    "    lines=[l.strip() for l in md.strip().splitlines() if l.strip() and not l.strip().startswith(\"```\")]\n",
    "    rows=[]\n",
    "    for l in lines:\n",
    "        if set(l.replace('|','').strip())<=set('-: '): \n",
    "            continue\n",
    "        rows.append([c.strip() for c in l.strip('|').split('|')])\n",
    "    df=pd.DataFrame(rows[1:], columns=rows[0])\n",
    "    h,w=df.shape\n",
    "    fig,ax=plt.subplots(figsize=(max(3,w*col_width), max(1.5,0.5+0.35*h)), dpi=dpi)\n",
    "    ax.axis('off')\n",
    "    t=ax.table(cellText=df.values, colLabels=df.columns, loc='center')\n",
    "    t.auto_set_font_size(False); t.set_fontsize(fontsize); t.scale(1,1.2)\n",
    "    fig.tight_layout(pad=0.2); fig.savefig(out_path, dpi=dpi, bbox_inches='tight'); plt.close(fig)\n",
    "    return out_path\n"
   ]
  },
  {
   "cell_type": "code",
   "execution_count": 15,
   "id": "2b0bae9f",
   "metadata": {},
   "outputs": [
    {
     "data": {
      "text/plain": [
       "'report.png'"
      ]
     },
     "execution_count": 15,
     "metadata": {},
     "output_type": "execute_result"
    }
   ],
   "source": [
    "md=''' \n",
    "| Category  | Dataset      | Redis          | Trad (LSVM–RF) | SLM (RoBERTa–XLNet) | LLM (Mistral–DeepSeek) | Dataset Size | # Classes | Skewness              |\n",
    "| ---------- | ------------- | ------------- | ---------------- | -------------------- | ----------------------- | ------------- | ---------- | ---------------------- |\n",
    "| Topic     | DBLP         | 46.8          | 62.6–79.7        | 81.4–81.4            | 86.5–86.7               | 38,128        | 10         | Imbalanced            |\n",
    "|           | Reuters90    | 27.2          | 27.0–33.2        | 41.3–41.9            | 41.5–41.7               | 13,327        | 90         | Extremely Imbalanced   |\n",
    "|           | TREC         | 55.7          | 66.0–68.8        | 94.3–95.5            | 96.0–96.1               | 5,952         | 6          | Imbalanced            |\n",
    "|           | WOS-5736     | 65.6          | 91.0–91.2        | 90.2–90.5            | 91.4–91.9               | 5,736         | 11         | Balanced              |\n",
    "| Sentiment | SST1         | 31.5          | 33.6–34.8        | 51.4–53.8            | 57.6–58.1               | 11,855        | 5          | Balanced              |\n",
    "|           | MPQA         | 85.0          | 78.3–78.8        | 88.6–90.2            | 91.1–91.4               | 10,606        | 2          | Imbalanced            |\n",
    "|           | SST2         | 92.2          | 76.9–78.9        | 92.1–93.2            | 96.3–96.4               | 9,613         | 2          | Balanced              |\n",
    "|           | yelp_reviews | 97.2          | 87.9–94.8        | 97.3–97.9            | 99.1–99.1               | 5,000         | 2          | Balanced              |\n",
    "| Large     | AGNews       | 89.7          | 88.1–91.8        | 94.0–94.2            | 95.0–95.6               | 127,600       | 4          | Balanced              |\n",
    "'''\n",
    "\n",
    "md_table_to_image(md, \"report.png\")"
   ]
  },
  {
   "cell_type": "code",
   "execution_count": null,
   "id": "947f0d91",
   "metadata": {},
   "outputs": [],
   "source": []
  }
 ],
 "metadata": {
  "kernelspec": {
   "display_name": ".venv",
   "language": "python",
   "name": "python3"
  },
  "language_info": {
   "codemirror_mode": {
    "name": "ipython",
    "version": 3
   },
   "file_extension": ".py",
   "mimetype": "text/x-python",
   "name": "python",
   "nbconvert_exporter": "python",
   "pygments_lexer": "ipython3",
   "version": "3.13.7"
  }
 },
 "nbformat": 4,
 "nbformat_minor": 5
}
